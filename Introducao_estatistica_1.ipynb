{
  "nbformat": 4,
  "nbformat_minor": 0,
  "metadata": {
    "colab": {
      "provenance": [],
      "mount_file_id": "https://github.com/CarolineAndradeR/Script_Python/blob/master/cap12.ipynb",
      "authorship_tag": "ABX9TyPg5hmiImhxc+trktDGkx9F",
      "include_colab_link": true
    },
    "kernelspec": {
      "name": "python3",
      "display_name": "Python 3"
    },
    "language_info": {
      "name": "python"
    }
  },
  "cells": [
    {
      "cell_type": "markdown",
      "metadata": {
        "id": "view-in-github",
        "colab_type": "text"
      },
      "source": [
        "<a href=\"https://colab.research.google.com/github/CarolineAndradeR/Script_Python/blob/master/pandas.ipynb\" target=\"_parent\"><img src=\"https://colab.research.google.com/assets/colab-badge.svg\" alt=\"Open In Colab\"/></a>"
      ]
    },
    {
      "cell_type": "code",
      "execution_count": 140,
      "metadata": {
        "id": "5fRtkzjzn5NC",
        "colab": {
          "base_uri": "https://localhost:8080/"
        },
        "outputId": "aebae5e8-b50d-4862-bde8-2ec628b99456"
      },
      "outputs": [
        {
          "output_type": "stream",
          "name": "stdout",
          "text": [
            "Meu primeiro notebook\n"
          ]
        }
      ],
      "source": [
        "print(\"Meu primeiro notebook\")"
      ]
    },
    {
      "cell_type": "code",
      "source": [
        "#Biblioteca númerica\n",
        "!pip install numpy\n",
        "#Manipulação de dados tabulares (formato de planilhas)\n",
        "!pip install pandas\n",
        "#Cálculos estatísticos e científicos  (modelos)\n",
        "!pip install statsmodels\n",
        "#Aprendizagens de máquinas (marchine laerning)\n",
        "!pip install sklearn\n",
        "#! exculta como se estivesse no terminal\n",
        "#Ideal que as bibliotecas estejam sempre no início, para melhor controle.\n",
        "\n",
        "#Interação com o google (usada para traduzir palavras para diversas línguas)\n",
        "!pip install googletrans==4.0.0-rc1"
      ],
      "metadata": {
        "id": "lAhBNVIWEuM9"
      },
      "execution_count": null,
      "outputs": []
    },
    {
      "cell_type": "code",
      "source": [
        "#Iniciando montagem do drive\n",
        "from google.colab import drive\n",
        "drive.mount('/content/drive')"
      ],
      "metadata": {
        "id": "CgU9LKJqqufA"
      },
      "execution_count": null,
      "outputs": []
    },
    {
      "cell_type": "code",
      "source": [
        "import pandas as pd\n",
        "\n",
        "arq_dados_paises = '/content/drive/MyDrive/dados_paises.csv'\n",
        "#Read - leitura de arquivo\n",
        "df_dados_pais = pd.read_csv(arq_dados_paises)\n",
        "#Head - retorno a leitura primeiras linhas do data freme (por padrão retorna as 5 primeiras)\n",
        "df_dados_pais.head(2)\n",
        "#Tail - retorna as últimas linhas do data freme \n",
        "#df_dados_pais.tail(10)\n",
        "#Quando está apenas o nome do objeto retorna os 5 primeiro e os 5 últimos\n",
        "#df_dados_pais"
      ],
      "metadata": {
        "id": "Kmuno1n7psu5"
      },
      "execution_count": null,
      "outputs": []
    },
    {
      "cell_type": "code",
      "source": [
        "#Colunas do DataFrame\n",
        "\n",
        "print(\"Tipo: \")\n",
        "#Acessar uma linha e colunas do DataFreme\n",
        "print(type(df_dados_pais.loc[0]))\n",
        "print(\"Dados: \")\n",
        "df_dados_pais.loc[0]\n",
        "#Acessar diretamente uma coluna, retorno o tipo dos dados dentro daquele objeto\n",
        "df_dados_pais[\"Series Code\"]\n",
        "\n"
      ],
      "metadata": {
        "id": "p4jMljAChhUp"
      },
      "execution_count": null,
      "outputs": []
    },
    {
      "cell_type": "code",
      "source": [
        "#Criar uma cópia do DataFreme, importe para tratamento dos dados\n",
        "df_copia_dados_pais = df_dados_pais.copy()\n",
        "#Para validar se é uma cópia de arquivo ou é uma referencia de objeto (True - referencia False - Copia)\n",
        "#id(df_copia_dados_pais) == id(df_dados_pais)\n",
        "\n",
        "\n",
        "#Apagar o DataFreme por completo\n",
        "#del df_copia_dados_pais\n",
        "\n",
        "#Apagar uma coluna especifica do DataFreme\n",
        "#del df_copia_dados_pais[\"1990 [YR1990]\"]\n",
        "\n",
        "#Apagar um linha especifica passando o loc\n",
        "#del df_copia_dados_pais.loc[3]\n",
        "\n",
        "#Retorna novamente o DataFreme\n",
        "df_copia_dados_pais"
      ],
      "metadata": {
        "id": "kytsGobHQqEg"
      },
      "execution_count": null,
      "outputs": []
    },
    {
      "cell_type": "code",
      "source": [
        "#Recorte do DataFreme\n",
        "#df_descricao_campos = df_dados_pais[['Series Name', 'Series Code']]\n",
        "\n",
        "#Criar uma copia do recorte\n",
        "df_descricao_campos = df_dados_pais[['Series Code', 'Series Name']].copy()\n",
        "\n",
        "#Ordena o objeto somente no momento da excução (não foi gravado dentro de nada, não é permanente)\n",
        "#df_descricao_campos.sort_values(by='Series Code')\n",
        "\n",
        "#Ordena de forma permante com base na coluna\n",
        "df_descricao_campos.sort_values(by='Series Code', inplace=True)\n",
        "\n",
        "#Apagar dados duplicados\n",
        "df_descricao_campos.drop_duplicates()"
      ],
      "metadata": {
        "id": "fWwybkgymF42"
      },
      "execution_count": null,
      "outputs": []
    },
    {
      "cell_type": "code",
      "source": [
        "#Comando encadeado (quando se tem mais de um comando na mesma linha de código)\n",
        "#Comando RESET reordena o valores do index com base na ordenação das colunas\n",
        "df_descricao_campos = df_descricao_campos.drop_duplicates().reset_index().sort_values(by='Series Code')\n",
        "\n",
        "#Toda vez que é usado o Resert Index no mesmo objeto cria uma coluna nova, para não ficar varias colunas repetidas toda vez que excutar o comando\n",
        "#é necessario apagar o primeiro que foi feito.\n",
        "#del df_descricao_campos['index']\n",
        "#del df_descricao_campos['level_0']\n",
        "\n",
        "\n",
        "df_descricao_campos"
      ],
      "metadata": {
        "id": "EgAHeE0QqK17"
      },
      "execution_count": null,
      "outputs": []
    },
    {
      "cell_type": "code",
      "source": [
        "#Apaga as referencias com NaN, porem não é de forma permanete\n",
        "#df_descricao_campos.dropna()\n",
        "\n",
        "#Só apaga de forma permanete se for passado uma referência\n",
        "#A referência pode ser a mesma, dar a referência o valor dela mesma\n",
        "#df_descricao_campos = df_descricao_campos.dropna()\n",
        "\n",
        "#Ou usar o Inplace para dizer que a alteração vai ocorrer dentro dela mesma\n",
        "df_descricao_campos.dropna(inplace=True)\n",
        "\n",
        "df_descricao_campos"
      ],
      "metadata": {
        "id": "gBnnk-xesIpQ"
      },
      "execution_count": null,
      "outputs": []
    },
    {
      "cell_type": "markdown",
      "source": [
        "**Estatísticas Descritivas** - \n",
        "Introdução\n",
        "\n"
      ],
      "metadata": {
        "id": "0bLYWQkULWM2"
      }
    },
    {
      "cell_type": "code",
      "source": [
        "df_dados_pais.count()\n",
        "#Conhecer os dados estão organizados\n",
        "#Country Name com duas linhas á mais, possivelmente NaN"
      ],
      "metadata": {
        "id": "FeV90tBCpS_h"
      },
      "execution_count": null,
      "outputs": []
    },
    {
      "cell_type": "code",
      "source": [
        "#Procurar sempre deixar os dados alinhados\n",
        "#Removendo NaN\n",
        "#Ideal no count e que todas as colunas tenham a mesma quantidade\n",
        "df_dados_pais.dropna().count()"
      ],
      "metadata": {
        "id": "LIJLbv2ILe-N"
      },
      "execution_count": null,
      "outputs": []
    },
    {
      "cell_type": "code",
      "source": [
        "#Organização dos dados\n",
        "df_dados_pais.dropna(inplace=True)\n",
        "del df_dados_pais['Series Name']\n",
        "del df_dados_pais['Country Code']\n",
        "df_dados_pais.head()"
      ],
      "metadata": {
        "id": "nXbj8vN6LhvE"
      },
      "execution_count": null,
      "outputs": []
    },
    {
      "cell_type": "code",
      "source": [
        "#Leitura do valor do PIB\n",
        "print(df_descricao_campos.loc[26])"
      ],
      "metadata": {
        "id": "KolcjHwuNmoa"
      },
      "execution_count": null,
      "outputs": []
    },
    {
      "cell_type": "code",
      "source": [
        "#Verificação se tem nomes vazios\n",
        "#Se retorna False não tem nunhum nulo\n",
        "pd.isnull(df_descricao_campos.loc[0])"
      ],
      "metadata": {
        "id": "nzyFswZzQHxS"
      },
      "execution_count": null,
      "outputs": []
    },
    {
      "cell_type": "code",
      "source": [
        "from ast import arg\n",
        "from pandas.core import apply\n",
        "#Trazendo um aplicação específica\n",
        "from googletrans import Translator\n",
        "\n",
        "translator = Translator()\n",
        "#Aplicação encadeada\n",
        "#Transforma o texto de Inglês para Português\n",
        "#Recebe ela mesma, aplica metódo translerto, passa a língua de origem e qual vai ser a de destino, indicação do atibuto\n",
        "#Apply - Aplica na coluna indica o determinado metódo\n",
        "#quando não informado o src ele detecta o idioma\n",
        "df_descricao_campos['Series Name'] = df_descricao_campos['Series Name'].apply(translator.translate, src='en', dest='pt').apply(getattr, args=('text',))\n",
        "\n",
        "df_descricao_campos"
      ],
      "metadata": {
        "id": "wcYXejefRIn7"
      },
      "execution_count": null,
      "outputs": []
    },
    {
      "cell_type": "code",
      "source": [
        "#Buscado com base nas infirmações, filtrando dados\n",
        "#df_descricao_campos[ df_descricao_campos['Series Code'] == 'NY.GDP.MKTP.CD']\n",
        "\n",
        "#Filtrado com base em textos\n",
        "df_descricao_campos[ df_descricao_campos['Series Code'].str.contains('GDP')]"
      ],
      "metadata": {
        "colab": {
          "base_uri": "https://localhost:8080/",
          "height": 143
        },
        "id": "mBbqmYkDSfgV",
        "outputId": "c68f1dc4-37ea-47c2-bb17-292df1175c78"
      },
      "execution_count": 197,
      "outputs": [
        {
          "output_type": "execute_result",
          "data": {
            "text/plain": [
              "    index        Series Code                         Series Name\n",
              "25    198  NY.GDP.DEFL.KD.ZG  Inflation, GDP deflator (% annual)\n",
              "26     86     NY.GDP.MKTP.CD                  GDP (US $ current)\n",
              "27     32  NY.GDP.MKTP.KD.ZG               GDP growth (% annual)"
            ],
            "text/html": [
              "\n",
              "  <div id=\"df-666aef1f-96d6-4b95-ba04-6aa35023ef8a\">\n",
              "    <div class=\"colab-df-container\">\n",
              "      <div>\n",
              "<style scoped>\n",
              "    .dataframe tbody tr th:only-of-type {\n",
              "        vertical-align: middle;\n",
              "    }\n",
              "\n",
              "    .dataframe tbody tr th {\n",
              "        vertical-align: top;\n",
              "    }\n",
              "\n",
              "    .dataframe thead th {\n",
              "        text-align: right;\n",
              "    }\n",
              "</style>\n",
              "<table border=\"1\" class=\"dataframe\">\n",
              "  <thead>\n",
              "    <tr style=\"text-align: right;\">\n",
              "      <th></th>\n",
              "      <th>index</th>\n",
              "      <th>Series Code</th>\n",
              "      <th>Series Name</th>\n",
              "    </tr>\n",
              "  </thead>\n",
              "  <tbody>\n",
              "    <tr>\n",
              "      <th>25</th>\n",
              "      <td>198</td>\n",
              "      <td>NY.GDP.DEFL.KD.ZG</td>\n",
              "      <td>Inflation, GDP deflator (% annual)</td>\n",
              "    </tr>\n",
              "    <tr>\n",
              "      <th>26</th>\n",
              "      <td>86</td>\n",
              "      <td>NY.GDP.MKTP.CD</td>\n",
              "      <td>GDP (US $ current)</td>\n",
              "    </tr>\n",
              "    <tr>\n",
              "      <th>27</th>\n",
              "      <td>32</td>\n",
              "      <td>NY.GDP.MKTP.KD.ZG</td>\n",
              "      <td>GDP growth (% annual)</td>\n",
              "    </tr>\n",
              "  </tbody>\n",
              "</table>\n",
              "</div>\n",
              "      <button class=\"colab-df-convert\" onclick=\"convertToInteractive('df-666aef1f-96d6-4b95-ba04-6aa35023ef8a')\"\n",
              "              title=\"Convert this dataframe to an interactive table.\"\n",
              "              style=\"display:none;\">\n",
              "        \n",
              "  <svg xmlns=\"http://www.w3.org/2000/svg\" height=\"24px\"viewBox=\"0 0 24 24\"\n",
              "       width=\"24px\">\n",
              "    <path d=\"M0 0h24v24H0V0z\" fill=\"none\"/>\n",
              "    <path d=\"M18.56 5.44l.94 2.06.94-2.06 2.06-.94-2.06-.94-.94-2.06-.94 2.06-2.06.94zm-11 1L8.5 8.5l.94-2.06 2.06-.94-2.06-.94L8.5 2.5l-.94 2.06-2.06.94zm10 10l.94 2.06.94-2.06 2.06-.94-2.06-.94-.94-2.06-.94 2.06-2.06.94z\"/><path d=\"M17.41 7.96l-1.37-1.37c-.4-.4-.92-.59-1.43-.59-.52 0-1.04.2-1.43.59L10.3 9.45l-7.72 7.72c-.78.78-.78 2.05 0 2.83L4 21.41c.39.39.9.59 1.41.59.51 0 1.02-.2 1.41-.59l7.78-7.78 2.81-2.81c.8-.78.8-2.07 0-2.86zM5.41 20L4 18.59l7.72-7.72 1.47 1.35L5.41 20z\"/>\n",
              "  </svg>\n",
              "      </button>\n",
              "      \n",
              "  <style>\n",
              "    .colab-df-container {\n",
              "      display:flex;\n",
              "      flex-wrap:wrap;\n",
              "      gap: 12px;\n",
              "    }\n",
              "\n",
              "    .colab-df-convert {\n",
              "      background-color: #E8F0FE;\n",
              "      border: none;\n",
              "      border-radius: 50%;\n",
              "      cursor: pointer;\n",
              "      display: none;\n",
              "      fill: #1967D2;\n",
              "      height: 32px;\n",
              "      padding: 0 0 0 0;\n",
              "      width: 32px;\n",
              "    }\n",
              "\n",
              "    .colab-df-convert:hover {\n",
              "      background-color: #E2EBFA;\n",
              "      box-shadow: 0px 1px 2px rgba(60, 64, 67, 0.3), 0px 1px 3px 1px rgba(60, 64, 67, 0.15);\n",
              "      fill: #174EA6;\n",
              "    }\n",
              "\n",
              "    [theme=dark] .colab-df-convert {\n",
              "      background-color: #3B4455;\n",
              "      fill: #D2E3FC;\n",
              "    }\n",
              "\n",
              "    [theme=dark] .colab-df-convert:hover {\n",
              "      background-color: #434B5C;\n",
              "      box-shadow: 0px 1px 3px 1px rgba(0, 0, 0, 0.15);\n",
              "      filter: drop-shadow(0px 1px 2px rgba(0, 0, 0, 0.3));\n",
              "      fill: #FFFFFF;\n",
              "    }\n",
              "  </style>\n",
              "\n",
              "      <script>\n",
              "        const buttonEl =\n",
              "          document.querySelector('#df-666aef1f-96d6-4b95-ba04-6aa35023ef8a button.colab-df-convert');\n",
              "        buttonEl.style.display =\n",
              "          google.colab.kernel.accessAllowed ? 'block' : 'none';\n",
              "\n",
              "        async function convertToInteractive(key) {\n",
              "          const element = document.querySelector('#df-666aef1f-96d6-4b95-ba04-6aa35023ef8a');\n",
              "          const dataTable =\n",
              "            await google.colab.kernel.invokeFunction('convertToInteractive',\n",
              "                                                     [key], {});\n",
              "          if (!dataTable) return;\n",
              "\n",
              "          const docLinkHtml = 'Like what you see? Visit the ' +\n",
              "            '<a target=\"_blank\" href=https://colab.research.google.com/notebooks/data_table.ipynb>data table notebook</a>'\n",
              "            + ' to learn more about interactive tables.';\n",
              "          element.innerHTML = '';\n",
              "          dataTable['output_type'] = 'display_data';\n",
              "          await google.colab.output.renderOutput(dataTable, element);\n",
              "          const docLink = document.createElement('div');\n",
              "          docLink.innerHTML = docLinkHtml;\n",
              "          element.appendChild(docLink);\n",
              "        }\n",
              "      </script>\n",
              "    </div>\n",
              "  </div>\n",
              "  "
            ]
          },
          "metadata": {},
          "execution_count": 197
        }
      ]
    },
    {
      "cell_type": "code",
      "source": [
        "#Filtrar os dados e fazer uma copia\n",
        "df_dados_brasil = df_dados_pais[df_dados_pais['Country Name'] == 'Brazil'].copy()\n",
        "\n",
        "#Filtrar colunas combinadas\n",
        "#Transforma linhas em colunas com .T\n",
        "df_dados_brasil_2020 = df_dados_brasil[['Country Name', 'Series Code', '2020 [YR2020]']]\n",
        "\n",
        "df_dados_brasil_2020[['Series Code', '2020 [YR2020]']].T\n"
      ],
      "metadata": {
        "id": "yTCc0rpRTGXV"
      },
      "execution_count": null,
      "outputs": []
    },
    {
      "cell_type": "code",
      "source": [
        "#Tranformando colunas em linhas (colunar)\n",
        "#Alteração dos nome\n",
        "df_dados_pais_consolidado = pd.melt(df_dados_pais, id_vars=['Country Name', 'Series Code'], var_name=\"Ano\", value_name=\"Valor\")\n",
        "df_dados_pais_consolidado"
      ],
      "metadata": {
        "id": "Kv_APSY9VcbH"
      },
      "execution_count": null,
      "outputs": []
    },
    {
      "cell_type": "code",
      "source": [
        "from posixpath import split\n",
        "#A coluna ano vai ser dividida pelo espaço em branco (função)\n",
        "df_dados_pais_consolidado['Ano'] = df_dados_pais_consolidado[\"Ano\"].apply(lambda x: x.split(' ')[0])\n",
        "#Indicação dos novos names\n",
        "df_dados_pais_consolidado.columns=['Pais', 'Serie', 'Ano', 'Valor']\n",
        "df_dados_pais_consolidado"
      ],
      "metadata": {
        "colab": {
          "base_uri": "https://localhost:8080/",
          "height": 424
        },
        "id": "HyK4qb4vW58b",
        "outputId": "778fe7b5-27fe-4666-af85-029ef758b3bc"
      },
      "execution_count": 209,
      "outputs": [
        {
          "output_type": "execute_result",
          "data": {
            "text/plain": [
              "        Pais              Serie   Ano             Valor\n",
              "0     Brazil        SP.POP.TOTL  1990         149003225\n",
              "1     Brazil        SP.POP.GROW  1990  1.81151883766468\n",
              "2     Brazil     AG.SRF.TOTL.K2  1990           8515770\n",
              "3     Brazil        EN.POP.DNST  1990  17.8273186378788\n",
              "4     Brazil        SI.POV.NAHC  1990                ..\n",
              "...      ...                ...   ...               ...\n",
              "3295  Canada  DT.TDS.DECT.EX.ZS  2020                ..\n",
              "3296  Canada        SM.POP.NETM  2020                ..\n",
              "3297  Canada  BX.TRF.PWKR.CD.DT  2020  851834668.651595\n",
              "3298  Canada  BX.KLT.DINV.CD.WD  2020                ..\n",
              "3299  Canada     DT.ODA.ALLD.CD  2020                ..\n",
              "\n",
              "[3300 rows x 4 columns]"
            ],
            "text/html": [
              "\n",
              "  <div id=\"df-00d97c1c-2fd7-4165-a640-16d678bb61d0\">\n",
              "    <div class=\"colab-df-container\">\n",
              "      <div>\n",
              "<style scoped>\n",
              "    .dataframe tbody tr th:only-of-type {\n",
              "        vertical-align: middle;\n",
              "    }\n",
              "\n",
              "    .dataframe tbody tr th {\n",
              "        vertical-align: top;\n",
              "    }\n",
              "\n",
              "    .dataframe thead th {\n",
              "        text-align: right;\n",
              "    }\n",
              "</style>\n",
              "<table border=\"1\" class=\"dataframe\">\n",
              "  <thead>\n",
              "    <tr style=\"text-align: right;\">\n",
              "      <th></th>\n",
              "      <th>Pais</th>\n",
              "      <th>Serie</th>\n",
              "      <th>Ano</th>\n",
              "      <th>Valor</th>\n",
              "    </tr>\n",
              "  </thead>\n",
              "  <tbody>\n",
              "    <tr>\n",
              "      <th>0</th>\n",
              "      <td>Brazil</td>\n",
              "      <td>SP.POP.TOTL</td>\n",
              "      <td>1990</td>\n",
              "      <td>149003225</td>\n",
              "    </tr>\n",
              "    <tr>\n",
              "      <th>1</th>\n",
              "      <td>Brazil</td>\n",
              "      <td>SP.POP.GROW</td>\n",
              "      <td>1990</td>\n",
              "      <td>1.81151883766468</td>\n",
              "    </tr>\n",
              "    <tr>\n",
              "      <th>2</th>\n",
              "      <td>Brazil</td>\n",
              "      <td>AG.SRF.TOTL.K2</td>\n",
              "      <td>1990</td>\n",
              "      <td>8515770</td>\n",
              "    </tr>\n",
              "    <tr>\n",
              "      <th>3</th>\n",
              "      <td>Brazil</td>\n",
              "      <td>EN.POP.DNST</td>\n",
              "      <td>1990</td>\n",
              "      <td>17.8273186378788</td>\n",
              "    </tr>\n",
              "    <tr>\n",
              "      <th>4</th>\n",
              "      <td>Brazil</td>\n",
              "      <td>SI.POV.NAHC</td>\n",
              "      <td>1990</td>\n",
              "      <td>..</td>\n",
              "    </tr>\n",
              "    <tr>\n",
              "      <th>...</th>\n",
              "      <td>...</td>\n",
              "      <td>...</td>\n",
              "      <td>...</td>\n",
              "      <td>...</td>\n",
              "    </tr>\n",
              "    <tr>\n",
              "      <th>3295</th>\n",
              "      <td>Canada</td>\n",
              "      <td>DT.TDS.DECT.EX.ZS</td>\n",
              "      <td>2020</td>\n",
              "      <td>..</td>\n",
              "    </tr>\n",
              "    <tr>\n",
              "      <th>3296</th>\n",
              "      <td>Canada</td>\n",
              "      <td>SM.POP.NETM</td>\n",
              "      <td>2020</td>\n",
              "      <td>..</td>\n",
              "    </tr>\n",
              "    <tr>\n",
              "      <th>3297</th>\n",
              "      <td>Canada</td>\n",
              "      <td>BX.TRF.PWKR.CD.DT</td>\n",
              "      <td>2020</td>\n",
              "      <td>851834668.651595</td>\n",
              "    </tr>\n",
              "    <tr>\n",
              "      <th>3298</th>\n",
              "      <td>Canada</td>\n",
              "      <td>BX.KLT.DINV.CD.WD</td>\n",
              "      <td>2020</td>\n",
              "      <td>..</td>\n",
              "    </tr>\n",
              "    <tr>\n",
              "      <th>3299</th>\n",
              "      <td>Canada</td>\n",
              "      <td>DT.ODA.ALLD.CD</td>\n",
              "      <td>2020</td>\n",
              "      <td>..</td>\n",
              "    </tr>\n",
              "  </tbody>\n",
              "</table>\n",
              "<p>3300 rows × 4 columns</p>\n",
              "</div>\n",
              "      <button class=\"colab-df-convert\" onclick=\"convertToInteractive('df-00d97c1c-2fd7-4165-a640-16d678bb61d0')\"\n",
              "              title=\"Convert this dataframe to an interactive table.\"\n",
              "              style=\"display:none;\">\n",
              "        \n",
              "  <svg xmlns=\"http://www.w3.org/2000/svg\" height=\"24px\"viewBox=\"0 0 24 24\"\n",
              "       width=\"24px\">\n",
              "    <path d=\"M0 0h24v24H0V0z\" fill=\"none\"/>\n",
              "    <path d=\"M18.56 5.44l.94 2.06.94-2.06 2.06-.94-2.06-.94-.94-2.06-.94 2.06-2.06.94zm-11 1L8.5 8.5l.94-2.06 2.06-.94-2.06-.94L8.5 2.5l-.94 2.06-2.06.94zm10 10l.94 2.06.94-2.06 2.06-.94-2.06-.94-.94-2.06-.94 2.06-2.06.94z\"/><path d=\"M17.41 7.96l-1.37-1.37c-.4-.4-.92-.59-1.43-.59-.52 0-1.04.2-1.43.59L10.3 9.45l-7.72 7.72c-.78.78-.78 2.05 0 2.83L4 21.41c.39.39.9.59 1.41.59.51 0 1.02-.2 1.41-.59l7.78-7.78 2.81-2.81c.8-.78.8-2.07 0-2.86zM5.41 20L4 18.59l7.72-7.72 1.47 1.35L5.41 20z\"/>\n",
              "  </svg>\n",
              "      </button>\n",
              "      \n",
              "  <style>\n",
              "    .colab-df-container {\n",
              "      display:flex;\n",
              "      flex-wrap:wrap;\n",
              "      gap: 12px;\n",
              "    }\n",
              "\n",
              "    .colab-df-convert {\n",
              "      background-color: #E8F0FE;\n",
              "      border: none;\n",
              "      border-radius: 50%;\n",
              "      cursor: pointer;\n",
              "      display: none;\n",
              "      fill: #1967D2;\n",
              "      height: 32px;\n",
              "      padding: 0 0 0 0;\n",
              "      width: 32px;\n",
              "    }\n",
              "\n",
              "    .colab-df-convert:hover {\n",
              "      background-color: #E2EBFA;\n",
              "      box-shadow: 0px 1px 2px rgba(60, 64, 67, 0.3), 0px 1px 3px 1px rgba(60, 64, 67, 0.15);\n",
              "      fill: #174EA6;\n",
              "    }\n",
              "\n",
              "    [theme=dark] .colab-df-convert {\n",
              "      background-color: #3B4455;\n",
              "      fill: #D2E3FC;\n",
              "    }\n",
              "\n",
              "    [theme=dark] .colab-df-convert:hover {\n",
              "      background-color: #434B5C;\n",
              "      box-shadow: 0px 1px 3px 1px rgba(0, 0, 0, 0.15);\n",
              "      filter: drop-shadow(0px 1px 2px rgba(0, 0, 0, 0.3));\n",
              "      fill: #FFFFFF;\n",
              "    }\n",
              "  </style>\n",
              "\n",
              "      <script>\n",
              "        const buttonEl =\n",
              "          document.querySelector('#df-00d97c1c-2fd7-4165-a640-16d678bb61d0 button.colab-df-convert');\n",
              "        buttonEl.style.display =\n",
              "          google.colab.kernel.accessAllowed ? 'block' : 'none';\n",
              "\n",
              "        async function convertToInteractive(key) {\n",
              "          const element = document.querySelector('#df-00d97c1c-2fd7-4165-a640-16d678bb61d0');\n",
              "          const dataTable =\n",
              "            await google.colab.kernel.invokeFunction('convertToInteractive',\n",
              "                                                     [key], {});\n",
              "          if (!dataTable) return;\n",
              "\n",
              "          const docLinkHtml = 'Like what you see? Visit the ' +\n",
              "            '<a target=\"_blank\" href=https://colab.research.google.com/notebooks/data_table.ipynb>data table notebook</a>'\n",
              "            + ' to learn more about interactive tables.';\n",
              "          element.innerHTML = '';\n",
              "          dataTable['output_type'] = 'display_data';\n",
              "          await google.colab.output.renderOutput(dataTable, element);\n",
              "          const docLink = document.createElement('div');\n",
              "          docLink.innerHTML = docLinkHtml;\n",
              "          element.appendChild(docLink);\n",
              "        }\n",
              "      </script>\n",
              "    </div>\n",
              "  </div>\n",
              "  "
            ]
          },
          "metadata": {},
          "execution_count": 209
        }
      ]
    }
  ]
}
