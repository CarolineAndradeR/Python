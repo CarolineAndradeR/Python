{
  "nbformat": 4,
  "nbformat_minor": 0,
  "metadata": {
    "colab": {
      "provenance": [],
      "authorship_tag": "ABX9TyNesT20apNIFp8eVdozPXTk",
      "include_colab_link": true
    },
    "kernelspec": {
      "name": "python3",
      "display_name": "Python 3"
    },
    "language_info": {
      "name": "python"
    }
  },
  "cells": [
    {
      "cell_type": "markdown",
      "metadata": {
        "id": "view-in-github",
        "colab_type": "text"
      },
      "source": [
        "<a href=\"https://colab.research.google.com/github/CarolineAndradeR/Python/blob/master/Teste_Hip%C3%B3teses.ipynb\" target=\"_parent\"><img src=\"https://colab.research.google.com/assets/colab-badge.svg\" alt=\"Open In Colab\"/></a>"
      ]
    },
    {
      "cell_type": "markdown",
      "source": [
        "# **INTRODUÇÃO - TEÓRIA**"
      ],
      "metadata": {
        "id": "-fCbAmLky4mt"
      }
    },
    {
      "cell_type": "markdown",
      "source": [
        "**Hipótese** - Transformar questionamentos em afirmações passíveis de testes.\n",
        "\n",
        "Metodologia que permite verificar se os dados da amostra trazem evidências para rejeitar ou não rejeitar a hipótese proposta.\n",
        "\n",
        "Uma hipótese será testada somente se esxistirem dados disponíveis, quando não há dados se torna uma hipótese pouco plausível no momento, uma vez que não pode ser testada. Porém pode recorrer aos processos de amostragem para obter esses dados e realizar os testes possíveis.\n",
        "\n",
        "**Níveis** \n",
        "*   **Descritivo** - é a probalilidade de obter um efeito igual ou maior do que o esperado pela hipótese, esse efeito pode ser a diferença entre dois grupos, ex: o site com fundo escuro possui maior taxa de conversão do que o site com o fundo branco.\n",
        "*   **Valor Crítico** - é um determinado ponto na distribução de probalidade do teste que precisa ser comparado com o valor observado no teste, caso esse valor seja muito diferente, há evidência para rejeitar a hipótese testada.\n",
        "\n",
        "**PROCEDIMENTOS**\n",
        "1.   Fizar a hipótese nula e a hipótese alternativa.\n",
        "2.   Definir qual estimador será utilizado (média, variância).\n",
        "3.   Fixar o nível de confiança (90%, 95%, 99%) para definir o valor crítico.\n",
        "4.   Utilizar os dados da amostra obtida para calcular o valor da estatística teste.\n",
        "5.   Rejeitar a hipótese nula se o valor da estatística de teste for maior que o valor definido na etapa 3.\n",
        "\n",
        "**Hipótese nula e alternativa:**\n",
        "*   **Nula** - Deve sempre colocar um sinal de igual ou combinado (igual, maior igual, menor igual...)\n",
        "*   **Alternativa** - Um complemento da hipótese nula, ex: se o sinal da hipótese nula for igual na hipótese alternativa se usa o valor difere. (sinal ao contrario da hipótese nula).\n"
      ],
      "metadata": {
        "id": "k6fBBdE3OUwQ"
      }
    },
    {
      "cell_type": "markdown",
      "source": [
        "# **Prático**"
      ],
      "metadata": {
        "id": "sp-Xtj6jz84F"
      }
    },
    {
      "cell_type": "code",
      "execution_count": null,
      "metadata": {
        "id": "mhjQHjhwOMpp"
      },
      "outputs": [],
      "source": [
        "# Instalação de uma versão mais atualizada do Scipy\n",
        "! sudo pip install scipy==1.7.1"
      ]
    },
    {
      "cell_type": "code",
      "source": [
        "# Instalação nova ferramenta para teste de hipoteses\n",
        "! sudo pip install pingouin"
      ],
      "metadata": {
        "id": "tuGBl9cefxZD"
      },
      "execution_count": null,
      "outputs": []
    },
    {
      "cell_type": "code",
      "source": [
        "import numpy as np\n",
        "import pandas as pd\n",
        "import seaborn as sns\n",
        "import matplotlib.pyplot as plt"
      ],
      "metadata": {
        "id": "6qMi25CemK8q"
      },
      "execution_count": 3,
      "outputs": []
    },
    {
      "cell_type": "code",
      "source": [
        "from scipy import stats as st\n",
        "import pingouin as pg"
      ],
      "metadata": {
        "id": "y6zD6FhBmjGi"
      },
      "execution_count": 4,
      "outputs": []
    },
    {
      "cell_type": "code",
      "source": [
        "dados_ab = pd.read_csv('exampleDataABtest.csv')\n",
        "dados_ab.head()"
      ],
      "metadata": {
        "id": "k2DyyXQrnMaV"
      },
      "execution_count": null,
      "outputs": []
    },
    {
      "cell_type": "code",
      "source": [
        "dados_nps = pd.read_csv('/content/nps_example.csv', sep = ';')\n",
        "dados_nps.head()"
      ],
      "metadata": {
        "id": "uIM8f4IwndJM"
      },
      "execution_count": null,
      "outputs": []
    },
    {
      "cell_type": "code",
      "source": [
        "#Teste T\n",
        "#Comparar os grupos\n",
        "\n",
        "dados_ab.groupby('group') \\\n",
        "        .agg(media_cliques = pd.NamedAgg('clickedTrue', 'mean'),\n",
        "             dp_cliques = pd.NamedAgg('clickedTrue', 'std'),\n",
        "             n = pd.NamedAgg('clickedTrue', 'count'))\n"
      ],
      "metadata": {
        "id": "H8xpBPs4nrxb"
      },
      "execution_count": null,
      "outputs": []
    },
    {
      "cell_type": "code",
      "source": [
        "grA = dados_ab[dados_ab['group'] == 'A']['clickedTrue']\n",
        "grB = dados_ab[dados_ab['group'] == 'B']['clickedTrue']"
      ],
      "metadata": {
        "id": "euscwr7Joy9t"
      },
      "execution_count": 8,
      "outputs": []
    },
    {
      "cell_type": "code",
      "source": [
        "#Teste T - com scipy \n",
        "#alternative - tipo de hipotese \n",
        "#two-sided - paramentro de diferente entre os grupos (grupo a é diferente do grupo b)\n",
        "st.ttest_ind(a=grA, b=grB, alternative='two-sided')\n",
        "\n",
        "#Se o p-value < 0,05 - então rejeito a hipotese nula (a é diferente do grupo b)"
      ],
      "metadata": {
        "colab": {
          "base_uri": "https://localhost:8080/"
        },
        "id": "K4WaTO_9pO2b",
        "outputId": "36081e52-61fb-469e-a4f4-549deeb6f59f"
      },
      "execution_count": 11,
      "outputs": [
        {
          "output_type": "execute_result",
          "data": {
            "text/plain": [
              "Ttest_indResult(statistic=-2.669938469060931, pvalue=0.007709783987515948)"
            ]
          },
          "metadata": {},
          "execution_count": 11
        }
      ]
    },
    {
      "cell_type": "code",
      "source": [
        "#Teste T - Pingouin\n",
        "pg.ttest(x=grA,\n",
        "         y=grB,\n",
        "         alternative='two-sided',\n",
        "         confidence=0.95)\n",
        "#confidence - nível de confiança"
      ],
      "metadata": {
        "colab": {
          "base_uri": "https://localhost:8080/",
          "height": 81
        },
        "id": "X459W1xOq0yP",
        "outputId": "eabfa9f2-640b-434f-e389-85bc0737dbdd"
      },
      "execution_count": 13,
      "outputs": [
        {
          "output_type": "execute_result",
          "data": {
            "text/plain": [
              "               T  dof alternative    p-val           CI95%   cohen-d   BF10  \\\n",
              "T-test -2.669938  998   two-sided  0.00771  [-0.07, -0.01]  0.168862  2.349   \n",
              "\n",
              "           power  \n",
              "T-test  0.760344  "
            ],
            "text/html": [
              "\n",
              "  <div id=\"df-a9aea1ea-2a53-4b60-930d-835db38660f0\">\n",
              "    <div class=\"colab-df-container\">\n",
              "      <div>\n",
              "<style scoped>\n",
              "    .dataframe tbody tr th:only-of-type {\n",
              "        vertical-align: middle;\n",
              "    }\n",
              "\n",
              "    .dataframe tbody tr th {\n",
              "        vertical-align: top;\n",
              "    }\n",
              "\n",
              "    .dataframe thead th {\n",
              "        text-align: right;\n",
              "    }\n",
              "</style>\n",
              "<table border=\"1\" class=\"dataframe\">\n",
              "  <thead>\n",
              "    <tr style=\"text-align: right;\">\n",
              "      <th></th>\n",
              "      <th>T</th>\n",
              "      <th>dof</th>\n",
              "      <th>alternative</th>\n",
              "      <th>p-val</th>\n",
              "      <th>CI95%</th>\n",
              "      <th>cohen-d</th>\n",
              "      <th>BF10</th>\n",
              "      <th>power</th>\n",
              "    </tr>\n",
              "  </thead>\n",
              "  <tbody>\n",
              "    <tr>\n",
              "      <th>T-test</th>\n",
              "      <td>-2.669938</td>\n",
              "      <td>998</td>\n",
              "      <td>two-sided</td>\n",
              "      <td>0.00771</td>\n",
              "      <td>[-0.07, -0.01]</td>\n",
              "      <td>0.168862</td>\n",
              "      <td>2.349</td>\n",
              "      <td>0.760344</td>\n",
              "    </tr>\n",
              "  </tbody>\n",
              "</table>\n",
              "</div>\n",
              "      <button class=\"colab-df-convert\" onclick=\"convertToInteractive('df-a9aea1ea-2a53-4b60-930d-835db38660f0')\"\n",
              "              title=\"Convert this dataframe to an interactive table.\"\n",
              "              style=\"display:none;\">\n",
              "        \n",
              "  <svg xmlns=\"http://www.w3.org/2000/svg\" height=\"24px\"viewBox=\"0 0 24 24\"\n",
              "       width=\"24px\">\n",
              "    <path d=\"M0 0h24v24H0V0z\" fill=\"none\"/>\n",
              "    <path d=\"M18.56 5.44l.94 2.06.94-2.06 2.06-.94-2.06-.94-.94-2.06-.94 2.06-2.06.94zm-11 1L8.5 8.5l.94-2.06 2.06-.94-2.06-.94L8.5 2.5l-.94 2.06-2.06.94zm10 10l.94 2.06.94-2.06 2.06-.94-2.06-.94-.94-2.06-.94 2.06-2.06.94z\"/><path d=\"M17.41 7.96l-1.37-1.37c-.4-.4-.92-.59-1.43-.59-.52 0-1.04.2-1.43.59L10.3 9.45l-7.72 7.72c-.78.78-.78 2.05 0 2.83L4 21.41c.39.39.9.59 1.41.59.51 0 1.02-.2 1.41-.59l7.78-7.78 2.81-2.81c.8-.78.8-2.07 0-2.86zM5.41 20L4 18.59l7.72-7.72 1.47 1.35L5.41 20z\"/>\n",
              "  </svg>\n",
              "      </button>\n",
              "      \n",
              "  <style>\n",
              "    .colab-df-container {\n",
              "      display:flex;\n",
              "      flex-wrap:wrap;\n",
              "      gap: 12px;\n",
              "    }\n",
              "\n",
              "    .colab-df-convert {\n",
              "      background-color: #E8F0FE;\n",
              "      border: none;\n",
              "      border-radius: 50%;\n",
              "      cursor: pointer;\n",
              "      display: none;\n",
              "      fill: #1967D2;\n",
              "      height: 32px;\n",
              "      padding: 0 0 0 0;\n",
              "      width: 32px;\n",
              "    }\n",
              "\n",
              "    .colab-df-convert:hover {\n",
              "      background-color: #E2EBFA;\n",
              "      box-shadow: 0px 1px 2px rgba(60, 64, 67, 0.3), 0px 1px 3px 1px rgba(60, 64, 67, 0.15);\n",
              "      fill: #174EA6;\n",
              "    }\n",
              "\n",
              "    [theme=dark] .colab-df-convert {\n",
              "      background-color: #3B4455;\n",
              "      fill: #D2E3FC;\n",
              "    }\n",
              "\n",
              "    [theme=dark] .colab-df-convert:hover {\n",
              "      background-color: #434B5C;\n",
              "      box-shadow: 0px 1px 3px 1px rgba(0, 0, 0, 0.15);\n",
              "      filter: drop-shadow(0px 1px 2px rgba(0, 0, 0, 0.3));\n",
              "      fill: #FFFFFF;\n",
              "    }\n",
              "  </style>\n",
              "\n",
              "      <script>\n",
              "        const buttonEl =\n",
              "          document.querySelector('#df-a9aea1ea-2a53-4b60-930d-835db38660f0 button.colab-df-convert');\n",
              "        buttonEl.style.display =\n",
              "          google.colab.kernel.accessAllowed ? 'block' : 'none';\n",
              "\n",
              "        async function convertToInteractive(key) {\n",
              "          const element = document.querySelector('#df-a9aea1ea-2a53-4b60-930d-835db38660f0');\n",
              "          const dataTable =\n",
              "            await google.colab.kernel.invokeFunction('convertToInteractive',\n",
              "                                                     [key], {});\n",
              "          if (!dataTable) return;\n",
              "\n",
              "          const docLinkHtml = 'Like what you see? Visit the ' +\n",
              "            '<a target=\"_blank\" href=https://colab.research.google.com/notebooks/data_table.ipynb>data table notebook</a>'\n",
              "            + ' to learn more about interactive tables.';\n",
              "          element.innerHTML = '';\n",
              "          dataTable['output_type'] = 'display_data';\n",
              "          await google.colab.output.renderOutput(dataTable, element);\n",
              "          const docLink = document.createElement('div');\n",
              "          docLink.innerHTML = docLinkHtml;\n",
              "          element.appendChild(docLink);\n",
              "        }\n",
              "      </script>\n",
              "    </div>\n",
              "  </div>\n",
              "  "
            ]
          },
          "metadata": {},
          "execution_count": 13
        }
      ]
    },
    {
      "cell_type": "code",
      "source": [
        "# Teste F - Quando temos mais de dois grupo para ser comparados\n",
        "dados_nps.groupby('response_status') \\\n",
        "          .size() \\\n",
        "          .to_frame('n') \\\n",
        "          .reset_index()"
      ],
      "metadata": {
        "colab": {
          "base_uri": "https://localhost:8080/",
          "height": 143
        },
        "id": "GbCGw2CfrzRd",
        "outputId": "f51f5587-ba15-4651-aee4-f4e8d2549ad4"
      },
      "execution_count": 15,
      "outputs": [
        {
          "output_type": "execute_result",
          "data": {
            "text/plain": [
              "  response_status     n\n",
              "0        Complete  2281\n",
              "1      Incomplete   265\n",
              "2      Terminated    33"
            ],
            "text/html": [
              "\n",
              "  <div id=\"df-374baa3f-c221-484f-a23f-ea2886735173\">\n",
              "    <div class=\"colab-df-container\">\n",
              "      <div>\n",
              "<style scoped>\n",
              "    .dataframe tbody tr th:only-of-type {\n",
              "        vertical-align: middle;\n",
              "    }\n",
              "\n",
              "    .dataframe tbody tr th {\n",
              "        vertical-align: top;\n",
              "    }\n",
              "\n",
              "    .dataframe thead th {\n",
              "        text-align: right;\n",
              "    }\n",
              "</style>\n",
              "<table border=\"1\" class=\"dataframe\">\n",
              "  <thead>\n",
              "    <tr style=\"text-align: right;\">\n",
              "      <th></th>\n",
              "      <th>response_status</th>\n",
              "      <th>n</th>\n",
              "    </tr>\n",
              "  </thead>\n",
              "  <tbody>\n",
              "    <tr>\n",
              "      <th>0</th>\n",
              "      <td>Complete</td>\n",
              "      <td>2281</td>\n",
              "    </tr>\n",
              "    <tr>\n",
              "      <th>1</th>\n",
              "      <td>Incomplete</td>\n",
              "      <td>265</td>\n",
              "    </tr>\n",
              "    <tr>\n",
              "      <th>2</th>\n",
              "      <td>Terminated</td>\n",
              "      <td>33</td>\n",
              "    </tr>\n",
              "  </tbody>\n",
              "</table>\n",
              "</div>\n",
              "      <button class=\"colab-df-convert\" onclick=\"convertToInteractive('df-374baa3f-c221-484f-a23f-ea2886735173')\"\n",
              "              title=\"Convert this dataframe to an interactive table.\"\n",
              "              style=\"display:none;\">\n",
              "        \n",
              "  <svg xmlns=\"http://www.w3.org/2000/svg\" height=\"24px\"viewBox=\"0 0 24 24\"\n",
              "       width=\"24px\">\n",
              "    <path d=\"M0 0h24v24H0V0z\" fill=\"none\"/>\n",
              "    <path d=\"M18.56 5.44l.94 2.06.94-2.06 2.06-.94-2.06-.94-.94-2.06-.94 2.06-2.06.94zm-11 1L8.5 8.5l.94-2.06 2.06-.94-2.06-.94L8.5 2.5l-.94 2.06-2.06.94zm10 10l.94 2.06.94-2.06 2.06-.94-2.06-.94-.94-2.06-.94 2.06-2.06.94z\"/><path d=\"M17.41 7.96l-1.37-1.37c-.4-.4-.92-.59-1.43-.59-.52 0-1.04.2-1.43.59L10.3 9.45l-7.72 7.72c-.78.78-.78 2.05 0 2.83L4 21.41c.39.39.9.59 1.41.59.51 0 1.02-.2 1.41-.59l7.78-7.78 2.81-2.81c.8-.78.8-2.07 0-2.86zM5.41 20L4 18.59l7.72-7.72 1.47 1.35L5.41 20z\"/>\n",
              "  </svg>\n",
              "      </button>\n",
              "      \n",
              "  <style>\n",
              "    .colab-df-container {\n",
              "      display:flex;\n",
              "      flex-wrap:wrap;\n",
              "      gap: 12px;\n",
              "    }\n",
              "\n",
              "    .colab-df-convert {\n",
              "      background-color: #E8F0FE;\n",
              "      border: none;\n",
              "      border-radius: 50%;\n",
              "      cursor: pointer;\n",
              "      display: none;\n",
              "      fill: #1967D2;\n",
              "      height: 32px;\n",
              "      padding: 0 0 0 0;\n",
              "      width: 32px;\n",
              "    }\n",
              "\n",
              "    .colab-df-convert:hover {\n",
              "      background-color: #E2EBFA;\n",
              "      box-shadow: 0px 1px 2px rgba(60, 64, 67, 0.3), 0px 1px 3px 1px rgba(60, 64, 67, 0.15);\n",
              "      fill: #174EA6;\n",
              "    }\n",
              "\n",
              "    [theme=dark] .colab-df-convert {\n",
              "      background-color: #3B4455;\n",
              "      fill: #D2E3FC;\n",
              "    }\n",
              "\n",
              "    [theme=dark] .colab-df-convert:hover {\n",
              "      background-color: #434B5C;\n",
              "      box-shadow: 0px 1px 3px 1px rgba(0, 0, 0, 0.15);\n",
              "      filter: drop-shadow(0px 1px 2px rgba(0, 0, 0, 0.3));\n",
              "      fill: #FFFFFF;\n",
              "    }\n",
              "  </style>\n",
              "\n",
              "      <script>\n",
              "        const buttonEl =\n",
              "          document.querySelector('#df-374baa3f-c221-484f-a23f-ea2886735173 button.colab-df-convert');\n",
              "        buttonEl.style.display =\n",
              "          google.colab.kernel.accessAllowed ? 'block' : 'none';\n",
              "\n",
              "        async function convertToInteractive(key) {\n",
              "          const element = document.querySelector('#df-374baa3f-c221-484f-a23f-ea2886735173');\n",
              "          const dataTable =\n",
              "            await google.colab.kernel.invokeFunction('convertToInteractive',\n",
              "                                                     [key], {});\n",
              "          if (!dataTable) return;\n",
              "\n",
              "          const docLinkHtml = 'Like what you see? Visit the ' +\n",
              "            '<a target=\"_blank\" href=https://colab.research.google.com/notebooks/data_table.ipynb>data table notebook</a>'\n",
              "            + ' to learn more about interactive tables.';\n",
              "          element.innerHTML = '';\n",
              "          dataTable['output_type'] = 'display_data';\n",
              "          await google.colab.output.renderOutput(dataTable, element);\n",
              "          const docLink = document.createElement('div');\n",
              "          docLink.innerHTML = docLinkHtml;\n",
              "          element.appendChild(docLink);\n",
              "        }\n",
              "      </script>\n",
              "    </div>\n",
              "  </div>\n",
              "  "
            ]
          },
          "metadata": {},
          "execution_count": 15
        }
      ]
    },
    {
      "cell_type": "code",
      "source": [
        "#Verificando se a coluna em especifico existe algum valor nulo\n",
        "dados_nps[dados_nps['nps_score'].isnull()]"
      ],
      "metadata": {
        "id": "j45Y3ApTsb19"
      },
      "execution_count": null,
      "outputs": []
    },
    {
      "cell_type": "code",
      "source": [
        "#Filtado a coluna buscando todas com status completo e não está com nps nulo\n",
        "dados_nps_filtrados = dados_nps[(dados_nps['response_status'] == 'Complete') & \\\n",
        "                                (dados_nps['nps_score'].notna())]\n",
        "dados_nps_filtrados.head()                                "
      ],
      "metadata": {
        "id": "MqD1Cc6BsydH"
      },
      "execution_count": null,
      "outputs": []
    },
    {
      "cell_type": "code",
      "source": [
        "dados_nps_filtrados.groupby('age') \\\n",
        "                    .agg(media_nps = pd.NamedAgg('nps_score', 'mean'),\n",
        "                         dp_nps = pd.NamedAgg('nps_score', 'std'),\n",
        "                         n = pd.NamedAgg('nps_score', 'size')) \\\n",
        "                    .reset_index()"
      ],
      "metadata": {
        "id": "6xHx7q65td7v"
      },
      "execution_count": null,
      "outputs": []
    },
    {
      "cell_type": "code",
      "source": [
        "# Quando em um grupo temos um número muito pequeno de indivíduos devemos desconsiderar esse grupo\n",
        "# Filtrando o grupo com poucas pessoas\n",
        "# != - Rejeitas dados\n",
        "\n",
        "dados_nps_filtrados_aj = dados_nps_filtrados[dados_nps_filtrados['age'] != '75+']\n",
        "\n",
        "# Dependendo da regra de négocio esse grupo rejeitado poderia ser unido com outro grupo, ex: 65+ "
      ],
      "metadata": {
        "id": "MTeFGSsau0yX"
      },
      "execution_count": 21,
      "outputs": []
    },
    {
      "cell_type": "code",
      "source": [
        "#Teste F - Scipy\n",
        "#Separar os grupos\n",
        "dados_18_24 = dados_nps_filtrados_aj[dados_nps_filtrados_aj['age'] == '18-24']['nps_score']\n",
        "dados_25_34 = dados_nps_filtrados_aj[dados_nps_filtrados_aj['age'] == '25-34']['nps_score']\n",
        "dados_35_44 = dados_nps_filtrados_aj[dados_nps_filtrados_aj['age'] == '35-44']['nps_score']\n",
        "dados_45_54 = dados_nps_filtrados_aj[dados_nps_filtrados_aj['age'] == '45-54']['nps_score']\n",
        "dados_55_64 = dados_nps_filtrados_aj[dados_nps_filtrados_aj['age'] == '55-64']['nps_score']\n",
        "dados_65_74 = dados_nps_filtrados_aj[dados_nps_filtrados_aj['age'] == '65-74']['nps_score']\n",
        "\n",
        "#Realizar teste\n",
        "st.f_oneway(dados_18_24,\n",
        "            dados_25_34,\n",
        "            dados_35_44,\n",
        "            dados_45_54,\n",
        "            dados_55_64,\n",
        "            dados_65_74)"
      ],
      "metadata": {
        "colab": {
          "base_uri": "https://localhost:8080/"
        },
        "id": "KhI6GgIkvxau",
        "outputId": "c72869ea-c7ce-45a2-da72-fcb3225ea639"
      },
      "execution_count": 23,
      "outputs": [
        {
          "output_type": "execute_result",
          "data": {
            "text/plain": [
              "F_onewayResult(statistic=3.5221660981040768, pvalue=0.0035606861304276695)"
            ]
          },
          "metadata": {},
          "execution_count": 23
        }
      ]
    },
    {
      "cell_type": "code",
      "source": [
        "#Teste F - Pingouin\n",
        "#Primeira diferença entre Scipy e que a linha de codigos é menor\n",
        "#anova - Analise de Variance\n",
        "pg.anova(dv ='nps_score',\n",
        "         between = 'age',\n",
        "         data = dados_nps_filtrados_aj,\n",
        "         detailed = True)\n",
        "\n",
        "#p-unc = pvalue\n",
        "#Se o p-unc < 0,05 - então rejeito a hipotese nula, alguma das médias é diferente das demais"
      ],
      "metadata": {
        "colab": {
          "base_uri": "https://localhost:8080/",
          "height": 112
        },
        "id": "4KUNcVE0yVcH",
        "outputId": "bede02db-c9b1-4a9b-8e33-32175fc96939"
      },
      "execution_count": 27,
      "outputs": [
        {
          "output_type": "execute_result",
          "data": {
            "text/plain": [
              "   Source           SS    DF        MS         F     p-unc      np2\n",
              "0     age    16.888794     5  3.377759  3.522166  0.003561  0.00777\n",
              "1  Within  2156.791916  2249  0.959000       NaN       NaN      NaN"
            ],
            "text/html": [
              "\n",
              "  <div id=\"df-30a23758-bba2-4ac8-bfa9-f50a231663cb\">\n",
              "    <div class=\"colab-df-container\">\n",
              "      <div>\n",
              "<style scoped>\n",
              "    .dataframe tbody tr th:only-of-type {\n",
              "        vertical-align: middle;\n",
              "    }\n",
              "\n",
              "    .dataframe tbody tr th {\n",
              "        vertical-align: top;\n",
              "    }\n",
              "\n",
              "    .dataframe thead th {\n",
              "        text-align: right;\n",
              "    }\n",
              "</style>\n",
              "<table border=\"1\" class=\"dataframe\">\n",
              "  <thead>\n",
              "    <tr style=\"text-align: right;\">\n",
              "      <th></th>\n",
              "      <th>Source</th>\n",
              "      <th>SS</th>\n",
              "      <th>DF</th>\n",
              "      <th>MS</th>\n",
              "      <th>F</th>\n",
              "      <th>p-unc</th>\n",
              "      <th>np2</th>\n",
              "    </tr>\n",
              "  </thead>\n",
              "  <tbody>\n",
              "    <tr>\n",
              "      <th>0</th>\n",
              "      <td>age</td>\n",
              "      <td>16.888794</td>\n",
              "      <td>5</td>\n",
              "      <td>3.377759</td>\n",
              "      <td>3.522166</td>\n",
              "      <td>0.003561</td>\n",
              "      <td>0.00777</td>\n",
              "    </tr>\n",
              "    <tr>\n",
              "      <th>1</th>\n",
              "      <td>Within</td>\n",
              "      <td>2156.791916</td>\n",
              "      <td>2249</td>\n",
              "      <td>0.959000</td>\n",
              "      <td>NaN</td>\n",
              "      <td>NaN</td>\n",
              "      <td>NaN</td>\n",
              "    </tr>\n",
              "  </tbody>\n",
              "</table>\n",
              "</div>\n",
              "      <button class=\"colab-df-convert\" onclick=\"convertToInteractive('df-30a23758-bba2-4ac8-bfa9-f50a231663cb')\"\n",
              "              title=\"Convert this dataframe to an interactive table.\"\n",
              "              style=\"display:none;\">\n",
              "        \n",
              "  <svg xmlns=\"http://www.w3.org/2000/svg\" height=\"24px\"viewBox=\"0 0 24 24\"\n",
              "       width=\"24px\">\n",
              "    <path d=\"M0 0h24v24H0V0z\" fill=\"none\"/>\n",
              "    <path d=\"M18.56 5.44l.94 2.06.94-2.06 2.06-.94-2.06-.94-.94-2.06-.94 2.06-2.06.94zm-11 1L8.5 8.5l.94-2.06 2.06-.94-2.06-.94L8.5 2.5l-.94 2.06-2.06.94zm10 10l.94 2.06.94-2.06 2.06-.94-2.06-.94-.94-2.06-.94 2.06-2.06.94z\"/><path d=\"M17.41 7.96l-1.37-1.37c-.4-.4-.92-.59-1.43-.59-.52 0-1.04.2-1.43.59L10.3 9.45l-7.72 7.72c-.78.78-.78 2.05 0 2.83L4 21.41c.39.39.9.59 1.41.59.51 0 1.02-.2 1.41-.59l7.78-7.78 2.81-2.81c.8-.78.8-2.07 0-2.86zM5.41 20L4 18.59l7.72-7.72 1.47 1.35L5.41 20z\"/>\n",
              "  </svg>\n",
              "      </button>\n",
              "      \n",
              "  <style>\n",
              "    .colab-df-container {\n",
              "      display:flex;\n",
              "      flex-wrap:wrap;\n",
              "      gap: 12px;\n",
              "    }\n",
              "\n",
              "    .colab-df-convert {\n",
              "      background-color: #E8F0FE;\n",
              "      border: none;\n",
              "      border-radius: 50%;\n",
              "      cursor: pointer;\n",
              "      display: none;\n",
              "      fill: #1967D2;\n",
              "      height: 32px;\n",
              "      padding: 0 0 0 0;\n",
              "      width: 32px;\n",
              "    }\n",
              "\n",
              "    .colab-df-convert:hover {\n",
              "      background-color: #E2EBFA;\n",
              "      box-shadow: 0px 1px 2px rgba(60, 64, 67, 0.3), 0px 1px 3px 1px rgba(60, 64, 67, 0.15);\n",
              "      fill: #174EA6;\n",
              "    }\n",
              "\n",
              "    [theme=dark] .colab-df-convert {\n",
              "      background-color: #3B4455;\n",
              "      fill: #D2E3FC;\n",
              "    }\n",
              "\n",
              "    [theme=dark] .colab-df-convert:hover {\n",
              "      background-color: #434B5C;\n",
              "      box-shadow: 0px 1px 3px 1px rgba(0, 0, 0, 0.15);\n",
              "      filter: drop-shadow(0px 1px 2px rgba(0, 0, 0, 0.3));\n",
              "      fill: #FFFFFF;\n",
              "    }\n",
              "  </style>\n",
              "\n",
              "      <script>\n",
              "        const buttonEl =\n",
              "          document.querySelector('#df-30a23758-bba2-4ac8-bfa9-f50a231663cb button.colab-df-convert');\n",
              "        buttonEl.style.display =\n",
              "          google.colab.kernel.accessAllowed ? 'block' : 'none';\n",
              "\n",
              "        async function convertToInteractive(key) {\n",
              "          const element = document.querySelector('#df-30a23758-bba2-4ac8-bfa9-f50a231663cb');\n",
              "          const dataTable =\n",
              "            await google.colab.kernel.invokeFunction('convertToInteractive',\n",
              "                                                     [key], {});\n",
              "          if (!dataTable) return;\n",
              "\n",
              "          const docLinkHtml = 'Like what you see? Visit the ' +\n",
              "            '<a target=\"_blank\" href=https://colab.research.google.com/notebooks/data_table.ipynb>data table notebook</a>'\n",
              "            + ' to learn more about interactive tables.';\n",
              "          element.innerHTML = '';\n",
              "          dataTable['output_type'] = 'display_data';\n",
              "          await google.colab.output.renderOutput(dataTable, element);\n",
              "          const docLink = document.createElement('div');\n",
              "          docLink.innerHTML = docLinkHtml;\n",
              "          element.appendChild(docLink);\n",
              "        }\n",
              "      </script>\n",
              "    </div>\n",
              "  </div>\n",
              "  "
            ]
          },
          "metadata": {},
          "execution_count": 27
        }
      ]
    }
  ]
}