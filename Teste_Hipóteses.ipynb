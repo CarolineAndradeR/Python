{
  "nbformat": 4,
  "nbformat_minor": 0,
  "metadata": {
    "colab": {
      "provenance": [],
      "authorship_tag": "ABX9TyML+GHWlg5pcwwD6BQYO6Ya",
      "include_colab_link": true
    },
    "kernelspec": {
      "name": "python3",
      "display_name": "Python 3"
    },
    "language_info": {
      "name": "python"
    }
  },
  "cells": [
    {
      "cell_type": "markdown",
      "metadata": {
        "id": "view-in-github",
        "colab_type": "text"
      },
      "source": [
        "<a href=\"https://colab.research.google.com/github/CarolineAndradeR/Python/blob/master/Teste_Hip%C3%B3teses.ipynb\" target=\"_parent\"><img src=\"https://colab.research.google.com/assets/colab-badge.svg\" alt=\"Open In Colab\"/></a>"
      ]
    },
    {
      "cell_type": "markdown",
      "source": [
        "# **INTRODUÇÃO - TEÓRIA**"
      ],
      "metadata": {
        "id": "-fCbAmLky4mt"
      }
    },
    {
      "cell_type": "markdown",
      "source": [
        "**Hipótese** - Transformar questionamentos em afirmações passíveis de testes.\n",
        "\n",
        "Metodologia que permite verificar se os dados da amostra trazem evidências para rejeitar ou não rejeitar a hipótese proposta.\n",
        "\n",
        "Uma hipótese será testada somente se esxistirem dados disponíveis, quando não há dados se torna uma hipótese pouco plausível no momento, uma vez que não pode ser testada. Porém pode recorrer aos processos de amostragem para obter esses dados e realizar os testes possíveis.\n",
        "\n",
        "**Níveis** \n",
        "*   **Descritivo** - é a probalilidade de obter um efeito igual ou maior do que o esperado pela hipótese, esse efeito pode ser a diferença entre dois grupos, ex: o site com fundo escuro possui maior taxa de conversão do que o site com o fundo branco.\n",
        "*   **Valor Crítico** - é um determinado ponto na distribução de probalidade do teste que precisa ser comparado com o valor observado no teste, caso esse valor seja muito diferente, há evidência para rejeitar a hipótese testada.\n",
        "\n",
        "**PROCEDIMENTOS**\n",
        "1.   Fizar a hipótese nula e a hipótese alternativa.\n",
        "2.   Definir qual estimador será utilizado (média, variância).\n",
        "3.   Fixar o nível de confiança (90%, 95%, 99%) para definir o valor crítico.\n",
        "4.   Utilizar os dados da amostra obtida para calcular o valor da estatística teste.\n",
        "5.   Rejeitar a hipótese nula se o valor da estatística de teste for maior que o valor definido na etapa 3.\n",
        "\n",
        "**Hipótese nula e alternativa:**\n",
        "*   **Nula** - Deve sempre colocar um sinal de igual ou combinado (igual, maior igual, menor igual...)\n",
        "*   **Alternativa** - Um complemento da hipótese nula, ex: se o sinal da hipótese nula for igual na hipótese alternativa se usa o valor difere. (sinal ao contrario da hipótese nula).\n"
      ],
      "metadata": {
        "id": "k6fBBdE3OUwQ"
      }
    },
    {
      "cell_type": "markdown",
      "source": [
        "# **Prático**"
      ],
      "metadata": {
        "id": "sp-Xtj6jz84F"
      }
    },
    {
      "cell_type": "code",
      "execution_count": 1,
      "metadata": {
        "colab": {
          "base_uri": "https://localhost:8080/"
        },
        "id": "mhjQHjhwOMpp",
        "outputId": "07cf4d2d-7afa-4fe4-d25e-9b30aba54df4"
      },
      "outputs": [
        {
          "output_type": "stream",
          "name": "stdout",
          "text": [
            "Looking in indexes: https://pypi.org/simple, https://us-python.pkg.dev/colab-wheels/public/simple/\n",
            "Collecting scipy==1.7.1\n",
            "  Downloading scipy-1.7.1-cp39-cp39-manylinux_2_5_x86_64.manylinux1_x86_64.whl (28.5 MB)\n",
            "\u001b[2K     \u001b[90m━━━━━━━━━━━━━━━━━━━━━━━━━━━━━━━━━━━━━━━━\u001b[0m \u001b[32m28.5/28.5 MB\u001b[0m \u001b[31m26.9 MB/s\u001b[0m eta \u001b[36m0:00:00\u001b[0m\n",
            "\u001b[?25hRequirement already satisfied: numpy<1.23.0,>=1.16.5 in /usr/local/lib/python3.9/dist-packages (from scipy==1.7.1) (1.22.4)\n",
            "Installing collected packages: scipy\n",
            "  Attempting uninstall: scipy\n",
            "    Found existing installation: scipy 1.10.1\n",
            "    Uninstalling scipy-1.10.1:\n",
            "      Successfully uninstalled scipy-1.10.1\n",
            "\u001b[31mERROR: pip's dependency resolver does not currently take into account all the packages that are installed. This behaviour is the source of the following dependency conflicts.\n",
            "arviz 0.15.1 requires scipy>=1.8.0, but you have scipy 1.7.1 which is incompatible.\u001b[0m\u001b[31m\n",
            "\u001b[0mSuccessfully installed scipy-1.7.1\n"
          ]
        }
      ],
      "source": [
        "#Instalação de uma versão mais atualizada do Scipy\n",
        "! sudo pip install scipy==1.7.1"
      ]
    }
  ]
}