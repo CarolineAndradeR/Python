{
  "nbformat": 4,
  "nbformat_minor": 0,
  "metadata": {
    "colab": {
      "provenance": [],
      "authorship_tag": "ABX9TyNZqHyM/Rz430RxoyCd+44A",
      "include_colab_link": true
    },
    "kernelspec": {
      "name": "python3",
      "display_name": "Python 3"
    },
    "language_info": {
      "name": "python"
    }
  },
  "cells": [
    {
      "cell_type": "markdown",
      "metadata": {
        "id": "view-in-github",
        "colab_type": "text"
      },
      "source": [
        "<a href=\"https://colab.research.google.com/github/CarolineAndradeR/Python/blob/master/Modelo_Recomendacao.ipynb\" target=\"_parent\"><img src=\"https://colab.research.google.com/assets/colab-badge.svg\" alt=\"Open In Colab\"/></a>"
      ]
    },
    {
      "cell_type": "code",
      "execution_count": 1,
      "metadata": {
        "id": "oE8O2Y9_YWBd"
      },
      "outputs": [],
      "source": [
        "# SparkSession - é a porta de entrada do PySpark. Ele cria a “sessão” que conecta o código ao cluster Spark (ou roda localmente, se não houver cluster).\n",
        "# functions as F - permite usar funções SQL já prontas do Spark (ex: F.col, F.avg, F.count, etc.).\n",
        "from pyspark.sql import SparkSession, functions as F\n",
        "\n",
        "# ALS (Alternating Least Squares) é o algoritmo de recomendação baseado em fatoração de matrizes. Ele gera embeddings (representações numéricas) de usuários e itens para prever notas ou preferências\n",
        "from pyspark.ml.recommendation import ALS\n",
        "\n",
        "# Esse transformador converte valores categóricos em números inteiros.\n",
        "# Exemplo: Usuário \"Caroline\" vira 0, \"João\" vira 1, etc.\n",
        "# Isso é importante porque o ALS só funciona com IDs numéricos, não strings.\n",
        "from pyspark.ml.feature import StringIndexer\n",
        "\n",
        "# Serve para medir o desempenho do modelo de recomendação, calculando métricas como RMSE (Root Mean Square Error).\n",
        "from pyspark.ml.evaluation import RegressionEvaluator\n",
        "\n",
        "# .builder - inicia a configuração da sessão.\n",
        "# .appName(\"RecomendadorALS\") - dá um nome ao app (vai aparecer no monitor do Spark).\n",
        "# .getOrCreate() - cria a sessão Spark se não existir, se existir, apenas retorna a mesma.\n",
        "spark = SparkSession.builder.appName(\"RecomendadorALS\").getOrCreate()\n"
      ]
    },
    {
      "cell_type": "code",
      "source": [
        "# Simulando um conjunto de avaliações\n",
        "dados = [\n",
        "    (\"Alice\", \"Filme1\", 5.0),\n",
        "    (\"Alice\", \"Filme2\", 3.0),\n",
        "    (\"Bob\", \"Filme1\", 4.0),\n",
        "    (\"Bob\", \"Filme3\", 2.0),\n",
        "    (\"Carol\", \"Filme2\", 4.0),\n",
        "    (\"Carol\", \"Filme3\", 5.0),\n",
        "]\n",
        "\n",
        "# Criar DataFrame com colunas nomeadas\n",
        "df = spark.createDataFrame(dados, [\"usuario\", \"item\", \"nota\"])\n",
        "df.show()\n"
      ],
      "metadata": {
        "colab": {
          "base_uri": "https://localhost:8080/"
        },
        "id": "_7YUuK1zNzjN",
        "outputId": "9ccf4170-fc0c-4474-e13f-1bf5a9461b37"
      },
      "execution_count": 2,
      "outputs": [
        {
          "output_type": "stream",
          "name": "stdout",
          "text": [
            "+-------+------+----+\n",
            "|usuario|  item|nota|\n",
            "+-------+------+----+\n",
            "|  Alice|Filme1| 5.0|\n",
            "|  Alice|Filme2| 3.0|\n",
            "|    Bob|Filme1| 4.0|\n",
            "|    Bob|Filme3| 2.0|\n",
            "|  Carol|Filme2| 4.0|\n",
            "|  Carol|Filme3| 5.0|\n",
            "+-------+------+----+\n",
            "\n"
          ]
        }
      ]
    },
    {
      "cell_type": "code",
      "source": [
        "# Transforma os nomes em índices numéricos\n",
        "indexador_usuario = StringIndexer(inputCol=\"usuario\", outputCol=\"usuarioId\")\n",
        "indexador_item = StringIndexer(inputCol=\"item\", outputCol=\"itemId\")\n",
        "\n",
        "# Ajusta e transforma os dados\n",
        "df = indexador_usuario.fit(df).transform(df)\n",
        "df = indexador_item.fit(df).transform(df)\n",
        "\n",
        "df.show()\n"
      ],
      "metadata": {
        "colab": {
          "base_uri": "https://localhost:8080/"
        },
        "id": "ZZ0ZMdRKN_P8",
        "outputId": "50a4ab7e-46f5-4453-cdd3-d9f839527df5"
      },
      "execution_count": 3,
      "outputs": [
        {
          "output_type": "stream",
          "name": "stdout",
          "text": [
            "+-------+------+----+---------+------+\n",
            "|usuario|  item|nota|usuarioId|itemId|\n",
            "+-------+------+----+---------+------+\n",
            "|  Alice|Filme1| 5.0|      0.0|   0.0|\n",
            "|  Alice|Filme2| 3.0|      0.0|   1.0|\n",
            "|    Bob|Filme1| 4.0|      1.0|   0.0|\n",
            "|    Bob|Filme3| 2.0|      1.0|   2.0|\n",
            "|  Carol|Filme2| 4.0|      2.0|   1.0|\n",
            "|  Carol|Filme3| 5.0|      2.0|   2.0|\n",
            "+-------+------+----+---------+------+\n",
            "\n"
          ]
        }
      ]
    },
    {
      "cell_type": "code",
      "source": [
        "als = ALS(\n",
        "    userCol=\"usuarioId\",\n",
        "    itemCol=\"itemId\",\n",
        "    ratingCol=\"nota\",\n",
        "    nonnegative=True,\n",
        "    coldStartStrategy=\"drop\",\n",
        "    implicitPrefs=False\n",
        ")\n",
        "\n",
        "modelo = als.fit(df)\n"
      ],
      "metadata": {
        "id": "SajNAywZOJpr"
      },
      "execution_count": 4,
      "outputs": []
    },
    {
      "cell_type": "code",
      "source": [
        "# Obter os IDs numéricos correspondentes\n",
        "usuarios_convertidos = df.select(\"usuario\", \"usuarioId\").distinct()\n",
        "itens_convertidos = df.select(\"item\", \"itemId\").distinct()\n",
        "\n",
        "# Obter os IDs correspondentes a \"Alice\" e \"Filme3\"\n",
        "alice_id = usuarios_convertidos.filter(F.col(\"usuario\") == \"Alice\").collect()[0][\"usuarioId\"]\n",
        "filme3_id = itens_convertidos.filter(F.col(\"item\") == \"Filme3\").collect()[0][\"itemId\"]\n",
        "\n",
        "# Criar um DataFrame com o par para prever\n",
        "dados_teste = spark.createDataFrame([(alice_id, filme3_id)], [\"usuarioId\", \"itemId\"])\n",
        "\n",
        "previsao = modelo.transform(dados_teste)\n",
        "previsao.show()"
      ],
      "metadata": {
        "colab": {
          "base_uri": "https://localhost:8080/"
        },
        "id": "Px5Po6sgiICr",
        "outputId": "a04579c8-552b-4ea5-f572-b2b078d83a6b"
      },
      "execution_count": 5,
      "outputs": [
        {
          "output_type": "stream",
          "name": "stdout",
          "text": [
            "+---------+------+----------+\n",
            "|usuarioId|itemId|prediction|\n",
            "+---------+------+----------+\n",
            "|      0.0|   2.0| 2.9441667|\n",
            "+---------+------+----------+\n",
            "\n"
          ]
        }
      ]
    },
    {
      "cell_type": "code",
      "source": [
        "avaliador = RegressionEvaluator(\n",
        "    metricName=\"rmse\",\n",
        "    labelCol=\"nota\",\n",
        "    predictionCol=\"prediction\"\n",
        ")\n",
        "\n",
        "previsoes_treino = modelo.transform(df)\n",
        "rmse = avaliador.evaluate(previsoes_treino)\n",
        "print(f\"RMSE: {rmse}\")\n"
      ],
      "metadata": {
        "colab": {
          "base_uri": "https://localhost:8080/"
        },
        "id": "sRrgcVPViJZ0",
        "outputId": "ce6fa9f8-ee47-4b95-faeb-2c68192ebaa9"
      },
      "execution_count": 6,
      "outputs": [
        {
          "output_type": "stream",
          "name": "stdout",
          "text": [
            "RMSE: 0.07950812800836858\n"
          ]
        }
      ]
    },
    {
      "cell_type": "code",
      "source": [
        "# Top 2 recomendações por usuário\n",
        "recomendacoes = modelo.recommendForAllUsers(2)\n",
        "recomendacoes.show(truncate=False)\n"
      ],
      "metadata": {
        "colab": {
          "base_uri": "https://localhost:8080/"
        },
        "id": "bHxllrNbib8h",
        "outputId": "8410441c-c088-4e98-f897-d35673efec43"
      },
      "execution_count": 7,
      "outputs": [
        {
          "output_type": "stream",
          "name": "stdout",
          "text": [
            "+---------+-------------------------------+\n",
            "|usuarioId|recommendations                |\n",
            "+---------+-------------------------------+\n",
            "|0        |[{0, 4.893511}, {1, 2.9873765}]|\n",
            "|1        |[{0, 3.9027593}, {1, 2.165461}]|\n",
            "|2        |[{2, 4.872607}, {1, 3.975094}] |\n",
            "+---------+-------------------------------+\n",
            "\n"
          ]
        }
      ]
    }
  ]
}