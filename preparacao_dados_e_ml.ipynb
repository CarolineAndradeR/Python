{
  "nbformat": 4,
  "nbformat_minor": 0,
  "metadata": {
    "colab": {
      "provenance": [],
      "mount_file_id": "1BrsMyRnVKgl0b7Z7J3MsVyLM3OFtcRU7",
      "authorship_tag": "ABX9TyOs8+LPGgr9+Mv1f63iXQFm",
      "include_colab_link": true
    },
    "kernelspec": {
      "name": "python3",
      "display_name": "Python 3"
    },
    "language_info": {
      "name": "python"
    }
  },
  "cells": [
    {
      "cell_type": "markdown",
      "metadata": {
        "id": "view-in-github",
        "colab_type": "text"
      },
      "source": [
        "<a href=\"https://colab.research.google.com/github/CarolineAndradeR/Script_Python/blob/master/preparacao_dados_e_ml.ipynb\" target=\"_parent\"><img src=\"https://colab.research.google.com/assets/colab-badge.svg\" alt=\"Open In Colab\"/></a>"
      ]
    },
    {
      "cell_type": "code",
      "execution_count": null,
      "metadata": {
        "id": "IJz3wYmAZQcE"
      },
      "outputs": [],
      "source": [
        "!pip install numpy\n",
        "!pip install pandas\n",
        "!pip install statsmodels\n",
        "!pip install sklearn\n",
        "!pip install scipy"
      ]
    },
    {
      "cell_type": "markdown",
      "source": [
        "**Ferramentas de Probabilidade**"
      ],
      "metadata": {
        "id": "HfWBshabaBio"
      }
    },
    {
      "cell_type": "code",
      "source": [
        "#Módulos de Estatística\n",
        "from scipy.stats import binom, poisson, norm\n",
        "\n",
        "#Binominal\n",
        "n = 5\n",
        "p = 0.8\n",
        "binom.pmf(k=1, n=n, p=p)"
      ],
      "metadata": {
        "colab": {
          "base_uri": "https://localhost:8080/"
        },
        "id": "w4xv8o3HaGxo",
        "outputId": "9384fb5f-e434-4b55-bcdc-a738a6331ffd"
      },
      "execution_count": 3,
      "outputs": [
        {
          "output_type": "execute_result",
          "data": {
            "text/plain": [
              "0.006399999999999999"
            ]
          },
          "metadata": {},
          "execution_count": 3
        }
      ]
    },
    {
      "cell_type": "code",
      "source": [
        "#Poisson\n",
        "mu = 2\n",
        "poisson.pmf(k=1, mu=mu)"
      ],
      "metadata": {
        "colab": {
          "base_uri": "https://localhost:8080/"
        },
        "id": "F6Wxlys2arDX",
        "outputId": "45716253-cb69-40f0-972b-fcc6596ed31a"
      },
      "execution_count": 4,
      "outputs": [
        {
          "output_type": "execute_result",
          "data": {
            "text/plain": [
              "0.2706705664732254"
            ]
          },
          "metadata": {},
          "execution_count": 4
        }
      ]
    },
    {
      "cell_type": "code",
      "source": [
        "#Normal\n",
        "media = 30\n",
        "desvio_padrao = 6\n",
        "norm.pdf(x = 25, loc = media, scale = desvio_padrao)"
      ],
      "metadata": {
        "colab": {
          "base_uri": "https://localhost:8080/"
        },
        "id": "lwyeh2vFbF7y",
        "outputId": "4923ab32-1f58-4491-a1ff-7a9112b40798"
      },
      "execution_count": 6,
      "outputs": [
        {
          "output_type": "execute_result",
          "data": {
            "text/plain": [
              "0.04698531256838376"
            ]
          },
          "metadata": {},
          "execution_count": 6
        }
      ]
    },
    {
      "cell_type": "markdown",
      "source": [
        "**Ferramentas de Amostragem**"
      ],
      "metadata": {
        "id": "ofYybi_KbXWg"
      }
    },
    {
      "cell_type": "code",
      "source": [
        "#Iniciando montagem do drive\n",
        "from google.colab import drive\n",
        "drive.mount('/content/drive')\n",
        "\n",
        "import pandas as pd\n",
        "\n",
        "arq_dados_paises = '/content/drive/MyDrive/hdi_paises.csv'\n",
        "df_dados_paises = pd.read_csv(arq_dados_paises)\n",
        "df_dados_paises.head()"
      ],
      "metadata": {
        "id": "2tlH_UPabcXh"
      },
      "execution_count": null,
      "outputs": []
    },
    {
      "cell_type": "code",
      "source": [
        "df_dados_paises.tail(50)\n",
        "#Olhar os dados do início e do fim para ver se tem sugerias"
      ],
      "metadata": {
        "id": "3FF1nhCDcXLZ"
      },
      "execution_count": null,
      "outputs": []
    },
    {
      "cell_type": "code",
      "source": [
        "#Buscar sempre coletar dados para garantir a integridade dos dados\n",
        "#Amostragem com recorte dos dados\n",
        "#Existe diversas formas, enteder cada necessidade para garantir que os dados esteja lá\n",
        "df_amostra_50 = df_dados_paises[ df_dados_paises['Year'] == 2016].sample(n=50)\n",
        "df_amostra_50"
      ],
      "metadata": {
        "id": "acBsCc8-c9mf"
      },
      "execution_count": null,
      "outputs": []
    },
    {
      "cell_type": "markdown",
      "source": [
        "**Ferramentas de preparação de dados e machine learning**"
      ],
      "metadata": {
        "id": "wyvin9Lpd16A"
      }
    },
    {
      "cell_type": "code",
      "source": [
        "arq_dados_paises = '/content/drive/MyDrive/train_ames_housing.csv'\n",
        "df_dados_imoveis = pd.read_csv(arq_dados_paises)\n",
        "df_dados_imoveis.head()"
      ],
      "metadata": {
        "id": "Wio5r34xeffd"
      },
      "execution_count": null,
      "outputs": []
    },
    {
      "cell_type": "code",
      "source": [],
      "metadata": {
        "id": "UILkHDxbhpND"
      },
      "execution_count": null,
      "outputs": []
    }
  ]
}