{
  "nbformat": 4,
  "nbformat_minor": 0,
  "metadata": {
    "colab": {
      "provenance": [],
      "mount_file_id": "1nJX630WgD4N_BqV4HB6d5E23uyDe4QFn",
      "authorship_tag": "ABX9TyPadDw5RBbKnLaKO9iQrXzA",
      "include_colab_link": true
    },
    "kernelspec": {
      "name": "python3",
      "display_name": "Python 3"
    },
    "language_info": {
      "name": "python"
    }
  },
  "cells": [
    {
      "cell_type": "markdown",
      "metadata": {
        "id": "view-in-github",
        "colab_type": "text"
      },
      "source": [
        "<a href=\"https://colab.research.google.com/github/CarolineAndradeR/Python/blob/master/Regress%C3%A3o_Linear.ipynb\" target=\"_parent\"><img src=\"https://colab.research.google.com/assets/colab-badge.svg\" alt=\"Open In Colab\"/></a>"
      ]
    },
    {
      "cell_type": "markdown",
      "source": [
        "# **Conceito**\n"
      ],
      "metadata": {
        "id": "f8xmijumUlT3"
      }
    },
    {
      "cell_type": "markdown",
      "source": [
        "\n",
        "**Definição** - O modelo de regressão busca ajustar a melhor reta em uma nuvem de pontos. Quando o objetivo for analisar/prever saídas utilizado variáveis quantitativas (renda, peso) a técnica de regressão deve ser utilizada. A regressão busca minimizar os erros.\n",
        "\n",
        "\n",
        "**Regressão Simples** - Uma variavel para projetar uma outra variavel.\n",
        "\n",
        "**Regressão Múltipla** - Divesas variaveis para projetar uma outra.\n",
        "\n",
        "---\n",
        "Termos utilizados.\n",
        "\n",
        "**Machine Learning**------**Estatística**---------------------------**Reconhecimento de Padrões**     \n",
        "Inputs-------------------------Variáveis Independetes----------------Features\n",
        "\n",
        "Feature Engineering---Transformação de Variáveis--------Feature engineering\n",
        "\n",
        "Outputs-----------------------Variáveis Dependentes---------------Outputs\n",
        "\n",
        "Amostra de Treino------Análise in-the-sample-----------------Amostra de Treino\n",
        "\n",
        "Amostra de Teste-------Análise out-of-sample-----------------Amostra de Treino\n",
        "\n",
        "---\n",
        "\n",
        "**Outlier -** Quando se tem um ponto totalmente fora do padrão.\n",
        "**RMSE -** É utilizada para validar modelos supervisionados com objetivos de regressão. Quanto maior o RMSE, maior o erro e com isso pior é o modelo."
      ],
      "metadata": {
        "id": "Cg2WmmgIgDu-"
      }
    },
    {
      "cell_type": "markdown",
      "source": [
        "# **Pratica**\n",
        "\n"
      ],
      "metadata": {
        "id": "pTfo5P3BfvkP"
      }
    },
    {
      "cell_type": "code",
      "source": [
        "# Modulos gerias\n",
        "import numpy as np\n",
        "import pandas as pd\n",
        "import seaborn as sns\n",
        "import matplotlib.pyplot as plt\n",
        "\n",
        "# Modulos de análise de regressão\n",
        "# Treinar o modelo e testar em outro conjunto de dados\n",
        "from sklearn.model_selection import train_test_split\n",
        "# Algoritimo de Regressão\n",
        "from sklearn.linear_model import LinearRegression\n",
        "import statsmodels.formula.api as sm\n",
        "# Medida para verificar se o modelo funcionou bem\n",
        "from sklearn.metrics import mean_squared_error"
      ],
      "metadata": {
        "id": "aqaVJnJUYBwS"
      },
      "execution_count": 1,
      "outputs": []
    },
    {
      "cell_type": "code",
      "source": [
        "#Iniciando montagem do arquivo com o drive\n",
        "from google.colab import drive\n",
        "drive.mount('/content/drive')\n",
        "\n",
        "import pandas as pd\n",
        "\n",
        "dados_gastos_cartao = '/content/drive/MyDrive/Asset_FIAP/base_gastos_cartao.csv'\n",
        "dados_gastos_cartao = pd.read_csv(dados_gastos_cartao)\n",
        "dados_gastos_cartao.head()"
      ],
      "metadata": {
        "id": "rs7tjWiWgqlL"
      },
      "execution_count": null,
      "outputs": []
    },
    {
      "cell_type": "code",
      "source": [
        "# Dados treino e teste\n",
        "# Test_size - valor da divsão para teste\n",
        "# 34251 - Manter a divisão dos valores\n",
        "train_data, test_data = train_test_split(dados_gastos_cartao,\n",
        "                                         test_size = 0.33,\n",
        "                                         random_state = 34251)\n",
        "# numero de linhas para cada dataset\n",
        "dados_gastos_cartao.shape[0], train_data.shape[0], test_data.shape[0]"
      ],
      "metadata": {
        "colab": {
          "base_uri": "https://localhost:8080/"
        },
        "id": "gWOrOLuzqOu1",
        "outputId": "3d53c704-10af-4f6c-f1f7-2dbab9e800f6"
      },
      "execution_count": 8,
      "outputs": [
        {
          "output_type": "execute_result",
          "data": {
            "text/plain": [
              "(150, 100, 50)"
            ]
          },
          "metadata": {},
          "execution_count": 8
        }
      ]
    },
    {
      "cell_type": "code",
      "source": [
        "# Treino\n",
        "# Uma única variavel de renda (regressão linear simples)\n",
        "# Verificar se os gastos de cartão é explicado pela renda da pessoa\n",
        "X = train_data['renda'].values.reshape(-1, 1)\n",
        "y = train_data['gastos_cartao']\n",
        "\n",
        "# Teste\n",
        "X_test = test_data['renda'].values.reshape(-1, 1)\n",
        "y_test = test_data['gastos_cartao']\n",
        "\n",
        "# Treinar o modelo\n",
        "modelo_1 = LinearRegression().fit(X, y)"
      ],
      "metadata": {
        "id": "A_-k_QnmqdB9"
      },
      "execution_count": 12,
      "outputs": []
    },
    {
      "cell_type": "code",
      "source": [],
      "metadata": {
        "id": "OP0zhP6zr13K"
      },
      "execution_count": null,
      "outputs": []
    }
  ]
}