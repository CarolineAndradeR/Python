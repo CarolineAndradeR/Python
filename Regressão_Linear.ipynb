{
  "nbformat": 4,
  "nbformat_minor": 0,
  "metadata": {
    "colab": {
      "provenance": [],
      "mount_file_id": "1nJX630WgD4N_BqV4HB6d5E23uyDe4QFn",
      "authorship_tag": "ABX9TyNActzk66PEvKErY2cUX5kQ",
      "include_colab_link": true
    },
    "kernelspec": {
      "name": "python3",
      "display_name": "Python 3"
    },
    "language_info": {
      "name": "python"
    }
  },
  "cells": [
    {
      "cell_type": "markdown",
      "metadata": {
        "id": "view-in-github",
        "colab_type": "text"
      },
      "source": [
        "<a href=\"https://colab.research.google.com/github/CarolineAndradeR/Python/blob/master/Regress%C3%A3o_Linear.ipynb\" target=\"_parent\"><img src=\"https://colab.research.google.com/assets/colab-badge.svg\" alt=\"Open In Colab\"/></a>"
      ]
    },
    {
      "cell_type": "markdown",
      "source": [
        "# **Conceito**\n"
      ],
      "metadata": {
        "id": "f8xmijumUlT3"
      }
    },
    {
      "cell_type": "markdown",
      "source": [
        "\n",
        "**Definição** - O modelo de regressão busca ajustar a melhor reta em uma nuvem de pontos. Quando o objetivo for analisar/prever saídas utilizado variáveis quantitativas (renda, peso) a técnica de regressão deve ser utilizada. A regressão busca minimizar os erros.\n",
        "\n",
        "\n",
        "**Regressão Simples** - Uma variavel para projetar uma outra variavel.\n",
        "\n",
        "**Regressão Múltipla** - Divesas variaveis para projetar uma outra.\n",
        "\n",
        "---\n",
        "Termos utilizados.\n",
        "\n",
        "**Machine Learning**------**Estatística**---------------------------**Reconhecimento de Padrões**     \n",
        "Inputs-------------------------Variáveis Independetes----------------Features\n",
        "\n",
        "Feature Engineering---Transformação de Variáveis--------Feature engineering\n",
        "\n",
        "Outputs-----------------------Variáveis Dependentes---------------Outputs\n",
        "\n",
        "Amostra de Treino------Análise in-the-sample-----------------Amostra de Treino\n",
        "\n",
        "Amostra de Teste-------Análise out-of-sample-----------------Amostra de Treino\n",
        "\n",
        "---\n",
        "\n",
        "**Outlier -** Quando se tem um ponto totalmente fora do padrão.\n",
        "**RMSE -** É utilizada para validar modelos supervisionados com objetivos de regressão. Quanto maior o RMSE, maior o erro e com isso pior é o modelo."
      ],
      "metadata": {
        "id": "Cg2WmmgIgDu-"
      }
    },
    {
      "cell_type": "markdown",
      "source": [
        "# **Pratica**\n",
        "\n"
      ],
      "metadata": {
        "id": "pTfo5P3BfvkP"
      }
    },
    {
      "cell_type": "code",
      "source": [
        "# Modulos gerias\n",
        "import numpy as np\n",
        "import pandas as pd\n",
        "import seaborn as sns\n",
        "import matplotlib.pyplot as plt\n",
        "\n",
        "# Modulos de análise de regressão\n",
        "# Treinar o modelo e testar em outro conjunto de dados\n",
        "from sklearn.model_selection import train_test_split\n",
        "# Algoritimo de Regressão\n",
        "from sklearn.linear_model import LinearRegression\n",
        "import statsmodels.formula.api as sm\n",
        "# Medida para verificar se o modelo funcionou bem\n",
        "from sklearn.metrics import mean_squared_error"
      ],
      "metadata": {
        "id": "aqaVJnJUYBwS"
      },
      "execution_count": 1,
      "outputs": []
    },
    {
      "cell_type": "code",
      "source": [
        "#Iniciando montagem do arquivo com o drive\n",
        "from google.colab import drive\n",
        "drive.mount('/content/drive')\n",
        "\n",
        "import pandas as pd\n",
        "\n",
        "dados_gastos_cartao = '/content/drive/MyDrive/Asset_FIAP/base_gastos_cartao.csv'\n",
        "dados_gastos_cartao = pd.read_csv(dados_gastos_cartao)\n",
        "dados_gastos_cartao.head()"
      ],
      "metadata": {
        "id": "rs7tjWiWgqlL",
        "outputId": "85ccd850-0bb0-47f2-9086-75e764888840",
        "colab": {
          "base_uri": "https://localhost:8080/",
          "height": 224
        }
      },
      "execution_count": 2,
      "outputs": [
        {
          "output_type": "stream",
          "name": "stdout",
          "text": [
            "Mounted at /content/drive\n"
          ]
        },
        {
          "output_type": "execute_result",
          "data": {
            "text/plain": [
              "   gastos_cartao  idade  renda  impostos segmento\n",
              "0            510     35   1120        60        C\n",
              "1            490     30   1120        60        C\n",
              "2            470     32   1040        60        C\n",
              "3            460     31   1200        60        C\n",
              "4            500     36   1120        60        C"
            ],
            "text/html": [
              "\n",
              "  <div id=\"df-76c893a2-4c93-4f3b-9b99-a152731fc0ba\">\n",
              "    <div class=\"colab-df-container\">\n",
              "      <div>\n",
              "<style scoped>\n",
              "    .dataframe tbody tr th:only-of-type {\n",
              "        vertical-align: middle;\n",
              "    }\n",
              "\n",
              "    .dataframe tbody tr th {\n",
              "        vertical-align: top;\n",
              "    }\n",
              "\n",
              "    .dataframe thead th {\n",
              "        text-align: right;\n",
              "    }\n",
              "</style>\n",
              "<table border=\"1\" class=\"dataframe\">\n",
              "  <thead>\n",
              "    <tr style=\"text-align: right;\">\n",
              "      <th></th>\n",
              "      <th>gastos_cartao</th>\n",
              "      <th>idade</th>\n",
              "      <th>renda</th>\n",
              "      <th>impostos</th>\n",
              "      <th>segmento</th>\n",
              "    </tr>\n",
              "  </thead>\n",
              "  <tbody>\n",
              "    <tr>\n",
              "      <th>0</th>\n",
              "      <td>510</td>\n",
              "      <td>35</td>\n",
              "      <td>1120</td>\n",
              "      <td>60</td>\n",
              "      <td>C</td>\n",
              "    </tr>\n",
              "    <tr>\n",
              "      <th>1</th>\n",
              "      <td>490</td>\n",
              "      <td>30</td>\n",
              "      <td>1120</td>\n",
              "      <td>60</td>\n",
              "      <td>C</td>\n",
              "    </tr>\n",
              "    <tr>\n",
              "      <th>2</th>\n",
              "      <td>470</td>\n",
              "      <td>32</td>\n",
              "      <td>1040</td>\n",
              "      <td>60</td>\n",
              "      <td>C</td>\n",
              "    </tr>\n",
              "    <tr>\n",
              "      <th>3</th>\n",
              "      <td>460</td>\n",
              "      <td>31</td>\n",
              "      <td>1200</td>\n",
              "      <td>60</td>\n",
              "      <td>C</td>\n",
              "    </tr>\n",
              "    <tr>\n",
              "      <th>4</th>\n",
              "      <td>500</td>\n",
              "      <td>36</td>\n",
              "      <td>1120</td>\n",
              "      <td>60</td>\n",
              "      <td>C</td>\n",
              "    </tr>\n",
              "  </tbody>\n",
              "</table>\n",
              "</div>\n",
              "      <button class=\"colab-df-convert\" onclick=\"convertToInteractive('df-76c893a2-4c93-4f3b-9b99-a152731fc0ba')\"\n",
              "              title=\"Convert this dataframe to an interactive table.\"\n",
              "              style=\"display:none;\">\n",
              "        \n",
              "  <svg xmlns=\"http://www.w3.org/2000/svg\" height=\"24px\"viewBox=\"0 0 24 24\"\n",
              "       width=\"24px\">\n",
              "    <path d=\"M0 0h24v24H0V0z\" fill=\"none\"/>\n",
              "    <path d=\"M18.56 5.44l.94 2.06.94-2.06 2.06-.94-2.06-.94-.94-2.06-.94 2.06-2.06.94zm-11 1L8.5 8.5l.94-2.06 2.06-.94-2.06-.94L8.5 2.5l-.94 2.06-2.06.94zm10 10l.94 2.06.94-2.06 2.06-.94-2.06-.94-.94-2.06-.94 2.06-2.06.94z\"/><path d=\"M17.41 7.96l-1.37-1.37c-.4-.4-.92-.59-1.43-.59-.52 0-1.04.2-1.43.59L10.3 9.45l-7.72 7.72c-.78.78-.78 2.05 0 2.83L4 21.41c.39.39.9.59 1.41.59.51 0 1.02-.2 1.41-.59l7.78-7.78 2.81-2.81c.8-.78.8-2.07 0-2.86zM5.41 20L4 18.59l7.72-7.72 1.47 1.35L5.41 20z\"/>\n",
              "  </svg>\n",
              "      </button>\n",
              "      \n",
              "  <style>\n",
              "    .colab-df-container {\n",
              "      display:flex;\n",
              "      flex-wrap:wrap;\n",
              "      gap: 12px;\n",
              "    }\n",
              "\n",
              "    .colab-df-convert {\n",
              "      background-color: #E8F0FE;\n",
              "      border: none;\n",
              "      border-radius: 50%;\n",
              "      cursor: pointer;\n",
              "      display: none;\n",
              "      fill: #1967D2;\n",
              "      height: 32px;\n",
              "      padding: 0 0 0 0;\n",
              "      width: 32px;\n",
              "    }\n",
              "\n",
              "    .colab-df-convert:hover {\n",
              "      background-color: #E2EBFA;\n",
              "      box-shadow: 0px 1px 2px rgba(60, 64, 67, 0.3), 0px 1px 3px 1px rgba(60, 64, 67, 0.15);\n",
              "      fill: #174EA6;\n",
              "    }\n",
              "\n",
              "    [theme=dark] .colab-df-convert {\n",
              "      background-color: #3B4455;\n",
              "      fill: #D2E3FC;\n",
              "    }\n",
              "\n",
              "    [theme=dark] .colab-df-convert:hover {\n",
              "      background-color: #434B5C;\n",
              "      box-shadow: 0px 1px 3px 1px rgba(0, 0, 0, 0.15);\n",
              "      filter: drop-shadow(0px 1px 2px rgba(0, 0, 0, 0.3));\n",
              "      fill: #FFFFFF;\n",
              "    }\n",
              "  </style>\n",
              "\n",
              "      <script>\n",
              "        const buttonEl =\n",
              "          document.querySelector('#df-76c893a2-4c93-4f3b-9b99-a152731fc0ba button.colab-df-convert');\n",
              "        buttonEl.style.display =\n",
              "          google.colab.kernel.accessAllowed ? 'block' : 'none';\n",
              "\n",
              "        async function convertToInteractive(key) {\n",
              "          const element = document.querySelector('#df-76c893a2-4c93-4f3b-9b99-a152731fc0ba');\n",
              "          const dataTable =\n",
              "            await google.colab.kernel.invokeFunction('convertToInteractive',\n",
              "                                                     [key], {});\n",
              "          if (!dataTable) return;\n",
              "\n",
              "          const docLinkHtml = 'Like what you see? Visit the ' +\n",
              "            '<a target=\"_blank\" href=https://colab.research.google.com/notebooks/data_table.ipynb>data table notebook</a>'\n",
              "            + ' to learn more about interactive tables.';\n",
              "          element.innerHTML = '';\n",
              "          dataTable['output_type'] = 'display_data';\n",
              "          await google.colab.output.renderOutput(dataTable, element);\n",
              "          const docLink = document.createElement('div');\n",
              "          docLink.innerHTML = docLinkHtml;\n",
              "          element.appendChild(docLink);\n",
              "        }\n",
              "      </script>\n",
              "    </div>\n",
              "  </div>\n",
              "  "
            ]
          },
          "metadata": {},
          "execution_count": 2
        }
      ]
    },
    {
      "cell_type": "code",
      "source": [
        "# Dados treino e teste\n",
        "# Test_size - valor da divsão para teste\n",
        "# 34251 - Manter a divisão dos valores\n",
        "train_data, test_data = train_test_split(dados_gastos_cartao,\n",
        "                                         test_size = 0.33,\n",
        "                                         random_state = 34251)\n",
        "# numero de linhas para cada dataset\n",
        "dados_gastos_cartao.shape[0], train_data.shape[0], test_data.shape[0]"
      ],
      "metadata": {
        "colab": {
          "base_uri": "https://localhost:8080/"
        },
        "id": "gWOrOLuzqOu1",
        "outputId": "04b0cd6e-9362-41aa-d02f-038db385673f"
      },
      "execution_count": 3,
      "outputs": [
        {
          "output_type": "execute_result",
          "data": {
            "text/plain": [
              "(150, 100, 50)"
            ]
          },
          "metadata": {},
          "execution_count": 3
        }
      ]
    },
    {
      "cell_type": "code",
      "source": [
        "# Treino\n",
        "# Uma única variavel de renda (regressão linear simples)\n",
        "# Verificar se os gastos de cartão é explicado pela renda da pessoa\n",
        "X = train_data['renda'].values.reshape(-1, 1)\n",
        "y = train_data['gastos_cartao']\n",
        "\n",
        "# Teste\n",
        "X_test = test_data['renda'].values.reshape(-1, 1)\n",
        "y_test = test_data['gastos_cartao']\n",
        "\n",
        "# Treinar o modelo\n",
        "modelo_1 = LinearRegression().fit(X, y)"
      ],
      "metadata": {
        "id": "A_-k_QnmqdB9"
      },
      "execution_count": 4,
      "outputs": []
    },
    {
      "cell_type": "code",
      "source": [
        "# Coeficiente e o valor de beta, um valor medio e o valor do coeficiente \n",
        "modelo_1.intercept_, modelo_1.coef_[0]\n",
        "# r2 verifica se o modelo ficou bem ajustado com os dados\n",
        "modelo_1.score(X, y)"
      ],
      "metadata": {
        "id": "OP0zhP6zr13K",
        "outputId": "23ab6874-cb5b-41c3-fb41-b2aed42d37c8",
        "colab": {
          "base_uri": "https://localhost:8080/"
        }
      },
      "execution_count": 5,
      "outputs": [
        {
          "output_type": "execute_result",
          "data": {
            "text/plain": [
              "0.7626015444308568"
            ]
          },
          "metadata": {},
          "execution_count": 5
        }
      ]
    },
    {
      "cell_type": "code",
      "source": [
        "# Apó o modelo treinado, podemos usar os dados para realizar previsões\n",
        "# Quanto a pessoa pode gastar com base na sua renda\n",
        "y_pred = modelo_1.predict(X_test)\n",
        "\n",
        "# Avaliar o valor da diferença entre o y real (teste) e o valor de y previsto, quanto menor o valor melhor siginfica que o modelo está acertando mais.\n",
        "# Esse valor sozino não traz tanto resutados, mas quando combinados com outras analises de RMSE para verificar qual teve o menor valor de RMSE.\n",
        "# mean_squared_error - Erro medio quadrado\n",
        "# sqrt - valor em reais\n",
        "rmse = np.sqrt(mean_squared_error(y_test, y_pred))\n",
        "rmse"
      ],
      "metadata": {
        "colab": {
          "base_uri": "https://localhost:8080/"
        },
        "id": "g6cvqrLLtahK",
        "outputId": "f4d75af7-8b77-4445-c041-e1eb939afdf6"
      },
      "execution_count": 6,
      "outputs": [
        {
          "output_type": "execute_result",
          "data": {
            "text/plain": [
              "43.439816006926726"
            ]
          },
          "metadata": {},
          "execution_count": 6
        }
      ]
    },
    {
      "cell_type": "code",
      "source": [
        "# sm.ols - função de regressão linear\n",
        "# Nessa função podemos trabalhar diretamente com as colunas\n",
        "\n",
        "# modelo regressoa statsmodels\n",
        "modelo_1_sm = sm.ols(formula = 'gastos_cartao ~ renda',\n",
        "                     data = train_data).fit()\n",
        "# modelo regressoa statsmodels\n",
        "modelo_1_sm.summary2()"
      ],
      "metadata": {
        "colab": {
          "base_uri": "https://localhost:8080/",
          "height": 322
        },
        "id": "fosJiwtdtdCw",
        "outputId": "a9765d9c-a82d-4b7c-b457-9fe141f211a8"
      },
      "execution_count": 7,
      "outputs": [
        {
          "output_type": "execute_result",
          "data": {
            "text/plain": [
              "<class 'statsmodels.iolib.summary2.Summary'>\n",
              "\"\"\"\n",
              "                 Results: Ordinary least squares\n",
              "==================================================================\n",
              "Model:              OLS              Adj. R-squared:     0.760    \n",
              "Dependent Variable: gastos_cartao    AIC:                1020.9293\n",
              "Date:               2023-05-27 19:41 BIC:                1026.1396\n",
              "No. Observations:   100              Log-Likelihood:     -508.46  \n",
              "Df Model:           1                F-statistic:        314.8    \n",
              "Df Residuals:       98               Prob (F-statistic): 2.30e-32 \n",
              "R-squared:          0.763            Scale:              1558.7   \n",
              "-------------------------------------------------------------------\n",
              "             Coef.    Std.Err.     t     P>|t|    [0.025    0.975] \n",
              "-------------------------------------------------------------------\n",
              "Intercept   428.1370    9.6464  44.3831  0.0000  408.9941  447.2800\n",
              "renda         0.0508    0.0029  17.7428  0.0000    0.0451    0.0565\n",
              "------------------------------------------------------------------\n",
              "Omnibus:              0.402         Durbin-Watson:           1.886\n",
              "Prob(Omnibus):        0.818         Jarque-Bera (JB):        0.514\n",
              "Skew:                 -0.139        Prob(JB):                0.773\n",
              "Kurtosis:             2.786         Condition No.:           8233 \n",
              "==================================================================\n",
              "* The condition number is large (8e+03). This might indicate\n",
              "strong multicollinearity or other numerical problems.\n",
              "\"\"\""
            ],
            "text/html": [
              "<table class=\"simpletable\">\n",
              "<tr>\n",
              "        <td>Model:</td>               <td>OLS</td>         <td>Adj. R-squared:</td>     <td>0.760</td>  \n",
              "</tr>\n",
              "<tr>\n",
              "  <td>Dependent Variable:</td>   <td>gastos_cartao</td>         <td>AIC:</td>         <td>1020.9293</td>\n",
              "</tr>\n",
              "<tr>\n",
              "         <td>Date:</td>        <td>2023-05-27 19:41</td>        <td>BIC:</td>         <td>1026.1396</td>\n",
              "</tr>\n",
              "<tr>\n",
              "   <td>No. Observations:</td>         <td>100</td>         <td>Log-Likelihood:</td>    <td>-508.46</td> \n",
              "</tr>\n",
              "<tr>\n",
              "       <td>Df Model:</td>              <td>1</td>           <td>F-statistic:</td>       <td>314.8</td>  \n",
              "</tr>\n",
              "<tr>\n",
              "     <td>Df Residuals:</td>           <td>98</td>        <td>Prob (F-statistic):</td> <td>2.30e-32</td> \n",
              "</tr>\n",
              "<tr>\n",
              "      <td>R-squared:</td>            <td>0.763</td>            <td>Scale:</td>         <td>1558.7</td>  \n",
              "</tr>\n",
              "</table>\n",
              "<table class=\"simpletable\">\n",
              "<tr>\n",
              "      <td></td>        <th>Coef.</th>  <th>Std.Err.</th>    <th>t</th>     <th>P>|t|</th>  <th>[0.025</th>   <th>0.975]</th> \n",
              "</tr>\n",
              "<tr>\n",
              "  <th>Intercept</th> <td>428.1370</td>  <td>9.6464</td>  <td>44.3831</td> <td>0.0000</td> <td>408.9941</td> <td>447.2800</td>\n",
              "</tr>\n",
              "<tr>\n",
              "  <th>renda</th>      <td>0.0508</td>   <td>0.0029</td>  <td>17.7428</td> <td>0.0000</td>  <td>0.0451</td>   <td>0.0565</td> \n",
              "</tr>\n",
              "</table>\n",
              "<table class=\"simpletable\">\n",
              "<tr>\n",
              "     <td>Omnibus:</td>     <td>0.402</td>  <td>Durbin-Watson:</td>   <td>1.886</td>\n",
              "</tr>\n",
              "<tr>\n",
              "  <td>Prob(Omnibus):</td>  <td>0.818</td> <td>Jarque-Bera (JB):</td> <td>0.514</td>\n",
              "</tr>\n",
              "<tr>\n",
              "       <td>Skew:</td>     <td>-0.139</td>     <td>Prob(JB):</td>     <td>0.773</td>\n",
              "</tr>\n",
              "<tr>\n",
              "     <td>Kurtosis:</td>    <td>2.786</td>  <td>Condition No.:</td>   <td>8233</td> \n",
              "</tr>\n",
              "</table>"
            ]
          },
          "metadata": {},
          "execution_count": 7
        }
      ]
    },
    {
      "cell_type": "code",
      "source": [
        "# Avaliando a amostra de teste\n",
        "# previsao\n",
        "y_pred = modelo_1_sm.predict(test_data)\n",
        " \n",
        "# rmse\n",
        "rmse = np.sqrt(mean_squared_error(test_data['gastos_cartao'], y_pred))\n",
        "rmse"
      ],
      "metadata": {
        "colab": {
          "base_uri": "https://localhost:8080/"
        },
        "id": "xnbuSvzNtfCE",
        "outputId": "51ee5452-9aaf-4b84-d443-c4d13ed98301"
      },
      "execution_count": 8,
      "outputs": [
        {
          "output_type": "execute_result",
          "data": {
            "text/plain": [
              "43.439816006926755"
            ]
          },
          "metadata": {},
          "execution_count": 8
        }
      ]
    },
    {
      "cell_type": "markdown",
      "source": [
        "Regressão Multipla"
      ],
      "metadata": {
        "id": "u9I9nUe1zqWM"
      }
    },
    {
      "cell_type": "code",
      "source": [
        "# Análise de regressão multipla com todos os campos da tabela\n",
        "# Antes precisamos mudar as colunas do tipo texto para variaveis do tipo dummies\n",
        "\n",
        "# Vai ser criada 3 novas colunas, colunas A B C, na nova coluna A o cliente que for segmentado com A recebe 1 e na coluna B o segmentado com B recebe 1 e os outros clientes e categorizados com 0\n",
        "# Só é feito isso com as 2 primeiras, porque na terceira recebe o valor da diferença entre as duas primeiras.\n",
        "# Como boa pratica de processamento precisamos dar drop em um desses grupos, nesse caso o grupo sera o A.\n",
        "\n",
        "# variavel segmento é categorica, para ajustar\n",
        "segmento_data_train = pd.get_dummies(data=train_data['segmento'], drop_first=True)\n",
        "segmento_data_test = pd.get_dummies(data=test_data['segmento'], drop_first=True)\n",
        "\n",
        "# dados transformados\n",
        "segmento_data_test.head()"
      ],
      "metadata": {
        "colab": {
          "base_uri": "https://localhost:8080/",
          "height": 206
        },
        "id": "aVYv8NUGyf2W",
        "outputId": "4994dded-cc6e-4abc-f26c-8c1536cd2d4c"
      },
      "execution_count": 12,
      "outputs": [
        {
          "output_type": "execute_result",
          "data": {
            "text/plain": [
              "     B  C\n",
              "135  0  0\n",
              "37   0  1\n",
              "141  0  0\n",
              "131  0  0\n",
              "137  0  0"
            ],
            "text/html": [
              "\n",
              "  <div id=\"df-6bc3a4ce-bb56-47ba-b31b-2bb5cb249684\">\n",
              "    <div class=\"colab-df-container\">\n",
              "      <div>\n",
              "<style scoped>\n",
              "    .dataframe tbody tr th:only-of-type {\n",
              "        vertical-align: middle;\n",
              "    }\n",
              "\n",
              "    .dataframe tbody tr th {\n",
              "        vertical-align: top;\n",
              "    }\n",
              "\n",
              "    .dataframe thead th {\n",
              "        text-align: right;\n",
              "    }\n",
              "</style>\n",
              "<table border=\"1\" class=\"dataframe\">\n",
              "  <thead>\n",
              "    <tr style=\"text-align: right;\">\n",
              "      <th></th>\n",
              "      <th>B</th>\n",
              "      <th>C</th>\n",
              "    </tr>\n",
              "  </thead>\n",
              "  <tbody>\n",
              "    <tr>\n",
              "      <th>135</th>\n",
              "      <td>0</td>\n",
              "      <td>0</td>\n",
              "    </tr>\n",
              "    <tr>\n",
              "      <th>37</th>\n",
              "      <td>0</td>\n",
              "      <td>1</td>\n",
              "    </tr>\n",
              "    <tr>\n",
              "      <th>141</th>\n",
              "      <td>0</td>\n",
              "      <td>0</td>\n",
              "    </tr>\n",
              "    <tr>\n",
              "      <th>131</th>\n",
              "      <td>0</td>\n",
              "      <td>0</td>\n",
              "    </tr>\n",
              "    <tr>\n",
              "      <th>137</th>\n",
              "      <td>0</td>\n",
              "      <td>0</td>\n",
              "    </tr>\n",
              "  </tbody>\n",
              "</table>\n",
              "</div>\n",
              "      <button class=\"colab-df-convert\" onclick=\"convertToInteractive('df-6bc3a4ce-bb56-47ba-b31b-2bb5cb249684')\"\n",
              "              title=\"Convert this dataframe to an interactive table.\"\n",
              "              style=\"display:none;\">\n",
              "        \n",
              "  <svg xmlns=\"http://www.w3.org/2000/svg\" height=\"24px\"viewBox=\"0 0 24 24\"\n",
              "       width=\"24px\">\n",
              "    <path d=\"M0 0h24v24H0V0z\" fill=\"none\"/>\n",
              "    <path d=\"M18.56 5.44l.94 2.06.94-2.06 2.06-.94-2.06-.94-.94-2.06-.94 2.06-2.06.94zm-11 1L8.5 8.5l.94-2.06 2.06-.94-2.06-.94L8.5 2.5l-.94 2.06-2.06.94zm10 10l.94 2.06.94-2.06 2.06-.94-2.06-.94-.94-2.06-.94 2.06-2.06.94z\"/><path d=\"M17.41 7.96l-1.37-1.37c-.4-.4-.92-.59-1.43-.59-.52 0-1.04.2-1.43.59L10.3 9.45l-7.72 7.72c-.78.78-.78 2.05 0 2.83L4 21.41c.39.39.9.59 1.41.59.51 0 1.02-.2 1.41-.59l7.78-7.78 2.81-2.81c.8-.78.8-2.07 0-2.86zM5.41 20L4 18.59l7.72-7.72 1.47 1.35L5.41 20z\"/>\n",
              "  </svg>\n",
              "      </button>\n",
              "      \n",
              "  <style>\n",
              "    .colab-df-container {\n",
              "      display:flex;\n",
              "      flex-wrap:wrap;\n",
              "      gap: 12px;\n",
              "    }\n",
              "\n",
              "    .colab-df-convert {\n",
              "      background-color: #E8F0FE;\n",
              "      border: none;\n",
              "      border-radius: 50%;\n",
              "      cursor: pointer;\n",
              "      display: none;\n",
              "      fill: #1967D2;\n",
              "      height: 32px;\n",
              "      padding: 0 0 0 0;\n",
              "      width: 32px;\n",
              "    }\n",
              "\n",
              "    .colab-df-convert:hover {\n",
              "      background-color: #E2EBFA;\n",
              "      box-shadow: 0px 1px 2px rgba(60, 64, 67, 0.3), 0px 1px 3px 1px rgba(60, 64, 67, 0.15);\n",
              "      fill: #174EA6;\n",
              "    }\n",
              "\n",
              "    [theme=dark] .colab-df-convert {\n",
              "      background-color: #3B4455;\n",
              "      fill: #D2E3FC;\n",
              "    }\n",
              "\n",
              "    [theme=dark] .colab-df-convert:hover {\n",
              "      background-color: #434B5C;\n",
              "      box-shadow: 0px 1px 3px 1px rgba(0, 0, 0, 0.15);\n",
              "      filter: drop-shadow(0px 1px 2px rgba(0, 0, 0, 0.3));\n",
              "      fill: #FFFFFF;\n",
              "    }\n",
              "  </style>\n",
              "\n",
              "      <script>\n",
              "        const buttonEl =\n",
              "          document.querySelector('#df-6bc3a4ce-bb56-47ba-b31b-2bb5cb249684 button.colab-df-convert');\n",
              "        buttonEl.style.display =\n",
              "          google.colab.kernel.accessAllowed ? 'block' : 'none';\n",
              "\n",
              "        async function convertToInteractive(key) {\n",
              "          const element = document.querySelector('#df-6bc3a4ce-bb56-47ba-b31b-2bb5cb249684');\n",
              "          const dataTable =\n",
              "            await google.colab.kernel.invokeFunction('convertToInteractive',\n",
              "                                                     [key], {});\n",
              "          if (!dataTable) return;\n",
              "\n",
              "          const docLinkHtml = 'Like what you see? Visit the ' +\n",
              "            '<a target=\"_blank\" href=https://colab.research.google.com/notebooks/data_table.ipynb>data table notebook</a>'\n",
              "            + ' to learn more about interactive tables.';\n",
              "          element.innerHTML = '';\n",
              "          dataTable['output_type'] = 'display_data';\n",
              "          await google.colab.output.renderOutput(dataTable, element);\n",
              "          const docLink = document.createElement('div');\n",
              "          docLink.innerHTML = docLinkHtml;\n",
              "          element.appendChild(docLink);\n",
              "        }\n",
              "      </script>\n",
              "    </div>\n",
              "  </div>\n",
              "  "
            ]
          },
          "metadata": {},
          "execution_count": 12
        }
      ]
    },
    {
      "cell_type": "code",
      "source": [
        "# Separando as variaveis de treino\n",
        "cols_reg = ['idade', 'renda', 'impostos']\n",
        "X = train_data[cols_reg]\n",
        "# Concatenando o valores de X de cima e segmento formado.\n",
        "X = pd.concat([X, segmento_data_train], axis=1)\n",
        "y = train_data['gastos_cartao']\n",
        " \n",
        "# Separando as variaveis de teste\n",
        "X_test = test_data[cols_reg]\n",
        "X_test = pd.concat([X_test, segmento_data_test], axis=1)\n",
        "y_test = test_data['gastos_cartao']"
      ],
      "metadata": {
        "id": "IsauYj4IyfwB"
      },
      "execution_count": 14,
      "outputs": []
    },
    {
      "cell_type": "code",
      "source": [
        "# treino\n",
        "modelo_2 = LinearRegression().fit(X, y)"
      ],
      "metadata": {
        "id": "6QgBqgajzzl8"
      },
      "execution_count": 15,
      "outputs": []
    },
    {
      "cell_type": "code",
      "source": [
        "# Avaliação da amostra de treino\n",
        "# coeficientes\n",
        "betas = np.append(modelo_2.intercept_, modelo_2.coef_)\n",
        "colunas = ['intercept']+X.columns.to_list()\n",
        "\n",
        "# Quanto mais a idede mais gasto\n",
        "# Imposto negativo quanto mais a pessoa paga imposto menos ela gasta no cartão\n",
        "# O grupo C gasta mais que o grupo A e B\n",
        "coeficientes = pd.DataFrame(betas, colunas, columns=['Coeficientes'])\n",
        "coeficientes\n"
      ],
      "metadata": {
        "id": "KO7qlPDbyfsZ",
        "outputId": "0e0412e6-51f1-4ad5-931a-49729a5bd8c9",
        "colab": {
          "base_uri": "https://localhost:8080/",
          "height": 238
        }
      },
      "execution_count": 17,
      "outputs": [
        {
          "output_type": "execute_result",
          "data": {
            "text/plain": [
              "           Coeficientes\n",
              "intercept    113.116933\n",
              "idade          4.708346\n",
              "renda          0.104301\n",
              "impostos      -0.102207\n",
              "B             37.276483\n",
              "C            109.457414"
            ],
            "text/html": [
              "\n",
              "  <div id=\"df-35e4dbc7-5769-4c35-be22-b4dd36bd4d2e\">\n",
              "    <div class=\"colab-df-container\">\n",
              "      <div>\n",
              "<style scoped>\n",
              "    .dataframe tbody tr th:only-of-type {\n",
              "        vertical-align: middle;\n",
              "    }\n",
              "\n",
              "    .dataframe tbody tr th {\n",
              "        vertical-align: top;\n",
              "    }\n",
              "\n",
              "    .dataframe thead th {\n",
              "        text-align: right;\n",
              "    }\n",
              "</style>\n",
              "<table border=\"1\" class=\"dataframe\">\n",
              "  <thead>\n",
              "    <tr style=\"text-align: right;\">\n",
              "      <th></th>\n",
              "      <th>Coeficientes</th>\n",
              "    </tr>\n",
              "  </thead>\n",
              "  <tbody>\n",
              "    <tr>\n",
              "      <th>intercept</th>\n",
              "      <td>113.116933</td>\n",
              "    </tr>\n",
              "    <tr>\n",
              "      <th>idade</th>\n",
              "      <td>4.708346</td>\n",
              "    </tr>\n",
              "    <tr>\n",
              "      <th>renda</th>\n",
              "      <td>0.104301</td>\n",
              "    </tr>\n",
              "    <tr>\n",
              "      <th>impostos</th>\n",
              "      <td>-0.102207</td>\n",
              "    </tr>\n",
              "    <tr>\n",
              "      <th>B</th>\n",
              "      <td>37.276483</td>\n",
              "    </tr>\n",
              "    <tr>\n",
              "      <th>C</th>\n",
              "      <td>109.457414</td>\n",
              "    </tr>\n",
              "  </tbody>\n",
              "</table>\n",
              "</div>\n",
              "      <button class=\"colab-df-convert\" onclick=\"convertToInteractive('df-35e4dbc7-5769-4c35-be22-b4dd36bd4d2e')\"\n",
              "              title=\"Convert this dataframe to an interactive table.\"\n",
              "              style=\"display:none;\">\n",
              "        \n",
              "  <svg xmlns=\"http://www.w3.org/2000/svg\" height=\"24px\"viewBox=\"0 0 24 24\"\n",
              "       width=\"24px\">\n",
              "    <path d=\"M0 0h24v24H0V0z\" fill=\"none\"/>\n",
              "    <path d=\"M18.56 5.44l.94 2.06.94-2.06 2.06-.94-2.06-.94-.94-2.06-.94 2.06-2.06.94zm-11 1L8.5 8.5l.94-2.06 2.06-.94-2.06-.94L8.5 2.5l-.94 2.06-2.06.94zm10 10l.94 2.06.94-2.06 2.06-.94-2.06-.94-.94-2.06-.94 2.06-2.06.94z\"/><path d=\"M17.41 7.96l-1.37-1.37c-.4-.4-.92-.59-1.43-.59-.52 0-1.04.2-1.43.59L10.3 9.45l-7.72 7.72c-.78.78-.78 2.05 0 2.83L4 21.41c.39.39.9.59 1.41.59.51 0 1.02-.2 1.41-.59l7.78-7.78 2.81-2.81c.8-.78.8-2.07 0-2.86zM5.41 20L4 18.59l7.72-7.72 1.47 1.35L5.41 20z\"/>\n",
              "  </svg>\n",
              "      </button>\n",
              "      \n",
              "  <style>\n",
              "    .colab-df-container {\n",
              "      display:flex;\n",
              "      flex-wrap:wrap;\n",
              "      gap: 12px;\n",
              "    }\n",
              "\n",
              "    .colab-df-convert {\n",
              "      background-color: #E8F0FE;\n",
              "      border: none;\n",
              "      border-radius: 50%;\n",
              "      cursor: pointer;\n",
              "      display: none;\n",
              "      fill: #1967D2;\n",
              "      height: 32px;\n",
              "      padding: 0 0 0 0;\n",
              "      width: 32px;\n",
              "    }\n",
              "\n",
              "    .colab-df-convert:hover {\n",
              "      background-color: #E2EBFA;\n",
              "      box-shadow: 0px 1px 2px rgba(60, 64, 67, 0.3), 0px 1px 3px 1px rgba(60, 64, 67, 0.15);\n",
              "      fill: #174EA6;\n",
              "    }\n",
              "\n",
              "    [theme=dark] .colab-df-convert {\n",
              "      background-color: #3B4455;\n",
              "      fill: #D2E3FC;\n",
              "    }\n",
              "\n",
              "    [theme=dark] .colab-df-convert:hover {\n",
              "      background-color: #434B5C;\n",
              "      box-shadow: 0px 1px 3px 1px rgba(0, 0, 0, 0.15);\n",
              "      filter: drop-shadow(0px 1px 2px rgba(0, 0, 0, 0.3));\n",
              "      fill: #FFFFFF;\n",
              "    }\n",
              "  </style>\n",
              "\n",
              "      <script>\n",
              "        const buttonEl =\n",
              "          document.querySelector('#df-35e4dbc7-5769-4c35-be22-b4dd36bd4d2e button.colab-df-convert');\n",
              "        buttonEl.style.display =\n",
              "          google.colab.kernel.accessAllowed ? 'block' : 'none';\n",
              "\n",
              "        async function convertToInteractive(key) {\n",
              "          const element = document.querySelector('#df-35e4dbc7-5769-4c35-be22-b4dd36bd4d2e');\n",
              "          const dataTable =\n",
              "            await google.colab.kernel.invokeFunction('convertToInteractive',\n",
              "                                                     [key], {});\n",
              "          if (!dataTable) return;\n",
              "\n",
              "          const docLinkHtml = 'Like what you see? Visit the ' +\n",
              "            '<a target=\"_blank\" href=https://colab.research.google.com/notebooks/data_table.ipynb>data table notebook</a>'\n",
              "            + ' to learn more about interactive tables.';\n",
              "          element.innerHTML = '';\n",
              "          dataTable['output_type'] = 'display_data';\n",
              "          await google.colab.output.renderOutput(dataTable, element);\n",
              "          const docLink = document.createElement('div');\n",
              "          docLink.innerHTML = docLinkHtml;\n",
              "          element.appendChild(docLink);\n",
              "        }\n",
              "      </script>\n",
              "    </div>\n",
              "  </div>\n",
              "  "
            ]
          },
          "metadata": {},
          "execution_count": 17
        }
      ]
    },
    {
      "cell_type": "code",
      "source": [
        "# Coeficiente de determinação\n",
        "r2 = modelo_2.score(X, y)\n",
        "r2"
      ],
      "metadata": {
        "id": "yapfqmis0zp0",
        "outputId": "97124d73-a53d-4afb-c4de-28400e149e3b",
        "colab": {
          "base_uri": "https://localhost:8080/"
        }
      },
      "execution_count": 18,
      "outputs": [
        {
          "output_type": "execute_result",
          "data": {
            "text/plain": [
              "0.8529140318990082"
            ]
          },
          "metadata": {},
          "execution_count": 18
        }
      ]
    },
    {
      "cell_type": "code",
      "source": [
        "# Amostra de teste\n",
        "# previsao\n",
        "y_pred = modelo_2.predict(X_test)\n",
        "# rmse\n",
        "rmse = np.sqrt(mean_squared_error(y_test, y_pred))\n",
        "rmse\n",
        "# O modelo está errando em torno de 29$ do verdadeiro gasto do cartão"
      ],
      "metadata": {
        "id": "SA-m9N6gyfkj",
        "outputId": "05bdf617-bb57-463f-f573-c8ae12498a0f",
        "colab": {
          "base_uri": "https://localhost:8080/"
        }
      },
      "execution_count": 19,
      "outputs": [
        {
          "output_type": "execute_result",
          "data": {
            "text/plain": [
              "29.142266174570555"
            ]
          },
          "metadata": {},
          "execution_count": 19
        }
      ]
    },
    {
      "cell_type": "code",
      "source": [
        "# Analisando com Statsmodels\n",
        "# C(segmento) - Transforma em Dumminus automaticamente\n",
        "modelo_2_sm = sm.ols(formula = 'gastos_cartao ~ idade + renda + impostos + C(segmento)',\n",
        "                     data = train_data).fit()\n",
        "# coeficientes\n",
        "modelo_2_sm.summary2()\n"
      ],
      "metadata": {
        "id": "XtzTTyn3yfhO",
        "outputId": "7a6d59ef-68fd-4fd3-caa9-741fac579ae2",
        "colab": {
          "base_uri": "https://localhost:8080/",
          "height": 407
        }
      },
      "execution_count": 21,
      "outputs": [
        {
          "output_type": "execute_result",
          "data": {
            "text/plain": [
              "<class 'statsmodels.iolib.summary2.Summary'>\n",
              "\"\"\"\n",
              "                 Results: Ordinary least squares\n",
              "==================================================================\n",
              "Model:               OLS              Adj. R-squared:     0.845   \n",
              "Dependent Variable:  gastos_cartao    AIC:                981.0570\n",
              "Date:                2023-05-27 20:14 BIC:                996.6880\n",
              "No. Observations:    100              Log-Likelihood:     -484.53 \n",
              "Df Model:            5                F-statistic:        109.0   \n",
              "Df Residuals:        94               Prob (F-statistic): 1.50e-37\n",
              "R-squared:           0.853            Scale:              1006.8  \n",
              "------------------------------------------------------------------\n",
              "                  Coef.   Std.Err.    t    P>|t|   [0.025  0.975] \n",
              "------------------------------------------------------------------\n",
              "Intercept        113.1169  43.6690  2.5903 0.0111 26.4112 199.8227\n",
              "C(segmento)[T.B]  37.2765  15.0123  2.4831 0.0148  7.4693  67.0837\n",
              "C(segmento)[T.C] 109.4574  43.9326  2.4915 0.0145 22.2283 196.6865\n",
              "idade              4.7083   1.4094  3.3406 0.0012  1.9099   7.5068\n",
              "renda              0.1043   0.0104 10.0376 0.0000  0.0837   0.1249\n",
              "impostos          -0.1022   0.0731 -1.3980 0.1654 -0.2474   0.0430\n",
              "------------------------------------------------------------------\n",
              "Omnibus:              4.590         Durbin-Watson:           1.926\n",
              "Prob(Omnibus):        0.101         Jarque-Bera (JB):        3.440\n",
              "Skew:                 -0.321        Prob(JB):                0.179\n",
              "Kurtosis:             2.357         Condition No.:           58036\n",
              "==================================================================\n",
              "* The condition number is large (6e+04). This might indicate\n",
              "strong multicollinearity or other numerical problems.\n",
              "\"\"\""
            ],
            "text/html": [
              "<table class=\"simpletable\">\n",
              "<tr>\n",
              "        <td>Model:</td>               <td>OLS</td>         <td>Adj. R-squared:</td>     <td>0.845</td> \n",
              "</tr>\n",
              "<tr>\n",
              "  <td>Dependent Variable:</td>   <td>gastos_cartao</td>         <td>AIC:</td>         <td>981.0570</td>\n",
              "</tr>\n",
              "<tr>\n",
              "         <td>Date:</td>        <td>2023-05-27 20:14</td>        <td>BIC:</td>         <td>996.6880</td>\n",
              "</tr>\n",
              "<tr>\n",
              "   <td>No. Observations:</td>         <td>100</td>         <td>Log-Likelihood:</td>    <td>-484.53</td>\n",
              "</tr>\n",
              "<tr>\n",
              "       <td>Df Model:</td>              <td>5</td>           <td>F-statistic:</td>       <td>109.0</td> \n",
              "</tr>\n",
              "<tr>\n",
              "     <td>Df Residuals:</td>           <td>94</td>        <td>Prob (F-statistic):</td> <td>1.50e-37</td>\n",
              "</tr>\n",
              "<tr>\n",
              "      <td>R-squared:</td>            <td>0.853</td>            <td>Scale:</td>         <td>1006.8</td> \n",
              "</tr>\n",
              "</table>\n",
              "<table class=\"simpletable\">\n",
              "<tr>\n",
              "          <td></td>           <th>Coef.</th>  <th>Std.Err.</th>    <th>t</th>     <th>P>|t|</th> <th>[0.025</th>   <th>0.975]</th> \n",
              "</tr>\n",
              "<tr>\n",
              "  <th>Intercept</th>        <td>113.1169</td>  <td>43.6690</td> <td>2.5903</td>  <td>0.0111</td> <td>26.4112</td> <td>199.8227</td>\n",
              "</tr>\n",
              "<tr>\n",
              "  <th>C(segmento)[T.B]</th>  <td>37.2765</td>  <td>15.0123</td> <td>2.4831</td>  <td>0.0148</td> <td>7.4693</td>   <td>67.0837</td>\n",
              "</tr>\n",
              "<tr>\n",
              "  <th>C(segmento)[T.C]</th> <td>109.4574</td>  <td>43.9326</td> <td>2.4915</td>  <td>0.0145</td> <td>22.2283</td> <td>196.6865</td>\n",
              "</tr>\n",
              "<tr>\n",
              "  <th>idade</th>             <td>4.7083</td>   <td>1.4094</td>  <td>3.3406</td>  <td>0.0012</td> <td>1.9099</td>   <td>7.5068</td> \n",
              "</tr>\n",
              "<tr>\n",
              "  <th>renda</th>             <td>0.1043</td>   <td>0.0104</td>  <td>10.0376</td> <td>0.0000</td> <td>0.0837</td>   <td>0.1249</td> \n",
              "</tr>\n",
              "<tr>\n",
              "  <th>impostos</th>          <td>-0.1022</td>  <td>0.0731</td>  <td>-1.3980</td> <td>0.1654</td> <td>-0.2474</td>  <td>0.0430</td> \n",
              "</tr>\n",
              "</table>\n",
              "<table class=\"simpletable\">\n",
              "<tr>\n",
              "     <td>Omnibus:</td>     <td>4.590</td>  <td>Durbin-Watson:</td>   <td>1.926</td>\n",
              "</tr>\n",
              "<tr>\n",
              "  <td>Prob(Omnibus):</td>  <td>0.101</td> <td>Jarque-Bera (JB):</td> <td>3.440</td>\n",
              "</tr>\n",
              "<tr>\n",
              "       <td>Skew:</td>     <td>-0.321</td>     <td>Prob(JB):</td>     <td>0.179</td>\n",
              "</tr>\n",
              "<tr>\n",
              "     <td>Kurtosis:</td>    <td>2.357</td>  <td>Condition No.:</td>   <td>58036</td>\n",
              "</tr>\n",
              "</table>"
            ]
          },
          "metadata": {},
          "execution_count": 21
        }
      ]
    },
    {
      "cell_type": "code",
      "source": [
        "# Avaliação da amostra de teste\n",
        "# previsao\n",
        "y_pred = modelo_2_sm.predict(test_data)\n",
        "# rmse\n",
        "rmse = np.sqrt(mean_squared_error(test_data['gastos_cartao'], y_pred))\n",
        "rmse# previsao\n",
        "y_pred = modelo_2_sm.predict(test_data)\n",
        "# rmse\n",
        "rmse = np.sqrt(mean_squared_error(test_data['gastos_cartao'], y_pred))\n",
        "rmse"
      ],
      "metadata": {
        "id": "VSGAWN4k2Z7J",
        "outputId": "625bca8b-dd60-48d6-9995-89f9f7fdc6d9",
        "colab": {
          "base_uri": "https://localhost:8080/"
        }
      },
      "execution_count": 22,
      "outputs": [
        {
          "output_type": "execute_result",
          "data": {
            "text/plain": [
              "29.142266174573628"
            ]
          },
          "metadata": {},
          "execution_count": 22
        }
      ]
    }
  ]
}