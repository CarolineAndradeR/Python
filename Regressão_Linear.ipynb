{
  "nbformat": 4,
  "nbformat_minor": 0,
  "metadata": {
    "colab": {
      "provenance": [],
      "mount_file_id": "1nJX630WgD4N_BqV4HB6d5E23uyDe4QFn",
      "authorship_tag": "ABX9TyNoHJxUH/k2vX2gB95DMeoX",
      "include_colab_link": true
    },
    "kernelspec": {
      "name": "python3",
      "display_name": "Python 3"
    },
    "language_info": {
      "name": "python"
    }
  },
  "cells": [
    {
      "cell_type": "markdown",
      "metadata": {
        "id": "view-in-github",
        "colab_type": "text"
      },
      "source": [
        "<a href=\"https://colab.research.google.com/github/CarolineAndradeR/Python/blob/master/Regress%C3%A3o_Linear.ipynb\" target=\"_parent\"><img src=\"https://colab.research.google.com/assets/colab-badge.svg\" alt=\"Open In Colab\"/></a>"
      ]
    },
    {
      "cell_type": "markdown",
      "source": [
        "# **Conceito**\n"
      ],
      "metadata": {
        "id": "f8xmijumUlT3"
      }
    },
    {
      "cell_type": "markdown",
      "source": [
        "\n",
        "**Definição** - O modelo de regressão busca ajustar a melhor reta em uma nuvem de pontos. Quando o objetivo for analisar/prever saídas utilizado variáveis quantitativas (renda, peso) a técnica de regressão deve ser utilizada. A regressão busca minimizar os erros.\n",
        "\n",
        "\n",
        "**Regressão Simples** - Uma variavel para projetar uma outra variavel.\n",
        "\n",
        "**Regressão Múltipla** - Divesas variaveis para projetar uma outra.\n",
        "\n",
        "---\n",
        "Termos utilizados.\n",
        "\n",
        "**Machine Learning**------**Estatística**---------------------------**Reconhecimento de Padrões**     \n",
        "Inputs-------------------------Variáveis Independetes----------------Features\n",
        "\n",
        "Feature Engineering---Transformação de Variáveis--------Feature engineering\n",
        "\n",
        "Outputs-----------------------Variáveis Dependentes---------------Outputs\n",
        "\n",
        "Amostra de Treino------Análise in-the-sample-----------------Amostra de Treino\n",
        "\n",
        "Amostra de Teste-------Análise out-of-sample-----------------Amostra de Treino\n",
        "\n",
        "---\n",
        "\n",
        "**Outlier -** Quando se tem um ponto totalmente fora do padrão.\n",
        "**RMSE -** É utilizada para validar modelos supervisionados com objetivos de regressão. Quanto maior o RMSE, maior o erro e com isso pior é o modelo."
      ],
      "metadata": {
        "id": "Cg2WmmgIgDu-"
      }
    },
    {
      "cell_type": "markdown",
      "source": [
        "# **Pratica**\n",
        "\n"
      ],
      "metadata": {
        "id": "pTfo5P3BfvkP"
      }
    },
    {
      "cell_type": "code",
      "source": [
        "# Modulos gerias\n",
        "import numpy as np\n",
        "import pandas as pd\n",
        "import seaborn as sns\n",
        "import matplotlib.pyplot as plt\n",
        "\n",
        "# Modulos de análise de regressão\n",
        "# Treinar o modelo e testar em outro conjunto de dados\n",
        "from sklearn.model_selection import train_test_split\n",
        "# Algoritimo de Regressão\n",
        "from sklearn.linear_model import LinearRegression\n",
        "import statsmodels.formula.api as sm\n",
        "# Medida para verificar se o modelo funcionou bem\n",
        "from sklearn.metrics import mean_squared_error"
      ],
      "metadata": {
        "id": "aqaVJnJUYBwS"
      },
      "execution_count": 1,
      "outputs": []
    },
    {
      "cell_type": "code",
      "source": [
        "#Iniciando montagem do arquivo com o drive\n",
        "from google.colab import drive\n",
        "drive.mount('/content/drive')\n",
        "\n",
        "import pandas as pd\n",
        "\n",
        "dados_gastos_cartao = '/content/drive/MyDrive/Asset_FIAP/base_gastos_cartao.csv'\n",
        "dados_gastos_cartao = pd.read_csv(dados_gastos_cartao)\n",
        "dados_gastos_cartao.head()"
      ],
      "metadata": {
        "id": "rs7tjWiWgqlL",
        "outputId": "340ef914-fe14-44d7-851a-824adb261744",
        "colab": {
          "base_uri": "https://localhost:8080/",
          "height": 223
        }
      },
      "execution_count": 2,
      "outputs": [
        {
          "output_type": "stream",
          "name": "stdout",
          "text": [
            "Mounted at /content/drive\n"
          ]
        },
        {
          "output_type": "execute_result",
          "data": {
            "text/plain": [
              "   gastos_cartao  idade  renda  impostos segmento\n",
              "0            510     35   1120        60        C\n",
              "1            490     30   1120        60        C\n",
              "2            470     32   1040        60        C\n",
              "3            460     31   1200        60        C\n",
              "4            500     36   1120        60        C"
            ],
            "text/html": [
              "\n",
              "  <div id=\"df-45ea26b0-07e7-49a6-907b-bdfb759b3dbd\">\n",
              "    <div class=\"colab-df-container\">\n",
              "      <div>\n",
              "<style scoped>\n",
              "    .dataframe tbody tr th:only-of-type {\n",
              "        vertical-align: middle;\n",
              "    }\n",
              "\n",
              "    .dataframe tbody tr th {\n",
              "        vertical-align: top;\n",
              "    }\n",
              "\n",
              "    .dataframe thead th {\n",
              "        text-align: right;\n",
              "    }\n",
              "</style>\n",
              "<table border=\"1\" class=\"dataframe\">\n",
              "  <thead>\n",
              "    <tr style=\"text-align: right;\">\n",
              "      <th></th>\n",
              "      <th>gastos_cartao</th>\n",
              "      <th>idade</th>\n",
              "      <th>renda</th>\n",
              "      <th>impostos</th>\n",
              "      <th>segmento</th>\n",
              "    </tr>\n",
              "  </thead>\n",
              "  <tbody>\n",
              "    <tr>\n",
              "      <th>0</th>\n",
              "      <td>510</td>\n",
              "      <td>35</td>\n",
              "      <td>1120</td>\n",
              "      <td>60</td>\n",
              "      <td>C</td>\n",
              "    </tr>\n",
              "    <tr>\n",
              "      <th>1</th>\n",
              "      <td>490</td>\n",
              "      <td>30</td>\n",
              "      <td>1120</td>\n",
              "      <td>60</td>\n",
              "      <td>C</td>\n",
              "    </tr>\n",
              "    <tr>\n",
              "      <th>2</th>\n",
              "      <td>470</td>\n",
              "      <td>32</td>\n",
              "      <td>1040</td>\n",
              "      <td>60</td>\n",
              "      <td>C</td>\n",
              "    </tr>\n",
              "    <tr>\n",
              "      <th>3</th>\n",
              "      <td>460</td>\n",
              "      <td>31</td>\n",
              "      <td>1200</td>\n",
              "      <td>60</td>\n",
              "      <td>C</td>\n",
              "    </tr>\n",
              "    <tr>\n",
              "      <th>4</th>\n",
              "      <td>500</td>\n",
              "      <td>36</td>\n",
              "      <td>1120</td>\n",
              "      <td>60</td>\n",
              "      <td>C</td>\n",
              "    </tr>\n",
              "  </tbody>\n",
              "</table>\n",
              "</div>\n",
              "      <button class=\"colab-df-convert\" onclick=\"convertToInteractive('df-45ea26b0-07e7-49a6-907b-bdfb759b3dbd')\"\n",
              "              title=\"Convert this dataframe to an interactive table.\"\n",
              "              style=\"display:none;\">\n",
              "        \n",
              "  <svg xmlns=\"http://www.w3.org/2000/svg\" height=\"24px\"viewBox=\"0 0 24 24\"\n",
              "       width=\"24px\">\n",
              "    <path d=\"M0 0h24v24H0V0z\" fill=\"none\"/>\n",
              "    <path d=\"M18.56 5.44l.94 2.06.94-2.06 2.06-.94-2.06-.94-.94-2.06-.94 2.06-2.06.94zm-11 1L8.5 8.5l.94-2.06 2.06-.94-2.06-.94L8.5 2.5l-.94 2.06-2.06.94zm10 10l.94 2.06.94-2.06 2.06-.94-2.06-.94-.94-2.06-.94 2.06-2.06.94z\"/><path d=\"M17.41 7.96l-1.37-1.37c-.4-.4-.92-.59-1.43-.59-.52 0-1.04.2-1.43.59L10.3 9.45l-7.72 7.72c-.78.78-.78 2.05 0 2.83L4 21.41c.39.39.9.59 1.41.59.51 0 1.02-.2 1.41-.59l7.78-7.78 2.81-2.81c.8-.78.8-2.07 0-2.86zM5.41 20L4 18.59l7.72-7.72 1.47 1.35L5.41 20z\"/>\n",
              "  </svg>\n",
              "      </button>\n",
              "      \n",
              "  <style>\n",
              "    .colab-df-container {\n",
              "      display:flex;\n",
              "      flex-wrap:wrap;\n",
              "      gap: 12px;\n",
              "    }\n",
              "\n",
              "    .colab-df-convert {\n",
              "      background-color: #E8F0FE;\n",
              "      border: none;\n",
              "      border-radius: 50%;\n",
              "      cursor: pointer;\n",
              "      display: none;\n",
              "      fill: #1967D2;\n",
              "      height: 32px;\n",
              "      padding: 0 0 0 0;\n",
              "      width: 32px;\n",
              "    }\n",
              "\n",
              "    .colab-df-convert:hover {\n",
              "      background-color: #E2EBFA;\n",
              "      box-shadow: 0px 1px 2px rgba(60, 64, 67, 0.3), 0px 1px 3px 1px rgba(60, 64, 67, 0.15);\n",
              "      fill: #174EA6;\n",
              "    }\n",
              "\n",
              "    [theme=dark] .colab-df-convert {\n",
              "      background-color: #3B4455;\n",
              "      fill: #D2E3FC;\n",
              "    }\n",
              "\n",
              "    [theme=dark] .colab-df-convert:hover {\n",
              "      background-color: #434B5C;\n",
              "      box-shadow: 0px 1px 3px 1px rgba(0, 0, 0, 0.15);\n",
              "      filter: drop-shadow(0px 1px 2px rgba(0, 0, 0, 0.3));\n",
              "      fill: #FFFFFF;\n",
              "    }\n",
              "  </style>\n",
              "\n",
              "      <script>\n",
              "        const buttonEl =\n",
              "          document.querySelector('#df-45ea26b0-07e7-49a6-907b-bdfb759b3dbd button.colab-df-convert');\n",
              "        buttonEl.style.display =\n",
              "          google.colab.kernel.accessAllowed ? 'block' : 'none';\n",
              "\n",
              "        async function convertToInteractive(key) {\n",
              "          const element = document.querySelector('#df-45ea26b0-07e7-49a6-907b-bdfb759b3dbd');\n",
              "          const dataTable =\n",
              "            await google.colab.kernel.invokeFunction('convertToInteractive',\n",
              "                                                     [key], {});\n",
              "          if (!dataTable) return;\n",
              "\n",
              "          const docLinkHtml = 'Like what you see? Visit the ' +\n",
              "            '<a target=\"_blank\" href=https://colab.research.google.com/notebooks/data_table.ipynb>data table notebook</a>'\n",
              "            + ' to learn more about interactive tables.';\n",
              "          element.innerHTML = '';\n",
              "          dataTable['output_type'] = 'display_data';\n",
              "          await google.colab.output.renderOutput(dataTable, element);\n",
              "          const docLink = document.createElement('div');\n",
              "          docLink.innerHTML = docLinkHtml;\n",
              "          element.appendChild(docLink);\n",
              "        }\n",
              "      </script>\n",
              "    </div>\n",
              "  </div>\n",
              "  "
            ]
          },
          "metadata": {},
          "execution_count": 2
        }
      ]
    },
    {
      "cell_type": "code",
      "source": [
        "# Dados treino e teste\n",
        "# Test_size - valor da divsão para teste\n",
        "# 34251 - Manter a divisão dos valores\n",
        "train_data, test_data = train_test_split(dados_gastos_cartao,\n",
        "                                         test_size = 0.33,\n",
        "                                         random_state = 34251)\n",
        "# numero de linhas para cada dataset\n",
        "dados_gastos_cartao.shape[0], train_data.shape[0], test_data.shape[0]"
      ],
      "metadata": {
        "colab": {
          "base_uri": "https://localhost:8080/"
        },
        "id": "gWOrOLuzqOu1",
        "outputId": "92c205fd-eb05-428f-987e-300108bc18f3"
      },
      "execution_count": 3,
      "outputs": [
        {
          "output_type": "execute_result",
          "data": {
            "text/plain": [
              "(150, 100, 50)"
            ]
          },
          "metadata": {},
          "execution_count": 3
        }
      ]
    },
    {
      "cell_type": "code",
      "source": [
        "# Treino\n",
        "# Uma única variavel de renda (regressão linear simples)\n",
        "# Verificar se os gastos de cartão é explicado pela renda da pessoa\n",
        "X = train_data['renda'].values.reshape(-1, 1)\n",
        "y = train_data['gastos_cartao']\n",
        "\n",
        "# Teste\n",
        "X_test = test_data['renda'].values.reshape(-1, 1)\n",
        "y_test = test_data['gastos_cartao']\n",
        "\n",
        "# Treinar o modelo\n",
        "modelo_1 = LinearRegression().fit(X, y)"
      ],
      "metadata": {
        "id": "A_-k_QnmqdB9"
      },
      "execution_count": 4,
      "outputs": []
    },
    {
      "cell_type": "code",
      "source": [
        "# Coeficiente e o valor de beta, um valor medio e o valor do coeficiente \n",
        "modelo_1.intercept_, modelo_1.coef_[0]\n",
        "# r2 verifica se o modelo ficou bem ajustado com os dados\n",
        "modelo_1.score(X, y)"
      ],
      "metadata": {
        "id": "OP0zhP6zr13K",
        "outputId": "dd193e06-3439-4832-e3d4-715e7a7750b7",
        "colab": {
          "base_uri": "https://localhost:8080/"
        }
      },
      "execution_count": 5,
      "outputs": [
        {
          "output_type": "execute_result",
          "data": {
            "text/plain": [
              "0.7626015444308568"
            ]
          },
          "metadata": {},
          "execution_count": 5
        }
      ]
    },
    {
      "cell_type": "code",
      "source": [
        "# Apó o modelo treinado, podemos usar os dados para realizar previsões\n",
        "# Quanto a pessoa pode gastar com base na sua renda\n",
        "y_pred = modelo_1.predict(X_test)\n",
        "\n",
        "# Avaliar o valor da diferença entre o y real (teste) e o valor de y previsto, quanto menor o valor melhor siginfica que o modelo está acertando mais.\n",
        "# Esse valor sozino não traz tanto resutados, mas quando combinados com outras analises de RMSE para verificar qual teve o menor valor de RMSE.\n",
        "# mean_squared_error - Erro medio quadrado\n",
        "# sqrt - valor em reais\n",
        "rmse = np.sqrt(mean_squared_error(y_test, y_pred))\n",
        "rmse"
      ],
      "metadata": {
        "colab": {
          "base_uri": "https://localhost:8080/"
        },
        "id": "g6cvqrLLtahK",
        "outputId": "4b421cfe-d6e1-49ba-b030-4c37a4d3a16e"
      },
      "execution_count": 6,
      "outputs": [
        {
          "output_type": "execute_result",
          "data": {
            "text/plain": [
              "43.439816006926726"
            ]
          },
          "metadata": {},
          "execution_count": 6
        }
      ]
    },
    {
      "cell_type": "code",
      "source": [
        "# sm.ols - função de regressão linear\n",
        "# Nessa função podemos trabalhar diretamente com as colunas\n",
        "\n",
        "# modelo regressoa statsmodels\n",
        "modelo_1_sm = sm.ols(formula = 'gastos_cartao ~ renda',\n",
        "                     data = train_data).fit()\n",
        "# modelo regressoa statsmodels\n",
        "modelo_1_sm.summary2()"
      ],
      "metadata": {
        "colab": {
          "base_uri": "https://localhost:8080/",
          "height": 315
        },
        "id": "fosJiwtdtdCw",
        "outputId": "3a1c654e-43e3-4926-cc6f-832121fb1f41"
      },
      "execution_count": 7,
      "outputs": [
        {
          "output_type": "execute_result",
          "data": {
            "text/plain": [
              "<class 'statsmodels.iolib.summary2.Summary'>\n",
              "\"\"\"\n",
              "                 Results: Ordinary least squares\n",
              "==================================================================\n",
              "Model:              OLS              Adj. R-squared:     0.760    \n",
              "Dependent Variable: gastos_cartao    AIC:                1020.9293\n",
              "Date:               2023-05-25 21:06 BIC:                1026.1396\n",
              "No. Observations:   100              Log-Likelihood:     -508.46  \n",
              "Df Model:           1                F-statistic:        314.8    \n",
              "Df Residuals:       98               Prob (F-statistic): 2.30e-32 \n",
              "R-squared:          0.763            Scale:              1558.7   \n",
              "-------------------------------------------------------------------\n",
              "             Coef.    Std.Err.     t     P>|t|    [0.025    0.975] \n",
              "-------------------------------------------------------------------\n",
              "Intercept   428.1370    9.6464  44.3831  0.0000  408.9941  447.2800\n",
              "renda         0.0508    0.0029  17.7428  0.0000    0.0451    0.0565\n",
              "------------------------------------------------------------------\n",
              "Omnibus:              0.402         Durbin-Watson:           1.886\n",
              "Prob(Omnibus):        0.818         Jarque-Bera (JB):        0.514\n",
              "Skew:                 -0.139        Prob(JB):                0.773\n",
              "Kurtosis:             2.786         Condition No.:           8233 \n",
              "==================================================================\n",
              "* The condition number is large (8e+03). This might indicate\n",
              "strong multicollinearity or other numerical problems.\n",
              "\"\"\""
            ],
            "text/html": [
              "<table class=\"simpletable\">\n",
              "<tr>\n",
              "        <td>Model:</td>               <td>OLS</td>         <td>Adj. R-squared:</td>     <td>0.760</td>  \n",
              "</tr>\n",
              "<tr>\n",
              "  <td>Dependent Variable:</td>   <td>gastos_cartao</td>         <td>AIC:</td>         <td>1020.9293</td>\n",
              "</tr>\n",
              "<tr>\n",
              "         <td>Date:</td>        <td>2023-05-25 21:06</td>        <td>BIC:</td>         <td>1026.1396</td>\n",
              "</tr>\n",
              "<tr>\n",
              "   <td>No. Observations:</td>         <td>100</td>         <td>Log-Likelihood:</td>    <td>-508.46</td> \n",
              "</tr>\n",
              "<tr>\n",
              "       <td>Df Model:</td>              <td>1</td>           <td>F-statistic:</td>       <td>314.8</td>  \n",
              "</tr>\n",
              "<tr>\n",
              "     <td>Df Residuals:</td>           <td>98</td>        <td>Prob (F-statistic):</td> <td>2.30e-32</td> \n",
              "</tr>\n",
              "<tr>\n",
              "      <td>R-squared:</td>            <td>0.763</td>            <td>Scale:</td>         <td>1558.7</td>  \n",
              "</tr>\n",
              "</table>\n",
              "<table class=\"simpletable\">\n",
              "<tr>\n",
              "      <td></td>        <th>Coef.</th>  <th>Std.Err.</th>    <th>t</th>     <th>P>|t|</th>  <th>[0.025</th>   <th>0.975]</th> \n",
              "</tr>\n",
              "<tr>\n",
              "  <th>Intercept</th> <td>428.1370</td>  <td>9.6464</td>  <td>44.3831</td> <td>0.0000</td> <td>408.9941</td> <td>447.2800</td>\n",
              "</tr>\n",
              "<tr>\n",
              "  <th>renda</th>      <td>0.0508</td>   <td>0.0029</td>  <td>17.7428</td> <td>0.0000</td>  <td>0.0451</td>   <td>0.0565</td> \n",
              "</tr>\n",
              "</table>\n",
              "<table class=\"simpletable\">\n",
              "<tr>\n",
              "     <td>Omnibus:</td>     <td>0.402</td>  <td>Durbin-Watson:</td>   <td>1.886</td>\n",
              "</tr>\n",
              "<tr>\n",
              "  <td>Prob(Omnibus):</td>  <td>0.818</td> <td>Jarque-Bera (JB):</td> <td>0.514</td>\n",
              "</tr>\n",
              "<tr>\n",
              "       <td>Skew:</td>     <td>-0.139</td>     <td>Prob(JB):</td>     <td>0.773</td>\n",
              "</tr>\n",
              "<tr>\n",
              "     <td>Kurtosis:</td>    <td>2.786</td>  <td>Condition No.:</td>   <td>8233</td> \n",
              "</tr>\n",
              "</table>"
            ]
          },
          "metadata": {},
          "execution_count": 7
        }
      ]
    },
    {
      "cell_type": "code",
      "source": [
        "# Avaliando a amostra de teste\n",
        "# previsao\n",
        "y_pred = modelo_1_sm.predict(test_data)\n",
        " \n",
        "# rmse\n",
        "rmse = np.sqrt(mean_squared_error(test_data['gastos_cartao'], y_pred))\n",
        "rmse"
      ],
      "metadata": {
        "colab": {
          "base_uri": "https://localhost:8080/"
        },
        "id": "xnbuSvzNtfCE",
        "outputId": "65c41e0e-c091-4958-abe1-3f768420b126"
      },
      "execution_count": 11,
      "outputs": [
        {
          "output_type": "execute_result",
          "data": {
            "text/plain": [
              "43.439816006926755"
            ]
          },
          "metadata": {},
          "execution_count": 11
        }
      ]
    },
    {
      "cell_type": "markdown",
      "source": [
        "Regressão Multipla"
      ],
      "metadata": {
        "id": "u9I9nUe1zqWM"
      }
    },
    {
      "cell_type": "code",
      "source": [
        "# \n",
        "mean_squared_error"
      ],
      "metadata": {
        "id": "aVYv8NUGyf2W",
        "outputId": "713a0688-4a9d-4e00-e86f-dabe29baf98f",
        "colab": {
          "base_uri": "https://localhost:8080/"
        }
      },
      "execution_count": 12,
      "outputs": [
        {
          "output_type": "execute_result",
          "data": {
            "text/plain": [
              "<function sklearn.metrics._regression.mean_squared_error(y_true, y_pred, *, sample_weight=None, multioutput='uniform_average', squared=True)>"
            ]
          },
          "metadata": {},
          "execution_count": 12
        }
      ]
    },
    {
      "cell_type": "code",
      "source": [
        "sqrt"
      ],
      "metadata": {
        "id": "mHZuQHTfyfzD"
      },
      "execution_count": null,
      "outputs": []
    },
    {
      "cell_type": "code",
      "source": [
        "ols"
      ],
      "metadata": {
        "id": "IsauYj4IyfwB"
      },
      "execution_count": null,
      "outputs": []
    },
    {
      "cell_type": "code",
      "source": [
        "sm"
      ],
      "metadata": {
        "id": "KO7qlPDbyfsZ"
      },
      "execution_count": null,
      "outputs": []
    },
    {
      "cell_type": "code",
      "source": [
        "modelo_1_sm"
      ],
      "metadata": {
        "id": "SA-m9N6gyfkj"
      },
      "execution_count": null,
      "outputs": []
    },
    {
      "cell_type": "code",
      "source": [
        "# variavel segmento é categorica, precisamos ajustar\n",
        "segmento_data_train = pd.get_dummies(data=train_data['segmento'], drop_first=True)\n",
        "segmento_data_test = pd.get_dummies(data=test_data['segmento'], drop_first=True)\n",
        "# dados transformados\n",
        "segmento_data_test.head()"
      ],
      "metadata": {
        "id": "XtzTTyn3yfhO"
      },
      "execution_count": null,
      "outputs": []
    }
  ]
}