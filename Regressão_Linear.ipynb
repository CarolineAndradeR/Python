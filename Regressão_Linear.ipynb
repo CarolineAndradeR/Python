{
  "nbformat": 4,
  "nbformat_minor": 0,
  "metadata": {
    "colab": {
      "provenance": [],
      "mount_file_id": "1nJX630WgD4N_BqV4HB6d5E23uyDe4QFn",
      "authorship_tag": "ABX9TyNTBWmU7BUA1f+ubtyjnz34",
      "include_colab_link": true
    },
    "kernelspec": {
      "name": "python3",
      "display_name": "Python 3"
    },
    "language_info": {
      "name": "python"
    }
  },
  "cells": [
    {
      "cell_type": "markdown",
      "metadata": {
        "id": "view-in-github",
        "colab_type": "text"
      },
      "source": [
        "<a href=\"https://colab.research.google.com/github/CarolineAndradeR/Python/blob/master/Regress%C3%A3o_Linear.ipynb\" target=\"_parent\"><img src=\"https://colab.research.google.com/assets/colab-badge.svg\" alt=\"Open In Colab\"/></a>"
      ]
    },
    {
      "cell_type": "markdown",
      "source": [
        "# **Conceito**\n"
      ],
      "metadata": {
        "id": "f8xmijumUlT3"
      }
    },
    {
      "cell_type": "markdown",
      "source": [
        "\n",
        "**Definição** - O modelo de regressão busca ajustar a melhor reta em uma nuvem de pontos. Quando o objetivo for analisar/prever saídas utilizado variáveis quantitativas (renda, peso) a técnica de regressão deve ser utilizada. A regressão busca minimizar os erros.\n",
        "\n",
        "\n",
        "**Regressão Simples** - Uma variavel para projetar uma outra variavel.\n",
        "\n",
        "**Regressão Múltipla** - Divesas variaveis para projetar uma outra.\n",
        "\n",
        "---\n",
        "Termos utilizados.\n",
        "\n",
        "**Machine Learning**------**Estatística**---------------------------**Reconhecimento de Padrões**     \n",
        "Inputs-------------------------Variáveis Independetes----------------Features\n",
        "\n",
        "Feature Engineering---Transformação de Variáveis--------Feature engineering\n",
        "\n",
        "Outputs-----------------------Variáveis Dependentes---------------Outputs\n",
        "\n",
        "Amostra de Treino------Análise in-the-sample-----------------Amostra de Treino\n",
        "\n",
        "Amostra de Teste-------Análise out-of-sample-----------------Amostra de Treino\n",
        "\n",
        "---\n",
        "\n",
        "**Outlier -** Quando se tem um ponto totalmente fora do padrão.\n",
        "**RMSE -** É utilizada para validar modelos supervisionados com objetivos de regressão. Quanto maior o RMSE, maior o erro e com isso pior é o modelo."
      ],
      "metadata": {
        "id": "Cg2WmmgIgDu-"
      }
    },
    {
      "cell_type": "markdown",
      "source": [
        "# **Pratica**\n",
        "\n"
      ],
      "metadata": {
        "id": "pTfo5P3BfvkP"
      }
    },
    {
      "cell_type": "code",
      "source": [
        "# Modulos gerias\n",
        "import numpy as np\n",
        "import pandas as pd\n",
        "import seaborn as sns\n",
        "import matplotlib.pyplot as plt\n",
        "\n",
        "# Modulos de análise de regressão\n",
        "# Treinar o modelo e testar em outro conjunto de dados\n",
        "from sklearn.model_selection import train_test_split\n",
        "# Algoritimo de Regressão\n",
        "from sklearn.linear_model import LinearRegression\n",
        "import statsmodels.formula.api as sm\n",
        "# Medida para verificar se o modelo funcionou bem\n",
        "from sklearn.metrics import mean_squared_error"
      ],
      "metadata": {
        "id": "aqaVJnJUYBwS"
      },
      "execution_count": 1,
      "outputs": []
    },
    {
      "cell_type": "code",
      "source": [
        "#Iniciando montagem do arquivo com o drive\n",
        "from google.colab import drive\n",
        "drive.mount('/content/drive')\n",
        "\n",
        "import pandas as pd\n",
        "\n",
        "dados_gastos_cartao = '/content/drive/MyDrive/Asset_FIAP/base_gastos_cartao.csv'\n",
        "dados_gastos_cartao = pd.read_csv(dados_gastos_cartao)\n",
        "dados_gastos_cartao.head()"
      ],
      "metadata": {
        "id": "rs7tjWiWgqlL",
        "outputId": "13b7f390-5ac6-4ac8-d41e-7708295da5a7",
        "colab": {
          "base_uri": "https://localhost:8080/",
          "height": 223
        }
      },
      "execution_count": 2,
      "outputs": [
        {
          "output_type": "stream",
          "name": "stdout",
          "text": [
            "Mounted at /content/drive\n"
          ]
        },
        {
          "output_type": "execute_result",
          "data": {
            "text/plain": [
              "   gastos_cartao  idade  renda  impostos segmento\n",
              "0            510     35   1120        60        C\n",
              "1            490     30   1120        60        C\n",
              "2            470     32   1040        60        C\n",
              "3            460     31   1200        60        C\n",
              "4            500     36   1120        60        C"
            ],
            "text/html": [
              "\n",
              "  <div id=\"df-7ef4974a-8c1a-431a-b3bc-ff4456d135dc\">\n",
              "    <div class=\"colab-df-container\">\n",
              "      <div>\n",
              "<style scoped>\n",
              "    .dataframe tbody tr th:only-of-type {\n",
              "        vertical-align: middle;\n",
              "    }\n",
              "\n",
              "    .dataframe tbody tr th {\n",
              "        vertical-align: top;\n",
              "    }\n",
              "\n",
              "    .dataframe thead th {\n",
              "        text-align: right;\n",
              "    }\n",
              "</style>\n",
              "<table border=\"1\" class=\"dataframe\">\n",
              "  <thead>\n",
              "    <tr style=\"text-align: right;\">\n",
              "      <th></th>\n",
              "      <th>gastos_cartao</th>\n",
              "      <th>idade</th>\n",
              "      <th>renda</th>\n",
              "      <th>impostos</th>\n",
              "      <th>segmento</th>\n",
              "    </tr>\n",
              "  </thead>\n",
              "  <tbody>\n",
              "    <tr>\n",
              "      <th>0</th>\n",
              "      <td>510</td>\n",
              "      <td>35</td>\n",
              "      <td>1120</td>\n",
              "      <td>60</td>\n",
              "      <td>C</td>\n",
              "    </tr>\n",
              "    <tr>\n",
              "      <th>1</th>\n",
              "      <td>490</td>\n",
              "      <td>30</td>\n",
              "      <td>1120</td>\n",
              "      <td>60</td>\n",
              "      <td>C</td>\n",
              "    </tr>\n",
              "    <tr>\n",
              "      <th>2</th>\n",
              "      <td>470</td>\n",
              "      <td>32</td>\n",
              "      <td>1040</td>\n",
              "      <td>60</td>\n",
              "      <td>C</td>\n",
              "    </tr>\n",
              "    <tr>\n",
              "      <th>3</th>\n",
              "      <td>460</td>\n",
              "      <td>31</td>\n",
              "      <td>1200</td>\n",
              "      <td>60</td>\n",
              "      <td>C</td>\n",
              "    </tr>\n",
              "    <tr>\n",
              "      <th>4</th>\n",
              "      <td>500</td>\n",
              "      <td>36</td>\n",
              "      <td>1120</td>\n",
              "      <td>60</td>\n",
              "      <td>C</td>\n",
              "    </tr>\n",
              "  </tbody>\n",
              "</table>\n",
              "</div>\n",
              "      <button class=\"colab-df-convert\" onclick=\"convertToInteractive('df-7ef4974a-8c1a-431a-b3bc-ff4456d135dc')\"\n",
              "              title=\"Convert this dataframe to an interactive table.\"\n",
              "              style=\"display:none;\">\n",
              "        \n",
              "  <svg xmlns=\"http://www.w3.org/2000/svg\" height=\"24px\"viewBox=\"0 0 24 24\"\n",
              "       width=\"24px\">\n",
              "    <path d=\"M0 0h24v24H0V0z\" fill=\"none\"/>\n",
              "    <path d=\"M18.56 5.44l.94 2.06.94-2.06 2.06-.94-2.06-.94-.94-2.06-.94 2.06-2.06.94zm-11 1L8.5 8.5l.94-2.06 2.06-.94-2.06-.94L8.5 2.5l-.94 2.06-2.06.94zm10 10l.94 2.06.94-2.06 2.06-.94-2.06-.94-.94-2.06-.94 2.06-2.06.94z\"/><path d=\"M17.41 7.96l-1.37-1.37c-.4-.4-.92-.59-1.43-.59-.52 0-1.04.2-1.43.59L10.3 9.45l-7.72 7.72c-.78.78-.78 2.05 0 2.83L4 21.41c.39.39.9.59 1.41.59.51 0 1.02-.2 1.41-.59l7.78-7.78 2.81-2.81c.8-.78.8-2.07 0-2.86zM5.41 20L4 18.59l7.72-7.72 1.47 1.35L5.41 20z\"/>\n",
              "  </svg>\n",
              "      </button>\n",
              "      \n",
              "  <style>\n",
              "    .colab-df-container {\n",
              "      display:flex;\n",
              "      flex-wrap:wrap;\n",
              "      gap: 12px;\n",
              "    }\n",
              "\n",
              "    .colab-df-convert {\n",
              "      background-color: #E8F0FE;\n",
              "      border: none;\n",
              "      border-radius: 50%;\n",
              "      cursor: pointer;\n",
              "      display: none;\n",
              "      fill: #1967D2;\n",
              "      height: 32px;\n",
              "      padding: 0 0 0 0;\n",
              "      width: 32px;\n",
              "    }\n",
              "\n",
              "    .colab-df-convert:hover {\n",
              "      background-color: #E2EBFA;\n",
              "      box-shadow: 0px 1px 2px rgba(60, 64, 67, 0.3), 0px 1px 3px 1px rgba(60, 64, 67, 0.15);\n",
              "      fill: #174EA6;\n",
              "    }\n",
              "\n",
              "    [theme=dark] .colab-df-convert {\n",
              "      background-color: #3B4455;\n",
              "      fill: #D2E3FC;\n",
              "    }\n",
              "\n",
              "    [theme=dark] .colab-df-convert:hover {\n",
              "      background-color: #434B5C;\n",
              "      box-shadow: 0px 1px 3px 1px rgba(0, 0, 0, 0.15);\n",
              "      filter: drop-shadow(0px 1px 2px rgba(0, 0, 0, 0.3));\n",
              "      fill: #FFFFFF;\n",
              "    }\n",
              "  </style>\n",
              "\n",
              "      <script>\n",
              "        const buttonEl =\n",
              "          document.querySelector('#df-7ef4974a-8c1a-431a-b3bc-ff4456d135dc button.colab-df-convert');\n",
              "        buttonEl.style.display =\n",
              "          google.colab.kernel.accessAllowed ? 'block' : 'none';\n",
              "\n",
              "        async function convertToInteractive(key) {\n",
              "          const element = document.querySelector('#df-7ef4974a-8c1a-431a-b3bc-ff4456d135dc');\n",
              "          const dataTable =\n",
              "            await google.colab.kernel.invokeFunction('convertToInteractive',\n",
              "                                                     [key], {});\n",
              "          if (!dataTable) return;\n",
              "\n",
              "          const docLinkHtml = 'Like what you see? Visit the ' +\n",
              "            '<a target=\"_blank\" href=https://colab.research.google.com/notebooks/data_table.ipynb>data table notebook</a>'\n",
              "            + ' to learn more about interactive tables.';\n",
              "          element.innerHTML = '';\n",
              "          dataTable['output_type'] = 'display_data';\n",
              "          await google.colab.output.renderOutput(dataTable, element);\n",
              "          const docLink = document.createElement('div');\n",
              "          docLink.innerHTML = docLinkHtml;\n",
              "          element.appendChild(docLink);\n",
              "        }\n",
              "      </script>\n",
              "    </div>\n",
              "  </div>\n",
              "  "
            ]
          },
          "metadata": {},
          "execution_count": 2
        }
      ]
    },
    {
      "cell_type": "code",
      "source": [
        "# Dados treino e teste\n",
        "# Test_size - valor da divsão para teste\n",
        "# 34251 - Manter a divisão dos valores\n",
        "train_data, test_data = train_test_split(dados_gastos_cartao,\n",
        "                                         test_size = 0.33,\n",
        "                                         random_state = 34251)\n",
        "# numero de linhas para cada dataset\n",
        "dados_gastos_cartao.shape[0], train_data.shape[0], test_data.shape[0]"
      ],
      "metadata": {
        "colab": {
          "base_uri": "https://localhost:8080/"
        },
        "id": "gWOrOLuzqOu1",
        "outputId": "6791855a-b5be-4a6a-dc00-7e1fafc880bf"
      },
      "execution_count": 3,
      "outputs": [
        {
          "output_type": "execute_result",
          "data": {
            "text/plain": [
              "(150, 100, 50)"
            ]
          },
          "metadata": {},
          "execution_count": 3
        }
      ]
    },
    {
      "cell_type": "code",
      "source": [
        "# Treino\n",
        "# Uma única variavel de renda (regressão linear simples)\n",
        "# Verificar se os gastos de cartão é explicado pela renda da pessoa\n",
        "X = train_data['renda'].values.reshape(-1, 1)\n",
        "y = train_data['gastos_cartao']\n",
        "\n",
        "# Teste\n",
        "X_test = test_data['renda'].values.reshape(-1, 1)\n",
        "y_test = test_data['gastos_cartao']\n",
        "\n",
        "# Treinar o modelo\n",
        "modelo_1 = LinearRegression().fit(X, y)"
      ],
      "metadata": {
        "id": "A_-k_QnmqdB9"
      },
      "execution_count": 4,
      "outputs": []
    },
    {
      "cell_type": "code",
      "source": [
        "# Coeficiente e o valor de beta, um valor medio e o valor do coeficiente \n",
        "modelo_1.intercept_, modelo_1.coef_[0]\n",
        "# r2 verifica se o modelo ficou bem ajustado com os dados\n",
        "modelo_1.score(X, y)"
      ],
      "metadata": {
        "id": "OP0zhP6zr13K",
        "outputId": "97b2a0b4-3b21-40ff-97de-7fab6bdeb6d9",
        "colab": {
          "base_uri": "https://localhost:8080/"
        }
      },
      "execution_count": 5,
      "outputs": [
        {
          "output_type": "execute_result",
          "data": {
            "text/plain": [
              "0.7626015444308568"
            ]
          },
          "metadata": {},
          "execution_count": 5
        }
      ]
    }
  ]
}