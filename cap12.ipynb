{
  "nbformat": 4,
  "nbformat_minor": 0,
  "metadata": {
    "colab": {
      "provenance": [],
      "mount_file_id": "https://github.com/CarolineAndradeR/Script_Python/blob/master/cap12.ipynb",
      "authorship_tag": "ABX9TyMBWLL7B2ZRHPhiuFie/TE6",
      "include_colab_link": true
    },
    "kernelspec": {
      "name": "python3",
      "display_name": "Python 3"
    },
    "language_info": {
      "name": "python"
    }
  },
  "cells": [
    {
      "cell_type": "markdown",
      "metadata": {
        "id": "view-in-github",
        "colab_type": "text"
      },
      "source": [
        "<a href=\"https://colab.research.google.com/github/CarolineAndradeR/Script_Python/blob/master/cap12.ipynb\" target=\"_parent\"><img src=\"https://colab.research.google.com/assets/colab-badge.svg\" alt=\"Open In Colab\"/></a>"
      ]
    },
    {
      "cell_type": "code",
      "execution_count": null,
      "metadata": {
        "colab": {
          "base_uri": "https://localhost:8080/"
        },
        "id": "5fRtkzjzn5NC",
        "outputId": "c64a2a78-b7d4-4eec-ab14-58be65bd4204"
      },
      "outputs": [
        {
          "output_type": "stream",
          "name": "stdout",
          "text": [
            "Meu primeiro notebook\n"
          ]
        }
      ],
      "source": [
        "print(\"Meu primeiro notebook\")"
      ]
    },
    {
      "cell_type": "code",
      "source": [
        "#Biblioteca númerica\n",
        "!pip install numpy\n",
        "#Manipulação de dados tabulares (formato de planilhas)\n",
        "!pip install pandas\n",
        "#Cálculos estatísticos e científicos  (modelos)\n",
        "!pip install statsmodels\n",
        "#Aprendizagens de máquinas (marchine laerning)\n",
        "!pip install sklearn\n",
        "#! exculta como se estivesse no terminal\n",
        "#Ideal que as bibliotecas estejam sempre no início, para melhor controle."
      ],
      "metadata": {
        "colab": {
          "base_uri": "https://localhost:8080/"
        },
        "id": "lAhBNVIWEuM9",
        "outputId": "33eed08d-ba0e-4e47-d8da-83c5762a1fe8"
      },
      "execution_count": 2,
      "outputs": [
        {
          "output_type": "stream",
          "name": "stdout",
          "text": [
            "Looking in indexes: https://pypi.org/simple, https://us-python.pkg.dev/colab-wheels/public/simple/\n",
            "Requirement already satisfied: numpy in /usr/local/lib/python3.8/dist-packages (1.21.6)\n",
            "Looking in indexes: https://pypi.org/simple, https://us-python.pkg.dev/colab-wheels/public/simple/\n",
            "Requirement already satisfied: pandas in /usr/local/lib/python3.8/dist-packages (1.3.5)\n",
            "Requirement already satisfied: pytz>=2017.3 in /usr/local/lib/python3.8/dist-packages (from pandas) (2022.7.1)\n",
            "Requirement already satisfied: numpy>=1.17.3 in /usr/local/lib/python3.8/dist-packages (from pandas) (1.21.6)\n",
            "Requirement already satisfied: python-dateutil>=2.7.3 in /usr/local/lib/python3.8/dist-packages (from pandas) (2.8.2)\n",
            "Requirement already satisfied: six>=1.5 in /usr/local/lib/python3.8/dist-packages (from python-dateutil>=2.7.3->pandas) (1.15.0)\n",
            "Looking in indexes: https://pypi.org/simple, https://us-python.pkg.dev/colab-wheels/public/simple/\n",
            "Requirement already satisfied: statsmodels in /usr/local/lib/python3.8/dist-packages (0.12.2)\n",
            "Requirement already satisfied: patsy>=0.5 in /usr/local/lib/python3.8/dist-packages (from statsmodels) (0.5.3)\n",
            "Requirement already satisfied: numpy>=1.15 in /usr/local/lib/python3.8/dist-packages (from statsmodels) (1.21.6)\n",
            "Requirement already satisfied: scipy>=1.1 in /usr/local/lib/python3.8/dist-packages (from statsmodels) (1.7.3)\n",
            "Requirement already satisfied: pandas>=0.21 in /usr/local/lib/python3.8/dist-packages (from statsmodels) (1.3.5)\n",
            "Requirement already satisfied: pytz>=2017.3 in /usr/local/lib/python3.8/dist-packages (from pandas>=0.21->statsmodels) (2022.7.1)\n",
            "Requirement already satisfied: python-dateutil>=2.7.3 in /usr/local/lib/python3.8/dist-packages (from pandas>=0.21->statsmodels) (2.8.2)\n",
            "Requirement already satisfied: six in /usr/local/lib/python3.8/dist-packages (from patsy>=0.5->statsmodels) (1.15.0)\n",
            "Looking in indexes: https://pypi.org/simple, https://us-python.pkg.dev/colab-wheels/public/simple/\n",
            "Collecting sklearn\n",
            "  Downloading sklearn-0.0.post1.tar.gz (3.6 kB)\n",
            "  Preparing metadata (setup.py) ... \u001b[?25l\u001b[?25hdone\n",
            "Building wheels for collected packages: sklearn\n",
            "  Building wheel for sklearn (setup.py) ... \u001b[?25l\u001b[?25hdone\n",
            "  Created wheel for sklearn: filename=sklearn-0.0.post1-py3-none-any.whl size=2344 sha256=de54066aea1c48f03d09f2908769251b6ce4352dbe77032c8541cbc3b20c84f6\n",
            "  Stored in directory: /root/.cache/pip/wheels/14/25/f7/1cc0956978ae479e75140219088deb7a36f60459df242b1a72\n",
            "Successfully built sklearn\n",
            "Installing collected packages: sklearn\n",
            "Successfully installed sklearn-0.0.post1\n"
          ]
        }
      ]
    },
    {
      "cell_type": "code",
      "source": [
        "#Iniciando montagem do drive\n",
        "from google.colab import drive\n",
        "drive.mount('/content/drive')"
      ],
      "metadata": {
        "colab": {
          "base_uri": "https://localhost:8080/"
        },
        "id": "CgU9LKJqqufA",
        "outputId": "0a52c840-273a-437a-9aca-8f8108078748"
      },
      "execution_count": 3,
      "outputs": [
        {
          "output_type": "stream",
          "name": "stdout",
          "text": [
            "Mounted at /content/drive\n"
          ]
        }
      ]
    },
    {
      "cell_type": "code",
      "source": [
        "import pandas as pd\n",
        "\n",
        "arq_dados_paises = '/content/drive/MyDrive/dados_paises.csv'\n",
        "#Read - leitura de arquivo\n",
        "df_dados_pais = pd.read_csv(arq_dados_paises)\n",
        "#Head - retorno a leitura primeiras linhas do data freme (por padrão retorna as 5 primeiras)\n",
        "df_dados_pais.head(2)\n",
        "#Tail - retorna as últimas linhas do data freme \n",
        "#df_dados_pais.tail(10)\n",
        "#Quando está apenas o nome do objeto retorna os 5 primeiro e os 5 últimos\n",
        "#df_dados_pais"
      ],
      "metadata": {
        "id": "Kmuno1n7psu5",
        "colab": {
          "base_uri": "https://localhost:8080/",
          "height": 246
        },
        "outputId": "830deb3d-3697-4ccc-b921-5856354ee330"
      },
      "execution_count": 13,
      "outputs": [
        {
          "output_type": "execute_result",
          "data": {
            "text/plain": [
              "  Country Name Country Code                   Series Name  Series Code  \\\n",
              "0       Brazil          BRA             Population, total  SP.POP.TOTL   \n",
              "1       Brazil          BRA  Population growth (annual %)  SP.POP.GROW   \n",
              "\n",
              "      1990 [YR1990]     2000 [YR2000]      2011 [YR2011]      2012 [YR2012]  \\\n",
              "0         149003225         174790339          197514541          199287292   \n",
              "1  1.81151883766468  1.42416744229362  0.915965178459778  0.893525506727112   \n",
              "\n",
              "       2013 [YR2013]      2014 [YR2014]      2015 [YR2015]      2016 [YR2016]  \\\n",
              "0          201035904          202763744          204471759          206163056   \n",
              "1  0.873605695817564  0.855795964130977  0.838838953278811  0.823752152538353   \n",
              "\n",
              "       2017 [YR2017]      2018 [YR2018]      2019 [YR2019]      2020 [YR2020]  \n",
              "0          207833825          209469320          211049519          212559409  \n",
              "1  0.807145245445964  0.783844259734468  0.751550842096973  0.712872791114979  "
            ],
            "text/html": [
              "\n",
              "  <div id=\"df-c9afcfc9-04e1-4621-944c-0779e7db4d16\">\n",
              "    <div class=\"colab-df-container\">\n",
              "      <div>\n",
              "<style scoped>\n",
              "    .dataframe tbody tr th:only-of-type {\n",
              "        vertical-align: middle;\n",
              "    }\n",
              "\n",
              "    .dataframe tbody tr th {\n",
              "        vertical-align: top;\n",
              "    }\n",
              "\n",
              "    .dataframe thead th {\n",
              "        text-align: right;\n",
              "    }\n",
              "</style>\n",
              "<table border=\"1\" class=\"dataframe\">\n",
              "  <thead>\n",
              "    <tr style=\"text-align: right;\">\n",
              "      <th></th>\n",
              "      <th>Country Name</th>\n",
              "      <th>Country Code</th>\n",
              "      <th>Series Name</th>\n",
              "      <th>Series Code</th>\n",
              "      <th>1990 [YR1990]</th>\n",
              "      <th>2000 [YR2000]</th>\n",
              "      <th>2011 [YR2011]</th>\n",
              "      <th>2012 [YR2012]</th>\n",
              "      <th>2013 [YR2013]</th>\n",
              "      <th>2014 [YR2014]</th>\n",
              "      <th>2015 [YR2015]</th>\n",
              "      <th>2016 [YR2016]</th>\n",
              "      <th>2017 [YR2017]</th>\n",
              "      <th>2018 [YR2018]</th>\n",
              "      <th>2019 [YR2019]</th>\n",
              "      <th>2020 [YR2020]</th>\n",
              "    </tr>\n",
              "  </thead>\n",
              "  <tbody>\n",
              "    <tr>\n",
              "      <th>0</th>\n",
              "      <td>Brazil</td>\n",
              "      <td>BRA</td>\n",
              "      <td>Population, total</td>\n",
              "      <td>SP.POP.TOTL</td>\n",
              "      <td>149003225</td>\n",
              "      <td>174790339</td>\n",
              "      <td>197514541</td>\n",
              "      <td>199287292</td>\n",
              "      <td>201035904</td>\n",
              "      <td>202763744</td>\n",
              "      <td>204471759</td>\n",
              "      <td>206163056</td>\n",
              "      <td>207833825</td>\n",
              "      <td>209469320</td>\n",
              "      <td>211049519</td>\n",
              "      <td>212559409</td>\n",
              "    </tr>\n",
              "    <tr>\n",
              "      <th>1</th>\n",
              "      <td>Brazil</td>\n",
              "      <td>BRA</td>\n",
              "      <td>Population growth (annual %)</td>\n",
              "      <td>SP.POP.GROW</td>\n",
              "      <td>1.81151883766468</td>\n",
              "      <td>1.42416744229362</td>\n",
              "      <td>0.915965178459778</td>\n",
              "      <td>0.893525506727112</td>\n",
              "      <td>0.873605695817564</td>\n",
              "      <td>0.855795964130977</td>\n",
              "      <td>0.838838953278811</td>\n",
              "      <td>0.823752152538353</td>\n",
              "      <td>0.807145245445964</td>\n",
              "      <td>0.783844259734468</td>\n",
              "      <td>0.751550842096973</td>\n",
              "      <td>0.712872791114979</td>\n",
              "    </tr>\n",
              "  </tbody>\n",
              "</table>\n",
              "</div>\n",
              "      <button class=\"colab-df-convert\" onclick=\"convertToInteractive('df-c9afcfc9-04e1-4621-944c-0779e7db4d16')\"\n",
              "              title=\"Convert this dataframe to an interactive table.\"\n",
              "              style=\"display:none;\">\n",
              "        \n",
              "  <svg xmlns=\"http://www.w3.org/2000/svg\" height=\"24px\"viewBox=\"0 0 24 24\"\n",
              "       width=\"24px\">\n",
              "    <path d=\"M0 0h24v24H0V0z\" fill=\"none\"/>\n",
              "    <path d=\"M18.56 5.44l.94 2.06.94-2.06 2.06-.94-2.06-.94-.94-2.06-.94 2.06-2.06.94zm-11 1L8.5 8.5l.94-2.06 2.06-.94-2.06-.94L8.5 2.5l-.94 2.06-2.06.94zm10 10l.94 2.06.94-2.06 2.06-.94-2.06-.94-.94-2.06-.94 2.06-2.06.94z\"/><path d=\"M17.41 7.96l-1.37-1.37c-.4-.4-.92-.59-1.43-.59-.52 0-1.04.2-1.43.59L10.3 9.45l-7.72 7.72c-.78.78-.78 2.05 0 2.83L4 21.41c.39.39.9.59 1.41.59.51 0 1.02-.2 1.41-.59l7.78-7.78 2.81-2.81c.8-.78.8-2.07 0-2.86zM5.41 20L4 18.59l7.72-7.72 1.47 1.35L5.41 20z\"/>\n",
              "  </svg>\n",
              "      </button>\n",
              "      \n",
              "  <style>\n",
              "    .colab-df-container {\n",
              "      display:flex;\n",
              "      flex-wrap:wrap;\n",
              "      gap: 12px;\n",
              "    }\n",
              "\n",
              "    .colab-df-convert {\n",
              "      background-color: #E8F0FE;\n",
              "      border: none;\n",
              "      border-radius: 50%;\n",
              "      cursor: pointer;\n",
              "      display: none;\n",
              "      fill: #1967D2;\n",
              "      height: 32px;\n",
              "      padding: 0 0 0 0;\n",
              "      width: 32px;\n",
              "    }\n",
              "\n",
              "    .colab-df-convert:hover {\n",
              "      background-color: #E2EBFA;\n",
              "      box-shadow: 0px 1px 2px rgba(60, 64, 67, 0.3), 0px 1px 3px 1px rgba(60, 64, 67, 0.15);\n",
              "      fill: #174EA6;\n",
              "    }\n",
              "\n",
              "    [theme=dark] .colab-df-convert {\n",
              "      background-color: #3B4455;\n",
              "      fill: #D2E3FC;\n",
              "    }\n",
              "\n",
              "    [theme=dark] .colab-df-convert:hover {\n",
              "      background-color: #434B5C;\n",
              "      box-shadow: 0px 1px 3px 1px rgba(0, 0, 0, 0.15);\n",
              "      filter: drop-shadow(0px 1px 2px rgba(0, 0, 0, 0.3));\n",
              "      fill: #FFFFFF;\n",
              "    }\n",
              "  </style>\n",
              "\n",
              "      <script>\n",
              "        const buttonEl =\n",
              "          document.querySelector('#df-c9afcfc9-04e1-4621-944c-0779e7db4d16 button.colab-df-convert');\n",
              "        buttonEl.style.display =\n",
              "          google.colab.kernel.accessAllowed ? 'block' : 'none';\n",
              "\n",
              "        async function convertToInteractive(key) {\n",
              "          const element = document.querySelector('#df-c9afcfc9-04e1-4621-944c-0779e7db4d16');\n",
              "          const dataTable =\n",
              "            await google.colab.kernel.invokeFunction('convertToInteractive',\n",
              "                                                     [key], {});\n",
              "          if (!dataTable) return;\n",
              "\n",
              "          const docLinkHtml = 'Like what you see? Visit the ' +\n",
              "            '<a target=\"_blank\" href=https://colab.research.google.com/notebooks/data_table.ipynb>data table notebook</a>'\n",
              "            + ' to learn more about interactive tables.';\n",
              "          element.innerHTML = '';\n",
              "          dataTable['output_type'] = 'display_data';\n",
              "          await google.colab.output.renderOutput(dataTable, element);\n",
              "          const docLink = document.createElement('div');\n",
              "          docLink.innerHTML = docLinkHtml;\n",
              "          element.appendChild(docLink);\n",
              "        }\n",
              "      </script>\n",
              "    </div>\n",
              "  </div>\n",
              "  "
            ]
          },
          "metadata": {},
          "execution_count": 13
        }
      ]
    },
    {
      "cell_type": "code",
      "source": [
        "#Criar uma cópia do DataFreme, importe para tratamento dos dados\n",
        "df_copia_dados_pais = df_dados_pais.copy()\n",
        "\n",
        "#Para validar se é uma cópia de arquivo ou é uma referencia de objeto (True - referencia False - Copia)\n",
        "#id(df_copia_dados_pais) == id(df_dados_pais)"
      ],
      "metadata": {
        "id": "kytsGobHQqEg",
        "outputId": "f609118f-f333-4dd6-c1ca-a8328bb3ad15",
        "colab": {
          "base_uri": "https://localhost:8080/"
        }
      },
      "execution_count": 15,
      "outputs": [
        {
          "output_type": "execute_result",
          "data": {
            "text/plain": [
              "False"
            ]
          },
          "metadata": {},
          "execution_count": 15
        }
      ]
    },
    {
      "cell_type": "code",
      "source": [
        "palavras = [\"Morango\", \"Banana\", \"Maça\", \"Limão\", \"Abacaxi\", \"Morango\"]\n",
        "from collections import Counter\n",
        "contador_palavras = Counter(palavras)\n",
        "contador_palavras"
      ],
      "metadata": {
        "id": "FeV90tBCpS_h",
        "colab": {
          "base_uri": "https://localhost:8080/"
        },
        "outputId": "a17b1abc-bd79-4d20-c33f-80d7a34eb915"
      },
      "execution_count": 4,
      "outputs": [
        {
          "output_type": "execute_result",
          "data": {
            "text/plain": [
              "Counter({'Morango': 2, 'Banana': 1, 'Maça': 1, 'Limão': 1, 'Abacaxi': 1})"
            ]
          },
          "metadata": {},
          "execution_count": 4
        }
      ]
    }
  ]
}