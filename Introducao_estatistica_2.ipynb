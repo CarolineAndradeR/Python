{
  "nbformat": 4,
  "nbformat_minor": 0,
  "metadata": {
    "colab": {
      "provenance": [],
      "mount_file_id": "1ssi31nfKwP9WIeTm60X-FzlSkACdQZBw",
      "authorship_tag": "ABX9TyNpPDcM1x15TGPpr4mS5GLj",
      "include_colab_link": true
    },
    "kernelspec": {
      "name": "python3",
      "display_name": "Python 3"
    },
    "language_info": {
      "name": "python"
    }
  },
  "cells": [
    {
      "cell_type": "markdown",
      "metadata": {
        "id": "view-in-github",
        "colab_type": "text"
      },
      "source": [
        "<a href=\"https://colab.research.google.com/github/CarolineAndradeR/Python/blob/master/Principais_metricas_de_relatorios.ipynb\" target=\"_parent\"><img src=\"https://colab.research.google.com/assets/colab-badge.svg\" alt=\"Open In Colab\"/></a>"
      ]
    },
    {
      "cell_type": "markdown",
      "source": [
        "# **Principais funções no Python**\n",
        "*   **Mínimo, Máximo, média** - min(), max(), mean();\n",
        "*   **Moda** - mode();\n",
        "*   **Mediana** - median();\n",
        "*   **Quartis, percentis** - quantile();\n",
        "*   **Desvio médio absoluto** - mad();\n",
        "*   **Variância, desvio-padrão** - var(), std();\n",
        "*   **Contagem** - count().\n",
        "\n",
        "\n",
        "\n"
      ],
      "metadata": {
        "id": "IZXAC8EgOnCa"
      }
    },
    {
      "cell_type": "code",
      "execution_count": null,
      "metadata": {
        "id": "zSS8C2bjqIhf"
      },
      "outputs": [],
      "source": [
        "!pip install numpy\n",
        "!pip install pandas\n",
        "!pip install statsmodels\n",
        "!pip install sklearn\n",
        "!pip install scipy"
      ]
    },
    {
      "cell_type": "markdown",
      "source": [
        "**Estatística Descritiva**"
      ],
      "metadata": {
        "id": "rR4yK9L03kWm"
      }
    },
    {
      "cell_type": "code",
      "source": [
        "#Iniciando montagem do drive\n",
        "from google.colab import drive\n",
        "drive.mount('/content/drive')\n",
        "\n",
        "import pandas as pd\n",
        "\n",
        "arq_dados_paises = '/content/drive/MyDrive/hdi_paises.csv'\n",
        "df_idh_paises = pd.read_csv(arq_dados_paises)\n",
        "df_idh_paises.head()"
      ],
      "metadata": {
        "id": "k86sOF5g3uNj"
      },
      "execution_count": null,
      "outputs": []
    },
    {
      "cell_type": "code",
      "source": [
        "#Formato do DataFreme\n",
        "#df_idh_paises.shape\n",
        "\n",
        "#Propriedades do DataFreme\n",
        "#df_idh_paises.info\n",
        "\n",
        "#Metodo do DataFreme, formatos e tipos de dados (Mais detalhado)\n",
        "#Retorna o valor em memoria utilizado\n",
        "df_idh_paises.info()\n",
        "\n",
        "#Tipos de dados de cada coluna\n",
        "#df_idh_paises.dtypes"
      ],
      "metadata": {
        "id": "1RVKXruy4QqI"
      },
      "execution_count": null,
      "outputs": []
    },
    {
      "cell_type": "code",
      "source": [
        "#O \\ é utilizado para quebrar a linha da instrução (Mais organizado e mais fácil para ler)\n",
        "#Até mesmo para indentificar erros no código fica mais fácil\n",
        "\n",
        "#df_idh_paises.groupby('Entity').agg(n - pd.NamedAgg('Entity', 'count')).reset_index()\n",
        "\n",
        "#Quantas vezes um país aparece dentro do DataSet\n",
        "contagem_idh_paises = df_idh_paises.groupby('Entity') \\\n",
        "                      .agg(n = pd.NamedAgg('Entity', 'count')) \\\n",
        "                      .reset_index()\n",
        "\n",
        "contagem_idh_paises.sort_values(by='n')"
      ],
      "metadata": {
        "id": "V4q9QD_95Li7"
      },
      "execution_count": null,
      "outputs": []
    },
    {
      "cell_type": "code",
      "source": [
        "#Renomeação de colunas (quando se tem poucos colunas pode ser feito dessa forma sem necessidade de utilizar o transletor)\n",
        "df_idh_paises.columns = ['pais', 'codigo', 'ano', 'idh']"
      ],
      "metadata": {
        "id": "yAZdQWSk6KGa"
      },
      "execution_count": 10,
      "outputs": []
    },
    {
      "cell_type": "code",
      "source": [
        "#Tudo o que for feito em conjunto pode aplicar um conjunto de dados (groupby)\n",
        "#Desvio medio absoluto (quem está mais próximo ou mais distancia da média)\n",
        "#Sequência de execução\n",
        "df_idh_paises.groupby('pais') \\\n",
        "              .agg(desvio_medio_abs_idh = pd.NamedAgg('idh', 'mad')) \\\n",
        "              .sort_values(by='desvio_medio_abs_idh') \\\n",
        "              .reset_index()"
      ],
      "metadata": {
        "id": "TN2mfkXj7uYl"
      },
      "execution_count": null,
      "outputs": []
    },
    {
      "cell_type": "code",
      "source": [
        "#Var variação aplicada sobre IDH\n",
        "#STD desvio padrão\n",
        "#Sort_value ordenação dos dados\n",
        "#Atentar a sintaxe da linguagem\n",
        "df_idh_paises.groupby('pais') \\\n",
        "              .agg( vaiancia_idh = pd.NamedAgg('idh', 'var'),\n",
        "                    desvio_padrao_idh = pd.NamedAgg('idh', 'std' ))\\\n",
        "              .sort_values('desvio_padrao_idh')\\\n",
        "              .reset_index()"
      ],
      "metadata": {
        "id": "o6H3Cexn9g1y"
      },
      "execution_count": null,
      "outputs": []
    },
    {
      "cell_type": "code",
      "source": [
        "#Além de agrupar por pais tem a função de filtrar\n",
        "#Mode maior frequencia de repetição\n",
        "df_idh_paises.groupby('pais')['idh'] \\\n",
        "              .apply(lambda x: x.mode().iloc[0])\\\n",
        "              .to_frame()\\\n",
        "              .reset_index()"
      ],
      "metadata": {
        "id": "lCFAPwU7_Aki"
      },
      "execution_count": null,
      "outputs": []
    },
    {
      "cell_type": "code",
      "source": [
        "#Retorna distribuição de cada função (partil)\n",
        "df_idh_paises.groupby('pais').describe()"
      ],
      "metadata": {
        "id": "VFFvkVrUAQST"
      },
      "execution_count": null,
      "outputs": []
    },
    {
      "cell_type": "code",
      "source": [
        "#Analisar diferentes percentis, dividir os percentil\n",
        "#Quantile divisão em que os valores vão ser retornados\n",
        "#Filtrar valores extremos\n",
        "df_idh_paises.groupby('pais')['idh'] \\\n",
        "              .apply(lambda x: x.quantile([0.05, 0.25, 0.5, 0.75, 0.95]))\\\n",
        "              .to_frame()\\\n",
        "              .reset_index()\\\n",
        "              .rename(columns={'level_1': 'percentil'})"
      ],
      "metadata": {
        "id": "bb6CFytPA79N"
      },
      "execution_count": null,
      "outputs": []
    },
    {
      "cell_type": "code",
      "source": [
        "import seaborn as sns\n",
        "#Definição de um tema (visual)\n",
        "sns.set_theme(style='whitegrid')\n",
        "\n",
        "#Conjunto de dados, buscando apenas os 10 menores com base na ordenação do sort\n",
        "#ax = sns.barplot(x=\"pais\", y=\"idh\", data=df_idh_paises.sort_values(by='idh')[:10])\n",
        "\n",
        "#Conjunto de dados, buscando apenas os 10 maiores com base na ordenação do sort\n",
        "ax = sns.barplot(x=\"pais\", y=\"idh\", data=df_idh_paises.sort_values(by='idh')[-10:])"
      ],
      "metadata": {
        "colab": {
          "base_uri": "https://localhost:8080/",
          "height": 285
        },
        "id": "DNWKi8yMDB3q",
        "outputId": "f71225a6-2b36-4fb0-e65e-71796dd48811"
      },
      "execution_count": 28,
      "outputs": [
        {
          "output_type": "display_data",
          "data": {
            "text/plain": [
              "<Figure size 432x288 with 1 Axes>"
            ],
            "image/png": "[encoded data removed]"
          },
          "metadata": {}
        }
      ]
    }
  ]
}
