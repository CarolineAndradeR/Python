{
  "nbformat": 4,
  "nbformat_minor": 0,
  "metadata": {
    "colab": {
      "provenance": [],
      "authorship_tag": "ABX9TyOfKUy7UG1ndUpzc//EgCnK",
      "include_colab_link": true
    },
    "kernelspec": {
      "name": "python3",
      "display_name": "Python 3"
    },
    "language_info": {
      "name": "python"
    }
  },
  "cells": [
    {
      "cell_type": "markdown",
      "metadata": {
        "id": "view-in-github",
        "colab_type": "text"
      },
      "source": [
        "<a href=\"https://colab.research.google.com/github/CarolineAndradeR/Python/blob/master/amostragem.ipynb\" target=\"_parent\"><img src=\"https://colab.research.google.com/assets/colab-badge.svg\" alt=\"Open In Colab\"/></a>"
      ]
    },
    {
      "cell_type": "markdown",
      "source": [
        "# **Amostragem**\n",
        "\n",
        "\n",
        "> Quando temos grandes conjuntos de dados, fazemos recortes (seleção) desses dados.\n",
        "\n",
        "\n",
        "\n",
        "\n"
      ],
      "metadata": {
        "id": "BxJrplclBFan"
      }
    },
    {
      "cell_type": "code",
      "source": [
        "!pip install numpy\n",
        "!pip install pandas\n",
        "!pip install scipy\n",
        "!pip install statsmodels\n",
        "!pip install sklearn"
      ],
      "metadata": {
        "id": "r4rDyVSNBL4u"
      },
      "execution_count": null,
      "outputs": []
    },
    {
      "cell_type": "code",
      "source": [
        "#Iniciando montagem do drive\n",
        "from google.colab import drive\n",
        "drive.mount('/content/drive')\n",
        "\n",
        "import pandas as pd\n",
        "\n",
        "arq_dados_imoveis = '/content/drive/MyDrive/dados_imoveis_cwb.csv'\n",
        "df_dados_imoveis = pd.read_csv(arq_dados_imoveis, sep='\\t')\n",
        "df_dados_imoveis"
      ],
      "metadata": {
        "id": "RoI1jAhJDKoP"
      },
      "execution_count": null,
      "outputs": []
    },
    {
      "cell_type": "code",
      "source": [
        "df_dados_imoveis.tail(25)"
      ],
      "metadata": {
        "id": "QqDILz2hFM8s"
      },
      "execution_count": null,
      "outputs": []
    },
    {
      "cell_type": "markdown",
      "source": [
        "# **Obtenção de uma amostra de referência**"
      ],
      "metadata": {
        "id": "TKkiKNCeFo4-"
      }
    },
    {
      "cell_type": "markdown",
      "source": [
        "*   **Amostragem** - Análise com base em todo o conjunto de dados - Dividir os dados semelhantes em intervalos menores\n",
        "*   **Dados Piloto** - Análise com base na amostragem dos dados - Um recorte da amostragem."
      ],
      "metadata": {
        "id": "adeQF5bvbWCY"
      }
    },
    {
      "cell_type": "code",
      "source": [
        "#QCUT - passar o atributo (coluna), o número de estraros, qual o indentificador de cada estratos.\n",
        "#Divisão da categoria de imoveis de acordo com o seu valor.\n",
        "df_dados_imoveis['categoria'] = pd.qcut(df_dados_imoveis['preco'], 4, labels = ['D', 'C', 'B', 'A'])\n",
        "\n",
        "df_dados_imoveis"
      ],
      "metadata": {
        "id": "WOenXdbyF3z6"
      },
      "execution_count": null,
      "outputs": []
    },
    {
      "cell_type": "code",
      "source": [
        "#Dados Piloto\n",
        "dados_piloto_categoria = df_dados_imoveis.groupby('categoria') \\\n",
        "                        .agg(media_preco = pd.NamedAgg('preco', 'mean'),\n",
        "                            dp_preco = pd.NamedAgg('preco', 'std'),\n",
        "                            N = pd.NamedAgg('preco', 'count')) \\\n",
        "                        .reset_index()\n",
        "dados_piloto_categoria['percent'] = dados_piloto_categoria['N'] / sum(dados_piloto_categoria['N'])\n",
        "dados_piloto_categoria"
      ],
      "metadata": {
        "colab": {
          "base_uri": "https://localhost:8080/",
          "height": 175
        },
        "id": "sqhEG1z4IU2L",
        "outputId": "33d7d2bc-0148-4fae-95a7-d19e6965ddcf"
      },
      "execution_count": 6,
      "outputs": [
        {
          "output_type": "execute_result",
          "data": {
            "text/plain": [
              "  categoria   media_preco       dp_preco     N   percent\n",
              "0         D  2.580113e+05   54508.930364  1120  0.250559\n",
              "1         C  4.233544e+05   50852.971085  1116  0.249664\n",
              "2         B  6.732811e+05   99204.379719  1117  0.249888\n",
              "3         A  1.676544e+06  991379.107200  1117  0.249888"
            ],
            "text/html": [
              "\n",
              "  <div id=\"df-c57f05bc-ef5a-48d4-ada7-feaf36a6ddcf\">\n",
              "    <div class=\"colab-df-container\">\n",
              "      <div>\n",
              "<style scoped>\n",
              "    .dataframe tbody tr th:only-of-type {\n",
              "        vertical-align: middle;\n",
              "    }\n",
              "\n",
              "    .dataframe tbody tr th {\n",
              "        vertical-align: top;\n",
              "    }\n",
              "\n",
              "    .dataframe thead th {\n",
              "        text-align: right;\n",
              "    }\n",
              "</style>\n",
              "<table border=\"1\" class=\"dataframe\">\n",
              "  <thead>\n",
              "    <tr style=\"text-align: right;\">\n",
              "      <th></th>\n",
              "      <th>categoria</th>\n",
              "      <th>media_preco</th>\n",
              "      <th>dp_preco</th>\n",
              "      <th>N</th>\n",
              "      <th>percent</th>\n",
              "    </tr>\n",
              "  </thead>\n",
              "  <tbody>\n",
              "    <tr>\n",
              "      <th>0</th>\n",
              "      <td>D</td>\n",
              "      <td>2.580113e+05</td>\n",
              "      <td>54508.930364</td>\n",
              "      <td>1120</td>\n",
              "      <td>0.250559</td>\n",
              "    </tr>\n",
              "    <tr>\n",
              "      <th>1</th>\n",
              "      <td>C</td>\n",
              "      <td>4.233544e+05</td>\n",
              "      <td>50852.971085</td>\n",
              "      <td>1116</td>\n",
              "      <td>0.249664</td>\n",
              "    </tr>\n",
              "    <tr>\n",
              "      <th>2</th>\n",
              "      <td>B</td>\n",
              "      <td>6.732811e+05</td>\n",
              "      <td>99204.379719</td>\n",
              "      <td>1117</td>\n",
              "      <td>0.249888</td>\n",
              "    </tr>\n",
              "    <tr>\n",
              "      <th>3</th>\n",
              "      <td>A</td>\n",
              "      <td>1.676544e+06</td>\n",
              "      <td>991379.107200</td>\n",
              "      <td>1117</td>\n",
              "      <td>0.249888</td>\n",
              "    </tr>\n",
              "  </tbody>\n",
              "</table>\n",
              "</div>\n",
              "      <button class=\"colab-df-convert\" onclick=\"convertToInteractive('df-c57f05bc-ef5a-48d4-ada7-feaf36a6ddcf')\"\n",
              "              title=\"Convert this dataframe to an interactive table.\"\n",
              "              style=\"display:none;\">\n",
              "        \n",
              "  <svg xmlns=\"http://www.w3.org/2000/svg\" height=\"24px\"viewBox=\"0 0 24 24\"\n",
              "       width=\"24px\">\n",
              "    <path d=\"M0 0h24v24H0V0z\" fill=\"none\"/>\n",
              "    <path d=\"M18.56 5.44l.94 2.06.94-2.06 2.06-.94-2.06-.94-.94-2.06-.94 2.06-2.06.94zm-11 1L8.5 8.5l.94-2.06 2.06-.94-2.06-.94L8.5 2.5l-.94 2.06-2.06.94zm10 10l.94 2.06.94-2.06 2.06-.94-2.06-.94-.94-2.06-.94 2.06-2.06.94z\"/><path d=\"M17.41 7.96l-1.37-1.37c-.4-.4-.92-.59-1.43-.59-.52 0-1.04.2-1.43.59L10.3 9.45l-7.72 7.72c-.78.78-.78 2.05 0 2.83L4 21.41c.39.39.9.59 1.41.59.51 0 1.02-.2 1.41-.59l7.78-7.78 2.81-2.81c.8-.78.8-2.07 0-2.86zM5.41 20L4 18.59l7.72-7.72 1.47 1.35L5.41 20z\"/>\n",
              "  </svg>\n",
              "      </button>\n",
              "      \n",
              "  <style>\n",
              "    .colab-df-container {\n",
              "      display:flex;\n",
              "      flex-wrap:wrap;\n",
              "      gap: 12px;\n",
              "    }\n",
              "\n",
              "    .colab-df-convert {\n",
              "      background-color: #E8F0FE;\n",
              "      border: none;\n",
              "      border-radius: 50%;\n",
              "      cursor: pointer;\n",
              "      display: none;\n",
              "      fill: #1967D2;\n",
              "      height: 32px;\n",
              "      padding: 0 0 0 0;\n",
              "      width: 32px;\n",
              "    }\n",
              "\n",
              "    .colab-df-convert:hover {\n",
              "      background-color: #E2EBFA;\n",
              "      box-shadow: 0px 1px 2px rgba(60, 64, 67, 0.3), 0px 1px 3px 1px rgba(60, 64, 67, 0.15);\n",
              "      fill: #174EA6;\n",
              "    }\n",
              "\n",
              "    [theme=dark] .colab-df-convert {\n",
              "      background-color: #3B4455;\n",
              "      fill: #D2E3FC;\n",
              "    }\n",
              "\n",
              "    [theme=dark] .colab-df-convert:hover {\n",
              "      background-color: #434B5C;\n",
              "      box-shadow: 0px 1px 3px 1px rgba(0, 0, 0, 0.15);\n",
              "      filter: drop-shadow(0px 1px 2px rgba(0, 0, 0, 0.3));\n",
              "      fill: #FFFFFF;\n",
              "    }\n",
              "  </style>\n",
              "\n",
              "      <script>\n",
              "        const buttonEl =\n",
              "          document.querySelector('#df-c57f05bc-ef5a-48d4-ada7-feaf36a6ddcf button.colab-df-convert');\n",
              "        buttonEl.style.display =\n",
              "          google.colab.kernel.accessAllowed ? 'block' : 'none';\n",
              "\n",
              "        async function convertToInteractive(key) {\n",
              "          const element = document.querySelector('#df-c57f05bc-ef5a-48d4-ada7-feaf36a6ddcf');\n",
              "          const dataTable =\n",
              "            await google.colab.kernel.invokeFunction('convertToInteractive',\n",
              "                                                     [key], {});\n",
              "          if (!dataTable) return;\n",
              "\n",
              "          const docLinkHtml = 'Like what you see? Visit the ' +\n",
              "            '<a target=\"_blank\" href=https://colab.research.google.com/notebooks/data_table.ipynb>data table notebook</a>'\n",
              "            + ' to learn more about interactive tables.';\n",
              "          element.innerHTML = '';\n",
              "          dataTable['output_type'] = 'display_data';\n",
              "          await google.colab.output.renderOutput(dataTable, element);\n",
              "          const docLink = document.createElement('div');\n",
              "          docLink.innerHTML = docLinkHtml;\n",
              "          element.appendChild(docLink);\n",
              "        }\n",
              "      </script>\n",
              "    </div>\n",
              "  </div>\n",
              "  "
            ]
          },
          "metadata": {},
          "execution_count": 6
        }
      ]
    }
  ]
}