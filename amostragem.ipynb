{
  "nbformat": 4,
  "nbformat_minor": 0,
  "metadata": {
    "colab": {
      "provenance": [],
      "authorship_tag": "ABX9TyM0Z1Zk3UrH4r0bkySmPwBB",
      "include_colab_link": true
    },
    "kernelspec": {
      "name": "python3",
      "display_name": "Python 3"
    },
    "language_info": {
      "name": "python"
    }
  },
  "cells": [
    {
      "cell_type": "markdown",
      "metadata": {
        "id": "view-in-github",
        "colab_type": "text"
      },
      "source": [
        "<a href=\"https://colab.research.google.com/github/CarolineAndradeR/Python/blob/master/amostragem.ipynb\" target=\"_parent\"><img src=\"https://colab.research.google.com/assets/colab-badge.svg\" alt=\"Open In Colab\"/></a>"
      ]
    },
    {
      "cell_type": "markdown",
      "source": [
        "# **Amostragem**\n",
        "\n",
        "\n",
        "> Quando temos grandes conjuntos de dados, fazemos recortes (seleção) desses dados.\n",
        "\n",
        "\n",
        "\n",
        "\n"
      ],
      "metadata": {
        "id": "BxJrplclBFan"
      }
    },
    {
      "cell_type": "code",
      "source": [
        "!pip install numpy\n",
        "!pip install pandas\n",
        "!pip install scipy\n",
        "!pip install statsmodels\n",
        "!pip install sklearn"
      ],
      "metadata": {
        "id": "r4rDyVSNBL4u"
      },
      "execution_count": null,
      "outputs": []
    },
    {
      "cell_type": "code",
      "source": [
        "#Iniciando montagem do drive\n",
        "from google.colab import drive\n",
        "drive.mount('/content/drive')\n",
        "\n",
        "import pandas as pd\n",
        "\n",
        "arq_dados_imoveis = '/content/drive/MyDrive/dados_imoveis_cwb.csv'\n",
        "df_dados_imoveis = pd.read_csv(arq_dados_imoveis, sep='\\t')\n",
        "df_dados_imoveis"
      ],
      "metadata": {
        "id": "RoI1jAhJDKoP"
      },
      "execution_count": null,
      "outputs": []
    },
    {
      "cell_type": "code",
      "source": [
        "df_dados_imoveis.tail(25)"
      ],
      "metadata": {
        "id": "QqDILz2hFM8s"
      },
      "execution_count": null,
      "outputs": []
    },
    {
      "cell_type": "markdown",
      "source": [
        "# **Obtenção de uma amostra de referência**"
      ],
      "metadata": {
        "id": "TKkiKNCeFo4-"
      }
    },
    {
      "cell_type": "code",
      "source": [
        "#Criação dos estratos - dividir os dados semelhantes em intervalos menores\n",
        "#QCUT - passar o atributo (coluna), o número de estraros, qual o indentificador de cada estratos.\n",
        "#Divisão da categoria de imoveis de acordo com o seu valor.\n",
        "df_dados_imoveis['categoria'] = pd.qcut(df_dados_imoveis['preco'], 4, labels = ['D', 'C', 'B', 'A'])\n",
        "\n",
        "df_dados_imoveis"
      ],
      "metadata": {
        "id": "WOenXdbyF3z6"
      },
      "execution_count": null,
      "outputs": []
    },
    {
      "cell_type": "code",
      "source": [
        "#Dados piloto - são os dados que vamos usar com base para análises"
      ],
      "metadata": {
        "id": "sqhEG1z4IU2L"
      },
      "execution_count": null,
      "outputs": []
    }
  ]
}