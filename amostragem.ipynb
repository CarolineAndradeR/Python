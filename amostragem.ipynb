{
  "nbformat": 4,
  "nbformat_minor": 0,
  "metadata": {
    "colab": {
      "provenance": [],
      "authorship_tag": "ABX9TyNRIIbgcLaCdxz4j0zunWlZ",
      "include_colab_link": true
    },
    "kernelspec": {
      "name": "python3",
      "display_name": "Python 3"
    },
    "language_info": {
      "name": "python"
    }
  },
  "cells": [
    {
      "cell_type": "markdown",
      "metadata": {
        "id": "view-in-github",
        "colab_type": "text"
      },
      "source": [
        "<a href=\"https://colab.research.google.com/github/CarolineAndradeR/Python/blob/master/amostragem.ipynb\" target=\"_parent\"><img src=\"https://colab.research.google.com/assets/colab-badge.svg\" alt=\"Open In Colab\"/></a>"
      ]
    },
    {
      "cell_type": "markdown",
      "source": [
        "# **Amostragem**\n",
        "\n",
        "\n",
        "> Quando temos grandes conjuntos de dados, fazemos recortes (seleção) desses dados.\n",
        "\n",
        "\n",
        "\n",
        "\n"
      ],
      "metadata": {
        "id": "BxJrplclBFan"
      }
    },
    {
      "cell_type": "code",
      "source": [
        "!pip install numpy\n",
        "!pip install pandas\n",
        "!pip install scipy\n",
        "!pip install statsmodels\n",
        "!pip install sklearn"
      ],
      "metadata": {
        "id": "r4rDyVSNBL4u"
      },
      "execution_count": null,
      "outputs": []
    },
    {
      "cell_type": "code",
      "source": [
        "#Iniciando montagem do drive\n",
        "from google.colab import drive\n",
        "drive.mount('/content/drive')\n",
        "\n",
        "import pandas as pd\n",
        "\n",
        "arq_dados_imoveis = '/content/drive/MyDrive/dados_imoveis_cwb.csv'\n",
        "df_dados_imoveis = pd.read_csv(arq_dados_imoveis, sep='\\t')\n",
        "df_dados_imoveis"
      ],
      "metadata": {
        "id": "RoI1jAhJDKoP"
      },
      "execution_count": null,
      "outputs": []
    },
    {
      "cell_type": "code",
      "source": [
        "df_dados_imoveis.tail(25)"
      ],
      "metadata": {
        "id": "QqDILz2hFM8s"
      },
      "execution_count": null,
      "outputs": []
    },
    {
      "cell_type": "markdown",
      "source": [
        "# **Obtenção de uma amostra de referência**"
      ],
      "metadata": {
        "id": "TKkiKNCeFo4-"
      }
    },
    {
      "cell_type": "markdown",
      "source": [
        "*   **Amostragem** - Análise com base em todo o conjunto de dados - Dividir os dados semelhantes em intervalos menores\n",
        "*   **Dados Piloto** - Análise com base na amostragem dos dados - Um recorte da amostragem."
      ],
      "metadata": {
        "id": "adeQF5bvbWCY"
      }
    },
    {
      "cell_type": "code",
      "source": [
        "#QCUT - passar o atributo (coluna), o número de estraros, qual o indentificador de cada estratos.\n",
        "#Divisão da categoria de imoveis de acordo com o seu valor.\n",
        "df_dados_imoveis['categoria'] = pd.qcut(df_dados_imoveis['preco'], 4, labels = ['D', 'C', 'B', 'A'])\n",
        "\n",
        "df_dados_imoveis"
      ],
      "metadata": {
        "id": "WOenXdbyF3z6"
      },
      "execution_count": null,
      "outputs": []
    },
    {
      "cell_type": "code",
      "source": [
        "dados_piloto = df_dados_imoveis.agg(media_preco = pd.NamedAgg('preco', 'mean'),\n",
        "                                dp_preco = pd.NamedAgg('preco', 'std'),\n",
        "                                N = pd.NamedAgg('preco', 'count'))\n",
        "dados_piloto"
      ],
      "metadata": {
        "id": "OHn7ejSb4P5z"
      },
      "execution_count": null,
      "outputs": []
    },
    {
      "cell_type": "code",
      "source": [
        "#Dados Piloto\n",
        "dados_piloto_categoria = df_dados_imoveis.groupby('categoria') \\\n",
        "                        .agg(media_preco = pd.NamedAgg('preco', 'mean'),\n",
        "                            dp_preco = pd.NamedAgg('preco', 'std'),\n",
        "                            N = pd.NamedAgg('preco', 'count')) \\\n",
        "                        .reset_index()\n",
        "dados_piloto_categoria['percent'] = dados_piloto_categoria['N'] / sum(dados_piloto_categoria['N'])\n",
        "dados_piloto_categoria"
      ],
      "metadata": {
        "id": "sqhEG1z4IU2L"
      },
      "execution_count": null,
      "outputs": []
    },
    {
      "cell_type": "markdown",
      "source": [
        "\n",
        "\n",
        "* Garatir que os dados sejam representativos, ou seja, que pegue uma quantidade relevante com base no conjunto geral dos dados.\n",
        "*   Não precisamos pegar extamente o valor que vai ser gerado na sugestão, mas também não pode ser menor que a quantidade de linhas da sugestão gerada.\n",
        "\n"
      ],
      "metadata": {
        "id": "gA0n58BE6g95"
      }
    },
    {
      "cell_type": "code",
      "source": [
        "#Sugestão de quantidade de linhas para a amostragem\n",
        "#Formula continua, são os dados que não conseguimos pegar com exatidão por ser infinito (não conseguir contar)\n",
        "def formula_amostra_continua(N, S, Z, ME):\n",
        "  n = (Z**2 * S**2 * N) / ((ME**2 * (N-1)) + (Z**2 * S**2))\n",
        "  return int(n)\n",
        "\n",
        "#Formula discreta, dados que consiguimos contar, dados finitos\n",
        "def formula_amostra_discreta(N, Z, ME):\n",
        "  n = (Z**2 * 0.25 * N) / ((ME**2 * (N-1)) + (Z**2 * 0.25))\n",
        "  return int(n)\n",
        "\n",
        "\n",
        "\n",
        "#Parametros\n",
        "N = dados_piloto.loc['N'] #dados da base piloto\n",
        "Z = 1.96   #Nível de confiança de 96%\n",
        "S = dados_piloto.loc['dp_preco']   #Desvio-padrão piloto, dados que vão ser usado\n",
        "ME = 50000  #Margem de erro, margem que pode estar para mais ou para menos\n",
        "\n",
        "#Tamanho da amostra\n",
        "n = formula_amostra_continua(N, S, Z, ME)\n",
        "n"
      ],
      "metadata": {
        "id": "WSZEt42Z0YNZ"
      },
      "execution_count": null,
      "outputs": []
    },
    {
      "cell_type": "code",
      "source": [
        "import random as rd\n",
        "\n",
        "n = 1500 #Seleciona 1500 imoveis como amostragem\n",
        "N = 4470 #Quantidade de linha da base de dados\n",
        "\n",
        "#Seleção de linhas aleatórias\n",
        "linhas_aleatoria = rd.sample(range(1, N+1), n)\n",
        "\n",
        "#Filtra os dados\n",
        "#INDEX - Seleciona os dados do DataFreme\n",
        "#ISIN - Verifica se os index estão dentro da lista indicada (linhas_aleatoria)\n",
        "dados_amostra = df_dados_imoveis[df_dados_imoveis.index.isin(linhas_aleatoria)]\n",
        "dados_amostra.shape"
      ],
      "metadata": {
        "id": "mcoRmf4h5aPo"
      },
      "execution_count": null,
      "outputs": []
    },
    {
      "cell_type": "code",
      "source": [
        "#Visualização de como os dados estão distribuidos na amostragem.\n",
        "import matplotlib.pyplot as plt\n",
        "\n",
        "plt.scatter(dados_amostra['area'], dados_amostra['preco'])"
      ],
      "metadata": {
        "colab": {
          "base_uri": "https://localhost:8080/",
          "height": 294
        },
        "id": "ySv-eonT8OYY",
        "outputId": "e738e334-b663-483f-a99b-01bacbd43b23"
      },
      "execution_count": 8,
      "outputs": [
        {
          "output_type": "execute_result",
          "data": {
            "text/plain": [
              "<matplotlib.collections.PathCollection at 0x7effdcfa7280>"
            ]
          },
          "metadata": {},
          "execution_count": 8
        },
        {
          "output_type": "display_data",
          "data": {
            "text/plain": [
              "<Figure size 432x288 with 1 Axes>"
            ],
            "image/png": "[encoded data removed]"
          },
          "metadata": {
            "needs_background": "light"
          }
        }
      ]
    },
    {
      "cell_type": "code",
      "source": [
        "#Seleção dos dados de amostragem mais orientada\n",
        "#SAMPLE - Seleção da quantidade que passamos como parametro\n",
        "dados_amostra_simples = df_dados_imoveis.sample(n=1500)\n",
        "dados_amostra_simples"
      ],
      "metadata": {
        "id": "aSgSTZFJ8tqK"
      },
      "execution_count": null,
      "outputs": []
    },
    {
      "cell_type": "code",
      "source": [
        "#Visualização da distribuição dos dados com base no SAMPLE\n",
        "#BINS - Intervalo em que os dados vão ser exibidos (eixo)\n",
        "\n",
        "dados_amostra_simples['area'].hist(bins=10)\n",
        "#Imoveis com menor valor está em número maior."
      ],
      "metadata": {
        "colab": {
          "base_uri": "https://localhost:8080/",
          "height": 287
        },
        "id": "l5upu0k_9ThM",
        "outputId": "276eb26c-a0b2-4aa9-d4e8-ae9fe3ea8faa"
      },
      "execution_count": 10,
      "outputs": [
        {
          "output_type": "execute_result",
          "data": {
            "text/plain": [
              "<AxesSubplot:>"
            ]
          },
          "metadata": {},
          "execution_count": 10
        },
        {
          "output_type": "display_data",
          "data": {
            "text/plain": [
              "<Figure size 432x288 with 1 Axes>"
            ],
            "image/png": "[encoded data removed]"
          },
          "metadata": {
            "needs_background": "light"
          }
        }
      ]
    },
    {
      "cell_type": "markdown",
      "source": [
        "**Amostra estartificada** - Modelo ML"
      ],
      "metadata": {
        "id": "t2XBRngf-DZ4"
      }
    },
    {
      "cell_type": "code",
      "source": [
        "#model_selection - seleção de dados aleatória\n",
        "from sklearn.model_selection import train_test_split\n",
        "\n",
        "#Vai pegar apenas 1500 e o restante dos dados fica para treina o modelo\n",
        "#random_state=1245 - garatir a forma de como os dados foram escolhidos\n",
        "#stratify - grupos, garatir que todos os bairros esteja participando da amostragem\n",
        "n = 1000\n",
        "treino_amostra, teste_amostra = train_test_split(df_dados_imoveis,\n",
        "                                                 test_size = n,\n",
        "                                                 random_state=1245,\n",
        "                                                 stratify=df_dados_imoveis['bairro'])\n",
        "print(f\"Dados de treino: {treino_amostra.shape}\")\n",
        "print(f\"Dados de teste: {teste_amostra.shape}\")"
      ],
      "metadata": {
        "id": "feo7G6HQ-l-L"
      },
      "execution_count": null,
      "outputs": []
    },
    {
      "cell_type": "code",
      "source": [
        "from numpy import unique\n",
        "from numpy import where\n",
        "from sklearn.datasets import make_classification\n",
        "from sklearn.cluster import AgglomerativeClustering\n",
        "from matplotlib import pyplot\n",
        "\n",
        "#Carga de dados\n",
        "X = treino_amostra.copy()\n",
        "\n",
        "#Conversão para valores numericos\n",
        "#Ele transforma bairro em coluna e para cada linha (id do imovel) é peenchido com o 1 se for aquele bairro daquela imovel\n",
        "dummies = pd.get_dummies(X.bairro)\n",
        "\n",
        "#Concatenação com o DataFreme orginal com a transformação dos bairros e gerar um DataFreme novo \n",
        "merged = pd.concat([X, dummies], axis='columns')\n",
        "\n",
        "#Apaga colunas que não vão ser utilizadas (dados do tipo texto)\n",
        "#Bairro com o tipo texto\n",
        "del merged['bairro']\n",
        "del merged['categoria']\n",
        "\n",
        "#Apagar dados que contém NaN\n",
        "X = merged.dropna().to_numpy()\n",
        "\n",
        "#Modelo de clusterização divido em 4\n",
        "model = AgglomerativeClustering(n_clusters=4)\n",
        "\n",
        "#Validar se a hipótese de divir em 4 clusters é realmente valida\n",
        "\n",
        "#Treinamento do modelo de predição dos clusters\n",
        "yhat = model.fit_predict(X)\n",
        "\n",
        "#Recuperação dos id dos clusters\n",
        "clusters = unique(yhat)\n",
        "\n",
        "#Plota uma aproximação dos clusters\n",
        "for cluster in clusters:\n",
        "  #Recupera a linha atual do cluster\n",
        "  row_ix = where(yhat == cluster)\n",
        "  #plota as instâncias\n",
        "  pyplot.scatter(X[row_ix, 0], X[row_ix, 1])\n",
        "\n",
        "#Exibição do gráfico\n",
        "pyplot.show()"
      ],
      "metadata": {
        "colab": {
          "base_uri": "https://localhost:8080/",
          "height": 278
        },
        "id": "FOu5hZaCUY3H",
        "outputId": "5cfb0ca1-1cac-41ec-a564-114178f8fca4"
      },
      "execution_count": 12,
      "outputs": [
        {
          "output_type": "display_data",
          "data": {
            "text/plain": [
              "<Figure size 432x288 with 1 Axes>"
            ],
            "image/png": "[encoded data removed]"
          },
          "metadata": {
            "needs_background": "light"
          }
        }
      ]
    },
    {
      "cell_type": "code",
      "source": [
        "#MODELO DE APREDIZAGEM\n",
        "from sklearn.linear_model import LinearRegression\n",
        "\n",
        "#Carga dos dos dados\n",
        "X = treino_amostra.copy()\n",
        "\n",
        "#Conversão para valores numericos\n",
        "dummies = pd.get_dummies(X.bairro)\n",
        "#Concatenação com o DataFreme orginal\n",
        "merged = pd.concat([X, dummies], axis='columns')\n",
        "\n",
        "#Apaga colunas do tipo texto\n",
        "del merged['bairro']\n",
        "del merged['categoria']\n",
        "\n",
        "#Vai selecionar todas as linhas a partir da primeira coluna\n",
        "X = merged.dropna().iloc[:, 1:].to_numpy()\n",
        "#Vai selecionar apenas a primeira coluna\n",
        "y = merged.dropna().iloc[:, 1:].to_numpy()\n",
        "\n",
        "reg = LinearRegression().fit(X, y)"
      ],
      "metadata": {
        "id": "gDeDcWjXau1H"
      },
      "execution_count": 15,
      "outputs": []
    },
    {
      "cell_type": "code",
      "source": [
        "#TESTE DE APRENDIZAGEM\n",
        "#Predição\n",
        "#Carga dos dos dados\n",
        "X_teste = treino_amostra.copy()\n",
        "\n",
        "#Conversão para valores numericos\n",
        "dummies = pd.get_dummies(X_teste.bairro)\n",
        "#Concatenação com o DataFreme orginal\n",
        "merged = pd.concat([X_teste, dummies], axis='columns')\n",
        "\n",
        "#Apaga colunas do tipo texto\n",
        "del merged['bairro']\n",
        "del merged['categoria']\n",
        "\n",
        "#Vai selecionar todas as linhas a partir da primeira coluna\n",
        "X_teste = merged.dropna().iloc[:, 1:].to_numpy()\n",
        "#Armazena valor real dos imoveis\n",
        "y_teste = merged.dropna().iloc[:, 1:].to_numpy()\n",
        "\n",
        "#Aqui vai saber predizer o preço com base nos dados que ele aprendeu nos dados de treino\n",
        "#y_pred vai dizer a predição do valor do imovel\n",
        "y_pred = reg.predict(X_teste)"
      ],
      "metadata": {
        "id": "wPu0qSqSddRB"
      },
      "execution_count": 23,
      "outputs": []
    },
    {
      "cell_type": "code",
      "source": [
        "#Plotagem do gráfico para comparação\n",
        "fig, ax = plt.subplots()\n",
        "ax.scatter(y_teste, y_pred, edgecolors=(0, 0, 0))\n",
        "ax.plot([y_teste.min(), y_teste.max()],\n",
        "        [y_teste.min(), y_teste.max()], 'k--', lw=4)\n",
        "ax.set_xlabel('Real')\n",
        "ax.set_xlabel('Predição')\n",
        "plt.show()"
      ],
      "metadata": {
        "id": "xLU6G1rpe7QT",
        "outputId": "1b617753-02bc-4852-bacc-59f741d097c6",
        "colab": {
          "base_uri": "https://localhost:8080/",
          "height": 279
        }
      },
      "execution_count": 26,
      "outputs": [
        {
          "output_type": "display_data",
          "data": {
            "text/plain": [
              "<Figure size 432x288 with 1 Axes>"
            ],
            "image/png": "[encoded data removed]"
          },
          "metadata": {
            "needs_background": "light"
          }
        }
      ]
    },
    {
      "cell_type": "markdown",
      "source": [
        "conhecida também com Classificação supervisionada em relação aos modelos de ML"
      ],
      "metadata": {
        "id": "u9KJal1eclWD"
      }
    }
  ]
}