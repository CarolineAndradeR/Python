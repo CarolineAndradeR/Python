{
  "nbformat": 4,
  "nbformat_minor": 0,
  "metadata": {
    "colab": {
      "provenance": [],
      "mount_file_id": "1n05hPiEJvUrVm5L4K6NkQ1unk-RIhgEx",
      "authorship_tag": "ABX9TyNgDs6CMkHSYkSBC9Rm0qI0",
      "include_colab_link": true
    },
    "kernelspec": {
      "name": "python3",
      "display_name": "Python 3"
    },
    "language_info": {
      "name": "python"
    }
  },
  "cells": [
    {
      "cell_type": "markdown",
      "metadata": {
        "id": "view-in-github",
        "colab_type": "text"
      },
      "source": [
        "<a href=\"https://colab.research.google.com/github/CarolineAndradeR/Python/blob/master/ConjuntoDados.ipynb\" target=\"_parent\"><img src=\"https://colab.research.google.com/assets/colab-badge.svg\" alt=\"Open In Colab\"/></a>"
      ]
    },
    {
      "cell_type": "code",
      "execution_count": 2,
      "metadata": {
        "colab": {
          "base_uri": "https://localhost:8080/"
        },
        "id": "e_Jf7SAOUMYV",
        "outputId": "01afd911-2228-42f0-8e64-0826b7269002"
      },
      "outputs": [
        {
          "output_type": "stream",
          "name": "stdout",
          "text": [
            "Drive already mounted at /content/drive; to attempt to forcibly remount, call drive.mount(\"/content/drive\", force_remount=True).\n"
          ]
        },
        {
          "output_type": "stream",
          "name": "stderr",
          "text": [
            "<ipython-input-2-ed0bcaeaaa60>:12: FutureWarning: 'H' is deprecated and will be removed in a future version, please use 'h' instead.\n",
            "  \"DataVenda\": pd.date_range(start=\"2022-01-01\", periods=num_vendas, freq=\"H\"),\n",
            "<ipython-input-2-ed0bcaeaaa60>:29: FutureWarning: 'H' is deprecated and will be removed in a future version, please use 'h' instead.\n",
            "  \"DataEntrada\": pd.date_range(start=\"2022-01-01\", periods=num_entradas, freq=\"12H\"),\n",
            "<ipython-input-2-ed0bcaeaaa60>:57: FutureWarning: 'M' is deprecated and will be removed in a future version, please use 'ME' instead.\n",
            "  \"Data\": pd.date_range(start=\"2022-01-01\", periods=num_provisoes, freq=\"M\"),\n"
          ]
        },
        {
          "output_type": "stream",
          "name": "stdout",
          "text": [
            "Arquivos salvos no Google Drive.\n"
          ]
        }
      ],
      "source": [
        "import pandas as pd\n",
        "import numpy as np\n",
        "from google.colab import drive\n",
        "\n",
        "# Montando o Google Drive\n",
        "drive.mount('/content/drive')\n",
        "\n",
        "# Funções auxiliares para gerar os dados\n",
        "def gerar_faturamento_por_item(num_vendas):\n",
        "    data = {\n",
        "        \"NumeroNota\": np.arange(1, num_vendas + 1),\n",
        "        \"DataVenda\": pd.date_range(start=\"2022-01-01\", periods=num_vendas, freq=\"H\"),\n",
        "        \"IDItem\": np.random.randint(1, 501, num_vendas),\n",
        "        \"IDCliente\": np.random.randint(1, 1001, num_vendas),\n",
        "        \"IDFilial\": np.random.randint(1, 5, num_vendas),\n",
        "        \"QuantidadeVendida\": np.random.randint(1, 100, num_vendas),\n",
        "        \"PrecoUnitario\": np.round(np.random.uniform(50, 500, num_vendas), 2),\n",
        "        \"ValorTotal\": lambda df: df[\"QuantidadeVendida\"] * df[\"PrecoUnitario\"],\n",
        "        \"Imposto\": lambda df: df[\"ValorTotal\"] * 0.15\n",
        "    }\n",
        "    df = pd.DataFrame(data)\n",
        "    df[\"ValorTotal\"] = df.eval(\"QuantidadeVendida * PrecoUnitario\")\n",
        "    df[\"Imposto\"] = df.eval(\"ValorTotal * 0.15\")\n",
        "    return df\n",
        "\n",
        "def gerar_entrada_mercadoria(num_entradas):\n",
        "    data = {\n",
        "        \"NumeroNotaEntrada\": np.arange(1, num_entradas + 1),\n",
        "        \"DataEntrada\": pd.date_range(start=\"2022-01-01\", periods=num_entradas, freq=\"12H\"),\n",
        "        \"IDItem\": np.random.randint(1, 501, num_entradas),\n",
        "        \"IDFornecedor\": np.random.randint(1, 501, num_entradas),\n",
        "        \"IDFilial\": np.random.randint(1, 5, num_entradas),\n",
        "        \"QuantidadeRecebida\": np.random.randint(10, 500, num_entradas),\n",
        "        \"PrecoUnitario\": np.round(np.random.uniform(50, 400, num_entradas), 2),\n",
        "        \"ValorTotal\": lambda df: df[\"QuantidadeRecebida\"] * df[\"PrecoUnitario\"]\n",
        "    }\n",
        "    df = pd.DataFrame(data)\n",
        "    df[\"ValorTotal\"] = df.eval(\"QuantidadeRecebida * PrecoUnitario\")\n",
        "    return df\n",
        "\n",
        "def gerar_notas_lancamento_despesas(num_despesas):\n",
        "    tipos_despesa = [\"Operacional\", \"Administrativa\", \"Financeira\"]\n",
        "    data = {\n",
        "        \"NumeroNota\": np.arange(1, num_despesas + 1),\n",
        "        \"DataNota\": pd.date_range(start=\"2022-01-01\", periods=num_despesas, freq=\"D\"),\n",
        "        \"DescricaoDespesa\": np.random.choice(tipos_despesa, num_despesas),\n",
        "        \"Valor\": np.round(np.random.uniform(1000, 50000, num_despesas), 2),\n",
        "        \"TipoMovimento\": np.random.choice(tipos_despesa, num_despesas),\n",
        "        \"IDFilial\": np.random.randint(1, 5, num_despesas),\n",
        "        \"IDPlanoContas\": np.random.randint(1, 101, num_despesas)\n",
        "    }\n",
        "    return pd.DataFrame(data)\n",
        "\n",
        "def gerar_lancamento_provisoes(num_provisoes):\n",
        "    tipos_provisao = [\"Divida\", \"Investimento\", \"Reserva\"]\n",
        "    data = {\n",
        "        \"Data\": pd.date_range(start=\"2022-01-01\", periods=num_provisoes, freq=\"M\"),\n",
        "        \"IDFilial\": np.random.randint(1, 5, num_provisoes),\n",
        "        \"Valor\": np.round(np.random.uniform(5000, 100000, num_provisoes), 2),\n",
        "        \"TipoProvisao\": np.random.choice(tipos_provisao, num_provisoes),\n",
        "        \"IDPlanoContas\": np.random.randint(1, 101, num_provisoes)\n",
        "    }\n",
        "    return pd.DataFrame(data)\n",
        "\n",
        "def gerar_estoque_por_item(num_itens):\n",
        "    data = {\n",
        "        \"Data\": pd.date_range(start=\"2022-01-01\", periods=num_itens, freq=\"D\"),\n",
        "        \"IDItem\": np.random.randint(1, 501, num_itens),\n",
        "        \"IDFilial\": np.random.randint(1, 5, num_itens),\n",
        "        \"QuantidadeEmEstoque\": np.random.randint(50, 1000, num_itens),\n",
        "        \"QuantidadeEntrada\": np.random.randint(1, 500, num_itens),\n",
        "        \"QuantidadeSaida\": np.random.randint(1, 500, num_itens)\n",
        "    }\n",
        "    return pd.DataFrame(data)\n",
        "\n",
        "# Gerando as tabelas\n",
        "num_vendas = 200000  # 100 mil por ano * 2 anos\n",
        "num_entradas = 100000  # Arbitrário para entradas de mercadoria\n",
        "num_despesas = 50000  # Arbitrário para despesas\n",
        "num_provisoes = 100  # Arbitrário para provisões\n",
        "num_itens_estoque = 50000  # Arbitrário para registros de estoque\n",
        "\n",
        "# Gerar tabelas\n",
        "faturamento_por_item = gerar_faturamento_por_item(num_vendas)\n",
        "entrada_mercadoria = gerar_entrada_mercadoria(num_entradas)\n",
        "notas_lancamento_despesas = gerar_notas_lancamento_despesas(num_despesas)\n",
        "lancamento_provisoes = gerar_lancamento_provisoes(num_provisoes)\n",
        "estoque_por_item = gerar_estoque_por_item(num_itens_estoque)\n",
        "\n",
        "# Salvando em CSV no Google Drive\n",
        "faturamento_por_item.to_csv(\"/content/drive/My Drive/faturamento_por_item.csv\", index=False)\n",
        "entrada_mercadoria.to_csv(\"/content/drive/My Drive/entrada_mercadoria.csv\", index=False)\n",
        "notas_lancamento_despesas.to_csv(\"/content/drive/My Drive/notas_lancamento_despesas.csv\", index=False)\n",
        "lancamento_provisoes.to_csv(\"/content/drive/My Drive/lancamento_provisoes.csv\", index=False)\n",
        "estoque_por_item.to_csv(\"/content/drive/My Drive/estoque_por_item.csv\", index=False)\n",
        "\n",
        "print(\"Arquivos salvos no Google Drive.\")\n"
      ]
    }
  ]
}