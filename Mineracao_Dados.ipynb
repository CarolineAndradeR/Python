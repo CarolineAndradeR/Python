{
  "nbformat": 4,
  "nbformat_minor": 0,
  "metadata": {
    "colab": {
      "provenance": [],
      "authorship_tag": "ABX9TyO0dia5uolxt8IJYS73t5cR",
      "include_colab_link": true
    },
    "kernelspec": {
      "name": "python3",
      "display_name": "Python 3"
    },
    "language_info": {
      "name": "python"
    }
  },
  "cells": [
    {
      "cell_type": "markdown",
      "metadata": {
        "id": "view-in-github",
        "colab_type": "text"
      },
      "source": [
        "<a href=\"https://colab.research.google.com/github/CarolineAndradeR/Python/blob/master/Mineracao_Dados.ipynb\" target=\"_parent\"><img src=\"https://colab.research.google.com/assets/colab-badge.svg\" alt=\"Open In Colab\"/></a>"
      ]
    },
    {
      "cell_type": "code",
      "execution_count": null,
      "metadata": {
        "id": "NZFegihm9HB5"
      },
      "outputs": [],
      "source": []
    },
    {
      "cell_type": "markdown",
      "source": [
        "# **INTRODUÇÃO**"
      ],
      "metadata": {
        "id": "KbGr40hLDwIu"
      }
    },
    {
      "cell_type": "markdown",
      "source": [
        "# Processo de KDD\n",
        "Após as etapas de tratamento de dados se inicia o processo de KKD iniciando com a etapa de Data Mining (mineração de dados) com intenção de descobrir padrões nos dados (Pattern Recognition).\n",
        "\n",
        "\n",
        "**IA**- Está mais direcionada a desenvolver métodos de aprenzagem, imitando os seres humanos, porém aplicando esses apredizados por meio de algoritmos de máquina.\n",
        "\n",
        "**Machine Learning**- Está mais direcionada a desenvolver métodos e algoritmos para resolver problemas de previsões e apredizado baseado em dados.\n",
        "\n",
        "**KDD** - Está mais direcionada no conhecimento gerado a partir da apredizagem baseada em dados, por sua vez utiliza de Data Mining como uma de suas etapas.\n",
        "\n",
        "**Data Mining**- Está mais direcionada no uso de algoritmos, na aplicação deles, sejam eles oriundis de pesquisas geradas em Data Mining, sejam em IA ou ainda em ML.\n",
        "\n",
        "\n",
        "# Técnicas de seleção de dados\n",
        "\n",
        "É necessário entender o problema a ser resolvido, com isso podemos definir onde será encontrado os dados.\n",
        "\n",
        "*   Seleção de dados em tabelas, seja com junções, uniões de dados.\n",
        "*   Definição de amostras de trabalho. Nem sempre é necessário e não é indicado trabalhar com todos os dados disponíveis de uma tabela, é necessário buscar uma amostragem dos dados.\n",
        "* Redução de dados na vertical já que nem todas as colunas são utilziadas, mas também é possivel aplicar a análise de componente principal (um agrupador das colunas).\n",
        "* Redução de valor dentro do campo ou coluna, com indentificação de hierarquias nos dados, arredondamento de valores e definições de faixas de valores (faixa etária, faixas por quantidades relativas ou percentuais).\n",
        "\n",
        "\n",
        "# Técnicas de pré-processamento de dados\n",
        "\n",
        "Na maiorias das veze mesmo após a seleção dos dados eles ainda não estão prontos para ser utilizados.\n",
        "* Limpeza de valores ausentes como exclusão das linhas da tabela.\n",
        "* Preenchimento de valores ausentes com entrada manual de dados, valores fixos, medidas estatísticas ou até mesmo resultado de métodos de Data Mining.\n",
        "* Tratamento de inconsistências como os tipo de valores não aceitos, gerando uam eliminação da linha ou correção do valor.\n",
        "* Codificação de dados transformando em números já que agoritmos tratam essencialmente com cálculos\n",
        "* Enriquecimento de dados utilizando dados externos que pode resultar em fracaso ou sucesso de um estudos de dados.\n",
        "\n",
        "**Dummy** - é uma representação binária, do tipo 0 ou 1 para alguma caracteristica presente ou não.\n",
        "\n",
        "\n",
        "# Técnicas de transformaçõe de dados\n",
        "\n",
        "* Padronização e normalização dos dados.\n",
        "* Construção de atributos (como o cálculo de idade caseada na data de nascimento)\n",
        "* Correção de prevalencia alguns algoritmos precisam de um número minimo de observações (linhas ou casos) de cada classe para conseguir ser execultado de forma adequada. Quando existe um desbalanciamento grade (um % pequeno em relação ao outro) pode ser necessário equilibrar as porções.\n",
        "* Partição de conjunto de dados é util para avaliar se a previsão é bem-sucedida antes de utilizar na prática, por isso \"guarda\" uma amostra não utilizada na construção do algoritmo com fins de validação ou teste do algoritmo posteriormente.\n",
        "\n",
        "# Etapas aplicadas dentro de Data Mining\n",
        "\n",
        "**Regras de associação -** Basicamente é encontrar subconjuntos de dados que pode ocorrer de forma simultânea e frequente. Ex: Análise de cestas, onde o objetivo é encontrar itens que são vendidos de forma frequentemente juntos.\n",
        "\n",
        "**Sequências -** É uma extensão da regra de associação, quando há uma sequência que se está estudando. Ex: Uma ordem de compras em dias diferentes que pode sugerir um padrão.\n",
        "\n",
        "**Classificação -** Um conjunto de dados observados com várias característica. Ex: Um caso de trasação de um site de Web Commerce, após classificarmos as transações como fraudulentas e não fraudulentas.\n",
        "\n",
        "**Regressão -** Analisar uma relação de dependência, de causa e consequência, na qual a consequência é a várial que se está estudando como alvo e as causas são as outras características dos dados. Ex: Uma precisão de vendas horária baseada no histórico recente de vendas, tipos de procutos, sazonalidades diárias, semanis e horárias, preço e promoção e outros.\n",
        "\n",
        "**Sumarização -** Busca descrever os dados de forma resumida, mas com entendimento e uma explicação deles. Ex: Pode ser a resposta das características dos clientes de um determinado produtos e que moram em uma determinada região, a respotas seria \"São mais de 73% dos clientes com faixa de renda entre 5.000 e 7.000, nível superior e que possuem residência própria\".\n",
        "\n",
        "**Clusterização -** Agrupar observações ou objetos que possam ser similares entre si.\n",
        "\n",
        "**Previsão de séries temporais -** Uma tarefa de previsão (futuro) de dados. Uma previsão de série ttemporal utiliza-se de técnicas de regressão, classificada como um subconjunto de regressão.\n",
        "\n",
        "**Detecção de desvios -** Quando temos uma característica bem conhecida em nossos dados e temos uma certa ideia de grandes variações além dos valores usuais, é utilizado a detecçao de desvios para encontrar ou monitorar esses desfios além do esperado.\n",
        "\n",
        "# Métodos de mineração de dados\n",
        "**Tradicionais**\n",
        "\n",
        "**KNN - ** A tentativa de indetificar caracteríscas de um objeto pelo objeto mais proxímo a ele e assumir a premissa de que deve ser parecido.\n",
        "\n",
        "**Classificador Bayesiano -** Teorema de Bayes, conceito de probabilidade condicional. Ex: Aplicação desse algoritmo em classificação de texto, para definir o que é um email spam ou não.\n",
        "\n",
        "**K-Means -**K-médias é parecido com o KNN. A diferença é que não temos uma caractérisca alvo para buscar espelhar. Basicamente é encontrar o objeto que estão próximos e depois ter a tarefa de descobrir o que fazer com isso.\n",
        "\n",
        "**Apriori -** É dos métodos associativos mais aplicados em mineração de dados. Observação dos itens mais frequentes em conjunto de dados.\n",
        "\n",
        "**C4.5 -** implementação de uma árvore de decisão.\n",
        "\n",
        "**Máquinas de Vetores de Suporte (SVM)-** Criado inicialmente como classificador mas podendo ser usado como regressor.\n",
        "\n",
        "# Métodos Bioinspirados\n",
        "**Redes neurais -**Simular o comportamento de células nervosas (neurônios) humanos em formato de rede. As redes de apredizagem profunda (Deep Learning) ganhou visibilidade com o tratamento de imagens, sons e etc.\n",
        "\n",
        "**Algoritmo genéticos -** Darwin, algoritmos adaptativos com diversas aplicações, entre elas problemas de otimização, onde busccamos ajustes de parâmetros.\n",
        "\n",
        "**Lógica Nebulosa (Fuzzy) -** Lógica booleana (0 e 1), podemos ter valores intermediários ente 0 e 1."
      ],
      "metadata": {
        "id": "KBhLotiT-T7D"
      }
    }
  ]
}