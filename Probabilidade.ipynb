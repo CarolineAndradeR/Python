{
  "nbformat": 4,
  "nbformat_minor": 0,
  "metadata": {
    "colab": {
      "provenance": [],
      "authorship_tag": "ABX9TyODhgB7x66ggqtv6E5t3RpA",
      "include_colab_link": true
    },
    "kernelspec": {
      "name": "python3",
      "display_name": "Python 3"
    },
    "language_info": {
      "name": "python"
    }
  },
  "cells": [
    {
      "cell_type": "markdown",
      "metadata": {
        "id": "view-in-github",
        "colab_type": "text"
      },
      "source": [
        "<a href=\"https://colab.research.google.com/github/CarolineAndradeR/Python/blob/master/Probabilidade.ipynb\" target=\"_parent\"><img src=\"https://colab.research.google.com/assets/colab-badge.svg\" alt=\"Open In Colab\"/></a>"
      ]
    },
    {
      "cell_type": "markdown",
      "source": [
        "# **Teoria**"
      ],
      "metadata": {
        "id": "VltdSS4tOATr"
      }
    },
    {
      "cell_type": "markdown",
      "source": [
        "**Conceitos de Probabilidade**\n",
        "*   Projeções diversas, estimação do risco e criação de cénarios.\n",
        "*   Os princípios de contagens de eventos, permutação, combinação e condicionalidade.\n",
        "\n"
      ],
      "metadata": {
        "id": "FTGxFoR3q_yD"
      }
    },
    {
      "cell_type": "markdown",
      "source": [
        "A contagem de **eventos** é a atividade de obter todas as possibilidades dentro de um conjunto de ações realizadas. Um evento pode ou não acontecer.\n",
        "\n",
        "*   **Permutação** - Quando a ordem dos eventos importa.\n",
        "*   **Combinação** - Quando precisa arranjar os eventos sem considerar a ordem.\n",
        "*   **Condicionalidade** - Existe três formas: simples, combinado e condicional.\n",
        "\n",
        "> **Simples** - Obtida de forma direta.\n",
        "\n",
        "> **Combinada** - Quando existe duas posibilidade do evento acontecer.\n",
        "\n",
        "> **Consicional** - Um evento pode acontecer com base em um evento anterior.\n",
        "\n",
        "\n",
        "\n",
        "\n",
        "\n",
        "\n"
      ],
      "metadata": {
        "id": "fOvg947MulDB"
      }
    },
    {
      "cell_type": "markdown",
      "source": [
        "**Váriavel Aleatório**\n",
        "*   Discreta - Possui um número finito de resultados.\n",
        "*   Contínuas - Resultados amplos que é quase impossível realzizar uma contagem.\n",
        "\n",
        "**Distribuições Discretas**\n",
        "*   Binominal e Poisson\n",
        "\n",
        "**Distribuições Contínuass**\n",
        "*   Exponencial e Normal\n",
        "\n"
      ],
      "metadata": {
        "id": "3v7i6OSiv3Ae"
      }
    },
    {
      "cell_type": "markdown",
      "source": [
        "**Principais funções**\n",
        "\n",
        "*   Permutação - **permutations()**\n",
        "*   Combinação - **combinations(), combinations_with_replacement()**\n",
        "*   Histogramas - **hist, displot**\n",
        "*   Distribuição Binomial - **binom()**\n",
        "*   Distribuição Poisson - **poisson()**\n",
        "*   Distribuição Exponencial - **expon()**\n",
        "*   Distribuição Normal - **norm()**"
      ],
      "metadata": {
        "id": "maC-lgl5Mi5v"
      }
    },
    {
      "cell_type": "code",
      "source": [],
      "metadata": {
        "id": "PRu-FYwhmR4I"
      },
      "execution_count": null,
      "outputs": []
    },
    {
      "cell_type": "markdown",
      "source": [
        "# **DISTRIBUIÇÕES PROBABILÍSTICAS**"
      ],
      "metadata": {
        "id": "y0FUq9XONzm6"
      }
    },
    {
      "cell_type": "code",
      "source": [
        "!pip install numpy\n",
        "!pip install pandas\n",
        "!pip install scipy\n",
        "!pip install statsmodels\n",
        "!pip install sklearn"
      ],
      "metadata": {
        "id": "4bYijj1unOaI"
      },
      "execution_count": null,
      "outputs": []
    },
    {
      "cell_type": "code",
      "source": [
        "from google.colab import drive\n",
        "drive.mount('/content/drive')\n",
        "\n",
        "import pandas as pd\n",
        "\n",
        "arq_dados_stream = '/content/drive/MyDrive/netflix_titles.csv'\n",
        "df_dados_stream = pd.read_csv(arq_dados_stream)\n",
        "df_dados_stream.head(10)"
      ],
      "metadata": {
        "id": "63iXWYJdMhwf"
      },
      "execution_count": null,
      "outputs": []
    },
    {
      "cell_type": "code",
      "source": [
        "idx_movies_2020 = (df_dados_stream['type'] == 'Movie') & (df_dados_stream['release_year'] == 2020)\n",
        "df_dados_filmes = df_dados_stream[ idx_movies_2020]\n",
        "# | - ou\n",
        "idx_comedias_dramas_2020 = df_dados_filmes['listed_in'].str.contains('Comedies|Dramas')\n",
        "df_comedias_dramas = df_dados_filmes[ idx_movies_2020]\n",
        "df_comedias_dramas"
      ],
      "metadata": {
        "id": "rl3VYs8-a7iK"
      },
      "execution_count": null,
      "outputs": []
    },
    {
      "cell_type": "code",
      "source": [],
      "metadata": {
        "id": "h2-iGIFnfJTd"
      },
      "execution_count": null,
      "outputs": []
    }
  ]
}