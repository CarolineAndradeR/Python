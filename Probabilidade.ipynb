{
  "nbformat": 4,
  "nbformat_minor": 0,
  "metadata": {
    "colab": {
      "provenance": [],
      "authorship_tag": "ABX9TyP9sVu2mCBHWuTNCqc7Slar",
      "include_colab_link": true
    },
    "kernelspec": {
      "name": "python3",
      "display_name": "Python 3"
    },
    "language_info": {
      "name": "python"
    }
  },
  "cells": [
    {
      "cell_type": "markdown",
      "metadata": {
        "id": "view-in-github",
        "colab_type": "text"
      },
      "source": [
        "<a href=\"https://colab.research.google.com/github/CarolineAndradeR/Python/blob/master/Probabilidade.ipynb\" target=\"_parent\"><img src=\"https://colab.research.google.com/assets/colab-badge.svg\" alt=\"Open In Colab\"/></a>"
      ]
    },
    {
      "cell_type": "markdown",
      "source": [
        "**Conceitos de Probabilidade**\n",
        "*   Projeções diversas, estimação do risco e criação de cénarios.\n",
        "*   Os princípios de contagens de eventos, permutação, combinação e condicionalidade.\n",
        "\n"
      ],
      "metadata": {
        "id": "FTGxFoR3q_yD"
      }
    },
    {
      "cell_type": "code",
      "source": [],
      "metadata": {
        "id": "UXvjnGHvq-80"
      },
      "execution_count": null,
      "outputs": []
    }
  ]
}