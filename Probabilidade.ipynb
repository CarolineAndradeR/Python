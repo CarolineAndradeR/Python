{
  "nbformat": 4,
  "nbformat_minor": 0,
  "metadata": {
    "colab": {
      "provenance": [],
      "mount_file_id": "https://github.com/CarolineAndradeR/Python/blob/master/Probabilidade.ipynb",
      "authorship_tag": "ABX9TyM+1HA0YH9vBizZMZQ8bEv4",
      "include_colab_link": true
    },
    "kernelspec": {
      "name": "python3",
      "display_name": "Python 3"
    },
    "language_info": {
      "name": "python"
    }
  },
  "cells": [
    {
      "cell_type": "markdown",
      "metadata": {
        "id": "view-in-github",
        "colab_type": "text"
      },
      "source": [
        "<a href=\"https://colab.research.google.com/github/CarolineAndradeR/Python/blob/master/Probabilidade.ipynb\" target=\"_parent\"><img src=\"https://colab.research.google.com/assets/colab-badge.svg\" alt=\"Open In Colab\"/></a>"
      ]
    },
    {
      "cell_type": "markdown",
      "source": [
        "# **Teoria**"
      ],
      "metadata": {
        "id": "VltdSS4tOATr"
      }
    },
    {
      "cell_type": "markdown",
      "source": [
        "**Conceitos de Probabilidade**\n",
        "*   Uma médida numérica sobre a possibilidade de um determinado evento ocorrer.\n",
        "*   Projeções diversas, estimação do risco e criação de cénarios.\n",
        "*   Os princípios de contagens de eventos, permutação, combinação e condicionalidade.\n",
        "\n"
      ],
      "metadata": {
        "id": "FTGxFoR3q_yD"
      }
    },
    {
      "cell_type": "markdown",
      "source": [
        "A contagem de **eventos** é a atividade de obter todas as possibilidades dentro de um conjunto de ações realizadas. Um evento pode ou não acontecer.\n",
        "\n",
        "*   **Permutação** - Quando a ordem dos eventos importa. \n",
        "*   **Combinação** - Quando precisa arranjar os eventos sem considerar a ordem.\n",
        "*   **Condicionalidade** - Existe três formas: simples, combinado e condicional.\n",
        "\n",
        "> **Simples** - Obtida de forma direta.\n",
        "\n",
        "> **Combinada** - Quando existe duas posibilidade do evento acontecer.\n",
        "\n",
        "> **Consicional** - Um evento pode acontecer com base em um evento anterior.\n",
        "\n",
        "\n",
        "\n",
        "\n",
        "\n",
        "\n"
      ],
      "metadata": {
        "id": "fOvg947MulDB"
      }
    },
    {
      "cell_type": "markdown",
      "source": [
        "**Váriavel Aleatório**\n",
        "*   Discreta - Possui um número finito de resultados. (Apenas duas opções)\n",
        "*   Contínuas - Resultados amplos que é quase impossível realzizar uma contagem.\n",
        "\n",
        "**Distribuições Discretas**\n",
        "*   Binominal e Poisson\n",
        "\n",
        "**Distribuições Contínuass**\n",
        "*   Exponencial e Normal\n",
        "\n"
      ],
      "metadata": {
        "id": "3v7i6OSiv3Ae"
      }
    },
    {
      "cell_type": "markdown",
      "source": [
        "**Principais funções**\n",
        "\n",
        "*   Permutação - **permutations()**\n",
        "*   Combinação - **combinations(), combinations_with_replacement()**\n",
        "*   Histogramas - **hist, displot**\n",
        "*   Distribuição Binomial - **binom()**\n",
        "*   Distribuição Poisson - **poisson()**\n",
        "*   Distribuição Exponencial - **expon()**\n",
        "*   Distribuição Normal - **norm()**"
      ],
      "metadata": {
        "id": "maC-lgl5Mi5v"
      }
    },
    {
      "cell_type": "code",
      "source": [],
      "metadata": {
        "id": "PRu-FYwhmR4I"
      },
      "execution_count": null,
      "outputs": []
    },
    {
      "cell_type": "markdown",
      "source": [
        "# **Permutação e Combinações**"
      ],
      "metadata": {
        "id": "oPxL6yibk47t"
      }
    },
    {
      "cell_type": "code",
      "source": [
        "# modulos\n",
        "from itertools import product, permutations, combinations, combinations_with_replacement\n",
        "from math import factorial\n",
        "import numpy as np\n",
        "import pandas as pd\n",
        "import datetime\n",
        "import matplotlib.pyplot as plt\n",
        "import seaborn as sns\n",
        "from scipy.stats import binom, poisson, expon, norm\n",
        "#dados\n",
        "dados_acidentes = pd.read_csv('/content/drive/MyDrive/acidentes.csv')\n",
        "dados_vinho = pd.read_csv('/content/drive/MyDrive/vinho_nacional.csv', sep = ';', decimal = ',')"
      ],
      "metadata": {
        "id": "csdcYsqi4Bri"
      },
      "execution_count": 25,
      "outputs": []
    },
    {
      "cell_type": "markdown",
      "source": [
        "Problema comum: Método eficiente para criação de senhas.\n",
        "\n",
        "\n",
        "*   Seis caracteres que pode ser apenas números.\n",
        "*   Não pode ser repetidos.\n",
        "*   A ordem dos números importa.\n",
        "\n"
      ],
      "metadata": {
        "id": "eeMsdiKClAu1"
      }
    },
    {
      "cell_type": "code",
      "source": [
        "#Número maximo de senhas posiveis.\n",
        "def formula_permutacao(n, k, repeticao = False):\n",
        "    if repeticao is True:\n",
        "        return n**k\n",
        "    else:\n",
        "#Nesta opção os números não pode se repetir - Opção 3 \n",
        "        return factorial(n) / factorial(n-k)\n",
        "#Opção 2 quando os números pode ser repetidos\n",
        "#       return factorial(n) / factorial(k)\n",
        "#obter o numero de permutacoes\n",
        "\n",
        "elementos = 10\n",
        "escolhas = 6\n",
        "formula_permutacao(n=elementos, k=escolhas, repeticao = False)"
      ],
      "metadata": {
        "id": "aajP9293iHZl",
        "outputId": "b199eb46-a519-418d-f9b1-573af241e58e",
        "colab": {
          "base_uri": "https://localhost:8080/"
        }
      },
      "execution_count": 26,
      "outputs": [
        {
          "output_type": "execute_result",
          "data": {
            "text/plain": [
              "151200.0"
            ]
          },
          "metadata": {},
          "execution_count": 26
        }
      ]
    },
    {
      "cell_type": "markdown",
      "source": [
        "**Números da mega sena**\n",
        "*   Escolher 6 números dentro das 60 possibilidades.\n",
        "*   Uma vez que o número foi sorteado ele não pode se repetir.\n",
        "*   A ordem dos números não importa.\n",
        "\n",
        "\n",
        "\n"
      ],
      "metadata": {
        "id": "dEPcYiyxzL_5"
      }
    },
    {
      "cell_type": "code",
      "source": [
        "#Coombinações possiveis\n",
        "\n",
        "def formula_combinacao(n, k, repeticao = False):\n",
        "    if repeticao is False:\n",
        "        return factorial(n) / (factorial(k) * factorial(n-k))\n",
        "    else:\n",
        "      #return factorial(n) / (factorial(k) * factorial(n - k))\n",
        "      return factorial(n + k - 1) / (factorial(k) * factorial(n - 1))\n",
        "#aplicar a formula\n",
        "n = 60\n",
        "k = 6\n",
        "formula_combinacao(n, k)"
      ],
      "metadata": {
        "id": "VXfksy0a0ea9",
        "outputId": "a1172487-ef70-429f-f5e6-a1260d2b405d",
        "colab": {
          "base_uri": "https://localhost:8080/"
        }
      },
      "execution_count": 27,
      "outputs": [
        {
          "output_type": "execute_result",
          "data": {
            "text/plain": [
              "50063860.0"
            ]
          },
          "metadata": {},
          "execution_count": 27
        }
      ]
    },
    {
      "cell_type": "markdown",
      "source": [
        "# **Distribuição de frequência (HISTOGRAMAS)**\n"
      ],
      "metadata": {
        "id": "0UYR-CBT2KFr"
      }
    },
    {
      "cell_type": "code",
      "source": [
        "#ajuste da data\n",
        "dados_acidentes['data_acidente'] = pd.to_datetime(dados_acidentes['data_acidente'], errors='coerce')\n",
        "dados_acidentes['data_acidente_mensal'] = dados_acidentes['data_acidente'].dt.strftime('%Y-%m')\n",
        "#contagem do numero de acidentes por dia\n",
        "dados_acidentes_mensal = dados_acidentes.groupby('data_acidente_mensal').size().to_frame('n').reset_index()"
      ],
      "metadata": {
        "id": "BMQzSo5y3JWq"
      },
      "execution_count": 29,
      "outputs": []
    },
    {
      "cell_type": "code",
      "source": [
        "#histograma com matplotlib\n",
        "plt.hist(dados_acidentes_mensal['n'], alpha=0.7, rwidth=0.85)\n",
        "plt.xlabel('n')\n",
        "plt.ylabel('Frequencia')\n",
        "# histograma com seaborn\n",
        "sns.displot(dados_acidentes_mensal['n'])\n",
        "plt.ylabel('Frequencia')"
      ],
      "metadata": {
        "id": "LRg5Km605tF2",
        "outputId": "949b27c6-b944-4f0a-db65-9f902bee87df",
        "colab": {
          "base_uri": "https://localhost:8080/",
          "height": 648
        }
      },
      "execution_count": 30,
      "outputs": [
        {
          "output_type": "execute_result",
          "data": {
            "text/plain": [
              "Text(0.29999999999999716, 0.5, 'Frequencia')"
            ]
          },
          "metadata": {},
          "execution_count": 30
        },
        {
          "output_type": "display_data",
          "data": {
            "text/plain": [
              "<Figure size 432x288 with 1 Axes>"
            ],
            "image/png": "[encoded data removed]"
          },
          "metadata": {
            "needs_background": "light"
          }
        },
        {
          "output_type": "display_data",
          "data": {
            "text/plain": [
              "<Figure size 360x360 with 1 Axes>"
            ],
            "image/png": "[encoded data removed]"
          },
          "metadata": {
            "needs_background": "light"
          }
        }
      ]
    },
    {
      "cell_type": "markdown",
      "source": [
        "# **Distribuições Discretas**"
      ],
      "metadata": {
        "id": "NQp6cKS-6MuR"
      }
    },
    {
      "cell_type": "markdown",
      "source": [
        "**Distribuição Binomial**\n",
        "> Consiste em N eventos de dois resultados possíveis (sim/não, sucesso/fracasso), cas evento é independente e a probabilidade de cada evento ocorrer está entre 0 e 1."
      ],
      "metadata": {
        "id": "7SVpFy5z6xAV"
      }
    },
    {
      "cell_type": "code",
      "source": [
        "#problema 1\n",
        "n = 50\n",
        "p = 0.05\n",
        "x = 5\n",
        "binom.pmf(k=x, n = n, p = p)\n",
        "#problema 2\n",
        "n = 70\n",
        "p = 0.02\n",
        "x = 4\n",
        "binom.pmf(k = x, n = n, p = p)\n",
        "#problema 3\n",
        "n = 200\n",
        "p = 0.03\n",
        "x = [7, 8, 9, 10]\n",
        "np.sum(binom.pmf(k = x, n = n, p = p))"
      ],
      "metadata": {
        "id": "xu9QaNE96g1W",
        "outputId": "73d8a939-0843-4669-9df1-6414dc406642",
        "colab": {
          "base_uri": "https://localhost:8080/"
        }
      },
      "execution_count": 31,
      "outputs": [
        {
          "output_type": "execute_result",
          "data": {
            "text/plain": [
              "0.35355705742373844"
            ]
          },
          "metadata": {},
          "execution_count": 31
        }
      ]
    },
    {
      "cell_type": "markdown",
      "source": [
        "# **DISTRIBUIÇÕES PROBABILÍSTICAS**"
      ],
      "metadata": {
        "id": "y0FUq9XONzm6"
      }
    },
    {
      "cell_type": "code",
      "source": [],
      "metadata": {
        "id": "k594RaYQk6NU"
      },
      "execution_count": null,
      "outputs": []
    },
    {
      "cell_type": "code",
      "source": [
        "!pip install numpy\n",
        "!pip install pandas\n",
        "!pip install scipy\n",
        "!pip install statsmodels\n",
        "!pip install sklearn"
      ],
      "metadata": {
        "id": "4bYijj1unOaI"
      },
      "execution_count": null,
      "outputs": []
    },
    {
      "cell_type": "code",
      "source": [
        "from google.colab import drive\n",
        "drive.mount('/content/drive')\n",
        "\n",
        "import pandas as pd\n",
        "\n",
        "arq_dados_stream = '/content/drive/MyDrive/netflix_titles.csv'\n",
        "df_dados_stream = pd.read_csv(arq_dados_stream)\n",
        "df_dados_stream.head(10)"
      ],
      "metadata": {
        "id": "63iXWYJdMhwf"
      },
      "execution_count": null,
      "outputs": []
    },
    {
      "cell_type": "code",
      "source": [
        "idx_movies_2020 = (df_dados_stream['type'] == 'Movie') & (df_dados_stream['release_year'] == 2020)\n",
        "df_dados_filmes = df_dados_stream[ idx_movies_2020]\n",
        "# | - ou\n",
        "idx_comedias_dramas_2020 = df_dados_filmes['listed_in'].str.contains('Comedies|Dramas')\n",
        "df_comedias_dramas = df_dados_filmes[ idx_movies_2020]\n",
        "df_comedias_dramas"
      ],
      "metadata": {
        "id": "rl3VYs8-a7iK"
      },
      "execution_count": null,
      "outputs": []
    }
  ]
}