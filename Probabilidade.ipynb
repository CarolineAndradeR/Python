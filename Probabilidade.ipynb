{
  "nbformat": 4,
  "nbformat_minor": 0,
  "metadata": {
    "colab": {
      "provenance": [],
      "authorship_tag": "ABX9TyMG5rlYvHKuiu5xaU/jJ6Az",
      "include_colab_link": true
    },
    "kernelspec": {
      "name": "python3",
      "display_name": "Python 3"
    },
    "language_info": {
      "name": "python"
    }
  },
  "cells": [
    {
      "cell_type": "markdown",
      "metadata": {
        "id": "view-in-github",
        "colab_type": "text"
      },
      "source": [
        "<a href=\"https://colab.research.google.com/github/CarolineAndradeR/Python/blob/master/Probabilidade.ipynb\" target=\"_parent\"><img src=\"https://colab.research.google.com/assets/colab-badge.svg\" alt=\"Open In Colab\"/></a>"
      ]
    },
    {
      "cell_type": "markdown",
      "source": [
        "**Conceitos de Probabilidade**\n",
        "*   Projeções diversas, estimação do risco e criação de cénarios.\n",
        "*   Os princípios de contagens de eventos, permutação, combinação e condicionalidade.\n",
        "\n"
      ],
      "metadata": {
        "id": "FTGxFoR3q_yD"
      }
    },
    {
      "cell_type": "markdown",
      "source": [
        "A contagem de **eventos** é a atividade de obter todas as possibilidades dentro de um conjunto de ações realizadas. Um evento pode ou não acontecer.\n",
        "\n",
        "*   **Permutação** - Quando a ordem dos eventos importa.\n",
        "*   **Combinação** - Quando precisa arranjar os eventos sem considerar a ordem.\n",
        "*   **Condicionalidade** - Existe três formas: simples, combinado e condicional.\n",
        "> Simples - Obtida de forma direta.\n",
        "> Combinada - \n",
        "> Consicional - \n",
        "\n",
        "\n",
        "\n",
        "\n",
        "\n",
        "\n"
      ],
      "metadata": {
        "id": "fOvg947MulDB"
      }
    },
    {
      "cell_type": "markdown",
      "source": [],
      "metadata": {
        "id": "3v7i6OSiv3Ae"
      }
    },
    {
      "cell_type": "code",
      "source": [],
      "metadata": {
        "id": "UXvjnGHvq-80"
      },
      "execution_count": null,
      "outputs": []
    }
  ]
}