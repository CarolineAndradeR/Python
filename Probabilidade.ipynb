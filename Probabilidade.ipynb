{
  "nbformat": 4,
  "nbformat_minor": 0,
  "metadata": {
    "colab": {
      "provenance": [],
      "authorship_tag": "ABX9TyN5d3dgfh3Hju2oTMIFdGTe",
      "include_colab_link": true
    },
    "kernelspec": {
      "name": "python3",
      "display_name": "Python 3"
    },
    "language_info": {
      "name": "python"
    }
  },
  "cells": [
    {
      "cell_type": "markdown",
      "metadata": {
        "id": "view-in-github",
        "colab_type": "text"
      },
      "source": [
        "<a href=\"https://colab.research.google.com/github/CarolineAndradeR/Python/blob/master/Probabilidade.ipynb\" target=\"_parent\"><img src=\"https://colab.research.google.com/assets/colab-badge.svg\" alt=\"Open In Colab\"/></a>"
      ]
    },
    {
      "cell_type": "markdown",
      "source": [
        "# **Teoria**"
      ],
      "metadata": {
        "id": "VltdSS4tOATr"
      }
    },
    {
      "cell_type": "markdown",
      "source": [
        "**Conceitos de Probabilidade**\n",
        "*   Projeções diversas, estimação do risco e criação de cénarios.\n",
        "*   Os princípios de contagens de eventos, permutação, combinação e condicionalidade.\n",
        "\n"
      ],
      "metadata": {
        "id": "FTGxFoR3q_yD"
      }
    },
    {
      "cell_type": "markdown",
      "source": [
        "A contagem de **eventos** é a atividade de obter todas as possibilidades dentro de um conjunto de ações realizadas. Um evento pode ou não acontecer.\n",
        "\n",
        "*   **Permutação** - Quando a ordem dos eventos importa.\n",
        "*   **Combinação** - Quando precisa arranjar os eventos sem considerar a ordem.\n",
        "*   **Condicionalidade** - Existe três formas: simples, combinado e condicional.\n",
        "\n",
        "> **Simples** - Obtida de forma direta.\n",
        "\n",
        "> **Combinada** - Quando existe duas posibilidade do evento acontecer.\n",
        "\n",
        "> **Consicional** - Um evento pode acontecer com base em um evento anterior.\n",
        "\n",
        "\n",
        "\n",
        "\n",
        "\n",
        "\n"
      ],
      "metadata": {
        "id": "fOvg947MulDB"
      }
    },
    {
      "cell_type": "markdown",
      "source": [
        "**Váriavel Aleatório**\n",
        "*   Discreta - Possui um número finito de resultados.\n",
        "*   Contínuas - Resultados amplos que é quase impossível realzizar uma contagem."
      ],
      "metadata": {
        "id": "3v7i6OSiv3Ae"
      }
    },
    {
      "cell_type": "markdown",
      "source": [
        "**Principais funções**\n",
        "\n",
        "*   Permutação - **permutations()**\n",
        "*   Combinação - **combinations(), combinations_with_replacement()**\n",
        "*   Histogramas - **hist, displot**\n",
        "*   Distribuição Binomial - **binom()**\n",
        "*   Distribuição Poisson - **poisson()**\n",
        "*   Distribuição Exponencial - **expon()**\n",
        "*   Distribuição Normal - **norm()**"
      ],
      "metadata": {
        "id": "maC-lgl5Mi5v"
      }
    },
    {
      "cell_type": "markdown",
      "source": [
        "# **DISTRIBUIÇÃO DE FREQUÊNCIA**"
      ],
      "metadata": {
        "id": "y0FUq9XONzm6"
      }
    },
    {
      "cell_type": "code",
      "source": [],
      "metadata": {
        "id": "63iXWYJdMhwf"
      },
      "execution_count": null,
      "outputs": []
    }
  ]
}