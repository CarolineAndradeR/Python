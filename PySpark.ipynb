{
  "nbformat": 4,
  "nbformat_minor": 0,
  "metadata": {
    "colab": {
      "provenance": [],
      "authorship_tag": "ABX9TyNQachWiGjE1WhX23pSqFoX",
      "include_colab_link": true
    },
    "kernelspec": {
      "name": "python3",
      "display_name": "Python 3"
    },
    "language_info": {
      "name": "python"
    }
  },
  "cells": [
    {
      "cell_type": "markdown",
      "metadata": {
        "id": "view-in-github",
        "colab_type": "text"
      },
      "source": [
        "<a href=\"https://colab.research.google.com/github/CarolineAndradeR/Python/blob/master/PySpark.ipynb\" target=\"_parent\"><img src=\"https://colab.research.google.com/assets/colab-badge.svg\" alt=\"Open In Colab\"/></a>"
      ]
    },
    {
      "cell_type": "code",
      "execution_count": 1,
      "metadata": {
        "colab": {
          "base_uri": "https://localhost:8080/"
        },
        "id": "ceWfvFez79hT",
        "outputId": "2c8da3d2-88f9-4a00-b626-73e7c1116654"
      },
      "outputs": [
        {
          "output_type": "stream",
          "name": "stdout",
          "text": [
            "+---+------+------------+-------+\n",
            "| id|  nome|departamento|salario|\n",
            "+---+------+------------+-------+\n",
            "|  1| Alice|          TI|   3000|\n",
            "|  2|   Bob|          RH|   2500|\n",
            "|  3| Carol|          TI|   4000|\n",
            "|  4|Daniel|  Financeiro|   3500|\n",
            "|  5| Ester|          RH|   2000|\n",
            "+---+------+------------+-------+\n",
            "\n"
          ]
        }
      ],
      "source": [
        "from pyspark.sql import SparkSession\n",
        "\n",
        "# Criar a sessão\n",
        "spark = SparkSession.builder.appName(\"ConsultasSparkSQL\").getOrCreate()\n",
        "\n",
        "# Criar um DataFrame de exemplo\n",
        "dados = [\n",
        "    (1, \"Alice\", \"TI\", 3000),\n",
        "    (2, \"Bob\", \"RH\", 2500),\n",
        "    (3, \"Carol\", \"TI\", 4000),\n",
        "    (4, \"Daniel\", \"Financeiro\", 3500),\n",
        "    (5, \"Ester\", \"RH\", 2000)\n",
        "]\n",
        "\n",
        "colunas = [\"id\", \"nome\", \"departamento\", \"salario\"]\n",
        "\n",
        "df = spark.createDataFrame(dados, colunas)\n",
        "df.show()\n"
      ]
    },
    {
      "cell_type": "markdown",
      "source": [
        "# **Filtros e Seleções**"
      ],
      "metadata": {
        "id": "hO-dV4Jr8Kv3"
      }
    },
    {
      "cell_type": "code",
      "source": [
        "# Seleção de colunas especificas\n",
        "df.select(\"nome\", \"salario\").show()"
      ],
      "metadata": {
        "colab": {
          "base_uri": "https://localhost:8080/"
        },
        "id": "7_tHSmqa8PG9",
        "outputId": "0b7bf891-d0cd-43d5-e320-ef95a58113e9"
      },
      "execution_count": 5,
      "outputs": [
        {
          "output_type": "stream",
          "name": "stdout",
          "text": [
            "+------+-------+\n",
            "|  nome|salario|\n",
            "+------+-------+\n",
            "| Alice|   3000|\n",
            "|   Bob|   2500|\n",
            "| Carol|   4000|\n",
            "|Daniel|   3500|\n",
            "| Ester|   2000|\n",
            "+------+-------+\n",
            "\n"
          ]
        }
      ]
    },
    {
      "cell_type": "code",
      "source": [
        "# Filtro (where)\n",
        "df.filter(df.salario > 2500).show()"
      ],
      "metadata": {
        "colab": {
          "base_uri": "https://localhost:8080/"
        },
        "id": "fKOTZjTm8TEV",
        "outputId": "e51c79b9-0351-4a69-bc58-7844364f7063"
      },
      "execution_count": 3,
      "outputs": [
        {
          "output_type": "stream",
          "name": "stdout",
          "text": [
            "+---+------+------------+-------+\n",
            "| id|  nome|departamento|salario|\n",
            "+---+------+------------+-------+\n",
            "|  1| Alice|          TI|   3000|\n",
            "|  3| Carol|          TI|   4000|\n",
            "|  4|Daniel|  Financeiro|   3500|\n",
            "+---+------+------------+-------+\n",
            "\n"
          ]
        }
      ]
    },
    {
      "cell_type": "code",
      "source": [
        "#Agrupamento por coluna\n",
        "df.groupBy(\"departamento\").avg(\"salario\").show()"
      ],
      "metadata": {
        "colab": {
          "base_uri": "https://localhost:8080/"
        },
        "id": "UaA-hQVw8WyB",
        "outputId": "5f642f2f-d089-4b6b-bc38-c5163b2be22b"
      },
      "execution_count": 4,
      "outputs": [
        {
          "output_type": "stream",
          "name": "stdout",
          "text": [
            "+------------+------------+\n",
            "|departamento|avg(salario)|\n",
            "+------------+------------+\n",
            "|          TI|      3500.0|\n",
            "|          RH|      2250.0|\n",
            "|  Financeiro|      3500.0|\n",
            "+------------+------------+\n",
            "\n"
          ]
        }
      ]
    },
    {
      "cell_type": "markdown",
      "source": [
        "# **Spark SQL**"
      ],
      "metadata": {
        "id": "nNWP3Nye85D8"
      }
    },
    {
      "cell_type": "code",
      "source": [
        "# Antes de rodar o SQL é necessário criar um Dataframe como tabela temporária\n",
        "df.createOrReplaceTempView(\"funcionarios\")"
      ],
      "metadata": {
        "id": "m_TKqnLL88g1"
      },
      "execution_count": 6,
      "outputs": []
    },
    {
      "cell_type": "code",
      "source": [
        "spark.sql(\"SELECT nome, salario FROM funcionarios\").show()"
      ],
      "metadata": {
        "colab": {
          "base_uri": "https://localhost:8080/"
        },
        "id": "guoWfLvm9Lna",
        "outputId": "574f39b7-e917-4184-8417-7bca36eb6259"
      },
      "execution_count": 7,
      "outputs": [
        {
          "output_type": "stream",
          "name": "stdout",
          "text": [
            "+------+-------+\n",
            "|  nome|salario|\n",
            "+------+-------+\n",
            "| Alice|   3000|\n",
            "|   Bob|   2500|\n",
            "| Carol|   4000|\n",
            "|Daniel|   3500|\n",
            "| Ester|   2000|\n",
            "+------+-------+\n",
            "\n"
          ]
        }
      ]
    },
    {
      "cell_type": "code",
      "source": [
        "spark.sql(\"SELECT * FROM funcionarios WHERE salario > 2500\").show()"
      ],
      "metadata": {
        "colab": {
          "base_uri": "https://localhost:8080/"
        },
        "id": "3t4e1elb9P_7",
        "outputId": "5101a233-a3e7-4641-8d5a-e8339bdbba37"
      },
      "execution_count": 8,
      "outputs": [
        {
          "output_type": "stream",
          "name": "stdout",
          "text": [
            "+---+------+------------+-------+\n",
            "| id|  nome|departamento|salario|\n",
            "+---+------+------------+-------+\n",
            "|  1| Alice|          TI|   3000|\n",
            "|  3| Carol|          TI|   4000|\n",
            "|  4|Daniel|  Financeiro|   3500|\n",
            "+---+------+------------+-------+\n",
            "\n"
          ]
        }
      ]
    },
    {
      "cell_type": "code",
      "source": [
        "spark.sql(\"\"\"\n",
        "    SELECT departamento, AVG(salario) as media_salario\n",
        "    FROM funcionarios\n",
        "    GROUP BY departamento\n",
        "\"\"\").show()"
      ],
      "metadata": {
        "colab": {
          "base_uri": "https://localhost:8080/"
        },
        "id": "RaYUU39T9Sso",
        "outputId": "69723284-b374-4726-f53b-a1a3cc36c818"
      },
      "execution_count": 9,
      "outputs": [
        {
          "output_type": "stream",
          "name": "stdout",
          "text": [
            "+------------+-------------+\n",
            "|departamento|media_salario|\n",
            "+------------+-------------+\n",
            "|          TI|       3500.0|\n",
            "|          RH|       2250.0|\n",
            "|  Financeiro|       3500.0|\n",
            "+------------+-------------+\n",
            "\n"
          ]
        }
      ]
    },
    {
      "cell_type": "markdown",
      "source": [
        "# **Exercícios**"
      ],
      "metadata": {
        "id": "hlSI0U-d9gaA"
      }
    },
    {
      "cell_type": "code",
      "source": [
        "#Quais funcionários ganham menos de 3000?\n",
        "df.filter(df.salario < 3000).show()"
      ],
      "metadata": {
        "colab": {
          "base_uri": "https://localhost:8080/"
        },
        "id": "U3-W66379lL6",
        "outputId": "413c28c3-0571-49d3-f513-88615513216c"
      },
      "execution_count": 10,
      "outputs": [
        {
          "output_type": "stream",
          "name": "stdout",
          "text": [
            "+---+-----+------------+-------+\n",
            "| id| nome|departamento|salario|\n",
            "+---+-----+------------+-------+\n",
            "|  2|  Bob|          RH|   2500|\n",
            "|  5|Ester|          RH|   2000|\n",
            "+---+-----+------------+-------+\n",
            "\n"
          ]
        }
      ]
    },
    {
      "cell_type": "code",
      "source": [
        "#Quais funcionários ganham menos de 3000?\n",
        "spark.sql(\"SELECT * FROM funcionarios WHERE salario < 3000\").show()"
      ],
      "metadata": {
        "colab": {
          "base_uri": "https://localhost:8080/"
        },
        "id": "II8GPjYJ90sW",
        "outputId": "06be874f-5934-4cd4-9ef0-5b9e2eab4452"
      },
      "execution_count": 11,
      "outputs": [
        {
          "output_type": "stream",
          "name": "stdout",
          "text": [
            "+---+-----+------------+-------+\n",
            "| id| nome|departamento|salario|\n",
            "+---+-----+------------+-------+\n",
            "|  2|  Bob|          RH|   2500|\n",
            "|  5|Ester|          RH|   2000|\n",
            "+---+-----+------------+-------+\n",
            "\n"
          ]
        }
      ]
    },
    {
      "cell_type": "code",
      "source": [
        "#Qual é o maior salário do departamento de RH?\n",
        "from pyspark.sql.functions import max\n",
        "\n",
        "df.filter(df.departamento==\"RH\").agg(max(df.salario)).show()"
      ],
      "metadata": {
        "colab": {
          "base_uri": "https://localhost:8080/"
        },
        "id": "zGLkg2Vz9mSp",
        "outputId": "97c9a1aa-bce9-40db-f75a-ffcebc14ffac"
      },
      "execution_count": 37,
      "outputs": [
        {
          "output_type": "stream",
          "name": "stdout",
          "text": [
            "+------------+\n",
            "|max(salario)|\n",
            "+------------+\n",
            "|        2500|\n",
            "+------------+\n",
            "\n"
          ]
        }
      ]
    },
    {
      "cell_type": "code",
      "source": [
        "#Qual é o maior salário do departamento de RH?\n",
        "spark.sql(\"\"\"\n",
        "    SELECT max(salario) as maior_salario\n",
        "    FROM funcionarios\n",
        "    WHERE departamento = 'RH'\n",
        "\"\"\").show()"
      ],
      "metadata": {
        "colab": {
          "base_uri": "https://localhost:8080/"
        },
        "id": "47YxkEf1_-Ba",
        "outputId": "13243de5-b6ec-4162-8145-7112565d9828"
      },
      "execution_count": 35,
      "outputs": [
        {
          "output_type": "stream",
          "name": "stdout",
          "text": [
            "+-------------+\n",
            "|maior_salario|\n",
            "+-------------+\n",
            "|         2500|\n",
            "+-------------+\n",
            "\n"
          ]
        }
      ]
    },
    {
      "cell_type": "code",
      "source": [
        "#Liste todos os nomes em ordem decrescente de salário.\n",
        "df.orderBy(df.salario.desc()).select(\"nome\").show()"
      ],
      "metadata": {
        "colab": {
          "base_uri": "https://localhost:8080/"
        },
        "id": "-d5HY-_N9pOa",
        "outputId": "d4f4dc48-6123-4bf8-a6b4-b6077e62f093"
      },
      "execution_count": 38,
      "outputs": [
        {
          "output_type": "stream",
          "name": "stdout",
          "text": [
            "+------+\n",
            "|  nome|\n",
            "+------+\n",
            "| Carol|\n",
            "|Daniel|\n",
            "| Alice|\n",
            "|   Bob|\n",
            "| Ester|\n",
            "+------+\n",
            "\n"
          ]
        }
      ]
    },
    {
      "cell_type": "code",
      "source": [
        "#Liste todos os nomes em ordem decrescente de salário.\n",
        "spark.sql(\"\"\"\n",
        "    SELECT nome\n",
        "    FROM funcionarios\n",
        "    ORDER BY salario DESC\n",
        "\"\"\").show()"
      ],
      "metadata": {
        "colab": {
          "base_uri": "https://localhost:8080/"
        },
        "id": "eDyLYRKCN6Co",
        "outputId": "c31c1aa1-26a7-43f1-f818-796e7c998717"
      },
      "execution_count": 39,
      "outputs": [
        {
          "output_type": "stream",
          "name": "stdout",
          "text": [
            "+------+\n",
            "|  nome|\n",
            "+------+\n",
            "| Carol|\n",
            "|Daniel|\n",
            "| Alice|\n",
            "|   Bob|\n",
            "| Ester|\n",
            "+------+\n",
            "\n"
          ]
        }
      ]
    },
    {
      "cell_type": "code",
      "source": [
        "#Qual o salário médio geral da empresa?\n",
        "from pyspark.sql import functions as F\n",
        "\n",
        "df.agg(F.avg(\"salario\").alias(\"salario_medio\")).show()"
      ],
      "metadata": {
        "colab": {
          "base_uri": "https://localhost:8080/"
        },
        "id": "A61Nqewl9rHU",
        "outputId": "3cb564f2-debb-4dee-bbed-2e110cf25a93"
      },
      "execution_count": 53,
      "outputs": [
        {
          "output_type": "stream",
          "name": "stdout",
          "text": [
            "+-------------+\n",
            "|salario_medio|\n",
            "+-------------+\n",
            "|       3000.0|\n",
            "+-------------+\n",
            "\n"
          ]
        }
      ]
    },
    {
      "cell_type": "code",
      "source": [
        "#Qual o salário médio geral da empresa?\n",
        "spark.sql(\"\"\"\n",
        "    SELECT AVG(salario) as salario_medio\n",
        "    FROM funcionarios\n",
        "    \"\"\").show()"
      ],
      "metadata": {
        "colab": {
          "base_uri": "https://localhost:8080/"
        },
        "id": "4a2tVqn2PVSL",
        "outputId": "11802fb3-2aeb-4fd5-9ae3-d0b449407bf5"
      },
      "execution_count": 59,
      "outputs": [
        {
          "output_type": "stream",
          "name": "stdout",
          "text": [
            "+-------------+\n",
            "|salario_medio|\n",
            "+-------------+\n",
            "|       3000.0|\n",
            "+-------------+\n",
            "\n"
          ]
        }
      ]
    },
    {
      "cell_type": "code",
      "source": [
        "# Salário médio por departamento\n",
        "df.groupBy(\"departamento\").agg(F.avg(\"salario\").alias(\"salario_medio\")).show()"
      ],
      "metadata": {
        "colab": {
          "base_uri": "https://localhost:8080/"
        },
        "id": "-1Q4GwYRP3xr",
        "outputId": "962f721f-e3c4-4640-c0f8-27a4bce33ed8"
      },
      "execution_count": 60,
      "outputs": [
        {
          "output_type": "stream",
          "name": "stdout",
          "text": [
            "+------------+-------------+\n",
            "|departamento|salario_medio|\n",
            "+------------+-------------+\n",
            "|          TI|       3500.0|\n",
            "|          RH|       2250.0|\n",
            "|  Financeiro|       3500.0|\n",
            "+------------+-------------+\n",
            "\n"
          ]
        }
      ]
    },
    {
      "cell_type": "code",
      "source": [
        "# Salário médio por departamento\n",
        "spark.sql(\"\"\"\n",
        "    SELECT departamento, AVG(salario) as salario_medio\n",
        "    FROM funcionarios\n",
        "    GROUP BY departamento\n",
        "\"\"\").show()"
      ],
      "metadata": {
        "colab": {
          "base_uri": "https://localhost:8080/"
        },
        "id": "gtVlkuQqQit0",
        "outputId": "b61219f9-359a-48e6-eac9-e347966dc8f4"
      },
      "execution_count": 67,
      "outputs": [
        {
          "output_type": "stream",
          "name": "stdout",
          "text": [
            "+------------+-------------+\n",
            "|departamento|salario_medio|\n",
            "+------------+-------------+\n",
            "|          TI|       3500.0|\n",
            "|          RH|       2250.0|\n",
            "|  Financeiro|       3500.0|\n",
            "+------------+-------------+\n",
            "\n"
          ]
        }
      ]
    },
    {
      "cell_type": "code",
      "source": [
        "# Maior e menor salário da empresa\n",
        "from pyspark.sql.functions import min\n",
        "df.agg(min(\"salario\"),max(\"salario\")).show()"
      ],
      "metadata": {
        "colab": {
          "base_uri": "https://localhost:8080/"
        },
        "id": "6fCJ9_QZRozk",
        "outputId": "36eaf393-7d0b-48f1-cda4-993d18602073"
      },
      "execution_count": 70,
      "outputs": [
        {
          "output_type": "stream",
          "name": "stdout",
          "text": [
            "+------------+------------+\n",
            "|min(salario)|max(salario)|\n",
            "+------------+------------+\n",
            "|        2000|        4000|\n",
            "+------------+------------+\n",
            "\n"
          ]
        }
      ]
    },
    {
      "cell_type": "code",
      "source": [
        "#Maior e menor salário da empresa\n",
        "spark.sql(\"\"\"\n",
        "    select min(salario) as menor, max(salario) as maior\n",
        "    from funcionarios\n",
        "\"\"\").show()"
      ],
      "metadata": {
        "colab": {
          "base_uri": "https://localhost:8080/"
        },
        "id": "VXJgUOCXSB6M",
        "outputId": "7c028bbf-643a-49b6-fd93-d62ba3108fb0"
      },
      "execution_count": 71,
      "outputs": [
        {
          "output_type": "stream",
          "name": "stdout",
          "text": [
            "+-----+-----+\n",
            "|menor|maior|\n",
            "+-----+-----+\n",
            "| 2000| 4000|\n",
            "+-----+-----+\n",
            "\n"
          ]
        }
      ]
    },
    {
      "cell_type": "code",
      "source": [
        "# Quantos funcionários existem em cada cargo?\n",
        "from pyspark.sql.functions import count\n",
        "df.groupBy(\"departamento\").agg(count(\"nome\").alias(\"quantidade_funcionarios\")).show()"
      ],
      "metadata": {
        "colab": {
          "base_uri": "https://localhost:8080/"
        },
        "id": "93LUk_P4SFMx",
        "outputId": "267c54a2-48af-4989-c5d3-40fafbcbc870"
      },
      "execution_count": 76,
      "outputs": [
        {
          "output_type": "stream",
          "name": "stdout",
          "text": [
            "+------------+-----------------------+\n",
            "|departamento|quantidade_funcionarios|\n",
            "+------------+-----------------------+\n",
            "|          TI|                      2|\n",
            "|          RH|                      2|\n",
            "|  Financeiro|                      1|\n",
            "+------------+-----------------------+\n",
            "\n"
          ]
        }
      ]
    },
    {
      "cell_type": "code",
      "source": [
        "# Quantos funcionários existem em cada cargo?\n",
        "spark.sql(\"\"\"\n",
        "    select departamento, count(nome) as quantidade\n",
        "    from funcionarios\n",
        "    group by 1\n",
        "\"\"\").show()"
      ],
      "metadata": {
        "colab": {
          "base_uri": "https://localhost:8080/"
        },
        "id": "_5GlKEkJSwcY",
        "outputId": "e5039da0-9f92-4e26-c5d9-565f0799076e"
      },
      "execution_count": 75,
      "outputs": [
        {
          "output_type": "stream",
          "name": "stdout",
          "text": [
            "+------------+----------+\n",
            "|departamento|quantidade|\n",
            "+------------+----------+\n",
            "|          TI|         2|\n",
            "|          RH|         2|\n",
            "|  Financeiro|         1|\n",
            "+------------+----------+\n",
            "\n"
          ]
        }
      ]
    },
    {
      "cell_type": "code",
      "source": [
        "#Soma dos salários de todos os funcionários de TI\n",
        "df.filter(df.departamento==\"TI\").agg(F.sum(df.salario).alias(\"salarios_ti\")).show()"
      ],
      "metadata": {
        "colab": {
          "base_uri": "https://localhost:8080/"
        },
        "id": "nsjGFRJrTLaa",
        "outputId": "bb5f8043-60f2-4e4d-c0da-1d3a81488d84"
      },
      "execution_count": 82,
      "outputs": [
        {
          "output_type": "stream",
          "name": "stdout",
          "text": [
            "+-----------+\n",
            "|salarios_ti|\n",
            "+-----------+\n",
            "|       7000|\n",
            "+-----------+\n",
            "\n"
          ]
        }
      ]
    },
    {
      "cell_type": "code",
      "source": [
        "#Soma dos salários de todos os funcionários de TI\n",
        "spark.sql(\"\"\"\n",
        "    select sum(salario) as salarios_ti\n",
        "    from funcionarios\n",
        "    where departamento = \"TI\"\n",
        "\"\"\").show()"
      ],
      "metadata": {
        "colab": {
          "base_uri": "https://localhost:8080/"
        },
        "id": "8hCBfwpIULb7",
        "outputId": "9fbe52b4-1178-470b-8502-18724740b25e"
      },
      "execution_count": 83,
      "outputs": [
        {
          "output_type": "stream",
          "name": "stdout",
          "text": [
            "+-----------+\n",
            "|salarios_ti|\n",
            "+-----------+\n",
            "|       7000|\n",
            "+-----------+\n",
            "\n"
          ]
        }
      ]
    },
    {
      "cell_type": "code",
      "source": [
        "# Média salarial considerando apenas salários acima de 5.000\n",
        "df.filter(df.salario>5000).agg(F.avg(df.salario).alias(\"media_salarial\")).show()"
      ],
      "metadata": {
        "colab": {
          "base_uri": "https://localhost:8080/"
        },
        "id": "GmPabj2gUwgd",
        "outputId": "df46d3b1-e3e7-4a13-e49f-68748323dbd4"
      },
      "execution_count": 88,
      "outputs": [
        {
          "output_type": "stream",
          "name": "stdout",
          "text": [
            "+--------------+\n",
            "|media_salarial|\n",
            "+--------------+\n",
            "|          NULL|\n",
            "+--------------+\n",
            "\n"
          ]
        }
      ]
    }
  ]
}