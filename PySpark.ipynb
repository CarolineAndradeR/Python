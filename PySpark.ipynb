{
  "nbformat": 4,
  "nbformat_minor": 0,
  "metadata": {
    "colab": {
      "provenance": [],
      "authorship_tag": "ABX9TyM6QEQg1p8aJ3lGBtmC2S/Y",
      "include_colab_link": true
    },
    "kernelspec": {
      "name": "python3",
      "display_name": "Python 3"
    },
    "language_info": {
      "name": "python"
    }
  },
  "cells": [
    {
      "cell_type": "markdown",
      "metadata": {
        "id": "view-in-github",
        "colab_type": "text"
      },
      "source": [
        "<a href=\"https://colab.research.google.com/github/CarolineAndradeR/Python/blob/master/PySpark.ipynb\" target=\"_parent\"><img src=\"https://colab.research.google.com/assets/colab-badge.svg\" alt=\"Open In Colab\"/></a>"
      ]
    },
    {
      "cell_type": "code",
      "execution_count": 51,
      "metadata": {
        "colab": {
          "base_uri": "https://localhost:8080/"
        },
        "id": "ceWfvFez79hT",
        "outputId": "6274afcf-718f-4891-adb3-733773ebe5db"
      },
      "outputs": [
        {
          "output_type": "stream",
          "name": "stdout",
          "text": [
            "+---+----------------+------------+-------------------------+-----+-------+--------------+\n",
            "|id |nome            |departamento|cargo                    |idade|salario|cidade        |\n",
            "+---+----------------+------------+-------------------------+-----+-------+--------------+\n",
            "|1  |Ana Souza       |RH          |Analista de RH           |29   |3200.0 |São Paulo     |\n",
            "|2  |Carlos Lima     |TI          |Desenvolvedor            |34   |7200.0 |Rio de Janeiro|\n",
            "|3  |Fernanda Alves  |Financeiro  |Contadora                |41   |6500.0 |Curitiba      |\n",
            "|4  |Ricardo Silva   |Vendas      |Vendedor                 |28   |2800.0 |Belo Horizonte|\n",
            "|5  |Mariana Costa   |Marketing   |Coordenadora de Marketing|37   |7200.0 |São Paulo     |\n",
            "|6  |João Pedro      |Logística   |Auxiliar de Logística    |23   |2100.0 |Recife        |\n",
            "|7  |Patrícia Gomes  |Operações   |Gerente de Operações     |46   |11000.0|Fortaleza     |\n",
            "|8  |Gabriel Ferreira|TI          |Cientista de Dados       |31   |12500.0|Porto Alegre  |\n",
            "|9  |Larissa Martins |Financeiro  |Analista Financeiro      |26   |3900.0 |Rio de Janeiro|\n",
            "|10 |Bruno Rocha     |Vendas      |Supervisor de Vendas     |39   |5400.0 |Campinas      |\n",
            "|11 |Camila Torres   |Marketing   |Assistente de Marketing  |24   |2500.0 |São Paulo     |\n",
            "|12 |Eduardo Ramos   |TI          |Engenheiro de Software   |36   |9800.0 |Brasília      |\n",
            "|13 |Juliana Melo    |RH          |Coordenadora de RH       |42   |8700.0 |Salvador      |\n",
            "|14 |André Santos    |Financeiro  |Diretor Financeiro       |50   |15000.0|São Paulo     |\n",
            "|15 |Roberta Araújo  |Operações   |Analista de Operações    |30   |4300.0 |Recife        |\n",
            "|16 |Felipe Cardoso  |TI          |Analista de Suporte      |27   |3100.0 |Curitiba      |\n",
            "|17 |Beatriz Moura   |Vendas      |Executiva de Contas      |33   |6100.0 |Rio de Janeiro|\n",
            "|18 |Marcelo Pinto   |Logística   |Motorista                |45   |2800.0 |Manaus        |\n",
            "|19 |Tatiane Lima    |Marketing   |Gerente de Marketing     |38   |9500.0 |São Paulo     |\n",
            "|20 |Diego Nunes     |TI          |Arquiteto de Software    |40   |13200.0|Porto Alegre  |\n",
            "+---+----------------+------------+-------------------------+-----+-------+--------------+\n",
            "only showing top 20 rows\n",
            "\n"
          ]
        }
      ],
      "source": [
        "from pyspark.sql import SparkSession\n",
        "from pyspark.sql.types import StructType, StructField, StringType, IntegerType, DoubleType\n",
        "\n",
        "# Criando a sessão Spark\n",
        "spark = SparkSession.builder.appName(\"ExerciciosFuncionarios\").getOrCreate()\n",
        "\n",
        "# Definindo o schema\n",
        "schema = StructType([\n",
        "    StructField(\"id\", IntegerType(), True),\n",
        "    StructField(\"nome\", StringType(), True),\n",
        "    StructField(\"departamento\", StringType(), True),\n",
        "    StructField(\"cargo\", StringType(), True),\n",
        "    StructField(\"idade\", IntegerType(), True),\n",
        "    StructField(\"salario\", DoubleType(), True),\n",
        "    StructField(\"cidade\", StringType(), True)\n",
        "])\n",
        "\n",
        "# Inserindo dados fictícios\n",
        "dados = [\n",
        "    (1, \"Ana Souza\", \"RH\", \"Analista de RH\", 29, 3200.0, \"São Paulo\"),\n",
        "    (2, \"Carlos Lima\", \"TI\", \"Desenvolvedor\", 34, 7200.0, \"Rio de Janeiro\"),\n",
        "    (3, \"Fernanda Alves\", \"Financeiro\", \"Contadora\", 41, 6500.0, \"Curitiba\"),\n",
        "    (4, \"Ricardo Silva\", \"Vendas\", \"Vendedor\", 28, 2800.0, \"Belo Horizonte\"),\n",
        "    (5, \"Mariana Costa\", \"Marketing\", \"Coordenadora de Marketing\", 37, 7200.0, \"São Paulo\"),\n",
        "    (6, \"João Pedro\", \"Logística\", \"Auxiliar de Logística\", 23, 2100.0, \"Recife\"),\n",
        "    (7, \"Patrícia Gomes\", \"Operações\", \"Gerente de Operações\", 46, 11000.0, \"Fortaleza\"),\n",
        "    (8, \"Gabriel Ferreira\", \"TI\", \"Cientista de Dados\", 31, 12500.0, \"Porto Alegre\"),\n",
        "    (9, \"Larissa Martins\", \"Financeiro\", \"Analista Financeiro\", 26, 3900.0, \"Rio de Janeiro\"),\n",
        "    (10, \"Bruno Rocha\", \"Vendas\", \"Supervisor de Vendas\", 39, 5400.0, \"Campinas\"),\n",
        "    (11, \"Camila Torres\", \"Marketing\", \"Assistente de Marketing\", 24, 2500.0, \"São Paulo\"),\n",
        "    (12, \"Eduardo Ramos\", \"TI\", \"Engenheiro de Software\", 36, 9800.0, \"Brasília\"),\n",
        "    (13, \"Juliana Melo\", \"RH\", \"Coordenadora de RH\", 42, 8700.0, \"Salvador\"),\n",
        "    (14, \"André Santos\", \"Financeiro\", \"Diretor Financeiro\", 50, 15000.0, \"São Paulo\"),\n",
        "    (15, \"Roberta Araújo\", \"Operações\", \"Analista de Operações\", 30, 4300.0, \"Recife\"),\n",
        "    (16, \"Felipe Cardoso\", \"TI\", \"Analista de Suporte\", 27, 3100.0, \"Curitiba\"),\n",
        "    (17, \"Beatriz Moura\", \"Vendas\", \"Executiva de Contas\", 33, 6100.0, \"Rio de Janeiro\"),\n",
        "    (18, \"Marcelo Pinto\", \"Logística\", \"Motorista\", 45, 2800.0, \"Manaus\"),\n",
        "    (19, \"Tatiane Lima\", \"Marketing\", \"Gerente de Marketing\", 38, 9500.0, \"São Paulo\"),\n",
        "    (20, \"Diego Nunes\", \"TI\", \"Arquiteto de Software\", 40, 13200.0, \"Porto Alegre\"),\n",
        "    (21, \"Amanda Silva\", \"RH\", \"Recrutadora\", 27, 3100.0, \"Rio de Janeiro\"),\n",
        "    (22, \"Leonardo Alves\", \"Financeiro\", \"Tesoureiro\", 48, 8700.0, \"São Paulo\"),\n",
        "    (23, \"Paula Martins\", \"TI\", \"Desenvolvedora Frontend\", 29, 7100.0, \"Fortaleza\"),\n",
        "    (24, \"Thiago Lima\", \"Vendas\", \"Representante Comercial\", 35, 4800.0, \"Curitiba\"),\n",
        "    (25, \"Isabela Costa\", \"Marketing\", \"Analista de Comunicação\", 26, 3300.0, \"Brasília\"),\n",
        "    (26, \"Rodrigo Ferreira\", \"Operações\", \"Supervisor de Produção\", 44, 8200.0, \"São Paulo\"),\n",
        "    (27, \"Marcos Vinicius\", \"Logística\", \"Analista de Transporte\", 31, 4100.0, \"Recife\"),\n",
        "    (28, \"Sabrina Souza\", \"RH\", \"Assistente de RH\", 24, 2400.0, \"Belo Horizonte\"),\n",
        "    (29, \"Joana Pereira\", \"Financeiro\", \"Analista Contábil\", 39, 5900.0, \"Porto Alegre\"),\n",
        "    (30, \"Lucas Rocha\", \"TI\", \"Desenvolvedor Backend\", 32, 7800.0, \"São Paulo\"),\n",
        "    (31, \"Natália Dias\", \"Vendas\", \"Consultora de Vendas\", 28, 3500.0, \"Curitiba\"),\n",
        "    (32, \"Anderson Gomes\", \"Operações\", \"Operador de Máquinas\", 40, 2700.0, \"Manaus\"),\n",
        "    (33, \"Gabriela Torres\", \"Marketing\", \"Social Media\", 25, 2900.0, \"Rio de Janeiro\"),\n",
        "    (34, \"Rafael Santos\", \"TI\", \"DevOps Engineer\", 37, 10500.0, \"Brasília\"),\n",
        "    (35, \"Luciana Almeida\", \"Financeiro\", \"Coordenadora Financeira\", 45, 9400.0, \"São Paulo\"),\n",
        "    (36, \"Pedro Henrique\", \"RH\", \"Business Partner\", 41, 8700.0, \"Fortaleza\"),\n",
        "    (37, \"Cíntia Barbosa\", \"Logística\", \"Coordenadora de Logística\", 38, 7200.0, \"Salvador\"),\n",
        "    (38, \"Bruna Cardoso\", \"Marketing\", \"Designer Gráfico\", 29, 4100.0, \"Recife\"),\n",
        "    (39, \"Mateus Lima\", \"Vendas\", \"Gerente de Vendas\", 43, 11800.0, \"São Paulo\"),\n",
        "    (40, \"Débora Nogueira\", \"TI\", \"QA Engineer\", 30, 6600.0, \"Rio de Janeiro\"),\n",
        "    (41, \"Rodrigo Almeida\", \"Operações\", \"Diretor de Operações\", 50, 14200.0, \"Brasília\"),\n",
        "    (42, \"Vanessa Mendes\", \"Financeiro\", \"Assistente Financeiro\", 23, 2600.0, \"Curitiba\"),\n",
        "    (43, \"Cláudio Ribeiro\", \"Logística\", \"Supervisor de Armazém\", 46, 6400.0, \"São Paulo\"),\n",
        "    (44, \"Carolina Freitas\", \"RH\", \"Coordenadora de Treinamento\", 34, 5200.0, \"Fortaleza\"),\n",
        "    (45, \"Gustavo Oliveira\", \"TI\", \"Estagiário de TI\", 21, 1800.0, \"Recife\"),\n",
        "    (46, \"Patrícia Nunes\", \"Marketing\", \"Gerente de Produto\", 37, 9700.0, \"Rio de Janeiro\"),\n",
        "    (47, \"Felipe Fernandes\", \"Financeiro\", \"Auditor\", 42, 8900.0, \"São Paulo\"),\n",
        "    (48, \"Juliana Castro\", \"Operações\", \"Supervisora de Operações\", 36, 7500.0, \"Manaus\"),\n",
        "    (49, \"Alexandre Lima\", \"Logística\", \"Analista de Estoque\", 27, 3300.0, \"Belo Horizonte\"),\n",
        "    (50, \"Camila Oliveira\", \"Vendas\", \"Executiva de Negócios\", 31, 6700.0, \"Curitiba\"),\n",
        "    (51, \"Daniel Pereira\", \"TI\", \"Especialista em Redes\", 39, 9100.0, \"São Paulo\"),\n",
        "    (52, \"Larissa Barbosa\", \"Financeiro\", \"Consultora Financeira\", 35, 7200.0, \"Fortaleza\"),\n",
        "    (53, \"Roberto Souza\", \"RH\", \"Gerente de RH\", 47, 11200.0, \"Recife\"),\n",
        "    (54, \"Fernanda Rocha\", \"Marketing\", \"Analista de Marketing\", 28, 3500.0, \"Brasília\"),\n",
        "    (55, \"João Marcos\", \"Logística\", \"Motorista\", 44, 2900.0, \"Salvador\"),\n",
        "    (56, \"Tatiane Ferreira\", \"Operações\", \"Coordenadora de Operações\", 40, 8200.0, \"São Paulo\"),\n",
        "    (57, \"Carlos Eduardo\", \"TI\", \"Programador Mobile\", 29, 7400.0, \"Porto Alegre\"),\n",
        "    (58, \"Mariana Ribeiro\", \"Financeiro\", \"Diretora Financeira\", 49, 14800.0, \"São Paulo\"),\n",
        "    (59, \"Renato Gomes\", \"Vendas\", \"Supervisor de Vendas\", 37, 5600.0, \"Fortaleza\"),\n",
        "    (60, \"Amanda Torres\", \"Marketing\", \"Assistente de Comunicação\", 22, 2300.0, \"Rio de Janeiro\")\n",
        "]\n",
        "\n",
        "# Criando o DataFrame\n",
        "df = spark.createDataFrame(data=dados, schema=schema)\n",
        "\n",
        "# Registrando como tabela temporária para SQL\n",
        "df.createOrReplaceTempView(\"funcionarios\")\n",
        "\n",
        "# Visualizando os dados\n",
        "df.show(truncate=False)\n"
      ]
    },
    {
      "cell_type": "markdown",
      "source": [
        "# **Filtros e Seleções**"
      ],
      "metadata": {
        "id": "hO-dV4Jr8Kv3"
      }
    },
    {
      "cell_type": "code",
      "source": [
        "# Seleção de colunas especificas\n",
        "df.select(\"nome\", \"salario\").show()"
      ],
      "metadata": {
        "colab": {
          "base_uri": "https://localhost:8080/"
        },
        "id": "7_tHSmqa8PG9",
        "outputId": "f654e7ba-e833-4b38-9d64-22b97fcdc859"
      },
      "execution_count": 52,
      "outputs": [
        {
          "output_type": "stream",
          "name": "stdout",
          "text": [
            "+----------------+-------+\n",
            "|            nome|salario|\n",
            "+----------------+-------+\n",
            "|       Ana Souza| 3200.0|\n",
            "|     Carlos Lima| 7200.0|\n",
            "|  Fernanda Alves| 6500.0|\n",
            "|   Ricardo Silva| 2800.0|\n",
            "|   Mariana Costa| 7200.0|\n",
            "|      João Pedro| 2100.0|\n",
            "|  Patrícia Gomes|11000.0|\n",
            "|Gabriel Ferreira|12500.0|\n",
            "| Larissa Martins| 3900.0|\n",
            "|     Bruno Rocha| 5400.0|\n",
            "|   Camila Torres| 2500.0|\n",
            "|   Eduardo Ramos| 9800.0|\n",
            "|    Juliana Melo| 8700.0|\n",
            "|    André Santos|15000.0|\n",
            "|  Roberta Araújo| 4300.0|\n",
            "|  Felipe Cardoso| 3100.0|\n",
            "|   Beatriz Moura| 6100.0|\n",
            "|   Marcelo Pinto| 2800.0|\n",
            "|    Tatiane Lima| 9500.0|\n",
            "|     Diego Nunes|13200.0|\n",
            "+----------------+-------+\n",
            "only showing top 20 rows\n",
            "\n"
          ]
        }
      ]
    },
    {
      "cell_type": "code",
      "source": [
        "# Filtro (where)\n",
        "df.filter(df.salario > 2500).show()"
      ],
      "metadata": {
        "colab": {
          "base_uri": "https://localhost:8080/"
        },
        "id": "fKOTZjTm8TEV",
        "outputId": "94324dda-9e2f-41ac-f1b8-b30e010a124a"
      },
      "execution_count": 53,
      "outputs": [
        {
          "output_type": "stream",
          "name": "stdout",
          "text": [
            "+---+----------------+------------+--------------------+-----+-------+--------------+\n",
            "| id|            nome|departamento|               cargo|idade|salario|        cidade|\n",
            "+---+----------------+------------+--------------------+-----+-------+--------------+\n",
            "|  1|       Ana Souza|          RH|      Analista de RH|   29| 3200.0|     São Paulo|\n",
            "|  2|     Carlos Lima|          TI|       Desenvolvedor|   34| 7200.0|Rio de Janeiro|\n",
            "|  3|  Fernanda Alves|  Financeiro|           Contadora|   41| 6500.0|      Curitiba|\n",
            "|  4|   Ricardo Silva|      Vendas|            Vendedor|   28| 2800.0|Belo Horizonte|\n",
            "|  5|   Mariana Costa|   Marketing|Coordenadora de M...|   37| 7200.0|     São Paulo|\n",
            "|  7|  Patrícia Gomes|   Operações|Gerente de Operações|   46|11000.0|     Fortaleza|\n",
            "|  8|Gabriel Ferreira|          TI|  Cientista de Dados|   31|12500.0|  Porto Alegre|\n",
            "|  9| Larissa Martins|  Financeiro| Analista Financeiro|   26| 3900.0|Rio de Janeiro|\n",
            "| 10|     Bruno Rocha|      Vendas|Supervisor de Vendas|   39| 5400.0|      Campinas|\n",
            "| 12|   Eduardo Ramos|          TI|Engenheiro de Sof...|   36| 9800.0|      Brasília|\n",
            "| 13|    Juliana Melo|          RH|  Coordenadora de RH|   42| 8700.0|      Salvador|\n",
            "| 14|    André Santos|  Financeiro|  Diretor Financeiro|   50|15000.0|     São Paulo|\n",
            "| 15|  Roberta Araújo|   Operações|Analista de Opera...|   30| 4300.0|        Recife|\n",
            "| 16|  Felipe Cardoso|          TI| Analista de Suporte|   27| 3100.0|      Curitiba|\n",
            "| 17|   Beatriz Moura|      Vendas| Executiva de Contas|   33| 6100.0|Rio de Janeiro|\n",
            "| 18|   Marcelo Pinto|   Logística|           Motorista|   45| 2800.0|        Manaus|\n",
            "| 19|    Tatiane Lima|   Marketing|Gerente de Marketing|   38| 9500.0|     São Paulo|\n",
            "| 20|     Diego Nunes|          TI|Arquiteto de Soft...|   40|13200.0|  Porto Alegre|\n",
            "| 21|    Amanda Silva|          RH|         Recrutadora|   27| 3100.0|Rio de Janeiro|\n",
            "| 22|  Leonardo Alves|  Financeiro|          Tesoureiro|   48| 8700.0|     São Paulo|\n",
            "+---+----------------+------------+--------------------+-----+-------+--------------+\n",
            "only showing top 20 rows\n",
            "\n"
          ]
        }
      ]
    },
    {
      "cell_type": "code",
      "source": [
        "#Agrupamento por coluna\n",
        "df.groupBy(\"departamento\").avg(\"salario\").show()"
      ],
      "metadata": {
        "colab": {
          "base_uri": "https://localhost:8080/"
        },
        "id": "UaA-hQVw8WyB",
        "outputId": "5d5f9658-8652-4221-ed58-e09d25bb3b11"
      },
      "execution_count": 54,
      "outputs": [
        {
          "output_type": "stream",
          "name": "stdout",
          "text": [
            "+------------+-----------------+\n",
            "|departamento|     avg(salario)|\n",
            "+------------+-----------------+\n",
            "|          TI|8008.333333333333|\n",
            "|      Vendas|           5837.5|\n",
            "|   Logística|4114.285714285715|\n",
            "|          RH|6071.428571428572|\n",
            "|  Financeiro|           8290.0|\n",
            "|   Marketing|           5000.0|\n",
            "|   Operações|8014.285714285715|\n",
            "+------------+-----------------+\n",
            "\n"
          ]
        }
      ]
    },
    {
      "cell_type": "markdown",
      "source": [
        "# **Spark SQL**"
      ],
      "metadata": {
        "id": "nNWP3Nye85D8"
      }
    },
    {
      "cell_type": "code",
      "source": [
        "# Antes de rodar o SQL é necessário criar um Dataframe como tabela temporária\n",
        "df.createOrReplaceTempView(\"funcionarios\")"
      ],
      "metadata": {
        "id": "m_TKqnLL88g1"
      },
      "execution_count": 55,
      "outputs": []
    },
    {
      "cell_type": "code",
      "source": [
        "spark.sql(\"SELECT nome, salario FROM funcionarios\").show()"
      ],
      "metadata": {
        "colab": {
          "base_uri": "https://localhost:8080/"
        },
        "id": "guoWfLvm9Lna",
        "outputId": "0a55e5b2-798c-46cd-8ba8-f595a2ed4672"
      },
      "execution_count": 56,
      "outputs": [
        {
          "output_type": "stream",
          "name": "stdout",
          "text": [
            "+----------------+-------+\n",
            "|            nome|salario|\n",
            "+----------------+-------+\n",
            "|       Ana Souza| 3200.0|\n",
            "|     Carlos Lima| 7200.0|\n",
            "|  Fernanda Alves| 6500.0|\n",
            "|   Ricardo Silva| 2800.0|\n",
            "|   Mariana Costa| 7200.0|\n",
            "|      João Pedro| 2100.0|\n",
            "|  Patrícia Gomes|11000.0|\n",
            "|Gabriel Ferreira|12500.0|\n",
            "| Larissa Martins| 3900.0|\n",
            "|     Bruno Rocha| 5400.0|\n",
            "|   Camila Torres| 2500.0|\n",
            "|   Eduardo Ramos| 9800.0|\n",
            "|    Juliana Melo| 8700.0|\n",
            "|    André Santos|15000.0|\n",
            "|  Roberta Araújo| 4300.0|\n",
            "|  Felipe Cardoso| 3100.0|\n",
            "|   Beatriz Moura| 6100.0|\n",
            "|   Marcelo Pinto| 2800.0|\n",
            "|    Tatiane Lima| 9500.0|\n",
            "|     Diego Nunes|13200.0|\n",
            "+----------------+-------+\n",
            "only showing top 20 rows\n",
            "\n"
          ]
        }
      ]
    },
    {
      "cell_type": "code",
      "source": [
        "spark.sql(\"SELECT * FROM funcionarios WHERE salario > 2500\").show()"
      ],
      "metadata": {
        "colab": {
          "base_uri": "https://localhost:8080/"
        },
        "id": "3t4e1elb9P_7",
        "outputId": "1e8ff1a4-8d40-4636-e231-ca1e27484a69"
      },
      "execution_count": 57,
      "outputs": [
        {
          "output_type": "stream",
          "name": "stdout",
          "text": [
            "+---+----------------+------------+--------------------+-----+-------+--------------+\n",
            "| id|            nome|departamento|               cargo|idade|salario|        cidade|\n",
            "+---+----------------+------------+--------------------+-----+-------+--------------+\n",
            "|  1|       Ana Souza|          RH|      Analista de RH|   29| 3200.0|     São Paulo|\n",
            "|  2|     Carlos Lima|          TI|       Desenvolvedor|   34| 7200.0|Rio de Janeiro|\n",
            "|  3|  Fernanda Alves|  Financeiro|           Contadora|   41| 6500.0|      Curitiba|\n",
            "|  4|   Ricardo Silva|      Vendas|            Vendedor|   28| 2800.0|Belo Horizonte|\n",
            "|  5|   Mariana Costa|   Marketing|Coordenadora de M...|   37| 7200.0|     São Paulo|\n",
            "|  7|  Patrícia Gomes|   Operações|Gerente de Operações|   46|11000.0|     Fortaleza|\n",
            "|  8|Gabriel Ferreira|          TI|  Cientista de Dados|   31|12500.0|  Porto Alegre|\n",
            "|  9| Larissa Martins|  Financeiro| Analista Financeiro|   26| 3900.0|Rio de Janeiro|\n",
            "| 10|     Bruno Rocha|      Vendas|Supervisor de Vendas|   39| 5400.0|      Campinas|\n",
            "| 12|   Eduardo Ramos|          TI|Engenheiro de Sof...|   36| 9800.0|      Brasília|\n",
            "| 13|    Juliana Melo|          RH|  Coordenadora de RH|   42| 8700.0|      Salvador|\n",
            "| 14|    André Santos|  Financeiro|  Diretor Financeiro|   50|15000.0|     São Paulo|\n",
            "| 15|  Roberta Araújo|   Operações|Analista de Opera...|   30| 4300.0|        Recife|\n",
            "| 16|  Felipe Cardoso|          TI| Analista de Suporte|   27| 3100.0|      Curitiba|\n",
            "| 17|   Beatriz Moura|      Vendas| Executiva de Contas|   33| 6100.0|Rio de Janeiro|\n",
            "| 18|   Marcelo Pinto|   Logística|           Motorista|   45| 2800.0|        Manaus|\n",
            "| 19|    Tatiane Lima|   Marketing|Gerente de Marketing|   38| 9500.0|     São Paulo|\n",
            "| 20|     Diego Nunes|          TI|Arquiteto de Soft...|   40|13200.0|  Porto Alegre|\n",
            "| 21|    Amanda Silva|          RH|         Recrutadora|   27| 3100.0|Rio de Janeiro|\n",
            "| 22|  Leonardo Alves|  Financeiro|          Tesoureiro|   48| 8700.0|     São Paulo|\n",
            "+---+----------------+------------+--------------------+-----+-------+--------------+\n",
            "only showing top 20 rows\n",
            "\n"
          ]
        }
      ]
    },
    {
      "cell_type": "code",
      "source": [
        "spark.sql(\"\"\"\n",
        "    SELECT departamento, AVG(salario) as media_salario\n",
        "    FROM funcionarios\n",
        "    GROUP BY departamento\n",
        "\"\"\").show()"
      ],
      "metadata": {
        "colab": {
          "base_uri": "https://localhost:8080/"
        },
        "id": "RaYUU39T9Sso",
        "outputId": "454d6c64-8a7b-4105-c817-0df2be149dcd"
      },
      "execution_count": 58,
      "outputs": [
        {
          "output_type": "stream",
          "name": "stdout",
          "text": [
            "+------------+-----------------+\n",
            "|departamento|    media_salario|\n",
            "+------------+-----------------+\n",
            "|          TI|8008.333333333333|\n",
            "|      Vendas|           5837.5|\n",
            "|   Logística|4114.285714285715|\n",
            "|          RH|6071.428571428572|\n",
            "|  Financeiro|           8290.0|\n",
            "|   Marketing|           5000.0|\n",
            "|   Operações|8014.285714285715|\n",
            "+------------+-----------------+\n",
            "\n"
          ]
        }
      ]
    },
    {
      "cell_type": "markdown",
      "source": [
        "# **Exercícios**"
      ],
      "metadata": {
        "id": "hlSI0U-d9gaA"
      }
    },
    {
      "cell_type": "code",
      "source": [
        "#Quais funcionários ganham menos de 3000?\n",
        "df.filter(df.salario < 3000).show()"
      ],
      "metadata": {
        "colab": {
          "base_uri": "https://localhost:8080/"
        },
        "id": "U3-W66379lL6",
        "outputId": "8398880a-31d3-4b2b-b264-020b85b1345b"
      },
      "execution_count": 59,
      "outputs": [
        {
          "output_type": "stream",
          "name": "stdout",
          "text": [
            "+---+----------------+------------+--------------------+-----+-------+--------------+\n",
            "| id|            nome|departamento|               cargo|idade|salario|        cidade|\n",
            "+---+----------------+------------+--------------------+-----+-------+--------------+\n",
            "|  4|   Ricardo Silva|      Vendas|            Vendedor|   28| 2800.0|Belo Horizonte|\n",
            "|  6|      João Pedro|   Logística|Auxiliar de Logís...|   23| 2100.0|        Recife|\n",
            "| 11|   Camila Torres|   Marketing|Assistente de Mar...|   24| 2500.0|     São Paulo|\n",
            "| 18|   Marcelo Pinto|   Logística|           Motorista|   45| 2800.0|        Manaus|\n",
            "| 28|   Sabrina Souza|          RH|    Assistente de RH|   24| 2400.0|Belo Horizonte|\n",
            "| 32|  Anderson Gomes|   Operações|Operador de Máquinas|   40| 2700.0|        Manaus|\n",
            "| 33| Gabriela Torres|   Marketing|        Social Media|   25| 2900.0|Rio de Janeiro|\n",
            "| 42|  Vanessa Mendes|  Financeiro|Assistente Financ...|   23| 2600.0|      Curitiba|\n",
            "| 45|Gustavo Oliveira|          TI|    Estagiário de TI|   21| 1800.0|        Recife|\n",
            "| 55|     João Marcos|   Logística|           Motorista|   44| 2900.0|      Salvador|\n",
            "| 60|   Amanda Torres|   Marketing|Assistente de Com...|   22| 2300.0|Rio de Janeiro|\n",
            "+---+----------------+------------+--------------------+-----+-------+--------------+\n",
            "\n"
          ]
        }
      ]
    },
    {
      "cell_type": "code",
      "source": [
        "#Quais funcionários ganham menos de 3000?\n",
        "spark.sql(\"SELECT * FROM funcionarios WHERE salario < 3000\").show()"
      ],
      "metadata": {
        "colab": {
          "base_uri": "https://localhost:8080/"
        },
        "id": "II8GPjYJ90sW",
        "outputId": "c5a0a312-0896-4376-f94d-bcd6c898a16c"
      },
      "execution_count": 60,
      "outputs": [
        {
          "output_type": "stream",
          "name": "stdout",
          "text": [
            "+---+----------------+------------+--------------------+-----+-------+--------------+\n",
            "| id|            nome|departamento|               cargo|idade|salario|        cidade|\n",
            "+---+----------------+------------+--------------------+-----+-------+--------------+\n",
            "|  4|   Ricardo Silva|      Vendas|            Vendedor|   28| 2800.0|Belo Horizonte|\n",
            "|  6|      João Pedro|   Logística|Auxiliar de Logís...|   23| 2100.0|        Recife|\n",
            "| 11|   Camila Torres|   Marketing|Assistente de Mar...|   24| 2500.0|     São Paulo|\n",
            "| 18|   Marcelo Pinto|   Logística|           Motorista|   45| 2800.0|        Manaus|\n",
            "| 28|   Sabrina Souza|          RH|    Assistente de RH|   24| 2400.0|Belo Horizonte|\n",
            "| 32|  Anderson Gomes|   Operações|Operador de Máquinas|   40| 2700.0|        Manaus|\n",
            "| 33| Gabriela Torres|   Marketing|        Social Media|   25| 2900.0|Rio de Janeiro|\n",
            "| 42|  Vanessa Mendes|  Financeiro|Assistente Financ...|   23| 2600.0|      Curitiba|\n",
            "| 45|Gustavo Oliveira|          TI|    Estagiário de TI|   21| 1800.0|        Recife|\n",
            "| 55|     João Marcos|   Logística|           Motorista|   44| 2900.0|      Salvador|\n",
            "| 60|   Amanda Torres|   Marketing|Assistente de Com...|   22| 2300.0|Rio de Janeiro|\n",
            "+---+----------------+------------+--------------------+-----+-------+--------------+\n",
            "\n"
          ]
        }
      ]
    },
    {
      "cell_type": "code",
      "source": [
        "#Qual é o maior salário do departamento de RH?\n",
        "from pyspark.sql.functions import max\n",
        "\n",
        "df.filter(df.departamento==\"RH\").agg(max(df.salario)).show()"
      ],
      "metadata": {
        "colab": {
          "base_uri": "https://localhost:8080/"
        },
        "id": "zGLkg2Vz9mSp",
        "outputId": "d8cf4396-e2ec-455a-bfe8-352f89225ebf"
      },
      "execution_count": 61,
      "outputs": [
        {
          "output_type": "stream",
          "name": "stdout",
          "text": [
            "+------------+\n",
            "|max(salario)|\n",
            "+------------+\n",
            "|     11200.0|\n",
            "+------------+\n",
            "\n"
          ]
        }
      ]
    },
    {
      "cell_type": "code",
      "source": [
        "#Qual é o maior salário do departamento de RH?\n",
        "spark.sql(\"\"\"\n",
        "    SELECT max(salario) as maior_salario\n",
        "    FROM funcionarios\n",
        "    WHERE departamento = 'RH'\n",
        "\"\"\").show()"
      ],
      "metadata": {
        "colab": {
          "base_uri": "https://localhost:8080/"
        },
        "id": "47YxkEf1_-Ba",
        "outputId": "7a6bc43a-a8d4-49bf-9b1c-7dac5e9b8e58"
      },
      "execution_count": 62,
      "outputs": [
        {
          "output_type": "stream",
          "name": "stdout",
          "text": [
            "+-------------+\n",
            "|maior_salario|\n",
            "+-------------+\n",
            "|      11200.0|\n",
            "+-------------+\n",
            "\n"
          ]
        }
      ]
    },
    {
      "cell_type": "code",
      "source": [
        "#Liste todos os nomes em ordem decrescente de salário.\n",
        "df.orderBy(df.salario.desc()).select(\"nome\").show()"
      ],
      "metadata": {
        "colab": {
          "base_uri": "https://localhost:8080/"
        },
        "id": "-d5HY-_N9pOa",
        "outputId": "f7b46c32-5d95-45ac-847e-472df301fc5a"
      },
      "execution_count": 63,
      "outputs": [
        {
          "output_type": "stream",
          "name": "stdout",
          "text": [
            "+----------------+\n",
            "|            nome|\n",
            "+----------------+\n",
            "|    André Santos|\n",
            "| Mariana Ribeiro|\n",
            "| Rodrigo Almeida|\n",
            "|     Diego Nunes|\n",
            "|Gabriel Ferreira|\n",
            "|     Mateus Lima|\n",
            "|   Roberto Souza|\n",
            "|  Patrícia Gomes|\n",
            "|   Rafael Santos|\n",
            "|   Eduardo Ramos|\n",
            "|  Patrícia Nunes|\n",
            "|    Tatiane Lima|\n",
            "| Luciana Almeida|\n",
            "|  Daniel Pereira|\n",
            "|Felipe Fernandes|\n",
            "|    Juliana Melo|\n",
            "|  Pedro Henrique|\n",
            "|  Leonardo Alves|\n",
            "|Tatiane Ferreira|\n",
            "|Rodrigo Ferreira|\n",
            "+----------------+\n",
            "only showing top 20 rows\n",
            "\n"
          ]
        }
      ]
    },
    {
      "cell_type": "code",
      "source": [
        "#Liste todos os nomes em ordem decrescente de salário.\n",
        "spark.sql(\"\"\"\n",
        "    SELECT nome\n",
        "    FROM funcionarios\n",
        "    ORDER BY salario DESC\n",
        "\"\"\").show()"
      ],
      "metadata": {
        "colab": {
          "base_uri": "https://localhost:8080/"
        },
        "id": "eDyLYRKCN6Co",
        "outputId": "a013ad80-f7af-41b1-e3e1-a26a6e83afaa"
      },
      "execution_count": 64,
      "outputs": [
        {
          "output_type": "stream",
          "name": "stdout",
          "text": [
            "+----------------+\n",
            "|            nome|\n",
            "+----------------+\n",
            "|    André Santos|\n",
            "| Mariana Ribeiro|\n",
            "| Rodrigo Almeida|\n",
            "|     Diego Nunes|\n",
            "|Gabriel Ferreira|\n",
            "|     Mateus Lima|\n",
            "|   Roberto Souza|\n",
            "|  Patrícia Gomes|\n",
            "|   Rafael Santos|\n",
            "|   Eduardo Ramos|\n",
            "|  Patrícia Nunes|\n",
            "|    Tatiane Lima|\n",
            "| Luciana Almeida|\n",
            "|  Daniel Pereira|\n",
            "|Felipe Fernandes|\n",
            "|    Juliana Melo|\n",
            "|  Pedro Henrique|\n",
            "|  Leonardo Alves|\n",
            "|Tatiane Ferreira|\n",
            "|Rodrigo Ferreira|\n",
            "+----------------+\n",
            "only showing top 20 rows\n",
            "\n"
          ]
        }
      ]
    },
    {
      "cell_type": "code",
      "source": [
        "#Qual o salário médio geral da empresa?\n",
        "from pyspark.sql import functions as F\n",
        "\n",
        "df.agg(F.avg(\"salario\").alias(\"salario_medio\")).show()"
      ],
      "metadata": {
        "colab": {
          "base_uri": "https://localhost:8080/"
        },
        "id": "A61Nqewl9rHU",
        "outputId": "e17f7c78-b684-4bbb-a55d-8e67475e2556"
      },
      "execution_count": 65,
      "outputs": [
        {
          "output_type": "stream",
          "name": "stdout",
          "text": [
            "+-------------+\n",
            "|salario_medio|\n",
            "+-------------+\n",
            "|       6635.0|\n",
            "+-------------+\n",
            "\n"
          ]
        }
      ]
    },
    {
      "cell_type": "code",
      "source": [
        "#Qual o salário médio geral da empresa?\n",
        "spark.sql(\"\"\"\n",
        "    SELECT AVG(salario) as salario_medio\n",
        "    FROM funcionarios\n",
        "    \"\"\").show()"
      ],
      "metadata": {
        "colab": {
          "base_uri": "https://localhost:8080/"
        },
        "id": "4a2tVqn2PVSL",
        "outputId": "efb147f4-a430-4896-d208-06378e647e08"
      },
      "execution_count": 66,
      "outputs": [
        {
          "output_type": "stream",
          "name": "stdout",
          "text": [
            "+-------------+\n",
            "|salario_medio|\n",
            "+-------------+\n",
            "|       6635.0|\n",
            "+-------------+\n",
            "\n"
          ]
        }
      ]
    },
    {
      "cell_type": "code",
      "source": [
        "# Salário médio por departamento\n",
        "df.groupBy(\"departamento\").agg(F.avg(\"salario\").alias(\"salario_medio\")).show()"
      ],
      "metadata": {
        "colab": {
          "base_uri": "https://localhost:8080/"
        },
        "id": "-1Q4GwYRP3xr",
        "outputId": "3848be32-ad68-4384-90db-a67fb9016091"
      },
      "execution_count": 67,
      "outputs": [
        {
          "output_type": "stream",
          "name": "stdout",
          "text": [
            "+------------+-----------------+\n",
            "|departamento|    salario_medio|\n",
            "+------------+-----------------+\n",
            "|          TI|8008.333333333333|\n",
            "|      Vendas|           5837.5|\n",
            "|   Logística|4114.285714285715|\n",
            "|          RH|6071.428571428572|\n",
            "|  Financeiro|           8290.0|\n",
            "|   Marketing|           5000.0|\n",
            "|   Operações|8014.285714285715|\n",
            "+------------+-----------------+\n",
            "\n"
          ]
        }
      ]
    },
    {
      "cell_type": "code",
      "source": [
        "# Salário médio por departamento\n",
        "spark.sql(\"\"\"\n",
        "    SELECT departamento, AVG(salario) as salario_medio\n",
        "    FROM funcionarios\n",
        "    GROUP BY departamento\n",
        "\"\"\").show()"
      ],
      "metadata": {
        "colab": {
          "base_uri": "https://localhost:8080/"
        },
        "id": "gtVlkuQqQit0",
        "outputId": "9aaa5cce-0576-49e2-af26-cd1a80afbb03"
      },
      "execution_count": 68,
      "outputs": [
        {
          "output_type": "stream",
          "name": "stdout",
          "text": [
            "+------------+-----------------+\n",
            "|departamento|    salario_medio|\n",
            "+------------+-----------------+\n",
            "|          TI|8008.333333333333|\n",
            "|      Vendas|           5837.5|\n",
            "|   Logística|4114.285714285715|\n",
            "|          RH|6071.428571428572|\n",
            "|  Financeiro|           8290.0|\n",
            "|   Marketing|           5000.0|\n",
            "|   Operações|8014.285714285715|\n",
            "+------------+-----------------+\n",
            "\n"
          ]
        }
      ]
    },
    {
      "cell_type": "code",
      "source": [
        "# Maior e menor salário da empresa\n",
        "from pyspark.sql.functions import min\n",
        "df.agg(min(\"salario\"),max(\"salario\")).show()"
      ],
      "metadata": {
        "colab": {
          "base_uri": "https://localhost:8080/"
        },
        "id": "6fCJ9_QZRozk",
        "outputId": "a5fe4edc-34fb-4423-b38b-0851100eba1a"
      },
      "execution_count": 69,
      "outputs": [
        {
          "output_type": "stream",
          "name": "stdout",
          "text": [
            "+------------+------------+\n",
            "|min(salario)|max(salario)|\n",
            "+------------+------------+\n",
            "|      1800.0|     15000.0|\n",
            "+------------+------------+\n",
            "\n"
          ]
        }
      ]
    },
    {
      "cell_type": "code",
      "source": [
        "#Maior e menor salário da empresa\n",
        "spark.sql(\"\"\"\n",
        "    select min(salario) as menor, max(salario) as maior\n",
        "    from funcionarios\n",
        "\"\"\").show()"
      ],
      "metadata": {
        "colab": {
          "base_uri": "https://localhost:8080/"
        },
        "id": "VXJgUOCXSB6M",
        "outputId": "ddb0b83e-39d8-44ec-f677-a48548859cc1"
      },
      "execution_count": 70,
      "outputs": [
        {
          "output_type": "stream",
          "name": "stdout",
          "text": [
            "+------+-------+\n",
            "| menor|  maior|\n",
            "+------+-------+\n",
            "|1800.0|15000.0|\n",
            "+------+-------+\n",
            "\n"
          ]
        }
      ]
    },
    {
      "cell_type": "code",
      "source": [
        "# Quantos funcionários existem em cada cargo?\n",
        "from pyspark.sql.functions import count\n",
        "df.groupBy(\"departamento\").agg(count(\"nome\").alias(\"quantidade_funcionarios\")).show()"
      ],
      "metadata": {
        "colab": {
          "base_uri": "https://localhost:8080/"
        },
        "id": "93LUk_P4SFMx",
        "outputId": "80f207cc-d26e-4379-de91-addcf8588b67"
      },
      "execution_count": 71,
      "outputs": [
        {
          "output_type": "stream",
          "name": "stdout",
          "text": [
            "+------------+-----------------------+\n",
            "|departamento|quantidade_funcionarios|\n",
            "+------------+-----------------------+\n",
            "|          TI|                     12|\n",
            "|      Vendas|                      8|\n",
            "|   Logística|                      7|\n",
            "|          RH|                      7|\n",
            "|  Financeiro|                     10|\n",
            "|   Marketing|                      9|\n",
            "|   Operações|                      7|\n",
            "+------------+-----------------------+\n",
            "\n"
          ]
        }
      ]
    },
    {
      "cell_type": "code",
      "source": [
        "# Quantos funcionários existem em cada cargo?\n",
        "spark.sql(\"\"\"\n",
        "    select departamento, count(nome) as quantidade\n",
        "    from funcionarios\n",
        "    group by 1\n",
        "\"\"\").show()"
      ],
      "metadata": {
        "colab": {
          "base_uri": "https://localhost:8080/"
        },
        "id": "_5GlKEkJSwcY",
        "outputId": "2adc10e3-a702-4bbc-af99-cb0fce986f3e"
      },
      "execution_count": 72,
      "outputs": [
        {
          "output_type": "stream",
          "name": "stdout",
          "text": [
            "+------------+----------+\n",
            "|departamento|quantidade|\n",
            "+------------+----------+\n",
            "|          TI|        12|\n",
            "|      Vendas|         8|\n",
            "|   Logística|         7|\n",
            "|          RH|         7|\n",
            "|  Financeiro|        10|\n",
            "|   Marketing|         9|\n",
            "|   Operações|         7|\n",
            "+------------+----------+\n",
            "\n"
          ]
        }
      ]
    },
    {
      "cell_type": "code",
      "source": [
        "#Soma dos salários de todos os funcionários de TI\n",
        "df.filter(df.departamento==\"TI\").agg(F.sum(df.salario).alias(\"salarios_ti\")).show()"
      ],
      "metadata": {
        "colab": {
          "base_uri": "https://localhost:8080/"
        },
        "id": "nsjGFRJrTLaa",
        "outputId": "afb386aa-07f5-4af7-f4d5-14df0da1b182"
      },
      "execution_count": 73,
      "outputs": [
        {
          "output_type": "stream",
          "name": "stdout",
          "text": [
            "+-----------+\n",
            "|salarios_ti|\n",
            "+-----------+\n",
            "|    96100.0|\n",
            "+-----------+\n",
            "\n"
          ]
        }
      ]
    },
    {
      "cell_type": "code",
      "source": [
        "#Soma dos salários de todos os funcionários de TI\n",
        "spark.sql(\"\"\"\n",
        "    select sum(salario) as salarios_ti\n",
        "    from funcionarios\n",
        "    where departamento = \"TI\"\n",
        "\"\"\").show()"
      ],
      "metadata": {
        "colab": {
          "base_uri": "https://localhost:8080/"
        },
        "id": "8hCBfwpIULb7",
        "outputId": "870ccae8-3f40-4db8-84eb-db27575e2a5d"
      },
      "execution_count": 74,
      "outputs": [
        {
          "output_type": "stream",
          "name": "stdout",
          "text": [
            "+-----------+\n",
            "|salarios_ti|\n",
            "+-----------+\n",
            "|    96100.0|\n",
            "+-----------+\n",
            "\n"
          ]
        }
      ]
    },
    {
      "cell_type": "code",
      "source": [
        "# Média salarial considerando apenas salários acima de 5.000\n",
        "df.filter(df.salario>5000).agg(F.avg(df.salario).alias(\"media_salarial\")).show()"
      ],
      "metadata": {
        "colab": {
          "base_uri": "https://localhost:8080/"
        },
        "id": "GmPabj2gUwgd",
        "outputId": "f8ca06d1-3d62-41a3-9698-d6910cf257c6"
      },
      "execution_count": 75,
      "outputs": [
        {
          "output_type": "stream",
          "name": "stdout",
          "text": [
            "+-----------------+\n",
            "|   media_salarial|\n",
            "+-----------------+\n",
            "|8813.513513513513|\n",
            "+-----------------+\n",
            "\n"
          ]
        }
      ]
    },
    {
      "cell_type": "markdown",
      "source": [
        "# Exercícios Básicos"
      ],
      "metadata": {
        "id": "j38RGqdWtslx"
      }
    },
    {
      "cell_type": "code",
      "source": [
        "# Liste todos os funcionários do departamento TI.\n",
        "df.filter(df.departamento==\"TI\").show()"
      ],
      "metadata": {
        "colab": {
          "base_uri": "https://localhost:8080/"
        },
        "id": "iIINIj8wtoeG",
        "outputId": "653633f6-b580-470b-c2a8-a43a6a496777"
      },
      "execution_count": 79,
      "outputs": [
        {
          "output_type": "stream",
          "name": "stdout",
          "text": [
            "+---+----------------+------------+--------------------+-----+-------+--------------+\n",
            "| id|            nome|departamento|               cargo|idade|salario|        cidade|\n",
            "+---+----------------+------------+--------------------+-----+-------+--------------+\n",
            "|  2|     Carlos Lima|          TI|       Desenvolvedor|   34| 7200.0|Rio de Janeiro|\n",
            "|  8|Gabriel Ferreira|          TI|  Cientista de Dados|   31|12500.0|  Porto Alegre|\n",
            "| 12|   Eduardo Ramos|          TI|Engenheiro de Sof...|   36| 9800.0|      Brasília|\n",
            "| 16|  Felipe Cardoso|          TI| Analista de Suporte|   27| 3100.0|      Curitiba|\n",
            "| 20|     Diego Nunes|          TI|Arquiteto de Soft...|   40|13200.0|  Porto Alegre|\n",
            "| 23|   Paula Martins|          TI|Desenvolvedora Fr...|   29| 7100.0|     Fortaleza|\n",
            "| 30|     Lucas Rocha|          TI|Desenvolvedor Bac...|   32| 7800.0|     São Paulo|\n",
            "| 34|   Rafael Santos|          TI|     DevOps Engineer|   37|10500.0|      Brasília|\n",
            "| 40| Débora Nogueira|          TI|         QA Engineer|   30| 6600.0|Rio de Janeiro|\n",
            "| 45|Gustavo Oliveira|          TI|    Estagiário de TI|   21| 1800.0|        Recife|\n",
            "| 51|  Daniel Pereira|          TI|Especialista em R...|   39| 9100.0|     São Paulo|\n",
            "| 57|  Carlos Eduardo|          TI|  Programador Mobile|   29| 7400.0|  Porto Alegre|\n",
            "+---+----------------+------------+--------------------+-----+-------+--------------+\n",
            "\n"
          ]
        }
      ]
    },
    {
      "cell_type": "code",
      "source": [
        "# Liste todos os funcionários do departamento TI.\n",
        "spark.sql(\"\"\"\n",
        "    select *\n",
        "    from funcionarios\n",
        "    where departamento = \"TI\"\n",
        "\"\"\").show()"
      ],
      "metadata": {
        "colab": {
          "base_uri": "https://localhost:8080/"
        },
        "id": "njk5QoxEvP7A",
        "outputId": "4929bb03-a011-487c-d148-342ddb353893"
      },
      "execution_count": 81,
      "outputs": [
        {
          "output_type": "stream",
          "name": "stdout",
          "text": [
            "+---+----------------+------------+--------------------+-----+-------+--------------+\n",
            "| id|            nome|departamento|               cargo|idade|salario|        cidade|\n",
            "+---+----------------+------------+--------------------+-----+-------+--------------+\n",
            "|  2|     Carlos Lima|          TI|       Desenvolvedor|   34| 7200.0|Rio de Janeiro|\n",
            "|  8|Gabriel Ferreira|          TI|  Cientista de Dados|   31|12500.0|  Porto Alegre|\n",
            "| 12|   Eduardo Ramos|          TI|Engenheiro de Sof...|   36| 9800.0|      Brasília|\n",
            "| 16|  Felipe Cardoso|          TI| Analista de Suporte|   27| 3100.0|      Curitiba|\n",
            "| 20|     Diego Nunes|          TI|Arquiteto de Soft...|   40|13200.0|  Porto Alegre|\n",
            "| 23|   Paula Martins|          TI|Desenvolvedora Fr...|   29| 7100.0|     Fortaleza|\n",
            "| 30|     Lucas Rocha|          TI|Desenvolvedor Bac...|   32| 7800.0|     São Paulo|\n",
            "| 34|   Rafael Santos|          TI|     DevOps Engineer|   37|10500.0|      Brasília|\n",
            "| 40| Débora Nogueira|          TI|         QA Engineer|   30| 6600.0|Rio de Janeiro|\n",
            "| 45|Gustavo Oliveira|          TI|    Estagiário de TI|   21| 1800.0|        Recife|\n",
            "| 51|  Daniel Pereira|          TI|Especialista em R...|   39| 9100.0|     São Paulo|\n",
            "| 57|  Carlos Eduardo|          TI|  Programador Mobile|   29| 7400.0|  Porto Alegre|\n",
            "+---+----------------+------------+--------------------+-----+-------+--------------+\n",
            "\n"
          ]
        }
      ]
    },
    {
      "cell_type": "code",
      "source": [
        "# Liste apenas o nome e o salário dos funcionários que ganham mais de 5000.\n",
        "df.filter((df.salario >= 5000) & (df.departamento == \"TI\")).select(\"nome\", \"salario\", \"departamento\").show()"
      ],
      "metadata": {
        "colab": {
          "base_uri": "https://localhost:8080/"
        },
        "id": "iLtLqhBUtyOg",
        "outputId": "3e611922-ad74-49d5-cf74-baf9318c6fb4"
      },
      "execution_count": 95,
      "outputs": [
        {
          "output_type": "stream",
          "name": "stdout",
          "text": [
            "+----------------+-------+------------+\n",
            "|            nome|salario|departamento|\n",
            "+----------------+-------+------------+\n",
            "|     Carlos Lima| 7200.0|          TI|\n",
            "|Gabriel Ferreira|12500.0|          TI|\n",
            "|   Eduardo Ramos| 9800.0|          TI|\n",
            "|     Diego Nunes|13200.0|          TI|\n",
            "|   Paula Martins| 7100.0|          TI|\n",
            "|     Lucas Rocha| 7800.0|          TI|\n",
            "|   Rafael Santos|10500.0|          TI|\n",
            "| Débora Nogueira| 6600.0|          TI|\n",
            "|  Daniel Pereira| 9100.0|          TI|\n",
            "|  Carlos Eduardo| 7400.0|          TI|\n",
            "+----------------+-------+------------+\n",
            "\n"
          ]
        }
      ]
    },
    {
      "cell_type": "code",
      "source": [
        "# Liste apenas o nome e o salário dos funcionários que ganham mais de 5000 OU é do departamento TI.\n",
        "df.filter((df.salario >= 5000) | (df.departamento == \"TI\")).select(\"nome\", \"salario\", \"departamento\").show()"
      ],
      "metadata": {
        "colab": {
          "base_uri": "https://localhost:8080/"
        },
        "id": "fW3S8xVszp2h",
        "outputId": "b39a7400-e338-41b1-aa5e-1bba050a476b"
      },
      "execution_count": 96,
      "outputs": [
        {
          "output_type": "stream",
          "name": "stdout",
          "text": [
            "+----------------+-------+------------+\n",
            "|            nome|salario|departamento|\n",
            "+----------------+-------+------------+\n",
            "|     Carlos Lima| 7200.0|          TI|\n",
            "|  Fernanda Alves| 6500.0|  Financeiro|\n",
            "|   Mariana Costa| 7200.0|   Marketing|\n",
            "|  Patrícia Gomes|11000.0|   Operações|\n",
            "|Gabriel Ferreira|12500.0|          TI|\n",
            "|     Bruno Rocha| 5400.0|      Vendas|\n",
            "|   Eduardo Ramos| 9800.0|          TI|\n",
            "|    Juliana Melo| 8700.0|          RH|\n",
            "|    André Santos|15000.0|  Financeiro|\n",
            "|  Felipe Cardoso| 3100.0|          TI|\n",
            "|   Beatriz Moura| 6100.0|      Vendas|\n",
            "|    Tatiane Lima| 9500.0|   Marketing|\n",
            "|     Diego Nunes|13200.0|          TI|\n",
            "|  Leonardo Alves| 8700.0|  Financeiro|\n",
            "|   Paula Martins| 7100.0|          TI|\n",
            "|Rodrigo Ferreira| 8200.0|   Operações|\n",
            "|   Joana Pereira| 5900.0|  Financeiro|\n",
            "|     Lucas Rocha| 7800.0|          TI|\n",
            "|   Rafael Santos|10500.0|          TI|\n",
            "| Luciana Almeida| 9400.0|  Financeiro|\n",
            "+----------------+-------+------------+\n",
            "only showing top 20 rows\n",
            "\n"
          ]
        }
      ]
    },
    {
      "cell_type": "code",
      "source": [
        "# Liste apenas o nome e o salário dos funcionários que ganham mais de 5000\n",
        "df.filter(df.salario >= 5000).select(\"nome\", \"salario\").orderBy(\"salario\").show()"
      ],
      "metadata": {
        "colab": {
          "base_uri": "https://localhost:8080/"
        },
        "id": "4u3g3dt5zw5l",
        "outputId": "e875248d-8ca3-4478-c554-c4fb32edc518"
      },
      "execution_count": 98,
      "outputs": [
        {
          "output_type": "stream",
          "name": "stdout",
          "text": [
            "+----------------+-------+\n",
            "|            nome|salario|\n",
            "+----------------+-------+\n",
            "|Carolina Freitas| 5200.0|\n",
            "|     Bruno Rocha| 5400.0|\n",
            "|    Renato Gomes| 5600.0|\n",
            "|   Joana Pereira| 5900.0|\n",
            "|   Beatriz Moura| 6100.0|\n",
            "| Cláudio Ribeiro| 6400.0|\n",
            "|  Fernanda Alves| 6500.0|\n",
            "| Débora Nogueira| 6600.0|\n",
            "| Camila Oliveira| 6700.0|\n",
            "|   Paula Martins| 7100.0|\n",
            "|  Cíntia Barbosa| 7200.0|\n",
            "|     Carlos Lima| 7200.0|\n",
            "| Larissa Barbosa| 7200.0|\n",
            "|   Mariana Costa| 7200.0|\n",
            "|  Carlos Eduardo| 7400.0|\n",
            "|  Juliana Castro| 7500.0|\n",
            "|     Lucas Rocha| 7800.0|\n",
            "|Tatiane Ferreira| 8200.0|\n",
            "|Rodrigo Ferreira| 8200.0|\n",
            "|  Pedro Henrique| 8700.0|\n",
            "+----------------+-------+\n",
            "only showing top 20 rows\n",
            "\n"
          ]
        }
      ]
    },
    {
      "cell_type": "code",
      "source": [
        "# Liste apenas o nome e o salário dos funcionários que ganham mais de 5000\n",
        "spark.sql(\"\"\"\n",
        "    select nome, salario\n",
        "    from funcionarios\n",
        "    where salario >= 5000\n",
        "\"\"\").show()"
      ],
      "metadata": {
        "colab": {
          "base_uri": "https://localhost:8080/"
        },
        "id": "aEvHQj5kz7EK",
        "outputId": "f2d2bea9-de18-42c1-c0bb-a2d416c3e200"
      },
      "execution_count": 99,
      "outputs": [
        {
          "output_type": "stream",
          "name": "stdout",
          "text": [
            "+----------------+-------+\n",
            "|            nome|salario|\n",
            "+----------------+-------+\n",
            "|    André Santos|15000.0|\n",
            "|   Beatriz Moura| 6100.0|\n",
            "|     Bruno Rocha| 5400.0|\n",
            "| Camila Oliveira| 6700.0|\n",
            "|  Carlos Eduardo| 7400.0|\n",
            "|     Carlos Lima| 7200.0|\n",
            "|Carolina Freitas| 5200.0|\n",
            "| Cláudio Ribeiro| 6400.0|\n",
            "|  Cíntia Barbosa| 7200.0|\n",
            "|  Daniel Pereira| 9100.0|\n",
            "|     Diego Nunes|13200.0|\n",
            "| Débora Nogueira| 6600.0|\n",
            "|   Eduardo Ramos| 9800.0|\n",
            "|Felipe Fernandes| 8900.0|\n",
            "|  Fernanda Alves| 6500.0|\n",
            "|Gabriel Ferreira|12500.0|\n",
            "|   Joana Pereira| 5900.0|\n",
            "|  Juliana Castro| 7500.0|\n",
            "|    Juliana Melo| 8700.0|\n",
            "| Larissa Barbosa| 7200.0|\n",
            "+----------------+-------+\n",
            "only showing top 20 rows\n",
            "\n"
          ]
        }
      ]
    },
    {
      "cell_type": "code",
      "source": [
        "# Mostre apenas os nomes distintos dos departamentos existentes.\n",
        "df.select(\"departamento\").distinct().orderBy(\"departamento\").show()"
      ],
      "metadata": {
        "colab": {
          "base_uri": "https://localhost:8080/"
        },
        "id": "dcLPvNOst2Ti",
        "outputId": "7e6ddb96-ab8a-461d-ba3d-11254c67ead8"
      },
      "execution_count": 104,
      "outputs": [
        {
          "output_type": "stream",
          "name": "stdout",
          "text": [
            "+------------+\n",
            "|departamento|\n",
            "+------------+\n",
            "|  Financeiro|\n",
            "|   Logística|\n",
            "|   Marketing|\n",
            "|   Operações|\n",
            "|          RH|\n",
            "|          TI|\n",
            "|      Vendas|\n",
            "+------------+\n",
            "\n"
          ]
        }
      ]
    },
    {
      "cell_type": "code",
      "source": [
        "# Mostre apenas os nomes distintos dos departamentos existentes.\n",
        "spark.sql(\"\"\"\n",
        "    select distinct(departamento)\n",
        "    from funcionarios\n",
        "    order by 1\n",
        "\"\"\").show()"
      ],
      "metadata": {
        "colab": {
          "base_uri": "https://localhost:8080/"
        },
        "id": "HNDrYhva0uI9",
        "outputId": "e71ad4d7-98b0-47bd-b11f-d3983fef8d89"
      },
      "execution_count": 105,
      "outputs": [
        {
          "output_type": "stream",
          "name": "stdout",
          "text": [
            "+------------+\n",
            "|departamento|\n",
            "+------------+\n",
            "|  Financeiro|\n",
            "|   Logística|\n",
            "|   Marketing|\n",
            "|   Operações|\n",
            "|          RH|\n",
            "|          TI|\n",
            "|      Vendas|\n",
            "+------------+\n",
            "\n"
          ]
        }
      ]
    },
    {
      "cell_type": "code",
      "source": [
        "# Conte quantos funcionários existem na empresa.\n",
        "from pyspark.sql import functions as F\n",
        "\n",
        "df.agg(F.count(\"nome\").alias(\"quantidade_funcionarios\")).show()"
      ],
      "metadata": {
        "colab": {
          "base_uri": "https://localhost:8080/"
        },
        "id": "U6bxGcxBt3Lu",
        "outputId": "1cf9c203-0974-4b09-81b7-d68027452f01"
      },
      "execution_count": 117,
      "outputs": [
        {
          "output_type": "stream",
          "name": "stdout",
          "text": [
            "+-----------------------+\n",
            "|quantidade_funcionarios|\n",
            "+-----------------------+\n",
            "|                     60|\n",
            "+-----------------------+\n",
            "\n"
          ]
        }
      ]
    },
    {
      "cell_type": "code",
      "source": [
        "# Ordene os funcionários pelo salário de forma decrescente.\n",
        "df.select(\"nome\", \"salario\").orderBy(df.salario.desc()).show()"
      ],
      "metadata": {
        "colab": {
          "base_uri": "https://localhost:8080/"
        },
        "id": "UnwFzNZet5Qn",
        "outputId": "174461dc-17a5-46ee-94ab-c33730053b4d"
      },
      "execution_count": 122,
      "outputs": [
        {
          "output_type": "stream",
          "name": "stdout",
          "text": [
            "+----------------+-------+\n",
            "|            nome|salario|\n",
            "+----------------+-------+\n",
            "|    André Santos|15000.0|\n",
            "| Mariana Ribeiro|14800.0|\n",
            "| Rodrigo Almeida|14200.0|\n",
            "|     Diego Nunes|13200.0|\n",
            "|Gabriel Ferreira|12500.0|\n",
            "|     Mateus Lima|11800.0|\n",
            "|   Roberto Souza|11200.0|\n",
            "|  Patrícia Gomes|11000.0|\n",
            "|   Rafael Santos|10500.0|\n",
            "|   Eduardo Ramos| 9800.0|\n",
            "|  Patrícia Nunes| 9700.0|\n",
            "|    Tatiane Lima| 9500.0|\n",
            "| Luciana Almeida| 9400.0|\n",
            "|  Daniel Pereira| 9100.0|\n",
            "|Felipe Fernandes| 8900.0|\n",
            "|    Juliana Melo| 8700.0|\n",
            "|  Pedro Henrique| 8700.0|\n",
            "|  Leonardo Alves| 8700.0|\n",
            "|Tatiane Ferreira| 8200.0|\n",
            "|Rodrigo Ferreira| 8200.0|\n",
            "+----------------+-------+\n",
            "only showing top 20 rows\n",
            "\n"
          ]
        }
      ]
    },
    {
      "cell_type": "markdown",
      "source": [
        "# Exercícios Intermediários"
      ],
      "metadata": {
        "id": "ZESXBcZCuC0H"
      }
    },
    {
      "cell_type": "code",
      "source": [
        "# Qual é o maior salário da empresa?\n",
        "df.agg(max(df.salario)).show()"
      ],
      "metadata": {
        "colab": {
          "base_uri": "https://localhost:8080/"
        },
        "id": "ritWdfJNuIHD",
        "outputId": "cade26dc-de18-46f5-a675-ab79db06e558"
      },
      "execution_count": 126,
      "outputs": [
        {
          "output_type": "stream",
          "name": "stdout",
          "text": [
            "+------------+\n",
            "|max(salario)|\n",
            "+------------+\n",
            "|     15000.0|\n",
            "+------------+\n",
            "\n"
          ]
        }
      ]
    },
    {
      "cell_type": "code",
      "source": [
        "# Qual é o salário médio de cada departamento?\n",
        "df.groupBy(df.departamento).agg(F.round(F.avg(df.salario),2)).alias(\"salario médio\").show()"
      ],
      "metadata": {
        "colab": {
          "base_uri": "https://localhost:8080/"
        },
        "id": "Z-TpwnywuJ7v",
        "outputId": "1dff2986-8d43-402b-b5f1-2c1730b71f54"
      },
      "execution_count": 135,
      "outputs": [
        {
          "output_type": "stream",
          "name": "stdout",
          "text": [
            "+------------+----------------------+\n",
            "|departamento|round(avg(salario), 2)|\n",
            "+------------+----------------------+\n",
            "|          TI|               8008.33|\n",
            "|      Vendas|                5837.5|\n",
            "|   Logística|               4114.29|\n",
            "|          RH|               6071.43|\n",
            "|  Financeiro|                8290.0|\n",
            "|   Marketing|                5000.0|\n",
            "|   Operações|               8014.29|\n",
            "+------------+----------------------+\n",
            "\n"
          ]
        }
      ]
    },
    {
      "cell_type": "code",
      "source": [
        "# Liste os 3 funcionários mais jovens.\n",
        "df.select(\"nome\", \"idade\").orderBy(df.idade.asc()).limit(3).show()"
      ],
      "metadata": {
        "colab": {
          "base_uri": "https://localhost:8080/"
        },
        "id": "IxhAgv3suL5c",
        "outputId": "c49e8356-c305-4b91-8361-b0c57453a682"
      },
      "execution_count": 141,
      "outputs": [
        {
          "output_type": "stream",
          "name": "stdout",
          "text": [
            "+----------------+-----+\n",
            "|            nome|idade|\n",
            "+----------------+-----+\n",
            "|Gustavo Oliveira|   21|\n",
            "|   Amanda Torres|   22|\n",
            "|      João Pedro|   23|\n",
            "+----------------+-----+\n",
            "\n"
          ]
        }
      ]
    },
    {
      "cell_type": "code",
      "source": [
        "# Mostre o nome e o departamento dos funcionários cujo salário está entre 3000 e 7000.\n",
        "df.select(\"nome\", \"departamento\").filter(df.salario.between(3000,7000)).show()"
      ],
      "metadata": {
        "colab": {
          "base_uri": "https://localhost:8080/"
        },
        "id": "hoKSYaGSuNsD",
        "outputId": "01077992-5a06-4c3f-9ecd-0ef7e07c4f7a"
      },
      "execution_count": 140,
      "outputs": [
        {
          "output_type": "stream",
          "name": "stdout",
          "text": [
            "+----------------+------------+\n",
            "|            nome|departamento|\n",
            "+----------------+------------+\n",
            "|       Ana Souza|          RH|\n",
            "|  Fernanda Alves|  Financeiro|\n",
            "| Larissa Martins|  Financeiro|\n",
            "|     Bruno Rocha|      Vendas|\n",
            "|  Roberta Araújo|   Operações|\n",
            "|  Felipe Cardoso|          TI|\n",
            "|   Beatriz Moura|      Vendas|\n",
            "|    Amanda Silva|          RH|\n",
            "|     Thiago Lima|      Vendas|\n",
            "|   Isabela Costa|   Marketing|\n",
            "| Marcos Vinicius|   Logística|\n",
            "|   Joana Pereira|  Financeiro|\n",
            "|    Natália Dias|      Vendas|\n",
            "|   Bruna Cardoso|   Marketing|\n",
            "| Débora Nogueira|          TI|\n",
            "| Cláudio Ribeiro|   Logística|\n",
            "|Carolina Freitas|          RH|\n",
            "|  Alexandre Lima|   Logística|\n",
            "| Camila Oliveira|      Vendas|\n",
            "|  Fernanda Rocha|   Marketing|\n",
            "+----------------+------------+\n",
            "only showing top 20 rows\n",
            "\n"
          ]
        }
      ]
    },
    {
      "cell_type": "code",
      "source": [
        "# Qual é o total gasto em salários por departamento?\n",
        "df.groupBy(\"departamento\").agg(F.sum(\"salario\").alias(\"Total Gasto\")).show()"
      ],
      "metadata": {
        "colab": {
          "base_uri": "https://localhost:8080/"
        },
        "id": "Ah5j49V9uQxX",
        "outputId": "c0466211-863f-48fb-ac52-96b9a3af9e1a"
      },
      "execution_count": 143,
      "outputs": [
        {
          "output_type": "stream",
          "name": "stdout",
          "text": [
            "+------------+-----------+\n",
            "|departamento|Total Gasto|\n",
            "+------------+-----------+\n",
            "|          TI|    96100.0|\n",
            "|      Vendas|    46700.0|\n",
            "|   Logística|    28800.0|\n",
            "|          RH|    42500.0|\n",
            "|  Financeiro|    82900.0|\n",
            "|   Marketing|    45000.0|\n",
            "|   Operações|    56100.0|\n",
            "+------------+-----------+\n",
            "\n"
          ]
        }
      ]
    },
    {
      "cell_type": "markdown",
      "source": [
        "# Exercícios Avançados"
      ],
      "metadata": {
        "id": "Lyf6BJiIuRpg"
      }
    },
    {
      "cell_type": "code",
      "source": [
        "# Qual o departamento com o maior salário médio?\n",
        "df.groupBy(\"departamento\").agg(F.avg(\"salario\").alias(\"salario_medio\")).orderBy(F.col(\"salario_medio\").desc()).limit(1).show()"
      ],
      "metadata": {
        "colab": {
          "base_uri": "https://localhost:8080/"
        },
        "id": "mwNSi1d8uT9f",
        "outputId": "5e649d79-cb88-45d7-f220-13a367bdfe59"
      },
      "execution_count": 156,
      "outputs": [
        {
          "output_type": "stream",
          "name": "stdout",
          "text": [
            "+------------+-------------+\n",
            "|departamento|salario_medio|\n",
            "+------------+-------------+\n",
            "|  Financeiro|       8290.0|\n",
            "+------------+-------------+\n",
            "\n"
          ]
        }
      ]
    },
    {
      "cell_type": "code",
      "source": [
        "# Quais funcionários têm o mesmo salário que outro colega?\n",
        "# Agrupar por salário e contar\n",
        "salarios_repetidos = df.groupBy(\"salario\").count().filter(\"count > 1\")\n",
        "\n",
        "# Juntar para pegar os nomes\n",
        "df.join(salarios_repetidos, on=\"salario\") \\\n",
        "  .select(\"nome\", \"salario\") \\\n",
        "  .show()"
      ],
      "metadata": {
        "colab": {
          "base_uri": "https://localhost:8080/"
        },
        "id": "i9rfp026uWr5",
        "outputId": "c74688e4-eeb1-433a-8079-7a6b1000598e"
      },
      "execution_count": 157,
      "outputs": [
        {
          "output_type": "stream",
          "name": "stdout",
          "text": [
            "+----------------+-------+\n",
            "|            nome|salario|\n",
            "+----------------+-------+\n",
            "|    Amanda Silva| 3100.0|\n",
            "|  Felipe Cardoso| 3100.0|\n",
            "|  Pedro Henrique| 8700.0|\n",
            "|  Leonardo Alves| 8700.0|\n",
            "|    Juliana Melo| 8700.0|\n",
            "|Tatiane Ferreira| 8200.0|\n",
            "|Rodrigo Ferreira| 8200.0|\n",
            "|  Alexandre Lima| 3300.0|\n",
            "|   Isabela Costa| 3300.0|\n",
            "|   Bruna Cardoso| 4100.0|\n",
            "| Marcos Vinicius| 4100.0|\n",
            "| Larissa Barbosa| 7200.0|\n",
            "|  Cíntia Barbosa| 7200.0|\n",
            "|   Mariana Costa| 7200.0|\n",
            "|     Carlos Lima| 7200.0|\n",
            "|   Marcelo Pinto| 2800.0|\n",
            "|   Ricardo Silva| 2800.0|\n",
            "|     João Marcos| 2900.0|\n",
            "| Gabriela Torres| 2900.0|\n",
            "|  Fernanda Rocha| 3500.0|\n",
            "+----------------+-------+\n",
            "only showing top 20 rows\n",
            "\n"
          ]
        }
      ]
    },
    {
      "cell_type": "code",
      "source": [
        "# Liste o funcionário mais velho de cada departamento.\n",
        "df.groupBy(\"departamento\").agg(F.max(\"idade\").alias(\"idade_max\")).show()"
      ],
      "metadata": {
        "colab": {
          "base_uri": "https://localhost:8080/"
        },
        "id": "zR6nj7zVufOH",
        "outputId": "925d86e1-8f4f-47d8-8cd2-3b66781d89a7"
      },
      "execution_count": 150,
      "outputs": [
        {
          "output_type": "stream",
          "name": "stdout",
          "text": [
            "+------------+---------+\n",
            "|departamento|idade_max|\n",
            "+------------+---------+\n",
            "|          TI|       40|\n",
            "|      Vendas|       43|\n",
            "|   Logística|       46|\n",
            "|          RH|       47|\n",
            "|  Financeiro|       50|\n",
            "|   Marketing|       38|\n",
            "|   Operações|       50|\n",
            "+------------+---------+\n",
            "\n"
          ]
        }
      ]
    },
    {
      "cell_type": "code",
      "source": [
        "# Mostre os funcionários cujo nome começa com a letra 'A'.\n",
        "df.filter(df.nome.startswith(\"A\")).show()"
      ],
      "metadata": {
        "colab": {
          "base_uri": "https://localhost:8080/"
        },
        "id": "Qg_CaCyBu2em",
        "outputId": "a291f95c-91c4-4319-dd85-5463340a054d"
      },
      "execution_count": 145,
      "outputs": [
        {
          "output_type": "stream",
          "name": "stdout",
          "text": [
            "+---+--------------+------------+--------------------+-----+-------+--------------+\n",
            "| id|          nome|departamento|               cargo|idade|salario|        cidade|\n",
            "+---+--------------+------------+--------------------+-----+-------+--------------+\n",
            "|  1|     Ana Souza|          RH|      Analista de RH|   29| 3200.0|     São Paulo|\n",
            "| 14|  André Santos|  Financeiro|  Diretor Financeiro|   50|15000.0|     São Paulo|\n",
            "| 21|  Amanda Silva|          RH|         Recrutadora|   27| 3100.0|Rio de Janeiro|\n",
            "| 32|Anderson Gomes|   Operações|Operador de Máquinas|   40| 2700.0|        Manaus|\n",
            "| 49|Alexandre Lima|   Logística| Analista de Estoque|   27| 3300.0|Belo Horizonte|\n",
            "| 60| Amanda Torres|   Marketing|Assistente de Com...|   22| 2300.0|Rio de Janeiro|\n",
            "+---+--------------+------------+--------------------+-----+-------+--------------+\n",
            "\n"
          ]
        }
      ]
    },
    {
      "cell_type": "code",
      "source": [
        "# Crie uma coluna extra chamada bonus que seja 10% do salário e mostre apenas nome, salario e bonus.\n",
        "df.withColumn(\"bonus\", df.salario * 0.1).select(\"nome\", \"salario\", \"bonus\").show()"
      ],
      "metadata": {
        "colab": {
          "base_uri": "https://localhost:8080/"
        },
        "id": "ZmZQ55D7u4cT",
        "outputId": "7e92dd52-e500-4c80-d42d-1af055df5df2"
      },
      "execution_count": 144,
      "outputs": [
        {
          "output_type": "stream",
          "name": "stdout",
          "text": [
            "+----------------+-------+------+\n",
            "|            nome|salario| bonus|\n",
            "+----------------+-------+------+\n",
            "|       Ana Souza| 3200.0| 320.0|\n",
            "|     Carlos Lima| 7200.0| 720.0|\n",
            "|  Fernanda Alves| 6500.0| 650.0|\n",
            "|   Ricardo Silva| 2800.0| 280.0|\n",
            "|   Mariana Costa| 7200.0| 720.0|\n",
            "|      João Pedro| 2100.0| 210.0|\n",
            "|  Patrícia Gomes|11000.0|1100.0|\n",
            "|Gabriel Ferreira|12500.0|1250.0|\n",
            "| Larissa Martins| 3900.0| 390.0|\n",
            "|     Bruno Rocha| 5400.0| 540.0|\n",
            "|   Camila Torres| 2500.0| 250.0|\n",
            "|   Eduardo Ramos| 9800.0| 980.0|\n",
            "|    Juliana Melo| 8700.0| 870.0|\n",
            "|    André Santos|15000.0|1500.0|\n",
            "|  Roberta Araújo| 4300.0| 430.0|\n",
            "|  Felipe Cardoso| 3100.0| 310.0|\n",
            "|   Beatriz Moura| 6100.0| 610.0|\n",
            "|   Marcelo Pinto| 2800.0| 280.0|\n",
            "|    Tatiane Lima| 9500.0| 950.0|\n",
            "|     Diego Nunes|13200.0|1320.0|\n",
            "+----------------+-------+------+\n",
            "only showing top 20 rows\n",
            "\n"
          ]
        }
      ]
    }
  ]
}