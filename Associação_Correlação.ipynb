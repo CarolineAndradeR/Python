{
  "nbformat": 4,
  "nbformat_minor": 0,
  "metadata": {
    "colab": {
      "provenance": [],
      "mount_file_id": "1H2VWLuHPnYPasxPkSoa3FNxG5VwL-eJY",
      "authorship_tag": "ABX9TyPE/KKiTLUVRyaDwF+hSeSd",
      "include_colab_link": true
    },
    "kernelspec": {
      "name": "python3",
      "display_name": "Python 3"
    },
    "language_info": {
      "name": "python"
    }
  },
  "cells": [
    {
      "cell_type": "markdown",
      "metadata": {
        "id": "view-in-github",
        "colab_type": "text"
      },
      "source": [
        "<a href=\"https://colab.research.google.com/github/CarolineAndradeR/Python/blob/master/Associa%C3%A7%C3%A3o_Correla%C3%A7%C3%A3o.ipynb\" target=\"_parent\"><img src=\"https://colab.research.google.com/assets/colab-badge.svg\" alt=\"Open In Colab\"/></a>"
      ]
    },
    {
      "cell_type": "markdown",
      "source": [
        "## **Conceito**"
      ],
      "metadata": {
        "id": "QV1t1p_zTRzk"
      }
    },
    {
      "cell_type": "markdown",
      "source": [
        "O conceito é norteado tanto a respeito da associação e da correlação é a definição de Independência.\n",
        "\n",
        "Condicionalidade e inceoendência são conceitos complementares, dada a existência de duas variáveis X e Y, e cada uma é independente uma da outra, caso os possíveis valores observados em X não afetem as probabilidades que serão observados em Y.\n",
        "\n",
        "Caso ocorram as probabilides P(Y|X) diferente de P(Y), percebemos que X e Y possuem alguma relação de codependência porque de alguma forma X pode interferir nas probabilidades de Y. Mas ainda não podemos afirma que X causa Y.\n",
        "Pode existir uma associação entre duas variáveis (X e Y), mas não necessariamente podemos induzir que X causa Y.\n",
        "\n",
        "**Associação** - Uma variável X fornece para entender o comportamento de uma outa variável de Y, os coeficientes de associação podem ser medidos para relações tanyo lineares quanto não lineares nos dados.\n",
        "\n",
        "**Correlação** - Mede a força e direçãi do relamento linear entre duas variáveis. Os pricipais índices que medem a correlação possuem uma escala que pode variar entre -1 e 1.\n",
        "1 - Completa correlação positiva;\n",
        "0 -  Nenhuma correlação (nula);\n",
        "-1 - Completa correlação negativa;\n",
        "\n",
        "**Coeficientes de Associação e Correlação**\n",
        "\n",
        "São utilizados de forma diferente, nas medidas de associação o principal uso ocorre quando buscamos analisar duas variáveis em escala nominal ou ordinal. A correlação, ocorre quando temos duas variáveis em escola intervalar ou razão.\n",
        "\n",
        "**Coeficientes de associação**\n",
        "Principais medidas de associação e o teste de hipótese: Coeficiente Phi, V de Cramer e o teste de Qui-Quadrade.\n",
        "Quando temos que analisar uma variável qualitativa com outra qualitativa, utilizamos tabelas de associação, tabelas de contigência ou tabelas cruzadas.\n",
        "\n",
        "O coeficiente Phi tem o objetivo de medir a correlação ente duas variáveis nominais e dicotômicas (sucesso/fracasso, masculino/feminino).Retorna valores entre 0 e 1, onde 0 é ausência de associação e 1 completa associação entre duas variáveis.\n",
        "\n",
        "V de Cramer permite usar as tabelas cruzadas podem ter R linhas e C colunas, nessa medida, a escala tem amplitude ente 0 e 1, sendo 0 ausência de associação e 1 completa associalçao entre as duas variáveis.\n",
        "\n",
        "*   > 0,25 - Muito forte\n",
        "*   > 0,15 - Forte\n",
        "*   > 0,10 - Moderado\n",
        "*   > 0,05 - Fraco\n",
        "*   > 0 - Muito fraco ou nenhum\n",
        "\n",
        "Para verificar se p valor é estatisticamente significante é necessario realizar o teste de **Qui-Quadrade**, onde é realizado um teste de independência, neste teste busca-se comparar os valores observados na tabela de contingência com valores esperados. Quanto maior a diferença entre o observado e esperado, indicando existência de associação entre as variáveis.\n",
        "\n",
        "- Definir as hipóteses nula e alternativa, depois definir os níveis de confiança e obter os níveis descritivos (p-value).\n",
        "\n",
        "**Coeficientes de Correlação**\n",
        "A medida de correlação mais utilizada é o coeficiente de Pearson (coeficiente de correlação produto momento). Apesar de ser a mais utiliza tem algumas limitações, como a relação entre as variáveis precisa ser linear, a escala deve ser intervalar ou razão e os dados devem seguir uma distribuição normal, por esse motivo foram introduzidas as medidas de correlação de Spearman e Kendal.\n",
        "\n",
        "**Spearman** - Permite o uso de variáveis nas escalas ordinal, intervalar ou razão e não exige algima suposição a respeito da distribuição de probabilidade das variáveis, os dados são ranqueados e depois comparados, os resulyados também são entre -1 e 1, a relação entre as variáveis precisa ser monotônica.\n",
        "\n",
        "Monotocidade:\n",
        "* Crescente - Quando o valor de X e Y aumenta.\n",
        "* Decrescente - Quando X e Y diminui.\n",
        "* Não monoticidade -  Quando X aumenta e Y diminui.\n",
        "\n",
        "**Kendall** - Apresenta valores na escala entre -1 e 1, não precisam seguir alguma distribuição de probilidade e podem esyar mas escalas ordinal, intervalar ou razão.\n",
        "\n",
        "**Crosstab (Pandas)** - função para a criação de tabelas de contigência, para realizar as análise de associação.\n",
        "\n",
        "**chi2_contingency e association (scipy.stats)** - Para obter os valores de Phi e V de Cramer.\n",
        "\n",
        "**corr (Pandas) e pairwise_corr (pingouin)** - Usadas para estimação das correlações de Pearson, Spearman e Kendall. \n",
        "\n"
      ],
      "metadata": {
        "id": "hdVyluCiY3EF"
      }
    },
    {
      "cell_type": "markdown",
      "source": [],
      "metadata": {
        "id": "-RG0JNXi0kfO"
      }
    },
    {
      "cell_type": "markdown",
      "source": [
        "# Montagem dos arquivos"
      ],
      "metadata": {
        "id": "_ktSTgE50WYQ"
      }
    },
    {
      "cell_type": "code",
      "source": [
        "# Instalação da versão atualizada\n",
        "! sudo pip install scipy==1.7.1"
      ],
      "metadata": {
        "id": "_guLNSEc0au0"
      },
      "execution_count": null,
      "outputs": []
    },
    {
      "cell_type": "code",
      "source": [
        "# Instalação da nova ferramenta para teste de hipótese\n",
        "! sudo pip install pingouin"
      ],
      "metadata": {
        "id": "nTKIusPw1XqW"
      },
      "execution_count": null,
      "outputs": []
    },
    {
      "cell_type": "code",
      "source": [
        "# Importação das bibliotecas\n",
        "import numpy as np\n",
        "import pandas as pd\n",
        "import seaborn as sns\n",
        "import matplotlib.pyplot as plt"
      ],
      "metadata": {
        "id": "cO7y0IG0182V"
      },
      "execution_count": 2,
      "outputs": []
    },
    {
      "cell_type": "code",
      "source": [
        "# Importado as medidas para associação e correlação\n",
        "from scipy import stats as st\n",
        "import pingouin as pg"
      ],
      "metadata": {
        "id": "ujR4nOzb2Pxp"
      },
      "execution_count": 3,
      "outputs": []
    },
    {
      "cell_type": "code",
      "source": [
        "#Iniciando montagem do drive\n",
        "from google.colab import drive\n",
        "drive.mount('/content/drive')\n",
        "\n",
        "import pandas as pd\n",
        "\n",
        "dados_tratamento = '/content/drive/MyDrive/Asset_FIAP/dados_tratamentos.csv'\n",
        "dados_tratamento = pd.read_csv(dados_tratamento, sep =';')\n",
        "dados_tratamento.head()"
      ],
      "metadata": {
        "id": "j8LP9PXz2xJD"
      },
      "execution_count": null,
      "outputs": []
    },
    {
      "cell_type": "code",
      "source": [
        "dados_nps = '/content/drive/MyDrive/Asset_FIAP/nps_example.csv'\n",
        "dados_nps = pd.read_csv(dados_nps, sep =';')\n",
        "dados_nps.head()"
      ],
      "metadata": {
        "id": "y9cG2O2D3v9Y"
      },
      "execution_count": null,
      "outputs": []
    },
    {
      "cell_type": "code",
      "source": [
        "dados_bolsa = '/content/drive/MyDrive/Asset_FIAP/dados_bolsa.csv'\n",
        "# Como temos dados númericos precisamos passar a função decimal para ele entender que é um campo númerico\n",
        "dados_bolsa = pd.read_csv(dados_bolsa, sep =';', decimal = ',')\n",
        "dados_bolsa.head()"
      ],
      "metadata": {
        "id": "pM91Rwau3-w9"
      },
      "execution_count": null,
      "outputs": []
    },
    {
      "cell_type": "markdown",
      "source": [
        "# **Phi**"
      ],
      "metadata": {
        "id": "gUKsCGnl4yo9"
      }
    },
    {
      "cell_type": "code",
      "source": [
        "# Criar uma tabela cruzada entre os dados\n",
        "tabela = pd.crosstab(dados_tratamento['tratamento'],\n",
        "                     dados_tratamento['evolucao'])\n",
        "tabela"
      ],
      "metadata": {
        "id": "v4QWFUx-41fU"
      },
      "execution_count": null,
      "outputs": []
    },
    {
      "cell_type": "code",
      "source": [
        "# verificar se existe associação entre as colunas\n",
        "# Obter o valor do qui quadrado\n",
        "qui_quadrado = st.chi2_contingency(tabela)[0]\n",
        "\n",
        "# Tamanho da amostra (quantas pessoas participou da amostra)\n",
        "n = np.sum(np.sum(tabela))\n",
        "\n",
        "# Obter o Phi\n",
        "# sqrt - raíza quadrada\n",
        "Phi = np.sqrt(qui_quadrado /n )\n",
        "\n",
        "# Quanto mais próximo de 1 maior associação\n",
        "Phi"
      ],
      "metadata": {
        "colab": {
          "base_uri": "https://localhost:8080/"
        },
        "id": "OoMnQHE25XzF",
        "outputId": "0b4dba69-57c4-40ca-fbec-d3f73f813aa2"
      },
      "execution_count": 9,
      "outputs": [
        {
          "output_type": "execute_result",
          "data": {
            "text/plain": [
              "0.21072588592155886"
            ]
          },
          "metadata": {},
          "execution_count": 9
        }
      ]
    },
    {
      "cell_type": "code",
      "source": [
        "# Teste de qui_qui_quadrado para testar a hipótese\n",
        "# qui - armazena o valor de qui_quadrado\n",
        "# gl  - gral de liberdade \n",
        "# t_esp - tabela esperada\n",
        "# combina o valor de qui com a tabela esperada com a tabela real\n",
        "qui, p, gl, t_esp = st.chi2_contingency(tabela)\n",
        "\n",
        "# estatísticas esperadas\n",
        "qui, p\n",
        "\n",
        "# mais simples trabalhar com o valor de p\n",
        "# interpretação - se o valor de p < 0,005 - então rejeita a hipótese nula\n",
        "# hipótese nula: não existe associação entre o tratamento e evolução "
      ],
      "metadata": {
        "id": "myRNmSE7dGLU",
        "outputId": "a136f276-18f3-4250-b1ec-87b6b5a9c78a",
        "colab": {
          "base_uri": "https://localhost:8080/"
        }
      },
      "execution_count": 10,
      "outputs": [
        {
          "output_type": "execute_result",
          "data": {
            "text/plain": [
              "(4.6625668947297125, 0.030827072412198585)"
            ]
          },
          "metadata": {},
          "execution_count": 10
        }
      ]
    },
    {
      "cell_type": "markdown",
      "source": [
        "# **Análise de associação - V de Cramer**"
      ],
      "metadata": {
        "id": "-xy9IM76iyOC"
      }
    },
    {
      "cell_type": "code",
      "source": [
        "# Filtrando os questionarios que forem respondidos por completo.\n",
        "# Filtrando nota dada pelas pessoas\n",
        "# Filtrando o generio da pessoa para comprar a relação,\n",
        "dados_nps_filtrados = dados_nps[(dados_nps['response_status'] == 'Complete') & \\\n",
        "                                (dados_nps['nps_score'].notna()) & \\\n",
        "                                (dados_nps['gender'].notna())].reset_index()"
      ],
      "metadata": {
        "id": "XFYatSwQhsl5"
      },
      "execution_count": 31,
      "outputs": []
    },
    {
      "cell_type": "code",
      "source": [
        "# Classficando os clientes pela nota dada na NPS.\n",
        "def create_nps_groups(x):\n",
        "\n",
        "  if x <= 5:\n",
        "    return 'detratores'\n",
        "  elif x >= 9:\n",
        "    return 'Promotores'\n",
        "  else:\n",
        "    return 'neutris'"
      ],
      "metadata": {
        "id": "NDChfABrD1PM"
      },
      "execution_count": 32,
      "outputs": []
    },
    {
      "cell_type": "code",
      "source": [
        "# Criando uma nova coluna dentro do data set com a coluna de identificação de cada cliente\n",
        "# O apply vai fazer a leitura de cada nota por linha e aplicar uma função\n",
        "# O lambda uma função que vai definir uma função generica\n",
        "dados_nps_filtrados['nps_groups'] = dados_nps_filtrados['nps_score'].apply(lambda x: create_nps_groups(x))\n",
        "dados_nps_filtrados"
      ],
      "metadata": {
        "id": "9tKLpzTfFZls"
      },
      "execution_count": null,
      "outputs": []
    },
    {
      "cell_type": "code",
      "source": [
        "# Contagem de clientes por grupo de nps\n",
        "# Groupby para definir o grupo que vai ser contado\n",
        "# Size conta o número de pessoas dentro de cada grupo\n",
        "# to_frame cria uma coluna chamada N\n",
        "dados_nps_filtrados.groupby('nps_groups').size().to_frame('n')"
      ],
      "metadata": {
        "colab": {
          "base_uri": "https://localhost:8080/",
          "height": 175
        },
        "id": "-Nl6Fl5SPMd2",
        "outputId": "f3b10ebb-351e-47bb-8149-a5f41610c7b1"
      },
      "execution_count": 34,
      "outputs": [
        {
          "output_type": "execute_result",
          "data": {
            "text/plain": [
              "               n\n",
              "nps_groups      \n",
              "Promotores  2047\n",
              "detratores    25\n",
              "neutris      171"
            ],
            "text/html": [
              "\n",
              "  <div id=\"df-f1876160-2efb-434c-a96a-2d11dd026ad6\">\n",
              "    <div class=\"colab-df-container\">\n",
              "      <div>\n",
              "<style scoped>\n",
              "    .dataframe tbody tr th:only-of-type {\n",
              "        vertical-align: middle;\n",
              "    }\n",
              "\n",
              "    .dataframe tbody tr th {\n",
              "        vertical-align: top;\n",
              "    }\n",
              "\n",
              "    .dataframe thead th {\n",
              "        text-align: right;\n",
              "    }\n",
              "</style>\n",
              "<table border=\"1\" class=\"dataframe\">\n",
              "  <thead>\n",
              "    <tr style=\"text-align: right;\">\n",
              "      <th></th>\n",
              "      <th>n</th>\n",
              "    </tr>\n",
              "    <tr>\n",
              "      <th>nps_groups</th>\n",
              "      <th></th>\n",
              "    </tr>\n",
              "  </thead>\n",
              "  <tbody>\n",
              "    <tr>\n",
              "      <th>Promotores</th>\n",
              "      <td>2047</td>\n",
              "    </tr>\n",
              "    <tr>\n",
              "      <th>detratores</th>\n",
              "      <td>25</td>\n",
              "    </tr>\n",
              "    <tr>\n",
              "      <th>neutris</th>\n",
              "      <td>171</td>\n",
              "    </tr>\n",
              "  </tbody>\n",
              "</table>\n",
              "</div>\n",
              "      <button class=\"colab-df-convert\" onclick=\"convertToInteractive('df-f1876160-2efb-434c-a96a-2d11dd026ad6')\"\n",
              "              title=\"Convert this dataframe to an interactive table.\"\n",
              "              style=\"display:none;\">\n",
              "        \n",
              "  <svg xmlns=\"http://www.w3.org/2000/svg\" height=\"24px\"viewBox=\"0 0 24 24\"\n",
              "       width=\"24px\">\n",
              "    <path d=\"M0 0h24v24H0V0z\" fill=\"none\"/>\n",
              "    <path d=\"M18.56 5.44l.94 2.06.94-2.06 2.06-.94-2.06-.94-.94-2.06-.94 2.06-2.06.94zm-11 1L8.5 8.5l.94-2.06 2.06-.94-2.06-.94L8.5 2.5l-.94 2.06-2.06.94zm10 10l.94 2.06.94-2.06 2.06-.94-2.06-.94-.94-2.06-.94 2.06-2.06.94z\"/><path d=\"M17.41 7.96l-1.37-1.37c-.4-.4-.92-.59-1.43-.59-.52 0-1.04.2-1.43.59L10.3 9.45l-7.72 7.72c-.78.78-.78 2.05 0 2.83L4 21.41c.39.39.9.59 1.41.59.51 0 1.02-.2 1.41-.59l7.78-7.78 2.81-2.81c.8-.78.8-2.07 0-2.86zM5.41 20L4 18.59l7.72-7.72 1.47 1.35L5.41 20z\"/>\n",
              "  </svg>\n",
              "      </button>\n",
              "      \n",
              "  <style>\n",
              "    .colab-df-container {\n",
              "      display:flex;\n",
              "      flex-wrap:wrap;\n",
              "      gap: 12px;\n",
              "    }\n",
              "\n",
              "    .colab-df-convert {\n",
              "      background-color: #E8F0FE;\n",
              "      border: none;\n",
              "      border-radius: 50%;\n",
              "      cursor: pointer;\n",
              "      display: none;\n",
              "      fill: #1967D2;\n",
              "      height: 32px;\n",
              "      padding: 0 0 0 0;\n",
              "      width: 32px;\n",
              "    }\n",
              "\n",
              "    .colab-df-convert:hover {\n",
              "      background-color: #E2EBFA;\n",
              "      box-shadow: 0px 1px 2px rgba(60, 64, 67, 0.3), 0px 1px 3px 1px rgba(60, 64, 67, 0.15);\n",
              "      fill: #174EA6;\n",
              "    }\n",
              "\n",
              "    [theme=dark] .colab-df-convert {\n",
              "      background-color: #3B4455;\n",
              "      fill: #D2E3FC;\n",
              "    }\n",
              "\n",
              "    [theme=dark] .colab-df-convert:hover {\n",
              "      background-color: #434B5C;\n",
              "      box-shadow: 0px 1px 3px 1px rgba(0, 0, 0, 0.15);\n",
              "      filter: drop-shadow(0px 1px 2px rgba(0, 0, 0, 0.3));\n",
              "      fill: #FFFFFF;\n",
              "    }\n",
              "  </style>\n",
              "\n",
              "      <script>\n",
              "        const buttonEl =\n",
              "          document.querySelector('#df-f1876160-2efb-434c-a96a-2d11dd026ad6 button.colab-df-convert');\n",
              "        buttonEl.style.display =\n",
              "          google.colab.kernel.accessAllowed ? 'block' : 'none';\n",
              "\n",
              "        async function convertToInteractive(key) {\n",
              "          const element = document.querySelector('#df-f1876160-2efb-434c-a96a-2d11dd026ad6');\n",
              "          const dataTable =\n",
              "            await google.colab.kernel.invokeFunction('convertToInteractive',\n",
              "                                                     [key], {});\n",
              "          if (!dataTable) return;\n",
              "\n",
              "          const docLinkHtml = 'Like what you see? Visit the ' +\n",
              "            '<a target=\"_blank\" href=https://colab.research.google.com/notebooks/data_table.ipynb>data table notebook</a>'\n",
              "            + ' to learn more about interactive tables.';\n",
              "          element.innerHTML = '';\n",
              "          dataTable['output_type'] = 'display_data';\n",
              "          await google.colab.output.renderOutput(dataTable, element);\n",
              "          const docLink = document.createElement('div');\n",
              "          docLink.innerHTML = docLinkHtml;\n",
              "          element.appendChild(docLink);\n",
              "        }\n",
              "      </script>\n",
              "    </div>\n",
              "  </div>\n",
              "  "
            ]
          },
          "metadata": {},
          "execution_count": 34
        }
      ]
    },
    {
      "cell_type": "code",
      "source": [
        "# Criar uma tabela cruzada para comparação dos dados\n",
        "\n",
        "tabela = pd.crosstab(dados_nps_filtrados['gender'], dados_nps_filtrados['nps_groups'])\n",
        "tabela"
      ],
      "metadata": {
        "id": "5emKaeapQHuJ",
        "outputId": "8ea4dae2-da1d-4c36-b8ec-c0f29b7a005f",
        "colab": {
          "base_uri": "https://localhost:8080/",
          "height": 143
        }
      },
      "execution_count": 35,
      "outputs": [
        {
          "output_type": "execute_result",
          "data": {
            "text/plain": [
              "nps_groups  Promotores  detratores  neutris\n",
              "gender                                     \n",
              "Female            1565          12      105\n",
              "Male               482          13       66"
            ],
            "text/html": [
              "\n",
              "  <div id=\"df-6cb31976-75bc-4a10-aafe-2c01b4cd34bf\">\n",
              "    <div class=\"colab-df-container\">\n",
              "      <div>\n",
              "<style scoped>\n",
              "    .dataframe tbody tr th:only-of-type {\n",
              "        vertical-align: middle;\n",
              "    }\n",
              "\n",
              "    .dataframe tbody tr th {\n",
              "        vertical-align: top;\n",
              "    }\n",
              "\n",
              "    .dataframe thead th {\n",
              "        text-align: right;\n",
              "    }\n",
              "</style>\n",
              "<table border=\"1\" class=\"dataframe\">\n",
              "  <thead>\n",
              "    <tr style=\"text-align: right;\">\n",
              "      <th>nps_groups</th>\n",
              "      <th>Promotores</th>\n",
              "      <th>detratores</th>\n",
              "      <th>neutris</th>\n",
              "    </tr>\n",
              "    <tr>\n",
              "      <th>gender</th>\n",
              "      <th></th>\n",
              "      <th></th>\n",
              "      <th></th>\n",
              "    </tr>\n",
              "  </thead>\n",
              "  <tbody>\n",
              "    <tr>\n",
              "      <th>Female</th>\n",
              "      <td>1565</td>\n",
              "      <td>12</td>\n",
              "      <td>105</td>\n",
              "    </tr>\n",
              "    <tr>\n",
              "      <th>Male</th>\n",
              "      <td>482</td>\n",
              "      <td>13</td>\n",
              "      <td>66</td>\n",
              "    </tr>\n",
              "  </tbody>\n",
              "</table>\n",
              "</div>\n",
              "      <button class=\"colab-df-convert\" onclick=\"convertToInteractive('df-6cb31976-75bc-4a10-aafe-2c01b4cd34bf')\"\n",
              "              title=\"Convert this dataframe to an interactive table.\"\n",
              "              style=\"display:none;\">\n",
              "        \n",
              "  <svg xmlns=\"http://www.w3.org/2000/svg\" height=\"24px\"viewBox=\"0 0 24 24\"\n",
              "       width=\"24px\">\n",
              "    <path d=\"M0 0h24v24H0V0z\" fill=\"none\"/>\n",
              "    <path d=\"M18.56 5.44l.94 2.06.94-2.06 2.06-.94-2.06-.94-.94-2.06-.94 2.06-2.06.94zm-11 1L8.5 8.5l.94-2.06 2.06-.94-2.06-.94L8.5 2.5l-.94 2.06-2.06.94zm10 10l.94 2.06.94-2.06 2.06-.94-2.06-.94-.94-2.06-.94 2.06-2.06.94z\"/><path d=\"M17.41 7.96l-1.37-1.37c-.4-.4-.92-.59-1.43-.59-.52 0-1.04.2-1.43.59L10.3 9.45l-7.72 7.72c-.78.78-.78 2.05 0 2.83L4 21.41c.39.39.9.59 1.41.59.51 0 1.02-.2 1.41-.59l7.78-7.78 2.81-2.81c.8-.78.8-2.07 0-2.86zM5.41 20L4 18.59l7.72-7.72 1.47 1.35L5.41 20z\"/>\n",
              "  </svg>\n",
              "      </button>\n",
              "      \n",
              "  <style>\n",
              "    .colab-df-container {\n",
              "      display:flex;\n",
              "      flex-wrap:wrap;\n",
              "      gap: 12px;\n",
              "    }\n",
              "\n",
              "    .colab-df-convert {\n",
              "      background-color: #E8F0FE;\n",
              "      border: none;\n",
              "      border-radius: 50%;\n",
              "      cursor: pointer;\n",
              "      display: none;\n",
              "      fill: #1967D2;\n",
              "      height: 32px;\n",
              "      padding: 0 0 0 0;\n",
              "      width: 32px;\n",
              "    }\n",
              "\n",
              "    .colab-df-convert:hover {\n",
              "      background-color: #E2EBFA;\n",
              "      box-shadow: 0px 1px 2px rgba(60, 64, 67, 0.3), 0px 1px 3px 1px rgba(60, 64, 67, 0.15);\n",
              "      fill: #174EA6;\n",
              "    }\n",
              "\n",
              "    [theme=dark] .colab-df-convert {\n",
              "      background-color: #3B4455;\n",
              "      fill: #D2E3FC;\n",
              "    }\n",
              "\n",
              "    [theme=dark] .colab-df-convert:hover {\n",
              "      background-color: #434B5C;\n",
              "      box-shadow: 0px 1px 3px 1px rgba(0, 0, 0, 0.15);\n",
              "      filter: drop-shadow(0px 1px 2px rgba(0, 0, 0, 0.3));\n",
              "      fill: #FFFFFF;\n",
              "    }\n",
              "  </style>\n",
              "\n",
              "      <script>\n",
              "        const buttonEl =\n",
              "          document.querySelector('#df-6cb31976-75bc-4a10-aafe-2c01b4cd34bf button.colab-df-convert');\n",
              "        buttonEl.style.display =\n",
              "          google.colab.kernel.accessAllowed ? 'block' : 'none';\n",
              "\n",
              "        async function convertToInteractive(key) {\n",
              "          const element = document.querySelector('#df-6cb31976-75bc-4a10-aafe-2c01b4cd34bf');\n",
              "          const dataTable =\n",
              "            await google.colab.kernel.invokeFunction('convertToInteractive',\n",
              "                                                     [key], {});\n",
              "          if (!dataTable) return;\n",
              "\n",
              "          const docLinkHtml = 'Like what you see? Visit the ' +\n",
              "            '<a target=\"_blank\" href=https://colab.research.google.com/notebooks/data_table.ipynb>data table notebook</a>'\n",
              "            + ' to learn more about interactive tables.';\n",
              "          element.innerHTML = '';\n",
              "          dataTable['output_type'] = 'display_data';\n",
              "          await google.colab.output.renderOutput(dataTable, element);\n",
              "          const docLink = document.createElement('div');\n",
              "          docLink.innerHTML = docLinkHtml;\n",
              "          element.appendChild(docLink);\n",
              "        }\n",
              "      </script>\n",
              "    </div>\n",
              "  </div>\n",
              "  "
            ]
          },
          "metadata": {},
          "execution_count": 35
        }
      ]
    },
    {
      "cell_type": "code",
      "source": [
        "# Para calcular o V de Cramer usando a função do scipy\n",
        "# association auxilia na obtenção de medidas de associação, cramer é a medida de associação\n",
        "vcramer_1 = st.contingency.association(tabela, method='cramer')\n",
        "vcramer_1"
      ],
      "metadata": {
        "id": "YZzjru2oQrTx",
        "outputId": "500b67c3-01cd-4be4-f160-b08242cdafaf",
        "colab": {
          "base_uri": "https://localhost:8080/"
        }
      },
      "execution_count": 37,
      "outputs": [
        {
          "output_type": "execute_result",
          "data": {
            "text/plain": [
              "0.1134646600588705"
            ]
          },
          "metadata": {},
          "execution_count": 37
        }
      ]
    }
  ]
}