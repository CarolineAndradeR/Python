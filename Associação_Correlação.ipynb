{
  "nbformat": 4,
  "nbformat_minor": 0,
  "metadata": {
    "colab": {
      "provenance": [],
      "mount_file_id": "1H2VWLuHPnYPasxPkSoa3FNxG5VwL-eJY",
      "authorship_tag": "ABX9TyPB8Vp3dH5v98Z4kLmtT76N",
      "include_colab_link": true
    },
    "kernelspec": {
      "name": "python3",
      "display_name": "Python 3"
    },
    "language_info": {
      "name": "python"
    }
  },
  "cells": [
    {
      "cell_type": "markdown",
      "metadata": {
        "id": "view-in-github",
        "colab_type": "text"
      },
      "source": [
        "<a href=\"https://colab.research.google.com/github/CarolineAndradeR/Python/blob/master/Associa%C3%A7%C3%A3o_Correla%C3%A7%C3%A3o.ipynb\" target=\"_parent\"><img src=\"https://colab.research.google.com/assets/colab-badge.svg\" alt=\"Open In Colab\"/></a>"
      ]
    },
    {
      "cell_type": "markdown",
      "source": [
        "## **Conceito**"
      ],
      "metadata": {
        "id": "QV1t1p_zTRzk"
      }
    },
    {
      "cell_type": "markdown",
      "source": [
        "O conceito é norteado tanto a respeito da associação e da correlação é a definição de Independência.\n",
        "\n",
        "Condicionalidade e inceoendência são conceitos complementares, dada a existência de duas variáveis X e Y, e cada uma é independente uma da outra, caso os possíveis valores observados em X não afetem as probabilidades que serão observados em Y.\n",
        "\n",
        "Caso ocorram as probabilides P(Y|X) diferente de P(Y), percebemos que X e Y possuem alguma relação de codependência porque de alguma forma X pode interferir nas probabilidades de Y. Mas ainda não podemos afirma que X causa Y.\n",
        "Pode existir uma associação entre duas variáveis (X e Y), mas não necessariamente podemos induzir que X causa Y.\n",
        "\n",
        "**Associação** - Uma variável X fornece para entender o comportamento de uma outa variável de Y, os coeficientes de associação podem ser medidos para relações tanyo lineares quanto não lineares nos dados.\n",
        "\n",
        "**Correlação** - Mede a força e direçãi do relamento linear entre duas variáveis. Os pricipais índices que medem a correlação possuem uma escala que pode variar entre -1 e 1.\n",
        "1 - Completa correlação positiva;\n",
        "0 -  Nenhuma correlação (nula);\n",
        "-1 - Completa correlação negativa;\n",
        "\n",
        "**Coeficientes de Associação e Correlação**\n",
        "\n",
        "São utilizados de forma diferente, nas medidas de associação o principal uso ocorre quando buscamos analisar duas variáveis em escala nominal ou ordinal. A correlação, ocorre quando temos duas variáveis em escola intervalar ou razão.\n",
        "\n",
        "**Coeficientes de associação**\n",
        "Principais medidas de associação e o teste de hipótese: Coeficiente Phi, V de Cramer e o teste de Qui-Quadrade.\n",
        "Quando temos que analisar uma variável qualitativa com outra qualitativa, utilizamos tabelas de associação, tabelas de contigência ou tabelas cruzadas.\n",
        "\n",
        "O coeficiente Phi tem o objetivo de medir a correlação ente duas variáveis nominais e dicotômicas (sucesso/fracasso, masculino/feminino).Retorna valores entre 0 e 1, onde 0 é ausência de associação e 1 completa associação entre duas variáveis.\n",
        "\n",
        "V de Cramer permite usar as tabelas cruzadas podem ter R linhas e C colunas, nessa medida, a escala tem amplitude ente 0 e 1, sendo 0 ausência de associação e 1 completa associalçao entre as duas variáveis.\n",
        "\n",
        "*   > 0,25 - Muito forte\n",
        "*   > 0,15 - Forte\n",
        "*   > 0,10 - Moderado\n",
        "*   > 0,05 - Fraco\n",
        "*   > 0 - Muito fraco ou nenhum\n",
        "\n",
        "Para verificar se p valor é estatisticamente significante é necessario realizar o teste de **Qui-Quadrade**, onde é realizado um teste de independência, neste teste busca-se comparar os valores observados na tabela de contingência com valores esperados. Quanto maior a diferença entre o observado e esperado, indicando existência de associação entre as variáveis.\n",
        "\n",
        "- Definir as hipóteses nula e alternativa, depois definir os níveis de confiança e obter os níveis descritivos (p-value).\n",
        "\n",
        "**Coeficientes de Correlação**\n",
        "A medida de correlação mais utilizada é o coeficiente de Pearson (coeficiente de correlação produto momento). Apesar de ser a mais utiliza tem algumas limitações, como a relação entre as variáveis precisa ser linear, a escala deve ser intervalar ou razão e os dados devem seguir uma distribuição normal, por esse motivo foram introduzidas as medidas de correlação de Spearman e Kendal.\n",
        "\n",
        "**Spearman** - Permite o uso de variáveis nas escalas ordinal, intervalar ou razão e não exige algima suposição a respeito da distribuição de probabilidade das variáveis, os dados são ranqueados e depois comparados, os resulyados também são entre -1 e 1, a relação entre as variáveis precisa ser monotônica.\n",
        "\n",
        "Monotocidade:\n",
        "* Crescente - Quando o valor de X e Y aumenta.\n",
        "* Decrescente - Quando X e Y diminui.\n",
        "* Não monoticidade -  Quando X aumenta e Y diminui.\n",
        "\n",
        "**Kendall** - Apresenta valores na escala entre -1 e 1, não precisam seguir alguma distribuição de probilidade e podem esyar mas escalas ordinal, intervalar ou razão.\n",
        "\n",
        "**Crosstab (Pandas)** - função para a criação de tabelas de contigência, para realizar as análise de associação.\n",
        "\n",
        "**chi2_contingency e association (scipy.stats)** - Para obter os valores de Phi e V de Cramer.\n",
        "\n",
        "**corr (Pandas) e pairwise_corr (pingouin)** - Usadas para estimação das correlações de Pearson, Spearman e Kendall. \n",
        "\n"
      ],
      "metadata": {
        "id": "hdVyluCiY3EF"
      }
    },
    {
      "cell_type": "markdown",
      "source": [],
      "metadata": {
        "id": "-RG0JNXi0kfO"
      }
    },
    {
      "cell_type": "markdown",
      "source": [
        "# Montagem dos arquivos"
      ],
      "metadata": {
        "id": "_ktSTgE50WYQ"
      }
    },
    {
      "cell_type": "code",
      "source": [
        "# Instalação da versão atualizada\n",
        "! sudo pip install scipy==1.7.1"
      ],
      "metadata": {
        "id": "_guLNSEc0au0"
      },
      "execution_count": null,
      "outputs": []
    },
    {
      "cell_type": "code",
      "source": [
        "# Instalação da nova ferramenta para teste de hipótese\n",
        "! sudo pip install pingouin"
      ],
      "metadata": {
        "id": "nTKIusPw1XqW"
      },
      "execution_count": null,
      "outputs": []
    },
    {
      "cell_type": "code",
      "source": [
        "# Importação das bibliotecas\n",
        "import numpy as np\n",
        "import pandas as pd\n",
        "import seaborn as sns\n",
        "import matplotlib.pyplot as plt"
      ],
      "metadata": {
        "id": "cO7y0IG0182V"
      },
      "execution_count": 2,
      "outputs": []
    },
    {
      "cell_type": "code",
      "source": [
        "# Importado as medidas para associação e correlação\n",
        "from scipy import stats as st\n",
        "import pingouin as pg"
      ],
      "metadata": {
        "id": "ujR4nOzb2Pxp"
      },
      "execution_count": 3,
      "outputs": []
    },
    {
      "cell_type": "code",
      "source": [
        "#Iniciando montagem do drive\n",
        "from google.colab import drive\n",
        "drive.mount('/content/drive')\n",
        "\n",
        "import pandas as pd\n",
        "\n",
        "dados_tratamento = '/content/drive/MyDrive/Asset_FIAP/dados_tratamentos.csv'\n",
        "dados_tratamento = pd.read_csv(dados_tratamento, sep =';')\n",
        "dados_tratamento.head()"
      ],
      "metadata": {
        "id": "j8LP9PXz2xJD"
      },
      "execution_count": null,
      "outputs": []
    },
    {
      "cell_type": "code",
      "source": [
        "dados_nps = '/content/drive/MyDrive/Asset_FIAP/nps_example.csv'\n",
        "dados_nps = pd.read_csv(dados_nps, sep =';')\n",
        "dados_nps.head()"
      ],
      "metadata": {
        "id": "y9cG2O2D3v9Y"
      },
      "execution_count": null,
      "outputs": []
    },
    {
      "cell_type": "code",
      "source": [
        "dados_bolsa = '/content/drive/MyDrive/Asset_FIAP/dados_bolsa.csv'\n",
        "# Como temos dados númericos precisamos passar a função decimal para ele entender que é um campo númerico\n",
        "dados_bolsa = pd.read_csv(dados_bolsa, sep =';', decimal = ',')\n",
        "dados_bolsa.head()"
      ],
      "metadata": {
        "id": "pM91Rwau3-w9"
      },
      "execution_count": null,
      "outputs": []
    },
    {
      "cell_type": "markdown",
      "source": [
        "# **Phi**"
      ],
      "metadata": {
        "id": "gUKsCGnl4yo9"
      }
    },
    {
      "cell_type": "code",
      "source": [
        "# Criar uma tabela cruzada entre os dados\n",
        "tabela = pd.crosstab(dados_tratamento['tratamento'],\n",
        "                     dados_tratamento['evolucao'])\n",
        "tabela"
      ],
      "metadata": {
        "id": "v4QWFUx-41fU"
      },
      "execution_count": null,
      "outputs": []
    },
    {
      "cell_type": "code",
      "source": [
        "# verificar se existe associação entre as colunas\n",
        "# Obter o valor do qui quadrado\n",
        "qui_quadrado = st.chi2_contingency(tabela)[0]\n",
        "\n",
        "# Tamanho da amostra\n",
        "n = np.sum(np.sum(tabela))\n",
        "\n",
        "# Obter o Phi\n",
        "# sqrt - raíza quadrada\n",
        "Phi = np.sqrt(qui_quadrado /n )\n",
        "\n",
        "# Quanto mais próximo de 1 maior associação\n",
        "Phi"
      ],
      "metadata": {
        "colab": {
          "base_uri": "https://localhost:8080/"
        },
        "id": "OoMnQHE25XzF",
        "outputId": "535014d7-3764-44a8-952a-36485b3be1b0"
      },
      "execution_count": 8,
      "outputs": [
        {
          "output_type": "execute_result",
          "data": {
            "text/plain": [
              "0.21072588592155886"
            ]
          },
          "metadata": {},
          "execution_count": 8
        }
      ]
    },
    {
      "cell_type": "code",
      "source": [
        "# Teste de qui_qui_quadrado para testar a hipótese\n",
        "# qui - armazena o valor de qui_quadrado\n",
        "# gl  - gral de liberdade \n",
        "# t_esp - tabela esperada\n",
        "# combina o valor de qui com a tabela esperada com a tabela real\n",
        "qui, p, gl, t_esp = st.chi2_contingency(tabela)\n",
        "\n",
        "# estatísticas esperadas\n",
        "qui, p\n",
        "\n",
        "# mais simples trabalhar com o valor de p\n",
        "# interpretação - se o valor de p < 0,005 - então rejeita a hipótese nula\n",
        "# hipótese nula: não existe associação entre o tratamento e evolução "
      ],
      "metadata": {
        "id": "myRNmSE7dGLU",
        "outputId": "e73d4c69-75d3-4ab3-8637-3ab0fbabc889",
        "colab": {
          "base_uri": "https://localhost:8080/"
        }
      },
      "execution_count": 13,
      "outputs": [
        {
          "output_type": "execute_result",
          "data": {
            "text/plain": [
              "(4.6625668947297125, 0.030827072412198585)"
            ]
          },
          "metadata": {},
          "execution_count": 13
        }
      ]
    },
    {
      "cell_type": "markdown",
      "source": [
        "# **Análise de associação - V de Cramer**"
      ],
      "metadata": {
        "id": "-xy9IM76iyOC"
      }
    },
    {
      "cell_type": "code",
      "source": [],
      "metadata": {
        "id": "XFYatSwQhsl5"
      },
      "execution_count": null,
      "outputs": []
    }
  ]
}