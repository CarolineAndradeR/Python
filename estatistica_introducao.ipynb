{
  "nbformat": 4,
  "nbformat_minor": 0,
  "metadata": {
    "colab": {
      "provenance": [],
      "mount_file_id": "https://github.com/CarolineAndradeR/Script_Python/blob/master/cap12.ipynb",
      "authorship_tag": "ABX9TyNPpIRWX0oz2BadUTDSxEk2",
      "include_colab_link": true
    },
    "kernelspec": {
      "name": "python3",
      "display_name": "Python 3"
    },
    "language_info": {
      "name": "python"
    }
  },
  "cells": [
    {
      "cell_type": "markdown",
      "metadata": {
        "id": "view-in-github",
        "colab_type": "text"
      },
      "source": [
        "<a href=\"https://colab.research.google.com/github/CarolineAndradeR/Script_Python/blob/master/estatistica_introducao.ipynb\" target=\"_parent\"><img src=\"https://colab.research.google.com/assets/colab-badge.svg\" alt=\"Open In Colab\"/></a>"
      ]
    },
    {
      "cell_type": "code",
      "execution_count": null,
      "metadata": {
        "id": "5fRtkzjzn5NC"
      },
      "outputs": [],
      "source": [
        "print(\"Meu primeiro notebook\")"
      ]
    },
    {
      "cell_type": "code",
      "source": [
        "#Biblioteca númerica\n",
        "!pip install numpy\n",
        "#Manipulação de dados tabulares (formato de planilhas)\n",
        "!pip install pandas\n",
        "#Cálculos estatísticos e científicos  (modelos)\n",
        "!pip install statsmodels\n",
        "#Aprendizagens de máquinas (marchine laerning)\n",
        "!pip install sklearn\n",
        "#! exculta como se estivesse no terminal\n",
        "#Ideal que as bibliotecas estejam sempre no início, para melhor controle.\n",
        "\n",
        "#Interação com o google (usada para traduzir palavras para diversas línguas)\n",
        "!pip install googletrans==4.0.0-rc1"
      ],
      "metadata": {
        "id": "lAhBNVIWEuM9"
      },
      "execution_count": null,
      "outputs": []
    },
    {
      "cell_type": "code",
      "source": [
        "#Iniciando montagem do drive\n",
        "from google.colab import drive\n",
        "drive.mount('/content/drive')"
      ],
      "metadata": {
        "id": "CgU9LKJqqufA"
      },
      "execution_count": null,
      "outputs": []
    },
    {
      "cell_type": "code",
      "source": [
        "import pandas as pd\n",
        "\n",
        "arq_dados_paises = '/content/drive/MyDrive/dados_paises.csv'\n",
        "#Read - leitura de arquivo\n",
        "df_dados_pais = pd.read_csv(arq_dados_paises)\n",
        "#Head - retorno a leitura primeiras linhas do data freme (por padrão retorna as 5 primeiras)\n",
        "df_dados_pais.head(2)\n",
        "#Tail - retorna as últimas linhas do data freme \n",
        "#df_dados_pais.tail(10)\n",
        "#Quando está apenas o nome do objeto retorna os 5 primeiro e os 5 últimos\n",
        "#df_dados_pais"
      ],
      "metadata": {
        "id": "Kmuno1n7psu5"
      },
      "execution_count": null,
      "outputs": []
    },
    {
      "cell_type": "code",
      "source": [
        "#Colunas do DataFrame\n",
        "\n",
        "print(\"Tipo: \")\n",
        "#Acessar uma linha e colunas do DataFreme\n",
        "print(type(df_dados_pais.loc[0]))\n",
        "print(\"Dados: \")\n",
        "df_dados_pais.loc[0]\n",
        "#Acessar diretamente uma coluna, retorno o tipo dos dados dentro daquele objeto\n",
        "df_dados_pais[\"Series Code\"]\n",
        "\n"
      ],
      "metadata": {
        "id": "p4jMljAChhUp"
      },
      "execution_count": null,
      "outputs": []
    },
    {
      "cell_type": "code",
      "source": [
        "df_dados_pais[\"Series Code\"]"
      ],
      "metadata": {
        "id": "fUnPpI5_i2yG"
      },
      "execution_count": null,
      "outputs": []
    },
    {
      "cell_type": "code",
      "source": [
        "#Criar uma cópia do DataFreme, importe para tratamento dos dados\n",
        "df_copia_dados_pais = df_dados_pais.copy()\n",
        "#Para validar se é uma cópia de arquivo ou é uma referencia de objeto (True - referencia False - Copia)\n",
        "#id(df_copia_dados_pais) == id(df_dados_pais)\n",
        "\n",
        "\n",
        "#Apagar o DataFreme por completo\n",
        "#del df_copia_dados_pais\n",
        "\n",
        "#Apagar uma coluna especifica do DataFreme\n",
        "#del df_copia_dados_pais[\"1990 [YR1990]\"]\n",
        "\n",
        "#Apagar um linha especifica passando o loc\n",
        "#del df_copia_dados_pais.loc[3]\n",
        "\n",
        "#Retorna novamente o DataFreme\n",
        "df_copia_dados_pais"
      ],
      "metadata": {
        "id": "kytsGobHQqEg"
      },
      "execution_count": null,
      "outputs": []
    },
    {
      "cell_type": "code",
      "source": [
        "#Recorte do DataFreme\n",
        "#df_descricao_campos = df_dados_pais[['Series Name', 'Series Code']]\n",
        "\n",
        "#Criar uma copia do recorte\n",
        "df_descricao_campos = df_dados_pais[['Series Code', 'Series Name']].copy()\n",
        "\n",
        "#Ordena o objeto somente no momento da excução (não foi gravado dentro de nada, não é permanente)\n",
        "#df_descricao_campos.sort_values(by='Series Code')\n",
        "\n",
        "#Ordena de forma permante com base na coluna\n",
        "df_descricao_campos.sort_values(by='Series Code', inplace=True)\n",
        "\n",
        "#Apagar dados duplicados\n",
        "df_descricao_campos.drop_duplicates()"
      ],
      "metadata": {
        "id": "fWwybkgymF42"
      },
      "execution_count": null,
      "outputs": []
    },
    {
      "cell_type": "code",
      "source": [
        "#Comando encadeado (quando se tem mais de um comando na mesma linha de código)\n",
        "#Comando RESET reordena o valores do index com base na ordenação das colunas\n",
        "df_descricao_campos = df_descricao_campos.drop_duplicates().reset_index().sort_values(by='Series Code')\n",
        "\n",
        "#Toda vez que é usado o Resert Index no mesmo objeto cria uma coluna nova, para não ficar varias colunas repetidas toda vez que excutar o comando\n",
        "#é necessario apagar o primeiro que foi feito.\n",
        "#del df_descricao_campos['index']\n",
        "#del df_descricao_campos['level_0']\n",
        "\n",
        "\n",
        "df_descricao_campos"
      ],
      "metadata": {
        "id": "EgAHeE0QqK17"
      },
      "execution_count": null,
      "outputs": []
    },
    {
      "cell_type": "code",
      "source": [
        "#Apaga as referencias com NaN, porem não é de forma permanete\n",
        "#df_descricao_campos.dropna()\n",
        "\n",
        "#Só apaga de forma permanete se for passado uma referência\n",
        "#A referência pode ser a mesma, dar a referência o valor dela mesma\n",
        "#df_descricao_campos = df_descricao_campos.dropna()\n",
        "\n",
        "#Ou usar o Inplace para dizer que a alteração vai ocorrer dentro dela mesma\n",
        "df_descricao_campos.dropna(inplace=True)\n",
        "\n",
        "df_descricao_campos"
      ],
      "metadata": {
        "id": "gBnnk-xesIpQ"
      },
      "execution_count": null,
      "outputs": []
    },
    {
      "cell_type": "markdown",
      "source": [
        "**Estatísticas Descritivas** - \n",
        "Introdução\n",
        "\n"
      ],
      "metadata": {
        "id": "0bLYWQkULWM2"
      }
    },
    {
      "cell_type": "code",
      "source": [
        "df_dados_pais.count()\n",
        "#Conhecer os dados estão organizados\n",
        "#Country Name com duas linhas á mais, possivelmente NaN"
      ],
      "metadata": {
        "id": "FeV90tBCpS_h"
      },
      "execution_count": null,
      "outputs": []
    },
    {
      "cell_type": "code",
      "source": [
        "#Procurar sempre deixar os dados alinhados\n",
        "#Removendo NaN\n",
        "#Ideal no count e que todas as colunas tenham a mesma quantidade\n",
        "df_dados_pais.dropna().count()"
      ],
      "metadata": {
        "id": "LIJLbv2ILe-N"
      },
      "execution_count": null,
      "outputs": []
    },
    {
      "cell_type": "code",
      "source": [
        "#Organização dos dados\n",
        "df_dados_pais.dropna(inplace=True)\n",
        "del df_dados_pais['Series Name']\n",
        "del df_dados_pais['Country Code']\n",
        "df_dados_pais.head()"
      ],
      "metadata": {
        "id": "nXbj8vN6LhvE"
      },
      "execution_count": null,
      "outputs": []
    },
    {
      "cell_type": "code",
      "source": [
        "#Leitura do valor do PIB\n",
        "print(df_descricao_campos.loc[26])"
      ],
      "metadata": {
        "id": "KolcjHwuNmoa"
      },
      "execution_count": null,
      "outputs": []
    },
    {
      "cell_type": "code",
      "source": [
        "#Verificação se tem nomes vazios\n",
        "#Se retorna False não tem nunhum nulo\n",
        "pd.isnull(df_descricao_campos.loc[0])"
      ],
      "metadata": {
        "id": "nzyFswZzQHxS"
      },
      "execution_count": null,
      "outputs": []
    },
    {
      "cell_type": "code",
      "source": [
        "df_descricao_campos"
      ],
      "metadata": {
        "id": "Znt_CtrsYI9c"
      },
      "execution_count": null,
      "outputs": []
    },
    {
      "cell_type": "code",
      "source": [
        "from ast import arg\n",
        "from pandas.core import apply\n",
        "#Trazendo um aplicação específica\n",
        "from googletrans import Translator\n",
        "\n",
        "translator = Translator()\n",
        "#Aplicação encadeada\n",
        "#Transforma o texto de Inglês para Português\n",
        "#Recebe ela mesma, aplica metódo translerto, passa a língua de origem e qual vai ser a de destino, indicação do atibuto\n",
        "#Apply - Aplica na coluna indica o determinado metódo\n",
        "df_descricao_campos['Series Name'] = df_descricao_campos['Series Name'].apply(translator.translate, src='en', dest='pt').apply(getattr, args=('text',))\n",
        "\n",
        "df_descricao_campos"
      ],
      "metadata": {
        "id": "wcYXejefRIn7"
      },
      "execution_count": null,
      "outputs": []
    }
  ]
}